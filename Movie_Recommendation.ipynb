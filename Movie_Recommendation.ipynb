{
  "nbformat": 4,
  "nbformat_minor": 0,
  "metadata": {
    "colab": {
      "provenance": []
    },
    "kernelspec": {
      "name": "python3",
      "display_name": "Python 3"
    },
    "language_info": {
      "name": "python"
    }
  },
  "cells": [
    {
      "cell_type": "code",
      "execution_count": 7,
      "metadata": {
        "colab": {
          "base_uri": "https://localhost:8080/"
        },
        "id": "ZZk4FWcU6TBe",
        "outputId": "59fea3d7-9ff8-415a-ce38-a96a0f176585"
      },
      "outputs": [
        {
          "output_type": "stream",
          "name": "stdout",
          "text": [
            "[[1.        0.8660254]\n",
            " [0.8660254 1.       ]]\n"
          ]
        }
      ],
      "source": [
        "from sklearn.metrics.pairwise import cosine_similarity\n",
        "vec1 = [1,1,0,1,1]\n",
        "vec2 = [0,1,0,1,1]\n",
        "print(cosine_similarity([vec1, vec2]))\n"
      ]
    },
    {
      "cell_type": "code",
      "source": [
        "vec1_dot_vec2 = 1*0+1*1+0*0+1*1+1*1\n",
        "print(vec1_dot_vec2)\n",
        "norm_vec1 = (1*1+1*1+0*0+1*1+1*1)**(1/2)\n",
        "print(norm_vec1)\n",
        "norm_vec2 = (0*0+1*1+0*0+1*1+1*1)**(1/2)\n",
        "print(norm_vec2)"
      ],
      "metadata": {
        "colab": {
          "base_uri": "https://localhost:8080/"
        },
        "id": "H3IP5sf86glF",
        "outputId": "9b0ceea6-0d6c-4696-8599-9ba2db0c5be0"
      },
      "execution_count": 8,
      "outputs": [
        {
          "output_type": "stream",
          "name": "stdout",
          "text": [
            "3\n",
            "2.0\n",
            "1.7320508075688772\n"
          ]
        }
      ]
    },
    {
      "cell_type": "code",
      "source": [
        "import numpy as np\n",
        "import pandas as pd\n",
        "import difflib\n",
        "from sklearn.feature_extraction.text import TfidfVectorizer\n",
        "from sklearn.metrics.pairwise import cosine_similarity\n",
        "import os\n"
      ],
      "metadata": {
        "id": "4W1onrDI61Fm"
      },
      "execution_count": 9,
      "outputs": []
    },
    {
      "cell_type": "code",
      "source": [
        "display (os.getcwd())"
      ],
      "metadata": {
        "colab": {
          "base_uri": "https://localhost:8080/",
          "height": 35
        },
        "id": "ANREX3RY76aw",
        "outputId": "cad8dfd2-6f60-4d9b-e129-e9babab444d1"
      },
      "execution_count": 10,
      "outputs": [
        {
          "output_type": "display_data",
          "data": {
            "text/plain": [
              "'/content'"
            ],
            "application/vnd.google.colaboratory.intrinsic+json": {
              "type": "string"
            }
          },
          "metadata": {}
        }
      ]
    },
    {
      "cell_type": "code",
      "source": [
        "movies_data =pd.read_csv('/content/movies.csv')\n",
        "movies_data.head()\n",
        "\n"
      ],
      "metadata": {
        "colab": {
          "base_uri": "https://localhost:8080/",
          "height": 794
        },
        "id": "7MOzIfWp7-Au",
        "outputId": "927fdbcb-2746-4e65-cbb4-edb73c41907a"
      },
      "execution_count": 14,
      "outputs": [
        {
          "output_type": "execute_result",
          "data": {
            "text/plain": [
              "   index     budget                                    genres  \\\n",
              "0      0  237000000  Action Adventure Fantasy Science Fiction   \n",
              "1      1  300000000                  Adventure Fantasy Action   \n",
              "2      2  245000000                    Action Adventure Crime   \n",
              "3      3  250000000               Action Crime Drama Thriller   \n",
              "4      4  260000000          Action Adventure Science Fiction   \n",
              "\n",
              "                                       homepage      id  \\\n",
              "0                   http://www.avatarmovie.com/   19995   \n",
              "1  http://disney.go.com/disneypictures/pirates/     285   \n",
              "2   http://www.sonypictures.com/movies/spectre/  206647   \n",
              "3            http://www.thedarkknightrises.com/   49026   \n",
              "4          http://movies.disney.com/john-carter   49529   \n",
              "\n",
              "                                            keywords original_language  \\\n",
              "0  culture clash future space war space colony so...                en   \n",
              "1  ocean drug abuse exotic island east india trad...                en   \n",
              "2         spy based on novel secret agent sequel mi6                en   \n",
              "3  dc comics crime fighter terrorist secret ident...                en   \n",
              "4  based on novel mars medallion space travel pri...                en   \n",
              "\n",
              "                             original_title  \\\n",
              "0                                    Avatar   \n",
              "1  Pirates of the Caribbean: At World's End   \n",
              "2                                   Spectre   \n",
              "3                     The Dark Knight Rises   \n",
              "4                               John Carter   \n",
              "\n",
              "                                            overview  popularity  ... runtime  \\\n",
              "0  In the 22nd century, a paraplegic Marine is di...  150.437577  ...   162.0   \n",
              "1  Captain Barbossa, long believed to be dead, ha...  139.082615  ...   169.0   \n",
              "2  A cryptic message from Bond’s past sends him o...  107.376788  ...   148.0   \n",
              "3  Following the death of District Attorney Harve...  112.312950  ...   165.0   \n",
              "4  John Carter is a war-weary, former military ca...   43.926995  ...   132.0   \n",
              "\n",
              "                                    spoken_languages    status  \\\n",
              "0  [{\"iso_639_1\": \"en\", \"name\": \"English\"}, {\"iso...  Released   \n",
              "1           [{\"iso_639_1\": \"en\", \"name\": \"English\"}]  Released   \n",
              "2  [{\"iso_639_1\": \"fr\", \"name\": \"Fran\\u00e7ais\"},...  Released   \n",
              "3           [{\"iso_639_1\": \"en\", \"name\": \"English\"}]  Released   \n",
              "4           [{\"iso_639_1\": \"en\", \"name\": \"English\"}]  Released   \n",
              "\n",
              "                                          tagline  \\\n",
              "0                     Enter the World of Pandora.   \n",
              "1  At the end of the world, the adventure begins.   \n",
              "2                           A Plan No One Escapes   \n",
              "3                                 The Legend Ends   \n",
              "4            Lost in our world, found in another.   \n",
              "\n",
              "                                      title vote_average vote_count  \\\n",
              "0                                    Avatar          7.2      11800   \n",
              "1  Pirates of the Caribbean: At World's End          6.9       4500   \n",
              "2                                   Spectre          6.3       4466   \n",
              "3                     The Dark Knight Rises          7.6       9106   \n",
              "4                               John Carter          6.1       2124   \n",
              "\n",
              "                                                cast  \\\n",
              "0  Sam Worthington Zoe Saldana Sigourney Weaver S...   \n",
              "1  Johnny Depp Orlando Bloom Keira Knightley Stel...   \n",
              "2  Daniel Craig Christoph Waltz L\\u00e9a Seydoux ...   \n",
              "3  Christian Bale Michael Caine Gary Oldman Anne ...   \n",
              "4  Taylor Kitsch Lynn Collins Samantha Morton Wil...   \n",
              "\n",
              "                                                crew           director  \n",
              "0  [{'name': 'Stephen E. Rivkin', 'gender': 0, 'd...      James Cameron  \n",
              "1  [{'name': 'Dariusz Wolski', 'gender': 2, 'depa...     Gore Verbinski  \n",
              "2  [{'name': 'Thomas Newman', 'gender': 2, 'depar...         Sam Mendes  \n",
              "3  [{'name': 'Hans Zimmer', 'gender': 2, 'departm...  Christopher Nolan  \n",
              "4  [{'name': 'Andrew Stanton', 'gender': 2, 'depa...     Andrew Stanton  \n",
              "\n",
              "[5 rows x 24 columns]"
            ],
            "text/html": [
              "\n",
              "  <div id=\"df-70813794-201d-4600-bb33-2ab07e4add17\" class=\"colab-df-container\">\n",
              "    <div>\n",
              "<style scoped>\n",
              "    .dataframe tbody tr th:only-of-type {\n",
              "        vertical-align: middle;\n",
              "    }\n",
              "\n",
              "    .dataframe tbody tr th {\n",
              "        vertical-align: top;\n",
              "    }\n",
              "\n",
              "    .dataframe thead th {\n",
              "        text-align: right;\n",
              "    }\n",
              "</style>\n",
              "<table border=\"1\" class=\"dataframe\">\n",
              "  <thead>\n",
              "    <tr style=\"text-align: right;\">\n",
              "      <th></th>\n",
              "      <th>index</th>\n",
              "      <th>budget</th>\n",
              "      <th>genres</th>\n",
              "      <th>homepage</th>\n",
              "      <th>id</th>\n",
              "      <th>keywords</th>\n",
              "      <th>original_language</th>\n",
              "      <th>original_title</th>\n",
              "      <th>overview</th>\n",
              "      <th>popularity</th>\n",
              "      <th>...</th>\n",
              "      <th>runtime</th>\n",
              "      <th>spoken_languages</th>\n",
              "      <th>status</th>\n",
              "      <th>tagline</th>\n",
              "      <th>title</th>\n",
              "      <th>vote_average</th>\n",
              "      <th>vote_count</th>\n",
              "      <th>cast</th>\n",
              "      <th>crew</th>\n",
              "      <th>director</th>\n",
              "    </tr>\n",
              "  </thead>\n",
              "  <tbody>\n",
              "    <tr>\n",
              "      <th>0</th>\n",
              "      <td>0</td>\n",
              "      <td>237000000</td>\n",
              "      <td>Action Adventure Fantasy Science Fiction</td>\n",
              "      <td>http://www.avatarmovie.com/</td>\n",
              "      <td>19995</td>\n",
              "      <td>culture clash future space war space colony so...</td>\n",
              "      <td>en</td>\n",
              "      <td>Avatar</td>\n",
              "      <td>In the 22nd century, a paraplegic Marine is di...</td>\n",
              "      <td>150.437577</td>\n",
              "      <td>...</td>\n",
              "      <td>162.0</td>\n",
              "      <td>[{\"iso_639_1\": \"en\", \"name\": \"English\"}, {\"iso...</td>\n",
              "      <td>Released</td>\n",
              "      <td>Enter the World of Pandora.</td>\n",
              "      <td>Avatar</td>\n",
              "      <td>7.2</td>\n",
              "      <td>11800</td>\n",
              "      <td>Sam Worthington Zoe Saldana Sigourney Weaver S...</td>\n",
              "      <td>[{'name': 'Stephen E. Rivkin', 'gender': 0, 'd...</td>\n",
              "      <td>James Cameron</td>\n",
              "    </tr>\n",
              "    <tr>\n",
              "      <th>1</th>\n",
              "      <td>1</td>\n",
              "      <td>300000000</td>\n",
              "      <td>Adventure Fantasy Action</td>\n",
              "      <td>http://disney.go.com/disneypictures/pirates/</td>\n",
              "      <td>285</td>\n",
              "      <td>ocean drug abuse exotic island east india trad...</td>\n",
              "      <td>en</td>\n",
              "      <td>Pirates of the Caribbean: At World's End</td>\n",
              "      <td>Captain Barbossa, long believed to be dead, ha...</td>\n",
              "      <td>139.082615</td>\n",
              "      <td>...</td>\n",
              "      <td>169.0</td>\n",
              "      <td>[{\"iso_639_1\": \"en\", \"name\": \"English\"}]</td>\n",
              "      <td>Released</td>\n",
              "      <td>At the end of the world, the adventure begins.</td>\n",
              "      <td>Pirates of the Caribbean: At World's End</td>\n",
              "      <td>6.9</td>\n",
              "      <td>4500</td>\n",
              "      <td>Johnny Depp Orlando Bloom Keira Knightley Stel...</td>\n",
              "      <td>[{'name': 'Dariusz Wolski', 'gender': 2, 'depa...</td>\n",
              "      <td>Gore Verbinski</td>\n",
              "    </tr>\n",
              "    <tr>\n",
              "      <th>2</th>\n",
              "      <td>2</td>\n",
              "      <td>245000000</td>\n",
              "      <td>Action Adventure Crime</td>\n",
              "      <td>http://www.sonypictures.com/movies/spectre/</td>\n",
              "      <td>206647</td>\n",
              "      <td>spy based on novel secret agent sequel mi6</td>\n",
              "      <td>en</td>\n",
              "      <td>Spectre</td>\n",
              "      <td>A cryptic message from Bond’s past sends him o...</td>\n",
              "      <td>107.376788</td>\n",
              "      <td>...</td>\n",
              "      <td>148.0</td>\n",
              "      <td>[{\"iso_639_1\": \"fr\", \"name\": \"Fran\\u00e7ais\"},...</td>\n",
              "      <td>Released</td>\n",
              "      <td>A Plan No One Escapes</td>\n",
              "      <td>Spectre</td>\n",
              "      <td>6.3</td>\n",
              "      <td>4466</td>\n",
              "      <td>Daniel Craig Christoph Waltz L\\u00e9a Seydoux ...</td>\n",
              "      <td>[{'name': 'Thomas Newman', 'gender': 2, 'depar...</td>\n",
              "      <td>Sam Mendes</td>\n",
              "    </tr>\n",
              "    <tr>\n",
              "      <th>3</th>\n",
              "      <td>3</td>\n",
              "      <td>250000000</td>\n",
              "      <td>Action Crime Drama Thriller</td>\n",
              "      <td>http://www.thedarkknightrises.com/</td>\n",
              "      <td>49026</td>\n",
              "      <td>dc comics crime fighter terrorist secret ident...</td>\n",
              "      <td>en</td>\n",
              "      <td>The Dark Knight Rises</td>\n",
              "      <td>Following the death of District Attorney Harve...</td>\n",
              "      <td>112.312950</td>\n",
              "      <td>...</td>\n",
              "      <td>165.0</td>\n",
              "      <td>[{\"iso_639_1\": \"en\", \"name\": \"English\"}]</td>\n",
              "      <td>Released</td>\n",
              "      <td>The Legend Ends</td>\n",
              "      <td>The Dark Knight Rises</td>\n",
              "      <td>7.6</td>\n",
              "      <td>9106</td>\n",
              "      <td>Christian Bale Michael Caine Gary Oldman Anne ...</td>\n",
              "      <td>[{'name': 'Hans Zimmer', 'gender': 2, 'departm...</td>\n",
              "      <td>Christopher Nolan</td>\n",
              "    </tr>\n",
              "    <tr>\n",
              "      <th>4</th>\n",
              "      <td>4</td>\n",
              "      <td>260000000</td>\n",
              "      <td>Action Adventure Science Fiction</td>\n",
              "      <td>http://movies.disney.com/john-carter</td>\n",
              "      <td>49529</td>\n",
              "      <td>based on novel mars medallion space travel pri...</td>\n",
              "      <td>en</td>\n",
              "      <td>John Carter</td>\n",
              "      <td>John Carter is a war-weary, former military ca...</td>\n",
              "      <td>43.926995</td>\n",
              "      <td>...</td>\n",
              "      <td>132.0</td>\n",
              "      <td>[{\"iso_639_1\": \"en\", \"name\": \"English\"}]</td>\n",
              "      <td>Released</td>\n",
              "      <td>Lost in our world, found in another.</td>\n",
              "      <td>John Carter</td>\n",
              "      <td>6.1</td>\n",
              "      <td>2124</td>\n",
              "      <td>Taylor Kitsch Lynn Collins Samantha Morton Wil...</td>\n",
              "      <td>[{'name': 'Andrew Stanton', 'gender': 2, 'depa...</td>\n",
              "      <td>Andrew Stanton</td>\n",
              "    </tr>\n",
              "  </tbody>\n",
              "</table>\n",
              "<p>5 rows × 24 columns</p>\n",
              "</div>\n",
              "    <div class=\"colab-df-buttons\">\n",
              "\n",
              "  <div class=\"colab-df-container\">\n",
              "    <button class=\"colab-df-convert\" onclick=\"convertToInteractive('df-70813794-201d-4600-bb33-2ab07e4add17')\"\n",
              "            title=\"Convert this dataframe to an interactive table.\"\n",
              "            style=\"display:none;\">\n",
              "\n",
              "  <svg xmlns=\"http://www.w3.org/2000/svg\" height=\"24px\" viewBox=\"0 -960 960 960\">\n",
              "    <path d=\"M120-120v-720h720v720H120Zm60-500h600v-160H180v160Zm220 220h160v-160H400v160Zm0 220h160v-160H400v160ZM180-400h160v-160H180v160Zm440 0h160v-160H620v160ZM180-180h160v-160H180v160Zm440 0h160v-160H620v160Z\"/>\n",
              "  </svg>\n",
              "    </button>\n",
              "\n",
              "  <style>\n",
              "    .colab-df-container {\n",
              "      display:flex;\n",
              "      gap: 12px;\n",
              "    }\n",
              "\n",
              "    .colab-df-convert {\n",
              "      background-color: #E8F0FE;\n",
              "      border: none;\n",
              "      border-radius: 50%;\n",
              "      cursor: pointer;\n",
              "      display: none;\n",
              "      fill: #1967D2;\n",
              "      height: 32px;\n",
              "      padding: 0 0 0 0;\n",
              "      width: 32px;\n",
              "    }\n",
              "\n",
              "    .colab-df-convert:hover {\n",
              "      background-color: #E2EBFA;\n",
              "      box-shadow: 0px 1px 2px rgba(60, 64, 67, 0.3), 0px 1px 3px 1px rgba(60, 64, 67, 0.15);\n",
              "      fill: #174EA6;\n",
              "    }\n",
              "\n",
              "    .colab-df-buttons div {\n",
              "      margin-bottom: 4px;\n",
              "    }\n",
              "\n",
              "    [theme=dark] .colab-df-convert {\n",
              "      background-color: #3B4455;\n",
              "      fill: #D2E3FC;\n",
              "    }\n",
              "\n",
              "    [theme=dark] .colab-df-convert:hover {\n",
              "      background-color: #434B5C;\n",
              "      box-shadow: 0px 1px 3px 1px rgba(0, 0, 0, 0.15);\n",
              "      filter: drop-shadow(0px 1px 2px rgba(0, 0, 0, 0.3));\n",
              "      fill: #FFFFFF;\n",
              "    }\n",
              "  </style>\n",
              "\n",
              "    <script>\n",
              "      const buttonEl =\n",
              "        document.querySelector('#df-70813794-201d-4600-bb33-2ab07e4add17 button.colab-df-convert');\n",
              "      buttonEl.style.display =\n",
              "        google.colab.kernel.accessAllowed ? 'block' : 'none';\n",
              "\n",
              "      async function convertToInteractive(key) {\n",
              "        const element = document.querySelector('#df-70813794-201d-4600-bb33-2ab07e4add17');\n",
              "        const dataTable =\n",
              "          await google.colab.kernel.invokeFunction('convertToInteractive',\n",
              "                                                    [key], {});\n",
              "        if (!dataTable) return;\n",
              "\n",
              "        const docLinkHtml = 'Like what you see? Visit the ' +\n",
              "          '<a target=\"_blank\" href=https://colab.research.google.com/notebooks/data_table.ipynb>data table notebook</a>'\n",
              "          + ' to learn more about interactive tables.';\n",
              "        element.innerHTML = '';\n",
              "        dataTable['output_type'] = 'display_data';\n",
              "        await google.colab.output.renderOutput(dataTable, element);\n",
              "        const docLink = document.createElement('div');\n",
              "        docLink.innerHTML = docLinkHtml;\n",
              "        element.appendChild(docLink);\n",
              "      }\n",
              "    </script>\n",
              "  </div>\n",
              "\n",
              "\n",
              "<div id=\"df-d86af4b0-190e-4382-a1a1-f271a197e589\">\n",
              "  <button class=\"colab-df-quickchart\" onclick=\"quickchart('df-d86af4b0-190e-4382-a1a1-f271a197e589')\"\n",
              "            title=\"Suggest charts\"\n",
              "            style=\"display:none;\">\n",
              "\n",
              "<svg xmlns=\"http://www.w3.org/2000/svg\" height=\"24px\"viewBox=\"0 0 24 24\"\n",
              "     width=\"24px\">\n",
              "    <g>\n",
              "        <path d=\"M19 3H5c-1.1 0-2 .9-2 2v14c0 1.1.9 2 2 2h14c1.1 0 2-.9 2-2V5c0-1.1-.9-2-2-2zM9 17H7v-7h2v7zm4 0h-2V7h2v10zm4 0h-2v-4h2v4z\"/>\n",
              "    </g>\n",
              "</svg>\n",
              "  </button>\n",
              "\n",
              "<style>\n",
              "  .colab-df-quickchart {\n",
              "      --bg-color: #E8F0FE;\n",
              "      --fill-color: #1967D2;\n",
              "      --hover-bg-color: #E2EBFA;\n",
              "      --hover-fill-color: #174EA6;\n",
              "      --disabled-fill-color: #AAA;\n",
              "      --disabled-bg-color: #DDD;\n",
              "  }\n",
              "\n",
              "  [theme=dark] .colab-df-quickchart {\n",
              "      --bg-color: #3B4455;\n",
              "      --fill-color: #D2E3FC;\n",
              "      --hover-bg-color: #434B5C;\n",
              "      --hover-fill-color: #FFFFFF;\n",
              "      --disabled-bg-color: #3B4455;\n",
              "      --disabled-fill-color: #666;\n",
              "  }\n",
              "\n",
              "  .colab-df-quickchart {\n",
              "    background-color: var(--bg-color);\n",
              "    border: none;\n",
              "    border-radius: 50%;\n",
              "    cursor: pointer;\n",
              "    display: none;\n",
              "    fill: var(--fill-color);\n",
              "    height: 32px;\n",
              "    padding: 0;\n",
              "    width: 32px;\n",
              "  }\n",
              "\n",
              "  .colab-df-quickchart:hover {\n",
              "    background-color: var(--hover-bg-color);\n",
              "    box-shadow: 0 1px 2px rgba(60, 64, 67, 0.3), 0 1px 3px 1px rgba(60, 64, 67, 0.15);\n",
              "    fill: var(--button-hover-fill-color);\n",
              "  }\n",
              "\n",
              "  .colab-df-quickchart-complete:disabled,\n",
              "  .colab-df-quickchart-complete:disabled:hover {\n",
              "    background-color: var(--disabled-bg-color);\n",
              "    fill: var(--disabled-fill-color);\n",
              "    box-shadow: none;\n",
              "  }\n",
              "\n",
              "  .colab-df-spinner {\n",
              "    border: 2px solid var(--fill-color);\n",
              "    border-color: transparent;\n",
              "    border-bottom-color: var(--fill-color);\n",
              "    animation:\n",
              "      spin 1s steps(1) infinite;\n",
              "  }\n",
              "\n",
              "  @keyframes spin {\n",
              "    0% {\n",
              "      border-color: transparent;\n",
              "      border-bottom-color: var(--fill-color);\n",
              "      border-left-color: var(--fill-color);\n",
              "    }\n",
              "    20% {\n",
              "      border-color: transparent;\n",
              "      border-left-color: var(--fill-color);\n",
              "      border-top-color: var(--fill-color);\n",
              "    }\n",
              "    30% {\n",
              "      border-color: transparent;\n",
              "      border-left-color: var(--fill-color);\n",
              "      border-top-color: var(--fill-color);\n",
              "      border-right-color: var(--fill-color);\n",
              "    }\n",
              "    40% {\n",
              "      border-color: transparent;\n",
              "      border-right-color: var(--fill-color);\n",
              "      border-top-color: var(--fill-color);\n",
              "    }\n",
              "    60% {\n",
              "      border-color: transparent;\n",
              "      border-right-color: var(--fill-color);\n",
              "    }\n",
              "    80% {\n",
              "      border-color: transparent;\n",
              "      border-right-color: var(--fill-color);\n",
              "      border-bottom-color: var(--fill-color);\n",
              "    }\n",
              "    90% {\n",
              "      border-color: transparent;\n",
              "      border-bottom-color: var(--fill-color);\n",
              "    }\n",
              "  }\n",
              "</style>\n",
              "\n",
              "  <script>\n",
              "    async function quickchart(key) {\n",
              "      const quickchartButtonEl =\n",
              "        document.querySelector('#' + key + ' button');\n",
              "      quickchartButtonEl.disabled = true;  // To prevent multiple clicks.\n",
              "      quickchartButtonEl.classList.add('colab-df-spinner');\n",
              "      try {\n",
              "        const charts = await google.colab.kernel.invokeFunction(\n",
              "            'suggestCharts', [key], {});\n",
              "      } catch (error) {\n",
              "        console.error('Error during call to suggestCharts:', error);\n",
              "      }\n",
              "      quickchartButtonEl.classList.remove('colab-df-spinner');\n",
              "      quickchartButtonEl.classList.add('colab-df-quickchart-complete');\n",
              "    }\n",
              "    (() => {\n",
              "      let quickchartButtonEl =\n",
              "        document.querySelector('#df-d86af4b0-190e-4382-a1a1-f271a197e589 button');\n",
              "      quickchartButtonEl.style.display =\n",
              "        google.colab.kernel.accessAllowed ? 'block' : 'none';\n",
              "    })();\n",
              "  </script>\n",
              "</div>\n",
              "\n",
              "    </div>\n",
              "  </div>\n"
            ],
            "application/vnd.google.colaboratory.intrinsic+json": {
              "type": "dataframe",
              "variable_name": "movies_data"
            }
          },
          "metadata": {},
          "execution_count": 14
        }
      ]
    },
    {
      "cell_type": "code",
      "source": [
        "display (movies_data.shape)"
      ],
      "metadata": {
        "colab": {
          "base_uri": "https://localhost:8080/",
          "height": 34
        },
        "id": "OlJL9FXi9KYN",
        "outputId": "a55ad039-ee68-43e8-a273-632a0e42fe11"
      },
      "execution_count": 15,
      "outputs": [
        {
          "output_type": "display_data",
          "data": {
            "text/plain": [
              "(4803, 24)"
            ]
          },
          "metadata": {}
        }
      ]
    },
    {
      "cell_type": "code",
      "source": [
        "selected_features = ['genres','keywords','tagline','cast','director']\n",
        "print(selected_features)\n"
      ],
      "metadata": {
        "colab": {
          "base_uri": "https://localhost:8080/"
        },
        "id": "njb3ThX8-E8K",
        "outputId": "a976cd32-7f0f-4afe-fc8f-436f2d72ae53"
      },
      "execution_count": 16,
      "outputs": [
        {
          "output_type": "stream",
          "name": "stdout",
          "text": [
            "['genres', 'keywords', 'tagline', 'cast', 'director']\n"
          ]
        }
      ]
    },
    {
      "cell_type": "code",
      "source": [
        "display (movies_data.info())"
      ],
      "metadata": {
        "colab": {
          "base_uri": "https://localhost:8080/",
          "height": 573
        },
        "id": "c6_wkGWI-G6v",
        "outputId": "4902de3b-fe20-4e60-e973-40813c3692f7"
      },
      "execution_count": 17,
      "outputs": [
        {
          "output_type": "stream",
          "name": "stdout",
          "text": [
            "<class 'pandas.core.frame.DataFrame'>\n",
            "RangeIndex: 4803 entries, 0 to 4802\n",
            "Data columns (total 24 columns):\n",
            " #   Column                Non-Null Count  Dtype  \n",
            "---  ------                --------------  -----  \n",
            " 0   index                 4803 non-null   int64  \n",
            " 1   budget                4803 non-null   int64  \n",
            " 2   genres                4775 non-null   object \n",
            " 3   homepage              1712 non-null   object \n",
            " 4   id                    4803 non-null   int64  \n",
            " 5   keywords              4391 non-null   object \n",
            " 6   original_language     4803 non-null   object \n",
            " 7   original_title        4803 non-null   object \n",
            " 8   overview              4800 non-null   object \n",
            " 9   popularity            4803 non-null   float64\n",
            " 10  production_companies  4803 non-null   object \n",
            " 11  production_countries  4803 non-null   object \n",
            " 12  release_date          4802 non-null   object \n",
            " 13  revenue               4803 non-null   int64  \n",
            " 14  runtime               4801 non-null   float64\n",
            " 15  spoken_languages      4803 non-null   object \n",
            " 16  status                4803 non-null   object \n",
            " 17  tagline               3959 non-null   object \n",
            " 18  title                 4803 non-null   object \n",
            " 19  vote_average          4803 non-null   float64\n",
            " 20  vote_count            4803 non-null   int64  \n",
            " 21  cast                  4760 non-null   object \n",
            " 22  crew                  4803 non-null   object \n",
            " 23  director              4773 non-null   object \n",
            "dtypes: float64(3), int64(5), object(16)\n",
            "memory usage: 900.7+ KB\n"
          ]
        },
        {
          "output_type": "display_data",
          "data": {
            "text/plain": [
              "None"
            ]
          },
          "metadata": {}
        }
      ]
    },
    {
      "cell_type": "code",
      "source": [
        "display (movies_data.isna().sum())"
      ],
      "metadata": {
        "colab": {
          "base_uri": "https://localhost:8080/",
          "height": 451
        },
        "id": "X2OR0Xo0-J59",
        "outputId": "98a8ec44-5532-47dc-abc9-42e15e9322d1"
      },
      "execution_count": 18,
      "outputs": [
        {
          "output_type": "display_data",
          "data": {
            "text/plain": [
              "index                      0\n",
              "budget                     0\n",
              "genres                    28\n",
              "homepage                3091\n",
              "id                         0\n",
              "keywords                 412\n",
              "original_language          0\n",
              "original_title             0\n",
              "overview                   3\n",
              "popularity                 0\n",
              "production_companies       0\n",
              "production_countries       0\n",
              "release_date               1\n",
              "revenue                    0\n",
              "runtime                    2\n",
              "spoken_languages           0\n",
              "status                     0\n",
              "tagline                  844\n",
              "title                      0\n",
              "vote_average               0\n",
              "vote_count                 0\n",
              "cast                      43\n",
              "crew                       0\n",
              "director                  30\n",
              "dtype: int64"
            ]
          },
          "metadata": {}
        }
      ]
    },
    {
      "cell_type": "code",
      "source": [
        "display (movies_data[selected_features].head())"
      ],
      "metadata": {
        "colab": {
          "base_uri": "https://localhost:8080/",
          "height": 293
        },
        "id": "vIUuhJYJ-MSf",
        "outputId": "3b1d19d3-7ad4-4f01-fbb4-3bdc5a196473"
      },
      "execution_count": 19,
      "outputs": [
        {
          "output_type": "display_data",
          "data": {
            "text/plain": [
              "                                     genres  \\\n",
              "0  Action Adventure Fantasy Science Fiction   \n",
              "1                  Adventure Fantasy Action   \n",
              "2                    Action Adventure Crime   \n",
              "3               Action Crime Drama Thriller   \n",
              "4          Action Adventure Science Fiction   \n",
              "\n",
              "                                            keywords  \\\n",
              "0  culture clash future space war space colony so...   \n",
              "1  ocean drug abuse exotic island east india trad...   \n",
              "2         spy based on novel secret agent sequel mi6   \n",
              "3  dc comics crime fighter terrorist secret ident...   \n",
              "4  based on novel mars medallion space travel pri...   \n",
              "\n",
              "                                          tagline  \\\n",
              "0                     Enter the World of Pandora.   \n",
              "1  At the end of the world, the adventure begins.   \n",
              "2                           A Plan No One Escapes   \n",
              "3                                 The Legend Ends   \n",
              "4            Lost in our world, found in another.   \n",
              "\n",
              "                                                cast           director  \n",
              "0  Sam Worthington Zoe Saldana Sigourney Weaver S...      James Cameron  \n",
              "1  Johnny Depp Orlando Bloom Keira Knightley Stel...     Gore Verbinski  \n",
              "2  Daniel Craig Christoph Waltz L\\u00e9a Seydoux ...         Sam Mendes  \n",
              "3  Christian Bale Michael Caine Gary Oldman Anne ...  Christopher Nolan  \n",
              "4  Taylor Kitsch Lynn Collins Samantha Morton Wil...     Andrew Stanton  "
            ],
            "text/html": [
              "\n",
              "  <div id=\"df-fa35abef-4590-4027-b7e0-5539af81f1aa\" class=\"colab-df-container\">\n",
              "    <div>\n",
              "<style scoped>\n",
              "    .dataframe tbody tr th:only-of-type {\n",
              "        vertical-align: middle;\n",
              "    }\n",
              "\n",
              "    .dataframe tbody tr th {\n",
              "        vertical-align: top;\n",
              "    }\n",
              "\n",
              "    .dataframe thead th {\n",
              "        text-align: right;\n",
              "    }\n",
              "</style>\n",
              "<table border=\"1\" class=\"dataframe\">\n",
              "  <thead>\n",
              "    <tr style=\"text-align: right;\">\n",
              "      <th></th>\n",
              "      <th>genres</th>\n",
              "      <th>keywords</th>\n",
              "      <th>tagline</th>\n",
              "      <th>cast</th>\n",
              "      <th>director</th>\n",
              "    </tr>\n",
              "  </thead>\n",
              "  <tbody>\n",
              "    <tr>\n",
              "      <th>0</th>\n",
              "      <td>Action Adventure Fantasy Science Fiction</td>\n",
              "      <td>culture clash future space war space colony so...</td>\n",
              "      <td>Enter the World of Pandora.</td>\n",
              "      <td>Sam Worthington Zoe Saldana Sigourney Weaver S...</td>\n",
              "      <td>James Cameron</td>\n",
              "    </tr>\n",
              "    <tr>\n",
              "      <th>1</th>\n",
              "      <td>Adventure Fantasy Action</td>\n",
              "      <td>ocean drug abuse exotic island east india trad...</td>\n",
              "      <td>At the end of the world, the adventure begins.</td>\n",
              "      <td>Johnny Depp Orlando Bloom Keira Knightley Stel...</td>\n",
              "      <td>Gore Verbinski</td>\n",
              "    </tr>\n",
              "    <tr>\n",
              "      <th>2</th>\n",
              "      <td>Action Adventure Crime</td>\n",
              "      <td>spy based on novel secret agent sequel mi6</td>\n",
              "      <td>A Plan No One Escapes</td>\n",
              "      <td>Daniel Craig Christoph Waltz L\\u00e9a Seydoux ...</td>\n",
              "      <td>Sam Mendes</td>\n",
              "    </tr>\n",
              "    <tr>\n",
              "      <th>3</th>\n",
              "      <td>Action Crime Drama Thriller</td>\n",
              "      <td>dc comics crime fighter terrorist secret ident...</td>\n",
              "      <td>The Legend Ends</td>\n",
              "      <td>Christian Bale Michael Caine Gary Oldman Anne ...</td>\n",
              "      <td>Christopher Nolan</td>\n",
              "    </tr>\n",
              "    <tr>\n",
              "      <th>4</th>\n",
              "      <td>Action Adventure Science Fiction</td>\n",
              "      <td>based on novel mars medallion space travel pri...</td>\n",
              "      <td>Lost in our world, found in another.</td>\n",
              "      <td>Taylor Kitsch Lynn Collins Samantha Morton Wil...</td>\n",
              "      <td>Andrew Stanton</td>\n",
              "    </tr>\n",
              "  </tbody>\n",
              "</table>\n",
              "</div>\n",
              "    <div class=\"colab-df-buttons\">\n",
              "\n",
              "  <div class=\"colab-df-container\">\n",
              "    <button class=\"colab-df-convert\" onclick=\"convertToInteractive('df-fa35abef-4590-4027-b7e0-5539af81f1aa')\"\n",
              "            title=\"Convert this dataframe to an interactive table.\"\n",
              "            style=\"display:none;\">\n",
              "\n",
              "  <svg xmlns=\"http://www.w3.org/2000/svg\" height=\"24px\" viewBox=\"0 -960 960 960\">\n",
              "    <path d=\"M120-120v-720h720v720H120Zm60-500h600v-160H180v160Zm220 220h160v-160H400v160Zm0 220h160v-160H400v160ZM180-400h160v-160H180v160Zm440 0h160v-160H620v160ZM180-180h160v-160H180v160Zm440 0h160v-160H620v160Z\"/>\n",
              "  </svg>\n",
              "    </button>\n",
              "\n",
              "  <style>\n",
              "    .colab-df-container {\n",
              "      display:flex;\n",
              "      gap: 12px;\n",
              "    }\n",
              "\n",
              "    .colab-df-convert {\n",
              "      background-color: #E8F0FE;\n",
              "      border: none;\n",
              "      border-radius: 50%;\n",
              "      cursor: pointer;\n",
              "      display: none;\n",
              "      fill: #1967D2;\n",
              "      height: 32px;\n",
              "      padding: 0 0 0 0;\n",
              "      width: 32px;\n",
              "    }\n",
              "\n",
              "    .colab-df-convert:hover {\n",
              "      background-color: #E2EBFA;\n",
              "      box-shadow: 0px 1px 2px rgba(60, 64, 67, 0.3), 0px 1px 3px 1px rgba(60, 64, 67, 0.15);\n",
              "      fill: #174EA6;\n",
              "    }\n",
              "\n",
              "    .colab-df-buttons div {\n",
              "      margin-bottom: 4px;\n",
              "    }\n",
              "\n",
              "    [theme=dark] .colab-df-convert {\n",
              "      background-color: #3B4455;\n",
              "      fill: #D2E3FC;\n",
              "    }\n",
              "\n",
              "    [theme=dark] .colab-df-convert:hover {\n",
              "      background-color: #434B5C;\n",
              "      box-shadow: 0px 1px 3px 1px rgba(0, 0, 0, 0.15);\n",
              "      filter: drop-shadow(0px 1px 2px rgba(0, 0, 0, 0.3));\n",
              "      fill: #FFFFFF;\n",
              "    }\n",
              "  </style>\n",
              "\n",
              "    <script>\n",
              "      const buttonEl =\n",
              "        document.querySelector('#df-fa35abef-4590-4027-b7e0-5539af81f1aa button.colab-df-convert');\n",
              "      buttonEl.style.display =\n",
              "        google.colab.kernel.accessAllowed ? 'block' : 'none';\n",
              "\n",
              "      async function convertToInteractive(key) {\n",
              "        const element = document.querySelector('#df-fa35abef-4590-4027-b7e0-5539af81f1aa');\n",
              "        const dataTable =\n",
              "          await google.colab.kernel.invokeFunction('convertToInteractive',\n",
              "                                                    [key], {});\n",
              "        if (!dataTable) return;\n",
              "\n",
              "        const docLinkHtml = 'Like what you see? Visit the ' +\n",
              "          '<a target=\"_blank\" href=https://colab.research.google.com/notebooks/data_table.ipynb>data table notebook</a>'\n",
              "          + ' to learn more about interactive tables.';\n",
              "        element.innerHTML = '';\n",
              "        dataTable['output_type'] = 'display_data';\n",
              "        await google.colab.output.renderOutput(dataTable, element);\n",
              "        const docLink = document.createElement('div');\n",
              "        docLink.innerHTML = docLinkHtml;\n",
              "        element.appendChild(docLink);\n",
              "      }\n",
              "    </script>\n",
              "  </div>\n",
              "\n",
              "\n",
              "<div id=\"df-eb696e96-9b0c-47b6-a46b-4b253d700c24\">\n",
              "  <button class=\"colab-df-quickchart\" onclick=\"quickchart('df-eb696e96-9b0c-47b6-a46b-4b253d700c24')\"\n",
              "            title=\"Suggest charts\"\n",
              "            style=\"display:none;\">\n",
              "\n",
              "<svg xmlns=\"http://www.w3.org/2000/svg\" height=\"24px\"viewBox=\"0 0 24 24\"\n",
              "     width=\"24px\">\n",
              "    <g>\n",
              "        <path d=\"M19 3H5c-1.1 0-2 .9-2 2v14c0 1.1.9 2 2 2h14c1.1 0 2-.9 2-2V5c0-1.1-.9-2-2-2zM9 17H7v-7h2v7zm4 0h-2V7h2v10zm4 0h-2v-4h2v4z\"/>\n",
              "    </g>\n",
              "</svg>\n",
              "  </button>\n",
              "\n",
              "<style>\n",
              "  .colab-df-quickchart {\n",
              "      --bg-color: #E8F0FE;\n",
              "      --fill-color: #1967D2;\n",
              "      --hover-bg-color: #E2EBFA;\n",
              "      --hover-fill-color: #174EA6;\n",
              "      --disabled-fill-color: #AAA;\n",
              "      --disabled-bg-color: #DDD;\n",
              "  }\n",
              "\n",
              "  [theme=dark] .colab-df-quickchart {\n",
              "      --bg-color: #3B4455;\n",
              "      --fill-color: #D2E3FC;\n",
              "      --hover-bg-color: #434B5C;\n",
              "      --hover-fill-color: #FFFFFF;\n",
              "      --disabled-bg-color: #3B4455;\n",
              "      --disabled-fill-color: #666;\n",
              "  }\n",
              "\n",
              "  .colab-df-quickchart {\n",
              "    background-color: var(--bg-color);\n",
              "    border: none;\n",
              "    border-radius: 50%;\n",
              "    cursor: pointer;\n",
              "    display: none;\n",
              "    fill: var(--fill-color);\n",
              "    height: 32px;\n",
              "    padding: 0;\n",
              "    width: 32px;\n",
              "  }\n",
              "\n",
              "  .colab-df-quickchart:hover {\n",
              "    background-color: var(--hover-bg-color);\n",
              "    box-shadow: 0 1px 2px rgba(60, 64, 67, 0.3), 0 1px 3px 1px rgba(60, 64, 67, 0.15);\n",
              "    fill: var(--button-hover-fill-color);\n",
              "  }\n",
              "\n",
              "  .colab-df-quickchart-complete:disabled,\n",
              "  .colab-df-quickchart-complete:disabled:hover {\n",
              "    background-color: var(--disabled-bg-color);\n",
              "    fill: var(--disabled-fill-color);\n",
              "    box-shadow: none;\n",
              "  }\n",
              "\n",
              "  .colab-df-spinner {\n",
              "    border: 2px solid var(--fill-color);\n",
              "    border-color: transparent;\n",
              "    border-bottom-color: var(--fill-color);\n",
              "    animation:\n",
              "      spin 1s steps(1) infinite;\n",
              "  }\n",
              "\n",
              "  @keyframes spin {\n",
              "    0% {\n",
              "      border-color: transparent;\n",
              "      border-bottom-color: var(--fill-color);\n",
              "      border-left-color: var(--fill-color);\n",
              "    }\n",
              "    20% {\n",
              "      border-color: transparent;\n",
              "      border-left-color: var(--fill-color);\n",
              "      border-top-color: var(--fill-color);\n",
              "    }\n",
              "    30% {\n",
              "      border-color: transparent;\n",
              "      border-left-color: var(--fill-color);\n",
              "      border-top-color: var(--fill-color);\n",
              "      border-right-color: var(--fill-color);\n",
              "    }\n",
              "    40% {\n",
              "      border-color: transparent;\n",
              "      border-right-color: var(--fill-color);\n",
              "      border-top-color: var(--fill-color);\n",
              "    }\n",
              "    60% {\n",
              "      border-color: transparent;\n",
              "      border-right-color: var(--fill-color);\n",
              "    }\n",
              "    80% {\n",
              "      border-color: transparent;\n",
              "      border-right-color: var(--fill-color);\n",
              "      border-bottom-color: var(--fill-color);\n",
              "    }\n",
              "    90% {\n",
              "      border-color: transparent;\n",
              "      border-bottom-color: var(--fill-color);\n",
              "    }\n",
              "  }\n",
              "</style>\n",
              "\n",
              "  <script>\n",
              "    async function quickchart(key) {\n",
              "      const quickchartButtonEl =\n",
              "        document.querySelector('#' + key + ' button');\n",
              "      quickchartButtonEl.disabled = true;  // To prevent multiple clicks.\n",
              "      quickchartButtonEl.classList.add('colab-df-spinner');\n",
              "      try {\n",
              "        const charts = await google.colab.kernel.invokeFunction(\n",
              "            'suggestCharts', [key], {});\n",
              "      } catch (error) {\n",
              "        console.error('Error during call to suggestCharts:', error);\n",
              "      }\n",
              "      quickchartButtonEl.classList.remove('colab-df-spinner');\n",
              "      quickchartButtonEl.classList.add('colab-df-quickchart-complete');\n",
              "    }\n",
              "    (() => {\n",
              "      let quickchartButtonEl =\n",
              "        document.querySelector('#df-eb696e96-9b0c-47b6-a46b-4b253d700c24 button');\n",
              "      quickchartButtonEl.style.display =\n",
              "        google.colab.kernel.accessAllowed ? 'block' : 'none';\n",
              "    })();\n",
              "  </script>\n",
              "</div>\n",
              "\n",
              "    </div>\n",
              "  </div>\n"
            ],
            "application/vnd.google.colaboratory.intrinsic+json": {
              "type": "dataframe",
              "summary": "{\n  \"name\": \"display (movies_data[selected_features]\",\n  \"rows\": 5,\n  \"fields\": [\n    {\n      \"column\": \"genres\",\n      \"properties\": {\n        \"dtype\": \"string\",\n        \"num_unique_values\": 5,\n        \"samples\": [\n          \"Adventure Fantasy Action\",\n          \"Action Adventure Science Fiction\",\n          \"Action Adventure Crime\"\n        ],\n        \"semantic_type\": \"\",\n        \"description\": \"\"\n      }\n    },\n    {\n      \"column\": \"keywords\",\n      \"properties\": {\n        \"dtype\": \"string\",\n        \"num_unique_values\": 5,\n        \"samples\": [\n          \"ocean drug abuse exotic island east india trading company love of one's life\",\n          \"based on novel mars medallion space travel princess\",\n          \"spy based on novel secret agent sequel mi6\"\n        ],\n        \"semantic_type\": \"\",\n        \"description\": \"\"\n      }\n    },\n    {\n      \"column\": \"tagline\",\n      \"properties\": {\n        \"dtype\": \"string\",\n        \"num_unique_values\": 5,\n        \"samples\": [\n          \"At the end of the world, the adventure begins.\",\n          \"Lost in our world, found in another.\",\n          \"A Plan No One Escapes\"\n        ],\n        \"semantic_type\": \"\",\n        \"description\": \"\"\n      }\n    },\n    {\n      \"column\": \"cast\",\n      \"properties\": {\n        \"dtype\": \"string\",\n        \"num_unique_values\": 5,\n        \"samples\": [\n          \"Johnny Depp Orlando Bloom Keira Knightley Stellan Skarsg\\\\u00e5rd Chow Yun-fat\",\n          \"Taylor Kitsch Lynn Collins Samantha Morton Willem Dafoe Thomas Haden Church\",\n          \"Daniel Craig Christoph Waltz L\\\\u00e9a Seydoux Ralph Fiennes Monica Bellucci\"\n        ],\n        \"semantic_type\": \"\",\n        \"description\": \"\"\n      }\n    },\n    {\n      \"column\": \"director\",\n      \"properties\": {\n        \"dtype\": \"string\",\n        \"num_unique_values\": 5,\n        \"samples\": [\n          \"Gore Verbinski\",\n          \"Andrew Stanton\",\n          \"Sam Mendes\"\n        ],\n        \"semantic_type\": \"\",\n        \"description\": \"\"\n      }\n    }\n  ]\n}"
            }
          },
          "metadata": {}
        }
      ]
    },
    {
      "cell_type": "code",
      "source": [
        "display (movies_data[selected_features].isna().sum())"
      ],
      "metadata": {
        "colab": {
          "base_uri": "https://localhost:8080/",
          "height": 121
        },
        "id": "xS7-tpzW-OtW",
        "outputId": "405d19e3-9bd8-49b8-9c30-d8e9d97830b1"
      },
      "execution_count": 20,
      "outputs": [
        {
          "output_type": "display_data",
          "data": {
            "text/plain": [
              "genres       28\n",
              "keywords    412\n",
              "tagline     844\n",
              "cast         43\n",
              "director     30\n",
              "dtype: int64"
            ]
          },
          "metadata": {}
        }
      ]
    },
    {
      "cell_type": "code",
      "source": [
        "for feature in selected_features:\n",
        "  movies_data[feature] = movies_data[feature].fillna('')\n",
        "display (movies_data.head())\n"
      ],
      "metadata": {
        "colab": {
          "base_uri": "https://localhost:8080/",
          "height": 794
        },
        "id": "tepN2Oo7-ULs",
        "outputId": "105d2a8f-9eff-40b4-a207-2bd362b31572"
      },
      "execution_count": 21,
      "outputs": [
        {
          "output_type": "display_data",
          "data": {
            "text/plain": [
              "   index     budget                                    genres  \\\n",
              "0      0  237000000  Action Adventure Fantasy Science Fiction   \n",
              "1      1  300000000                  Adventure Fantasy Action   \n",
              "2      2  245000000                    Action Adventure Crime   \n",
              "3      3  250000000               Action Crime Drama Thriller   \n",
              "4      4  260000000          Action Adventure Science Fiction   \n",
              "\n",
              "                                       homepage      id  \\\n",
              "0                   http://www.avatarmovie.com/   19995   \n",
              "1  http://disney.go.com/disneypictures/pirates/     285   \n",
              "2   http://www.sonypictures.com/movies/spectre/  206647   \n",
              "3            http://www.thedarkknightrises.com/   49026   \n",
              "4          http://movies.disney.com/john-carter   49529   \n",
              "\n",
              "                                            keywords original_language  \\\n",
              "0  culture clash future space war space colony so...                en   \n",
              "1  ocean drug abuse exotic island east india trad...                en   \n",
              "2         spy based on novel secret agent sequel mi6                en   \n",
              "3  dc comics crime fighter terrorist secret ident...                en   \n",
              "4  based on novel mars medallion space travel pri...                en   \n",
              "\n",
              "                             original_title  \\\n",
              "0                                    Avatar   \n",
              "1  Pirates of the Caribbean: At World's End   \n",
              "2                                   Spectre   \n",
              "3                     The Dark Knight Rises   \n",
              "4                               John Carter   \n",
              "\n",
              "                                            overview  popularity  ... runtime  \\\n",
              "0  In the 22nd century, a paraplegic Marine is di...  150.437577  ...   162.0   \n",
              "1  Captain Barbossa, long believed to be dead, ha...  139.082615  ...   169.0   \n",
              "2  A cryptic message from Bond’s past sends him o...  107.376788  ...   148.0   \n",
              "3  Following the death of District Attorney Harve...  112.312950  ...   165.0   \n",
              "4  John Carter is a war-weary, former military ca...   43.926995  ...   132.0   \n",
              "\n",
              "                                    spoken_languages    status  \\\n",
              "0  [{\"iso_639_1\": \"en\", \"name\": \"English\"}, {\"iso...  Released   \n",
              "1           [{\"iso_639_1\": \"en\", \"name\": \"English\"}]  Released   \n",
              "2  [{\"iso_639_1\": \"fr\", \"name\": \"Fran\\u00e7ais\"},...  Released   \n",
              "3           [{\"iso_639_1\": \"en\", \"name\": \"English\"}]  Released   \n",
              "4           [{\"iso_639_1\": \"en\", \"name\": \"English\"}]  Released   \n",
              "\n",
              "                                          tagline  \\\n",
              "0                     Enter the World of Pandora.   \n",
              "1  At the end of the world, the adventure begins.   \n",
              "2                           A Plan No One Escapes   \n",
              "3                                 The Legend Ends   \n",
              "4            Lost in our world, found in another.   \n",
              "\n",
              "                                      title vote_average vote_count  \\\n",
              "0                                    Avatar          7.2      11800   \n",
              "1  Pirates of the Caribbean: At World's End          6.9       4500   \n",
              "2                                   Spectre          6.3       4466   \n",
              "3                     The Dark Knight Rises          7.6       9106   \n",
              "4                               John Carter          6.1       2124   \n",
              "\n",
              "                                                cast  \\\n",
              "0  Sam Worthington Zoe Saldana Sigourney Weaver S...   \n",
              "1  Johnny Depp Orlando Bloom Keira Knightley Stel...   \n",
              "2  Daniel Craig Christoph Waltz L\\u00e9a Seydoux ...   \n",
              "3  Christian Bale Michael Caine Gary Oldman Anne ...   \n",
              "4  Taylor Kitsch Lynn Collins Samantha Morton Wil...   \n",
              "\n",
              "                                                crew           director  \n",
              "0  [{'name': 'Stephen E. Rivkin', 'gender': 0, 'd...      James Cameron  \n",
              "1  [{'name': 'Dariusz Wolski', 'gender': 2, 'depa...     Gore Verbinski  \n",
              "2  [{'name': 'Thomas Newman', 'gender': 2, 'depar...         Sam Mendes  \n",
              "3  [{'name': 'Hans Zimmer', 'gender': 2, 'departm...  Christopher Nolan  \n",
              "4  [{'name': 'Andrew Stanton', 'gender': 2, 'depa...     Andrew Stanton  \n",
              "\n",
              "[5 rows x 24 columns]"
            ],
            "text/html": [
              "\n",
              "  <div id=\"df-6d410629-b8b3-43ba-b556-6d147f9ff689\" class=\"colab-df-container\">\n",
              "    <div>\n",
              "<style scoped>\n",
              "    .dataframe tbody tr th:only-of-type {\n",
              "        vertical-align: middle;\n",
              "    }\n",
              "\n",
              "    .dataframe tbody tr th {\n",
              "        vertical-align: top;\n",
              "    }\n",
              "\n",
              "    .dataframe thead th {\n",
              "        text-align: right;\n",
              "    }\n",
              "</style>\n",
              "<table border=\"1\" class=\"dataframe\">\n",
              "  <thead>\n",
              "    <tr style=\"text-align: right;\">\n",
              "      <th></th>\n",
              "      <th>index</th>\n",
              "      <th>budget</th>\n",
              "      <th>genres</th>\n",
              "      <th>homepage</th>\n",
              "      <th>id</th>\n",
              "      <th>keywords</th>\n",
              "      <th>original_language</th>\n",
              "      <th>original_title</th>\n",
              "      <th>overview</th>\n",
              "      <th>popularity</th>\n",
              "      <th>...</th>\n",
              "      <th>runtime</th>\n",
              "      <th>spoken_languages</th>\n",
              "      <th>status</th>\n",
              "      <th>tagline</th>\n",
              "      <th>title</th>\n",
              "      <th>vote_average</th>\n",
              "      <th>vote_count</th>\n",
              "      <th>cast</th>\n",
              "      <th>crew</th>\n",
              "      <th>director</th>\n",
              "    </tr>\n",
              "  </thead>\n",
              "  <tbody>\n",
              "    <tr>\n",
              "      <th>0</th>\n",
              "      <td>0</td>\n",
              "      <td>237000000</td>\n",
              "      <td>Action Adventure Fantasy Science Fiction</td>\n",
              "      <td>http://www.avatarmovie.com/</td>\n",
              "      <td>19995</td>\n",
              "      <td>culture clash future space war space colony so...</td>\n",
              "      <td>en</td>\n",
              "      <td>Avatar</td>\n",
              "      <td>In the 22nd century, a paraplegic Marine is di...</td>\n",
              "      <td>150.437577</td>\n",
              "      <td>...</td>\n",
              "      <td>162.0</td>\n",
              "      <td>[{\"iso_639_1\": \"en\", \"name\": \"English\"}, {\"iso...</td>\n",
              "      <td>Released</td>\n",
              "      <td>Enter the World of Pandora.</td>\n",
              "      <td>Avatar</td>\n",
              "      <td>7.2</td>\n",
              "      <td>11800</td>\n",
              "      <td>Sam Worthington Zoe Saldana Sigourney Weaver S...</td>\n",
              "      <td>[{'name': 'Stephen E. Rivkin', 'gender': 0, 'd...</td>\n",
              "      <td>James Cameron</td>\n",
              "    </tr>\n",
              "    <tr>\n",
              "      <th>1</th>\n",
              "      <td>1</td>\n",
              "      <td>300000000</td>\n",
              "      <td>Adventure Fantasy Action</td>\n",
              "      <td>http://disney.go.com/disneypictures/pirates/</td>\n",
              "      <td>285</td>\n",
              "      <td>ocean drug abuse exotic island east india trad...</td>\n",
              "      <td>en</td>\n",
              "      <td>Pirates of the Caribbean: At World's End</td>\n",
              "      <td>Captain Barbossa, long believed to be dead, ha...</td>\n",
              "      <td>139.082615</td>\n",
              "      <td>...</td>\n",
              "      <td>169.0</td>\n",
              "      <td>[{\"iso_639_1\": \"en\", \"name\": \"English\"}]</td>\n",
              "      <td>Released</td>\n",
              "      <td>At the end of the world, the adventure begins.</td>\n",
              "      <td>Pirates of the Caribbean: At World's End</td>\n",
              "      <td>6.9</td>\n",
              "      <td>4500</td>\n",
              "      <td>Johnny Depp Orlando Bloom Keira Knightley Stel...</td>\n",
              "      <td>[{'name': 'Dariusz Wolski', 'gender': 2, 'depa...</td>\n",
              "      <td>Gore Verbinski</td>\n",
              "    </tr>\n",
              "    <tr>\n",
              "      <th>2</th>\n",
              "      <td>2</td>\n",
              "      <td>245000000</td>\n",
              "      <td>Action Adventure Crime</td>\n",
              "      <td>http://www.sonypictures.com/movies/spectre/</td>\n",
              "      <td>206647</td>\n",
              "      <td>spy based on novel secret agent sequel mi6</td>\n",
              "      <td>en</td>\n",
              "      <td>Spectre</td>\n",
              "      <td>A cryptic message from Bond’s past sends him o...</td>\n",
              "      <td>107.376788</td>\n",
              "      <td>...</td>\n",
              "      <td>148.0</td>\n",
              "      <td>[{\"iso_639_1\": \"fr\", \"name\": \"Fran\\u00e7ais\"},...</td>\n",
              "      <td>Released</td>\n",
              "      <td>A Plan No One Escapes</td>\n",
              "      <td>Spectre</td>\n",
              "      <td>6.3</td>\n",
              "      <td>4466</td>\n",
              "      <td>Daniel Craig Christoph Waltz L\\u00e9a Seydoux ...</td>\n",
              "      <td>[{'name': 'Thomas Newman', 'gender': 2, 'depar...</td>\n",
              "      <td>Sam Mendes</td>\n",
              "    </tr>\n",
              "    <tr>\n",
              "      <th>3</th>\n",
              "      <td>3</td>\n",
              "      <td>250000000</td>\n",
              "      <td>Action Crime Drama Thriller</td>\n",
              "      <td>http://www.thedarkknightrises.com/</td>\n",
              "      <td>49026</td>\n",
              "      <td>dc comics crime fighter terrorist secret ident...</td>\n",
              "      <td>en</td>\n",
              "      <td>The Dark Knight Rises</td>\n",
              "      <td>Following the death of District Attorney Harve...</td>\n",
              "      <td>112.312950</td>\n",
              "      <td>...</td>\n",
              "      <td>165.0</td>\n",
              "      <td>[{\"iso_639_1\": \"en\", \"name\": \"English\"}]</td>\n",
              "      <td>Released</td>\n",
              "      <td>The Legend Ends</td>\n",
              "      <td>The Dark Knight Rises</td>\n",
              "      <td>7.6</td>\n",
              "      <td>9106</td>\n",
              "      <td>Christian Bale Michael Caine Gary Oldman Anne ...</td>\n",
              "      <td>[{'name': 'Hans Zimmer', 'gender': 2, 'departm...</td>\n",
              "      <td>Christopher Nolan</td>\n",
              "    </tr>\n",
              "    <tr>\n",
              "      <th>4</th>\n",
              "      <td>4</td>\n",
              "      <td>260000000</td>\n",
              "      <td>Action Adventure Science Fiction</td>\n",
              "      <td>http://movies.disney.com/john-carter</td>\n",
              "      <td>49529</td>\n",
              "      <td>based on novel mars medallion space travel pri...</td>\n",
              "      <td>en</td>\n",
              "      <td>John Carter</td>\n",
              "      <td>John Carter is a war-weary, former military ca...</td>\n",
              "      <td>43.926995</td>\n",
              "      <td>...</td>\n",
              "      <td>132.0</td>\n",
              "      <td>[{\"iso_639_1\": \"en\", \"name\": \"English\"}]</td>\n",
              "      <td>Released</td>\n",
              "      <td>Lost in our world, found in another.</td>\n",
              "      <td>John Carter</td>\n",
              "      <td>6.1</td>\n",
              "      <td>2124</td>\n",
              "      <td>Taylor Kitsch Lynn Collins Samantha Morton Wil...</td>\n",
              "      <td>[{'name': 'Andrew Stanton', 'gender': 2, 'depa...</td>\n",
              "      <td>Andrew Stanton</td>\n",
              "    </tr>\n",
              "  </tbody>\n",
              "</table>\n",
              "<p>5 rows × 24 columns</p>\n",
              "</div>\n",
              "    <div class=\"colab-df-buttons\">\n",
              "\n",
              "  <div class=\"colab-df-container\">\n",
              "    <button class=\"colab-df-convert\" onclick=\"convertToInteractive('df-6d410629-b8b3-43ba-b556-6d147f9ff689')\"\n",
              "            title=\"Convert this dataframe to an interactive table.\"\n",
              "            style=\"display:none;\">\n",
              "\n",
              "  <svg xmlns=\"http://www.w3.org/2000/svg\" height=\"24px\" viewBox=\"0 -960 960 960\">\n",
              "    <path d=\"M120-120v-720h720v720H120Zm60-500h600v-160H180v160Zm220 220h160v-160H400v160Zm0 220h160v-160H400v160ZM180-400h160v-160H180v160Zm440 0h160v-160H620v160ZM180-180h160v-160H180v160Zm440 0h160v-160H620v160Z\"/>\n",
              "  </svg>\n",
              "    </button>\n",
              "\n",
              "  <style>\n",
              "    .colab-df-container {\n",
              "      display:flex;\n",
              "      gap: 12px;\n",
              "    }\n",
              "\n",
              "    .colab-df-convert {\n",
              "      background-color: #E8F0FE;\n",
              "      border: none;\n",
              "      border-radius: 50%;\n",
              "      cursor: pointer;\n",
              "      display: none;\n",
              "      fill: #1967D2;\n",
              "      height: 32px;\n",
              "      padding: 0 0 0 0;\n",
              "      width: 32px;\n",
              "    }\n",
              "\n",
              "    .colab-df-convert:hover {\n",
              "      background-color: #E2EBFA;\n",
              "      box-shadow: 0px 1px 2px rgba(60, 64, 67, 0.3), 0px 1px 3px 1px rgba(60, 64, 67, 0.15);\n",
              "      fill: #174EA6;\n",
              "    }\n",
              "\n",
              "    .colab-df-buttons div {\n",
              "      margin-bottom: 4px;\n",
              "    }\n",
              "\n",
              "    [theme=dark] .colab-df-convert {\n",
              "      background-color: #3B4455;\n",
              "      fill: #D2E3FC;\n",
              "    }\n",
              "\n",
              "    [theme=dark] .colab-df-convert:hover {\n",
              "      background-color: #434B5C;\n",
              "      box-shadow: 0px 1px 3px 1px rgba(0, 0, 0, 0.15);\n",
              "      filter: drop-shadow(0px 1px 2px rgba(0, 0, 0, 0.3));\n",
              "      fill: #FFFFFF;\n",
              "    }\n",
              "  </style>\n",
              "\n",
              "    <script>\n",
              "      const buttonEl =\n",
              "        document.querySelector('#df-6d410629-b8b3-43ba-b556-6d147f9ff689 button.colab-df-convert');\n",
              "      buttonEl.style.display =\n",
              "        google.colab.kernel.accessAllowed ? 'block' : 'none';\n",
              "\n",
              "      async function convertToInteractive(key) {\n",
              "        const element = document.querySelector('#df-6d410629-b8b3-43ba-b556-6d147f9ff689');\n",
              "        const dataTable =\n",
              "          await google.colab.kernel.invokeFunction('convertToInteractive',\n",
              "                                                    [key], {});\n",
              "        if (!dataTable) return;\n",
              "\n",
              "        const docLinkHtml = 'Like what you see? Visit the ' +\n",
              "          '<a target=\"_blank\" href=https://colab.research.google.com/notebooks/data_table.ipynb>data table notebook</a>'\n",
              "          + ' to learn more about interactive tables.';\n",
              "        element.innerHTML = '';\n",
              "        dataTable['output_type'] = 'display_data';\n",
              "        await google.colab.output.renderOutput(dataTable, element);\n",
              "        const docLink = document.createElement('div');\n",
              "        docLink.innerHTML = docLinkHtml;\n",
              "        element.appendChild(docLink);\n",
              "      }\n",
              "    </script>\n",
              "  </div>\n",
              "\n",
              "\n",
              "<div id=\"df-9f3a20c9-be44-4727-9010-5d0e30f34590\">\n",
              "  <button class=\"colab-df-quickchart\" onclick=\"quickchart('df-9f3a20c9-be44-4727-9010-5d0e30f34590')\"\n",
              "            title=\"Suggest charts\"\n",
              "            style=\"display:none;\">\n",
              "\n",
              "<svg xmlns=\"http://www.w3.org/2000/svg\" height=\"24px\"viewBox=\"0 0 24 24\"\n",
              "     width=\"24px\">\n",
              "    <g>\n",
              "        <path d=\"M19 3H5c-1.1 0-2 .9-2 2v14c0 1.1.9 2 2 2h14c1.1 0 2-.9 2-2V5c0-1.1-.9-2-2-2zM9 17H7v-7h2v7zm4 0h-2V7h2v10zm4 0h-2v-4h2v4z\"/>\n",
              "    </g>\n",
              "</svg>\n",
              "  </button>\n",
              "\n",
              "<style>\n",
              "  .colab-df-quickchart {\n",
              "      --bg-color: #E8F0FE;\n",
              "      --fill-color: #1967D2;\n",
              "      --hover-bg-color: #E2EBFA;\n",
              "      --hover-fill-color: #174EA6;\n",
              "      --disabled-fill-color: #AAA;\n",
              "      --disabled-bg-color: #DDD;\n",
              "  }\n",
              "\n",
              "  [theme=dark] .colab-df-quickchart {\n",
              "      --bg-color: #3B4455;\n",
              "      --fill-color: #D2E3FC;\n",
              "      --hover-bg-color: #434B5C;\n",
              "      --hover-fill-color: #FFFFFF;\n",
              "      --disabled-bg-color: #3B4455;\n",
              "      --disabled-fill-color: #666;\n",
              "  }\n",
              "\n",
              "  .colab-df-quickchart {\n",
              "    background-color: var(--bg-color);\n",
              "    border: none;\n",
              "    border-radius: 50%;\n",
              "    cursor: pointer;\n",
              "    display: none;\n",
              "    fill: var(--fill-color);\n",
              "    height: 32px;\n",
              "    padding: 0;\n",
              "    width: 32px;\n",
              "  }\n",
              "\n",
              "  .colab-df-quickchart:hover {\n",
              "    background-color: var(--hover-bg-color);\n",
              "    box-shadow: 0 1px 2px rgba(60, 64, 67, 0.3), 0 1px 3px 1px rgba(60, 64, 67, 0.15);\n",
              "    fill: var(--button-hover-fill-color);\n",
              "  }\n",
              "\n",
              "  .colab-df-quickchart-complete:disabled,\n",
              "  .colab-df-quickchart-complete:disabled:hover {\n",
              "    background-color: var(--disabled-bg-color);\n",
              "    fill: var(--disabled-fill-color);\n",
              "    box-shadow: none;\n",
              "  }\n",
              "\n",
              "  .colab-df-spinner {\n",
              "    border: 2px solid var(--fill-color);\n",
              "    border-color: transparent;\n",
              "    border-bottom-color: var(--fill-color);\n",
              "    animation:\n",
              "      spin 1s steps(1) infinite;\n",
              "  }\n",
              "\n",
              "  @keyframes spin {\n",
              "    0% {\n",
              "      border-color: transparent;\n",
              "      border-bottom-color: var(--fill-color);\n",
              "      border-left-color: var(--fill-color);\n",
              "    }\n",
              "    20% {\n",
              "      border-color: transparent;\n",
              "      border-left-color: var(--fill-color);\n",
              "      border-top-color: var(--fill-color);\n",
              "    }\n",
              "    30% {\n",
              "      border-color: transparent;\n",
              "      border-left-color: var(--fill-color);\n",
              "      border-top-color: var(--fill-color);\n",
              "      border-right-color: var(--fill-color);\n",
              "    }\n",
              "    40% {\n",
              "      border-color: transparent;\n",
              "      border-right-color: var(--fill-color);\n",
              "      border-top-color: var(--fill-color);\n",
              "    }\n",
              "    60% {\n",
              "      border-color: transparent;\n",
              "      border-right-color: var(--fill-color);\n",
              "    }\n",
              "    80% {\n",
              "      border-color: transparent;\n",
              "      border-right-color: var(--fill-color);\n",
              "      border-bottom-color: var(--fill-color);\n",
              "    }\n",
              "    90% {\n",
              "      border-color: transparent;\n",
              "      border-bottom-color: var(--fill-color);\n",
              "    }\n",
              "  }\n",
              "</style>\n",
              "\n",
              "  <script>\n",
              "    async function quickchart(key) {\n",
              "      const quickchartButtonEl =\n",
              "        document.querySelector('#' + key + ' button');\n",
              "      quickchartButtonEl.disabled = true;  // To prevent multiple clicks.\n",
              "      quickchartButtonEl.classList.add('colab-df-spinner');\n",
              "      try {\n",
              "        const charts = await google.colab.kernel.invokeFunction(\n",
              "            'suggestCharts', [key], {});\n",
              "      } catch (error) {\n",
              "        console.error('Error during call to suggestCharts:', error);\n",
              "      }\n",
              "      quickchartButtonEl.classList.remove('colab-df-spinner');\n",
              "      quickchartButtonEl.classList.add('colab-df-quickchart-complete');\n",
              "    }\n",
              "    (() => {\n",
              "      let quickchartButtonEl =\n",
              "        document.querySelector('#df-9f3a20c9-be44-4727-9010-5d0e30f34590 button');\n",
              "      quickchartButtonEl.style.display =\n",
              "        google.colab.kernel.accessAllowed ? 'block' : 'none';\n",
              "    })();\n",
              "  </script>\n",
              "</div>\n",
              "\n",
              "    </div>\n",
              "  </div>\n"
            ],
            "application/vnd.google.colaboratory.intrinsic+json": {
              "type": "dataframe"
            }
          },
          "metadata": {}
        }
      ]
    },
    {
      "cell_type": "code",
      "source": [
        "combined_features = movies_data['genres']+' '+movies_data['keywords']+' '+movies_data['tagline']+' '+movies_data['cast']+' '+movies_data['director']\n",
        "display (combined_features)\n"
      ],
      "metadata": {
        "colab": {
          "base_uri": "https://localhost:8080/",
          "height": 225
        },
        "id": "1nF_UIxK-XN4",
        "outputId": "57c06dc3-5aaf-4257-ffce-3ba8ffabd2dc"
      },
      "execution_count": 22,
      "outputs": [
        {
          "output_type": "display_data",
          "data": {
            "text/plain": [
              "0       Action Adventure Fantasy Science Fiction cultu...\n",
              "1       Adventure Fantasy Action ocean drug abuse exot...\n",
              "2       Action Adventure Crime spy based on novel secr...\n",
              "3       Action Crime Drama Thriller dc comics crime fi...\n",
              "4       Action Adventure Science Fiction based on nove...\n",
              "                              ...                        \n",
              "4798    Action Crime Thriller united states\\u2013mexic...\n",
              "4799    Comedy Romance  A newlywed couple's honeymoon ...\n",
              "4800    Comedy Drama Romance TV Movie date love at fir...\n",
              "4801      A New Yorker in Shanghai Daniel Henney Eliza...\n",
              "4802    Documentary obsession camcorder crush dream gi...\n",
              "Length: 4803, dtype: object"
            ]
          },
          "metadata": {}
        }
      ]
    },
    {
      "cell_type": "code",
      "source": [
        "vectorizer = TfidfVectorizer()\n",
        "feature_vectors = vectorizer.fit_transform(combined_features)\n",
        "display (feature_vectors.shape)\n",
        "print (feature_vectors)\n"
      ],
      "metadata": {
        "colab": {
          "base_uri": "https://localhost:8080/",
          "height": 920
        },
        "id": "j67zwsmX-Zul",
        "outputId": "233c5a6f-121d-4ea3-a80c-68e02dfd15a3"
      },
      "execution_count": 23,
      "outputs": [
        {
          "output_type": "display_data",
          "data": {
            "text/plain": [
              "(4803, 17318)"
            ]
          },
          "metadata": {}
        },
        {
          "output_type": "stream",
          "name": "stdout",
          "text": [
            "  (0, 2432)\t0.17272411194153\n",
            "  (0, 7755)\t0.1128035714854756\n",
            "  (0, 13024)\t0.1942362060108871\n",
            "  (0, 10229)\t0.16058685400095302\n",
            "  (0, 8756)\t0.22709015857011816\n",
            "  (0, 14608)\t0.15150672398763912\n",
            "  (0, 16668)\t0.19843263965100372\n",
            "  (0, 14064)\t0.20596090415084142\n",
            "  (0, 13319)\t0.2177470539412484\n",
            "  (0, 17290)\t0.20197912553916567\n",
            "  (0, 17007)\t0.23643326319898797\n",
            "  (0, 13349)\t0.15021264094167086\n",
            "  (0, 11503)\t0.27211310056983656\n",
            "  (0, 11192)\t0.09049319826481456\n",
            "  (0, 16998)\t0.1282126322850579\n",
            "  (0, 15261)\t0.07095833561276566\n",
            "  (0, 4945)\t0.24025852494110758\n",
            "  (0, 14271)\t0.21392179219912877\n",
            "  (0, 3225)\t0.24960162956997736\n",
            "  (0, 16587)\t0.12549432354918996\n",
            "  (0, 14378)\t0.33962752210959823\n",
            "  (0, 5836)\t0.1646750903586285\n",
            "  (0, 3065)\t0.22208377802661425\n",
            "  (0, 3678)\t0.21392179219912877\n",
            "  (0, 5437)\t0.1036413987316636\n",
            "  :\t:\n",
            "  (4801, 17266)\t0.2886098184932947\n",
            "  (4801, 4835)\t0.24713765026963996\n",
            "  (4801, 403)\t0.17727585190343226\n",
            "  (4801, 6935)\t0.2886098184932947\n",
            "  (4801, 11663)\t0.21557500762727902\n",
            "  (4801, 1672)\t0.1564793427630879\n",
            "  (4801, 10929)\t0.13504166990041588\n",
            "  (4801, 7474)\t0.11307961713172225\n",
            "  (4801, 3796)\t0.3342808988877418\n",
            "  (4802, 6996)\t0.5700048226105303\n",
            "  (4802, 5367)\t0.22969114490410403\n",
            "  (4802, 3654)\t0.262512960498006\n",
            "  (4802, 2425)\t0.24002350969074696\n",
            "  (4802, 4608)\t0.24002350969074696\n",
            "  (4802, 6417)\t0.21753405888348784\n",
            "  (4802, 4371)\t0.1538239182675544\n",
            "  (4802, 12989)\t0.1696476532191718\n",
            "  (4802, 1316)\t0.1960747079005741\n",
            "  (4802, 4528)\t0.19504460807622875\n",
            "  (4802, 3436)\t0.21753405888348784\n",
            "  (4802, 6155)\t0.18056463596934083\n",
            "  (4802, 4980)\t0.16078053641367315\n",
            "  (4802, 2129)\t0.3099656128577656\n",
            "  (4802, 4518)\t0.16784466610624255\n",
            "  (4802, 11161)\t0.17867407682173203\n"
          ]
        }
      ]
    },
    {
      "cell_type": "code",
      "source": [
        "similarity = cosine_similarity(feature_vectors)\n",
        "print  (similarity )\n"
      ],
      "metadata": {
        "colab": {
          "base_uri": "https://localhost:8080/"
        },
        "id": "E4KKnVKa-cYZ",
        "outputId": "f321c648-ad76-46cc-cf0e-c3ebc180edad"
      },
      "execution_count": 24,
      "outputs": [
        {
          "output_type": "stream",
          "name": "stdout",
          "text": [
            "[[1.         0.07219487 0.037733   ... 0.         0.         0.        ]\n",
            " [0.07219487 1.         0.03281499 ... 0.03575545 0.         0.        ]\n",
            " [0.037733   0.03281499 1.         ... 0.         0.05389661 0.        ]\n",
            " ...\n",
            " [0.         0.03575545 0.         ... 1.         0.         0.02651502]\n",
            " [0.         0.         0.05389661 ... 0.         1.         0.        ]\n",
            " [0.         0.         0.         ... 0.02651502 0.         1.        ]]\n"
          ]
        }
      ]
    },
    {
      "cell_type": "code",
      "source": [
        "display(similarity.shape)"
      ],
      "metadata": {
        "colab": {
          "base_uri": "https://localhost:8080/",
          "height": 34
        },
        "id": "dzL1b1WG-eRm",
        "outputId": "d65dc9a0-b1ff-43b4-efe5-87f3f319cf72"
      },
      "execution_count": 25,
      "outputs": [
        {
          "output_type": "display_data",
          "data": {
            "text/plain": [
              "(4803, 4803)"
            ]
          },
          "metadata": {}
        }
      ]
    },
    {
      "cell_type": "code",
      "source": [
        "movie_name = input(' Enter your favourite movie name : ')"
      ],
      "metadata": {
        "colab": {
          "base_uri": "https://localhost:8080/"
        },
        "id": "usj0F-yq-gfv",
        "outputId": "74b2a9df-88ab-4098-92b9-14247bb640bb"
      },
      "execution_count": 26,
      "outputs": [
        {
          "name": "stdout",
          "output_type": "stream",
          "text": [
            " Enter your favourite movie name : Pirates\n"
          ]
        }
      ]
    },
    {
      "cell_type": "code",
      "source": [
        "list_of_all_titles = movies_data['title'].tolist()\n",
        "print(list_of_all_titles)\n"
      ],
      "metadata": {
        "colab": {
          "base_uri": "https://localhost:8080/"
        },
        "id": "YsdkV6lC-io7",
        "outputId": "9978bc1b-f710-4a53-c1b1-37f642f8c2e9"
      },
      "execution_count": 27,
      "outputs": [
        {
          "output_type": "stream",
          "name": "stdout",
          "text": [
            "['Avatar', \"Pirates of the Caribbean: At World's End\", 'Spectre', 'The Dark Knight Rises', 'John Carter', 'Spider-Man 3', 'Tangled', 'Avengers: Age of Ultron', 'Harry Potter and the Half-Blood Prince', 'Batman v Superman: Dawn of Justice', 'Superman Returns', 'Quantum of Solace', \"Pirates of the Caribbean: Dead Man's Chest\", 'The Lone Ranger', 'Man of Steel', 'The Chronicles of Narnia: Prince Caspian', 'The Avengers', 'Pirates of the Caribbean: On Stranger Tides', 'Men in Black 3', 'The Hobbit: The Battle of the Five Armies', 'The Amazing Spider-Man', 'Robin Hood', 'The Hobbit: The Desolation of Smaug', 'The Golden Compass', 'King Kong', 'Titanic', 'Captain America: Civil War', 'Battleship', 'Jurassic World', 'Skyfall', 'Spider-Man 2', 'Iron Man 3', 'Alice in Wonderland', 'X-Men: The Last Stand', 'Monsters University', 'Transformers: Revenge of the Fallen', 'Transformers: Age of Extinction', 'Oz: The Great and Powerful', 'The Amazing Spider-Man 2', 'TRON: Legacy', 'Cars 2', 'Green Lantern', 'Toy Story 3', 'Terminator Salvation', 'Furious 7', 'World War Z', 'X-Men: Days of Future Past', 'Star Trek Into Darkness', 'Jack the Giant Slayer', 'The Great Gatsby', 'Prince of Persia: The Sands of Time', 'Pacific Rim', 'Transformers: Dark of the Moon', 'Indiana Jones and the Kingdom of the Crystal Skull', 'The Good Dinosaur', 'Brave', 'Star Trek Beyond', 'WALL·E', 'Rush Hour 3', '2012', 'A Christmas Carol', 'Jupiter Ascending', 'The Legend of Tarzan', 'The Chronicles of Narnia: The Lion, the Witch and the Wardrobe', 'X-Men: Apocalypse', 'The Dark Knight', 'Up', 'Monsters vs Aliens', 'Iron Man', 'Hugo', 'Wild Wild West', 'The Mummy: Tomb of the Dragon Emperor', 'Suicide Squad', 'Evan Almighty', 'Edge of Tomorrow', 'Waterworld', 'G.I. Joe: The Rise of Cobra', 'Inside Out', 'The Jungle Book', 'Iron Man 2', 'Snow White and the Huntsman', 'Maleficent', 'Dawn of the Planet of the Apes', 'The Lovers', '47 Ronin', 'Captain America: The Winter Soldier', 'Shrek Forever After', 'Tomorrowland', 'Big Hero 6', 'Wreck-It Ralph', 'The Polar Express', 'Independence Day: Resurgence', 'How to Train Your Dragon', 'Terminator 3: Rise of the Machines', 'Guardians of the Galaxy', 'Interstellar', 'Inception', 'Shin Godzilla', 'The Hobbit: An Unexpected Journey', 'The Fast and the Furious', 'The Curious Case of Benjamin Button', 'X-Men: First Class', 'The Hunger Games: Mockingjay - Part 2', \"The Sorcerer's Apprentice\", 'Poseidon', 'Alice Through the Looking Glass', 'Shrek the Third', 'Warcraft', 'Terminator Genisys', 'The Chronicles of Narnia: The Voyage of the Dawn Treader', 'Pearl Harbor', 'Transformers', 'Alexander', 'Harry Potter and the Order of the Phoenix', 'Harry Potter and the Goblet of Fire', 'Hancock', 'I Am Legend', 'Charlie and the Chocolate Factory', 'Ratatouille', 'Batman Begins', 'Madagascar: Escape 2 Africa', 'Night at the Museum: Battle of the Smithsonian', 'X-Men Origins: Wolverine', 'The Matrix Revolutions', 'Frozen', 'The Matrix Reloaded', 'Thor: The Dark World', 'Mad Max: Fury Road', 'Angels & Demons', 'Thor', 'Bolt', 'G-Force', 'Wrath of the Titans', 'Dark Shadows', 'Mission: Impossible - Rogue Nation', 'The Wolfman', 'Bee Movie', 'Kung Fu Panda 2', 'The Last Airbender', 'Mission: Impossible III', 'White House Down', 'Mars Needs Moms', 'Flushed Away', 'Pan', 'Mr. Peabody & Sherman', 'Troy', \"Madagascar 3: Europe's Most Wanted\", 'Die Another Day', 'Ghostbusters', 'Armageddon', 'Men in Black II', 'Beowulf', 'Kung Fu Panda 3', 'Mission: Impossible - Ghost Protocol', 'Rise of the Guardians', 'Fun with Dick and Jane', 'The Last Samurai', 'Exodus: Gods and Kings', 'Star Trek', 'Spider-Man', 'How to Train Your Dragon 2', 'Gods of Egypt', 'Stealth', 'Watchmen', 'Lethal Weapon 4', 'Hulk', 'G.I. Joe: Retaliation', 'Sahara', 'Final Fantasy: The Spirits Within', 'Captain America: The First Avenger', 'The World Is Not Enough', 'Master and Commander: The Far Side of the World', 'The Twilight Saga: Breaking Dawn - Part 2', 'Happy Feet Two', 'The Incredible Hulk', 'The BFG', 'The Revenant', 'Turbo', 'Rango', 'Penguins of Madagascar', 'The Bourne Ultimatum', 'Kung Fu Panda', 'Ant-Man', 'The Hunger Games: Catching Fire', 'Home', 'War of the Worlds', 'Bad Boys II', 'Puss in Boots', 'Salt', 'Noah', 'The Adventures of Tintin', 'Harry Potter and the Prisoner of Azkaban', 'Australia', 'After Earth', 'Dinosaur', 'Night at the Museum: Secret of the Tomb', 'Megamind', \"Harry Potter and the Philosopher's Stone\", 'R.I.P.D.', 'Pirates of the Caribbean: The Curse of the Black Pearl', 'The Hunger Games: Mockingjay - Part 1', 'The Da Vinci Code', 'Rio 2', 'X2', 'Fast Five', 'Sherlock Holmes: A Game of Shadows', 'Clash of the Titans', 'Total Recall', 'The 13th Warrior', 'The Bourne Legacy', 'Batman & Robin', 'How the Grinch Stole Christmas', 'The Day After Tomorrow', 'Mission: Impossible II', 'The Perfect Storm', 'Fantastic 4: Rise of the Silver Surfer', 'Life of Pi', 'Ghost Rider', 'Jason Bourne', \"Charlie's Angels: Full Throttle\", 'Prometheus', 'Stuart Little 2', 'Elysium', 'The Chronicles of Riddick', 'RoboCop', 'Speed Racer', 'How Do You Know', 'Knight and Day', 'Oblivion', 'Star Wars: Episode III - Revenge of the Sith', 'Star Wars: Episode II - Attack of the Clones', 'Monsters, Inc.', 'The Wolverine', 'Star Wars: Episode I - The Phantom Menace', 'The Croods', 'Asterix at the Olympic Games', 'Windtalkers', \"The Huntsman: Winter's War\", 'Teenage Mutant Ninja Turtles', 'Gravity', \"Dante's Peak\", 'Teenage Mutant Ninja Turtles: Out of the Shadows', 'Fantastic Four', 'Night at the Museum', 'San Andreas', 'Tomorrow Never Dies', 'The Patriot', \"Ocean's Twelve\", 'Mr. & Mrs. Smith', 'Insurgent', 'The Aviator', \"Gulliver's Travels\", 'The Green Hornet', '300: Rise of an Empire', 'The Smurfs', 'Home on the Range', 'Allegiant', 'Real Steel', 'The Smurfs 2', 'Speed 2: Cruise Control', \"Ender's Game\", 'Live Free or Die Hard', 'The Lord of the Rings: The Fellowship of the Ring', 'Around the World in 80 Days', 'Ali', 'The Cat in the Hat', 'I, Robot', 'Kingdom of Heaven', 'Stuart Little', 'The Princess and the Frog', 'The Martian', 'The Island', 'Town & Country', 'Gone in Sixty Seconds', 'Gladiator', 'Minority Report', 'Harry Potter and the Chamber of Secrets', 'Casino Royale', 'Planet of the Apes', 'Terminator 2: Judgment Day', 'Public Enemies', 'American Gangster', 'True Lies', 'The Taking of Pelham 1 2 3', 'Little Fockers', 'The Other Guys', 'Eraser', 'Django Unchained', 'The Hunchback of Notre Dame', \"The Emperor's New Groove\", 'The Expendables 2', 'National Treasure', 'Eragon', 'Where the Wild Things Are', 'Epic', 'The Tourist', 'End of Days', 'Blood Diamond', 'The Wolf of Wall Street', 'Batman Forever', 'Starship Troopers', 'Cloud Atlas', \"Legend of the Guardians: The Owls of Ga'Hoole\", 'Catwoman', 'Hercules', 'Treasure Planet', 'Land of the Lost', 'The Expendables 3', 'Point Break', 'Son of the Mask', 'In the Heart of the Sea', 'The Adventures of Pluto Nash', 'Green Zone', 'The Peanuts Movie', 'The Spanish Prisoner', 'The Mummy Returns', 'Gangs of New York', 'The Flowers of War', \"Surf's Up\", 'The Stepford Wives', 'Black Hawk Down', 'The Campaign', 'The Fifth Element', 'Sex and the City 2', 'The Road to El Dorado', 'Ice Age: Continental Drift', 'Cinderella', 'The Lovely Bones', 'Finding Nemo', 'The Lord of the Rings: The Return of the King', 'The Lord of the Rings: The Two Towers', 'Seventh Son', 'Lara Croft: Tomb Raider', 'Transcendence', 'Jurassic Park III', 'Rise of the Planet of the Apes', 'The Spiderwick Chronicles', 'A Good Day to Die Hard', 'The Alamo', 'The Incredibles', 'Cutthroat Island', 'Percy Jackson & the Olympians: The Lightning Thief', 'Men in Black', 'Toy Story 2', 'Unstoppable', 'Rush Hour 2', 'What Lies Beneath', 'Cloudy with a Chance of Meatballs', 'Ice Age: Dawn of the Dinosaurs', 'The Secret Life of Walter Mitty', \"Charlie's Angels\", 'The Departed', 'Mulan', 'Tropic Thunder', 'The Girl with the Dragon Tattoo', 'Die Hard: With a Vengeance', 'Sherlock Holmes', 'Ben-Hur', 'Atlantis: The Lost Empire', 'Alvin and the Chipmunks: The Road Chip', 'Valkyrie', \"You Don't Mess with the Zohan\", 'Pixels', 'A.I. Artificial Intelligence', 'The Haunted Mansion', 'Contact', 'Hollow Man', 'The Interpreter', 'Percy Jackson: Sea of Monsters', 'Lara Croft Tomb Raider: The Cradle of Life', 'Now You See Me 2', 'The Saint', 'Spy Game', 'Mission to Mars', 'Rio', 'Bicentennial Man', 'Volcano', \"The Devil's Own\", 'K-19: The Widowmaker', 'Conan the Barbarian', 'Cinderella Man', 'The Nutcracker: The Untold Story', 'Seabiscuit', 'Twister', 'Cast Away', 'Happy Feet', 'The Bourne Supremacy', 'Air Force One', \"Ocean's Eleven\", 'The Three Musketeers', 'Hotel Transylvania', 'Enchanted', 'Safe House', '102 Dalmatians', 'Tower Heist', 'The Holiday', 'Enemy of the State', \"It's Complicated\", \"Ocean's Thirteen\", 'Open Season', 'Divergent', 'Enemy at the Gates', 'The Rundown', 'Last Action Hero', 'Memoirs of a Geisha', 'The Fast and the Furious: Tokyo Drift', 'Arthur Christmas', 'Meet Joe Black', 'Collateral Damage', 'All That Jazz', 'Mirror Mirror', 'Scott Pilgrim vs. the World', 'The Core', 'Nutty Professor II: The Klumps', 'Scooby-Doo', 'Dredd', 'Click', 'Creepshow', 'Cats & Dogs 2 : The Revenge of Kitty Galore', 'Jumper', 'Hellboy II: The Golden Army', 'Zodiac', 'The 6th Day', 'Bruce Almighty', 'The Expendables', 'Mission: Impossible', 'The Hunger Games', 'The Hangover Part II', 'Batman Returns', 'Over the Hedge', 'Lilo & Stitch', \"Charlotte's Web\", 'Deep Impact', 'RED 2', 'The Longest Yard', 'Alvin and the Chipmunks: Chipwrecked', 'Grown Ups 2', 'Get Smart', \"Something's Gotta Give\", 'Shutter Island', 'Four Christmases', 'Robots', 'Face/Off', 'Bedtime Stories', 'Road to Perdition', 'Just Go with It', 'Con Air', 'Eagle Eye', 'Cold Mountain', 'The Book of Eli', 'Flubber', 'The Haunting', 'Space Jam', 'The Pink Panther', 'The Day the Earth Stood Still', 'Conspiracy Theory', 'Fury', 'Six Days Seven Nights', 'Yogi Bear', 'Spirit: Stallion of the Cimarron', 'Zookeeper', 'Lost in Space', 'The Manchurian Candidate', 'Déjà Vu', 'Hotel Transylvania 2', 'Fantasia 2000', 'The Time Machine', 'Mighty Joe Young', 'Swordfish', 'The Legend of Zorro', 'What Dreams May Come', 'Little Nicky', 'The Brothers Grimm', 'Mars Attacks!', 'Evolution', 'The Edge', 'Surrogates', 'Thirteen Days', 'Daylight', 'Walking With Dinosaurs', 'Battlefield Earth', 'Looney Tunes: Back in Action', 'Nine', 'Timeline', 'The Postman', 'Babe: Pig in the City', 'The Last Witch Hunter', 'Red Planet', 'Arthur and the Invisibles', 'Oceans', 'A Sound of Thunder', 'Pompeii', 'Top Cat Begins', 'A Beautiful Mind', 'The Lion King', 'Journey 2: The Mysterious Island', 'Cloudy with a Chance of Meatballs 2', 'Red Dragon', 'Hidalgo', 'Jack and Jill', '2 Fast 2 Furious', 'The Little Prince', 'The Invasion', 'The Adventures of Rocky & Bullwinkle', 'The Secret Life of Pets', 'The League of Extraordinary Gentlemen', 'Despicable Me 2', 'Independence Day', 'The Lost World: Jurassic Park', 'Madagascar', 'Children of Men', 'X-Men', 'Wanted', 'The Rock', 'Ice Age: The Meltdown', '50 First Dates', 'Hairspray', 'Exorcist: The Beginning', 'Inspector Gadget', 'Now You See Me', 'Grown Ups', 'The Terminal', 'Hotel for Dogs', 'Vertical Limit', \"Charlie Wilson's War\", 'Shark Tale', 'Dreamgirls', 'Be Cool', 'Munich', 'Tears of the Sun', 'Killers', 'The Man from U.N.C.L.E.', 'Spanglish', 'Monster House', 'Bandits', 'First Knight', 'Anna and the King', 'Immortals', 'Hostage', 'Titan A.E.', 'Hollywood Homicide', 'Soldier', 'Carriers', 'Monkeybone', 'Flight of the Phoenix', 'Unbreakable', 'Minions', 'Sucker Punch', 'Snake Eyes', 'Sphere', 'The Angry Birds Movie', \"Fool's Gold\", 'Funny People', 'The Kingdom', 'Talladega Nights: The Ballad of Ricky Bobby', 'Dr. Dolittle 2', 'Braveheart', 'Jarhead', 'The Simpsons Movie', 'The Majestic', 'Driven', 'Two Brothers', 'The Village', 'Doctor Dolittle', 'Signs', 'Shrek 2', 'Cars', 'Runaway Bride', 'xXx', 'The SpongeBob Movie: Sponge Out of Water', 'Ransom', 'Inglourious Basterds', 'Hook', 'Die Hard 2', 'S.W.A.T.', 'Vanilla Sky', 'Lady in the Water', 'AVP: Alien vs. Predator', 'Alvin and the Chipmunks: The Squeakquel', 'We Were Soldiers', 'Olympus Has Fallen', 'Star Trek: Insurrection', 'Battle: Los Angeles', 'Big Fish', 'Wolf', 'War Horse', 'The Monuments Men', 'The Abyss', 'Wall Street: Money Never Sleeps', 'Dracula Untold', 'The Siege', 'Stardust', 'Seven Years in Tibet', 'The Dilemma', 'Bad Company', 'Doom', 'I Spy', 'Underworld: Awakening', 'Rock of Ages', \"Hart's War\", 'Killer Elite', 'Rollerball', 'Ballistic: Ecks vs. Sever', 'Hard Rain', 'Osmosis Jones', \"Legends of Oz: Dorothy's Return\", 'Blackhat', 'Sky Captain and the World of Tomorrow', 'Basic Instinct 2', 'Escape Plan', 'The Legend of Hercules', 'The Sum of All Fears', 'The Twilight Saga: Eclipse', 'The Score', 'Despicable Me', 'Money Train', 'Ted 2', 'Agora', 'Mystery Men', 'Hall Pass', 'The Insider', 'The Finest Hours', 'Body of Lies', 'Dinner for Schmucks', 'Abraham Lincoln: Vampire Hunter', 'Entrapment', 'The X Files', 'The Last Legion', 'Saving Private Ryan', 'Need for Speed', 'What Women Want', 'Ice Age', 'Dreamcatcher', 'Lincoln', 'The Matrix', 'Apollo 13', 'The Santa Clause 2', 'Les Misérables', \"You've Got Mail\", 'Step Brothers', 'The Mask of Zorro', 'Due Date', 'Unbroken', 'Space Cowboys', 'Cliffhanger', 'Broken Arrow', 'The Kid', 'World Trade Center', 'Mona Lisa Smile', 'The Dictator', 'Eyes Wide Shut', 'Annie', 'Focus', 'This Means War', 'Blade: Trinity', 'Red Dawn', 'Primary Colors', 'Resident Evil: Retribution', 'Death Race', 'The Long Kiss Goodnight', 'Proof of Life', 'Zathura: A Space Adventure', 'Fight Club', 'We Are Marshall', 'Hudson Hawk', 'Lucky Numbers', 'I, Frankenstein', 'Oliver Twist', 'Elektra', 'Sin City: A Dame to Kill For', 'Random Hearts', 'Everest', 'Perfume: The Story of a Murderer', 'Austin Powers in Goldmember', 'Astro Boy', 'Jurassic Park', 'Wyatt Earp', 'Clear and Present Danger', 'Dragon Blade', 'Little Man', 'U-571', 'The American President', 'The Love Guru', '3000 Miles to Graceland', 'The Hateful Eight', 'Blades of Glory', 'Hop', '300', 'Meet the Fockers', 'Marley & Me', 'The Green Mile', 'Wild Hogs', 'Chicken Little', 'Gone Girl', 'The Bourne Identity', 'GoldenEye', \"The General's Daughter\", 'The Truman Show', 'The Prince of Egypt', 'Daddy Day Care', '2 Guns', 'Cats & Dogs', 'The Italian Job', 'Two Weeks Notice', 'Antz', 'Couples Retreat', 'Days of Thunder', 'Cheaper by the Dozen 2', 'Maze Runner: The Scorch Trials', 'Eat Pray Love', 'The Family Man', 'RED', 'Any Given Sunday', 'The Horse Whisperer', 'Collateral', 'The Scorpion King', 'Ladder 49', 'Jack Reacher', 'Deep Blue Sea', 'This Is It', 'Contagion', 'Kangaroo Jack', 'Coraline', 'The Happening', 'Man on Fire', 'The Shaggy Dog', 'Starsky & Hutch', 'Jingle All the Way', 'Hellboy', 'A Civil Action', 'ParaNorman', 'The Jackal', 'Paycheck', 'Up Close & Personal', 'The Tale of Despereaux', 'The Tuxedo', 'Under Siege 2: Dark Territory', 'Jack Ryan: Shadow Recruit', 'Joy', 'London Has Fallen', 'Alien: Resurrection', 'Shooter', 'The Boxtrolls', 'Practical Magic', 'The Lego Movie', 'Miss Congeniality 2: Armed and Fabulous', 'Reign of Fire', 'Gangster Squad', 'Year One', 'Invictus', 'State of Play', 'Duplicity', 'My Favorite Martian', 'The Sentinel', 'Planet 51', 'Star Trek: Nemesis', 'Intolerable Cruelty', 'Trouble with the Curve', 'Edge of Darkness', 'The Relic', 'Analyze That', 'Righteous Kill', 'Mercury Rising', 'The Soloist', 'The Legend of Bagger Vance', 'Almost Famous', 'Garfield: A Tail of Two Kitties', 'xXx: State of the Union', 'Priest', 'Sinbad: Legend of the Seven Seas', 'Event Horizon', 'Dragonfly', 'The Black Dahlia', 'Flyboys', 'The Last Castle', 'Supernova', \"Winter's Tale\", 'The Mortal Instruments: City of Bones', 'Meet Dave', 'Dark Water', 'Edtv', 'Inkheart', 'The Spirit', 'Mortdecai', 'In the Name of the King: A Dungeon Siege Tale', 'Beyond Borders', 'The Monkey King 2', 'The Great Raid', 'Deadpool', 'Holy Man', 'American Sniper', 'Goosebumps', 'Just Like Heaven', 'The Flintstones in Viva Rock Vegas', 'Rambo III', 'Leatherheads', 'The Ridiculous 6', 'Did You Hear About the Morgans?', 'The Internship', 'Resident Evil: Afterlife', 'Red Tails', \"The Devil's Advocate\", \"That's My Boy\", 'DragonHeart', 'After the Sunset', 'Ghost Rider: Spirit of Vengeance', \"Captain Corelli's Mandolin\", 'The Pacifier', 'Walking Tall', 'Forrest Gump', 'Alvin and the Chipmunks', 'Meet the Parents', 'Pocahontas', 'Superman', 'The Nutty Professor', 'Hitch', 'George of the Jungle', 'American Wedding', 'Captain Phillips', 'Date Night', 'Casper', 'The Equalizer', 'Maid in Manhattan', 'Crimson Tide', 'The Pursuit of Happyness', 'Flightplan', 'Disclosure', 'City of Angels', 'Kill Bill: Vol. 1', 'Bowfinger', 'Kill Bill: Vol. 2', 'Tango & Cash', 'Death Becomes Her', 'Shanghai Noon', 'Executive Decision', \"Mr. Popper's Penguins\", 'The Forbidden Kingdom', 'Free Birds', 'Alien³', 'Evita', 'Ronin', 'The Ghost and the Darkness', 'Paddington', 'The Watch', 'The Hunted', 'Instinct', 'Stuck on You', 'Semi-Pro', 'The Pirates! In an Adventure with Scientists!', 'Changeling', 'Chain Reaction', 'The Fan', 'The Phantom of the Opera', 'Elizabeth: The Golden Age', 'Æon Flux', 'Gods and Generals', 'Turbulence', 'Imagine That', 'Muppets Most Wanted', 'Thunderbirds', 'Burlesque', 'A Very Long Engagement', 'Lolita', 'D-Tox', 'Blade II', 'Seven Pounds', 'Bullet to the Head', 'The Godfather: Part III', 'Elizabethtown', 'You, Me and Dupree', 'Superman II', 'Gigli', \"All the King's Men\", 'Shaft', 'Anastasia', 'Moulin Rouge!', 'Domestic Disturbance', 'Black Mass', 'Flags of Our Fathers', 'Law Abiding Citizen', 'Grindhouse', 'Beloved', 'Lucky You', 'Catch Me If You Can', 'Zero Dark Thirty', 'The Break-Up', 'Mamma Mia!', \"Valentine's Day\", 'The Dukes of Hazzard', 'The Thin Red Line', 'The Change-Up', 'Man on the Moon', 'Casino', 'From Paris with Love', 'Bulletproof Monk', 'Me, Myself & Irene', 'Barnyard', 'Deck the Halls', 'The Twilight Saga: New Moon', 'Shrek', 'The Adjustment Bureau', 'Robin Hood: Prince of Thieves', 'Jerry Maguire', 'Ted', 'As Good as It Gets', 'Patch Adams', 'Anchorman 2: The Legend Continues', 'Mr. Deeds', 'Super 8', 'Erin Brockovich', 'How to Lose a Guy in 10 Days', '22 Jump Street', 'Interview with the Vampire', 'Yes Man', 'Central Intelligence', 'Stepmom', \"Daddy's Home\", 'Into the Woods', 'Inside Man', 'Payback', 'Congo', 'We Bought a Zoo', 'Knowing', 'Failure to Launch', 'The Ring Two', 'Crazy, Stupid, Love.', 'Garfield', 'Christmas with the Kranks', 'Moneyball', 'Outbreak', 'Non-Stop', 'Race to Witch Mountain', 'V for Vendetta', 'Shanghai Knights', 'Curious George', 'Herbie Fully Loaded', \"Don't Say a Word\", 'Hansel & Gretel: Witch Hunters', 'Unfaithful', 'I Am Number Four', 'Syriana', '13 Hours: The Secret Soldiers of Benghazi', 'The Book of Life', 'Firewall', 'Absolute Power', 'G.I. Jane', 'The Game', 'Silent Hill', 'The Replacements', 'American Reunion', 'The Negotiator', 'Into the Storm', 'Beverly Hills Cop III', 'Gremlins 2: The New Batch', 'The Judge', 'The Peacemaker', 'Resident Evil: Apocalypse', 'Bridget Jones: The Edge of Reason', 'Out of Time', 'On Deadly Ground', 'The Adventures of Sharkboy and Lavagirl', 'The Beach', 'Raising Helen', 'Ninja Assassin', 'For Love of the Game', 'Striptease', 'Marmaduke', 'Hereafter', 'Murder by Numbers', 'Assassins', 'Hannibal Rising', 'The Story of Us', 'The Host', 'Basic', 'Blood Work', 'The International', 'Escape from L.A.', 'The Iron Giant', 'The Life Aquatic with Steve Zissou', 'Free State of Jones', 'The Life of David Gale', 'Man of the House', 'Run All Night', 'Eastern Promises', 'Into the Blue', 'The Messenger: The Story of Joan of Arc', 'Your Highness', 'Dream House', 'Mad City', \"Baby's Day Out\", 'The Scarlet Letter', 'Fair Game', 'Domino', 'Jade', 'Gamer', 'Beautiful Creatures', 'Death to Smoochy', 'Zoolander 2', 'The Big Bounce', 'What Planet Are You From?', 'Drive Angry', 'Street Fighter: The Legend of Chun-Li', 'The One', 'The Adventures of Ford Fairlane', 'The Boat That Rocked', 'Traffic', 'Indiana Jones and the Last Crusade', 'Anna Karenina', 'Chappie', 'The Bone Collector', 'Panic Room', 'The Tooth Fairy', 'Three Kings', 'Child 44', 'Rat Race', 'K-PAX', 'Kate & Leopold', 'Bedazzled', 'The Cotton Club', '3:10 to Yuma', 'Taken 3', 'Out of Sight', 'The Cable Guy', 'Earth', 'Dick Tracy', 'The Thomas Crown Affair', 'Riding in Cars with Boys', 'First Blood', 'Solaris', \"Happily N'Ever After\", 'Mary Reilly', \"My Best Friend's Wedding\", \"America's Sweethearts\", 'Insomnia', 'Star Trek: First Contact', 'Jonah Hex', 'Courage Under Fire', 'Liar Liar', 'The Infiltrator', 'Inchon', 'The Flintstones', 'Taken 2', 'Scary Movie 3', 'Miss Congeniality', 'Journey to the Center of the Earth', 'The Princess Diaries 2: Royal Engagement', 'The Pelican Brief', 'The Client', 'The Bucket List', 'Patriot Games', 'Monster-in-Law', 'Prisoners', 'Training Day', 'Galaxy Quest', 'Scary Movie 2', 'The Muppets', 'Blade', 'Coach Carter', 'Changing Lanes', 'Anaconda', 'Coyote Ugly', 'Love Actually', \"A Bug's Life\", 'From Hell', 'The Specialist', 'Tin Cup', 'Yours, Mine and Ours', 'Kicking & Screaming', \"The Hitchhiker's Guide to the Galaxy\", 'Fat Albert', 'Resident Evil: Extinction', 'Blended', 'Last Holiday', 'The River Wild', 'The Indian in the Cupboard', 'Savages', 'Cellular', 'Johnny English', 'The Ant Bully', 'Dune', 'Across the Universe', 'Revolutionary Road', '16 Blocks', 'Babylon A.D.', 'The Glimmer Man', 'Multiplicity', 'Aliens in the Attic', 'The Pledge', 'The Producers', 'The Phantom', 'All the Pretty Horses', 'Nixon', 'The Ghost Writer', 'Deep Rising', 'Miracle at St. Anna', 'Curse of the Golden Flower', 'Bangkok Dangerous', 'Big Trouble', 'Love in the Time of Cholera', 'Shadow Conspiracy', 'Johnny English Reborn', 'Foodfight!', 'Argo', 'The Fugitive', 'The Bounty Hunter', 'Sleepers', 'Rambo: First Blood Part II', 'The Juror', 'Pinocchio', \"Heaven's Gate\", 'Underworld: Evolution', 'Victor Frankenstein', 'Finding Forrester', '28 Days', 'Unleashed', 'The Sweetest Thing', 'The Firm', 'Charlie St. Cloud', 'The Mechanic', '21 Jump Street', 'Notting Hill', 'Chicken Run', 'Along Came Polly', 'Boomerang', 'The Heat', 'Cleopatra', 'Here Comes the Boom', 'High Crimes', 'The Mirror Has Two Faces', 'The Mothman Prophecies', 'Brüno', 'Licence to Kill', 'Red Riding Hood', '15 Minutes', 'Super Mario Bros.', 'Lord of War', 'Hero', 'One for the Money', 'The Interview', \"The Warrior's Way\", 'Micmacs', '8 Mile', 'Why I Did (Not) Eat My Father', \"A Knight's Tale\", 'The Medallion', 'The Sixth Sense', 'Man on a Ledge', 'The Big Year', 'The Karate Kid', 'American Hustle', 'The Proposal', 'Double Jeopardy', 'Back to the Future Part II', 'Lucy', 'Fifty Shades of Grey', 'Spy Kids 3-D: Game Over', 'A Time to Kill', 'Cheaper by the Dozen', 'Lone Survivor', 'A League of Their Own', 'The Conjuring 2', 'The Social Network', \"He's Just Not That Into You\", 'Scary Movie 4', 'Scream 3', 'Back to the Future Part III', 'Get Hard', 'Dracula', 'Julie & Julia', '42', 'The Talented Mr. Ripley', 'Dumb and Dumber To', 'Eight Below', 'The Intern', 'Ride Along 2', 'The Last of the Mohicans', 'Ray', 'Sin City', 'Vantage Point', 'I Love You, Man', 'Shallow Hal', 'JFK', \"Big Momma's House 2\", 'The Mexican', '17 Again', 'The Other Woman', 'The Final Destination', 'Bridge of Spies', 'Behind Enemy Lines', 'Get Him to the Greek', 'Shall We Dance?', 'Small Soldiers', 'Spawn', 'The Count of Monte Cristo', 'The Lincoln Lawyer', 'Unknown', 'The Prestige', 'Horrible Bosses 2', 'Escape from Planet Earth', 'Apocalypto', 'The Living Daylights', 'Predators', 'Legal Eagles', 'Secret Window', 'The Lake House', 'The Skeleton Key', 'The Odd Life of Timothy Green', 'Made of Honor', 'Jersey Boys', 'The Rainmaker', 'Gothika', 'Amistad', 'Medicine Man', 'Aliens vs Predator: Requiem', 'Ri¢hie Ri¢h', 'Autumn in New York', 'Music and Lyrics', 'Paul', 'The Guilt Trip', 'Scream 4', '8MM', 'The Doors', 'Sex Tape', 'Hanging Up', 'Final Destination 5', 'Mickey Blue Eyes', 'Pay It Forward', 'Fever Pitch', 'Drillbit Taylor', 'A Million Ways to Die in the West', 'The Shadow', 'Extremely Loud & Incredibly Close', 'Morning Glory', \"Get Rich or Die Tryin'\", 'The Art of War', 'Rent', 'Bless the Child', 'The Out-of-Towners', 'The Island of Dr. Moreau', 'The Musketeer', 'The Other Boleyn Girl', 'Sweet November', 'The Reaping', 'Mean Streets', 'Renaissance Man', 'Colombiana', 'Quest for Camelot', 'City By The Sea', 'At First Sight', 'Torque', 'City Hall', 'Showgirls', 'Marie Antoinette', 'Kiss of Death', 'Get Carter', 'The Impossible', 'Ishtar', 'Fantastic Mr. Fox', 'Life or Something Like It', 'Memoirs of an Invisible Man', 'Amélie', 'New York Minute', 'Alfie', 'Big Miracle', 'The Deep End of the Ocean', 'FearDotCom', \"Cirque du Freak: The Vampire's Assistant\", 'Duplex', 'Soul Men', 'Raise the Titanic', 'Universal Soldier: The Return', 'Pandorum', 'Impostor', 'Extreme Ops', 'Just Visiting', 'Sunshine', 'A Thousand Words', 'Delgo', 'The Gunman', 'Stormbreaker', 'Disturbia', 'Hackers', 'The Hunting Party', 'The Hudsucker Proxy', 'The Warlords', 'Nomad: The Warrior', 'Snowpiercer', 'A Monster in Paris', 'The Last Shot', 'The Crow', 'Baahubali: The Beginning', \"The Time Traveler's Wife\", 'Because I Said So', 'Frankenweenie', 'Serenity', 'Against the Ropes', 'Superman III', 'Grudge Match', 'Red Cliff', 'Sweet Home Alabama', 'The Ugly Truth', 'Sgt. Bilko', 'Spy Kids 2: The Island of Lost Dreams', 'Star Trek: Generations', 'The Grandmaster', 'Water for Elephants', \"Dragon Nest: Warriors' Dawn\", 'The Hurricane', 'Enough', 'Heartbreakers', 'Paul Blart: Mall Cop 2', 'Angel Eyes', 'Joe Somebody', 'The Ninth Gate', 'Extreme Measures', 'Rock Star', 'Precious', 'White Squall', 'The Thing', 'Riddick', 'Switchback', 'Texas Rangers', 'City of Ember', 'The Master', 'Virgin Territory', 'The Express', 'The 5th Wave', 'Creed', 'The Town', \"What to Expect When You're Expecting\", 'Burn After Reading', \"Nim's Island\", 'Rush', 'Magnolia', 'Cop Out', 'How to Be Single', 'Dolphin Tale', 'Twilight', 'John Q', 'Blue Streak', \"We're the Millers\", 'The Inhabited Island', 'Breakdown', 'Never Say Never Again', 'Hot Tub Time Machine', 'Dolphin Tale 2', 'Reindeer Games', 'A Man Apart', 'Aloha', 'Ghosts of Mississippi', 'Snow Falling on Cedars', 'The Rite', 'Gattaca', \"Isn't She Great\", 'Space Chimps', 'Head of State', 'The Hangover', 'Ip Man 3', 'Austin Powers: The Spy Who Shagged Me', 'Batman', 'There Be Dragons', 'Lethal Weapon 3', 'The Blind Side', 'Spy Kids', 'Horrible Bosses', 'True Grit', 'The Devil Wears Prada', 'Star Trek: The Motion Picture', 'Identity Thief', 'Cape Fear', '21', 'Trainwreck', 'Guess Who', 'The English Patient', 'L.A. Confidential', 'Sky High', 'In & Out', 'Species', 'A Nightmare on Elm Street', 'The Cell', 'The Man in the Iron Mask', 'Secretariat', 'TMNT', 'Radio', 'Friends with Benefits', 'Neighbors 2: Sorority Rising', 'Saving Mr. Banks', 'Malcolm X', 'This Is 40', 'Old Dogs', 'Underworld: Rise of the Lycans', 'License to Wed', 'The Benchwarmers', 'Must Love Dogs', 'Donnie Brasco', 'Resident Evil', 'Poltergeist', 'The Ladykillers', 'Max Payne', 'In Time', 'The Back-Up Plan', 'Something Borrowed', 'Black Knight', 'The Bad News Bears', 'Street Fighter', 'The Pianist', 'The Nativity Story', 'House of Wax', 'Closer', 'J. Edgar', 'Mirrors', 'Queen of the Damned', 'Predator 2', 'Untraceable', 'Blast from the Past', 'Flash Gordon', 'Jersey Girl', 'Alex Cross', 'Midnight in the Garden of Good and Evil', 'Heist', 'Nanny McPhee and the Big Bang', 'Hoffa', 'The X Files: I Want to Believe', 'Ella Enchanted', 'Concussion', 'Abduction', 'Valiant', 'Wonder Boys', 'Superhero Movie', 'Broken City', 'Cursed', 'Premium Rush', 'Hot Pursuit', 'The Four Feathers', 'Parker', 'Wimbledon', 'Furry Vengeance', 'Bait', 'Krull', 'Lions for Lambs', 'Flight of the Intruder', 'Walk Hard: The Dewey Cox Story', 'The Shipping News', 'American Outlaws', 'The Young Victoria', 'Whiteout', 'The Tree of Life', 'Knock Off', 'Sabotage', 'The Order', 'Punisher: War Zone', 'Zoom', 'The Walk', 'Warriors of Virtue', 'A Good Year', 'Radio Flyer', 'Bound by Honor', \"Smilla's Sense of Snow\", 'Femme Fatale', 'Lion of the Desert', 'The Horseman on the Roof', 'Ride with the Devil', 'Biutiful', 'Bandidas', 'Black Water Transit', 'The Maze Runner', 'Unfinished Business', 'The Age of Innocence', 'The Fountain', 'Chill Factor', 'Stolen', 'Ponyo', 'The Longest Ride', \"The Astronaut's Wife\", 'I Dreamed of Africa', 'Playing for Keeps', 'Mandela: Long Walk to Freedom', 'Reds', 'A Few Good Men', 'Exit Wounds', \"Big Momma's House\", 'Thunder and the House of Magic', 'The Darkest Hour', 'Step Up Revolution', 'Snakes on a Plane', 'The Watcher', 'The Punisher', 'Goal!: The Dream Begins', 'Safe', 'Pushing Tin', 'Return of the Jedi', 'Doomsday', 'The Reader', 'Wanderlust', 'Elf', 'Phenomenon', 'Snow Dogs', 'Scrooged', 'Nacho Libre', 'Bridesmaids', 'This Is the End', 'Stigmata', 'Men of Honor', 'Takers', 'The Big Wedding', 'Big Mommas: Like Father, Like Son', 'Source Code', 'Alive', 'The Number 23', 'The Young and Prodigious T.S. Spivet', '1941', 'Dreamer: Inspired By a True Story', 'A History of Violence', 'Transporter 2', 'The Quick and the Dead', 'Laws of Attraction', 'Bringing Out the Dead', 'Repo Men', 'Dragon Wars: D-War', 'Bogus', 'The Incredible Burt Wonderstone', \"Cats Don't Dance\", 'Cradle Will Rock', 'The Good German', 'George and the Dragon', 'Apocalypse Now', 'Going the Distance', \"Mr. Holland's Opus\", 'Criminal', 'Out of Africa', 'Flight', 'Moonraker', 'The Grand Budapest Hotel', 'Hearts in Atlantis', 'Arachnophobia', 'Frequency', 'Vacation', 'Get Shorty', 'Chicago', 'Big Daddy', 'American Pie 2', 'Toy Story', 'Speed', 'The Vow', 'Extraordinary Measures', 'Remember the Titans', 'The Hunt for Red October', 'The Butler', 'DodgeBall: A True Underdog Story', 'The Addams Family', 'Ace Ventura: When Nature Calls', 'The Princess Diaries', 'The First Wives Club', 'Se7en', 'District 9', 'The SpongeBob SquarePants Movie', 'Mystic River', 'Million Dollar Baby', 'Analyze This', 'The Notebook', '27 Dresses', 'Hannah Montana: The Movie', 'Rugrats in Paris: The Movie', 'The Prince of Tides', 'Legends of the Fall', 'Up in the Air', 'About Schmidt', 'Warm Bodies', 'Looper', 'Down to Earth', 'Babe', 'Hope Springs', 'Forgetting Sarah Marshall', 'Four Brothers', 'Baby Mama', 'Hope Floats', 'Bride Wars', 'Without a Paddle', '13 Going on 30', 'Midnight in Paris', 'The Nut Job', 'Blow', 'Message in a Bottle', 'Star Trek V: The Final Frontier', 'Like Mike', 'The Naked Gun 33⅓: The Final Insult', 'A View to a Kill', 'The Curse of the Were-Rabbit', 'P.S. I Love You', 'Racing Stripes', 'Atonement', 'Letters to Juliet', 'Black Rain', 'The Three Stooges', 'Corpse Bride', 'Glory Road', 'Sicario', 'Southpaw', 'Drag Me to Hell', 'The Age of Adaline', 'Secondhand Lions', 'Step Up 3D', 'Blue Crush', 'Stranger Than Fiction', '30 Days of Night', 'The Cabin in the Woods', 'Meet the Spartans', 'Midnight Run', 'The Running Man', 'Little Shop of Horrors', 'Hanna', 'Mortal Kombat: Annihilation', 'Larry Crowne', 'Carrie', 'Take the Lead', 'Gridiron Gang', \"What's the Worst That Could Happen?\", '9', 'Side Effects', 'The Prince & Me', 'Winnie the Pooh', 'Dumb and Dumberer: When Harry Met Lloyd', 'Bulworth', 'Get on Up', 'One True Thing', 'Virtuosity', 'My Super Ex-Girlfriend', 'Deliver Us from Evil', 'Sanctum', 'Little Black Book', 'The Five-Year Engagement', 'Mr. 3000', 'The Next Three Days', 'Ultraviolet', 'Assault on Precinct 13', 'The Replacement Killers', 'Fled', 'Eight Legged Freaks', 'Love & Other Drugs', '88 Minutes', 'North Country', 'The Whole Ten Yards', 'Splice', 'Howard the Duck', 'Pride and Glory', 'The Cave', 'Alex & Emma', 'Wicker Park', 'Fright Night', 'The New World', 'Wing Commander', 'In Dreams', 'Dragonball Evolution', 'The Last Stand', 'Godsend', 'Chasing Liberty', 'Hoodwinked Too! Hood VS. Evil', 'An Unfinished Life', 'The Imaginarium of Doctor Parnassus', \"Barney's Version\", 'Runner Runner', 'Antitrust', 'Glory', 'Once Upon a Time in America', 'Dead Man Down', 'The Merchant of Venice', 'The Good Thief', 'Supercross', 'Miss Potter', 'The Promise', 'DOA: Dead or Alive', 'The Assassination of Jesse James by the Coward Robert Ford', '1911', 'Little Nicholas', 'Wild Card', 'Machine Gun Preacher', 'Animals United', 'Goodbye Bafana', 'United Passions', 'Grace of Monaco', 'Savva. Heart of the Warrior', \"Ripley's Game\", 'Sausage Party', 'Pitch Perfect 2', 'Walk the Line', 'Keeping the Faith', 'The Borrowers', 'Frost/Nixon', 'Confessions of a Dangerous Mind', 'Serving Sara', 'The Boss', 'Cry Freedom', 'Mumford', 'Seed of Chucky', 'The Jacket', 'Aladdin', 'Straight Outta Compton', 'Indiana Jones and the Temple of Doom', 'The Rugrats Movie', 'Along Came a Spider', 'Florence Foster Jenkins', 'Once Upon a Time in Mexico', 'Die Hard', 'Role Models', 'The Big Short', 'Taking Woodstock', 'Miracle', 'Dawn of the Dead', 'The Wedding Planner', 'Space Pirate Captain Harlock', 'The Royal Tenenbaums', 'Identity', 'Last Vegas', 'For Your Eyes Only', 'Serendipity', 'Timecop', 'Zoolander', 'Safe Haven', 'Hocus Pocus', 'No Reservations', 'Kick-Ass', '30 Minutes or Less', 'Dracula 2000', 'Alexander and the Terrible, Horrible, No Good, Very Bad Day', 'Pride & Prejudice', 'Blade Runner', 'Rob Roy', '3 Days to Kill', 'We Own the Night', 'Lost Souls', 'Winged Migration', 'Just My Luck', 'Mystery, Alaska', 'The Spy Next Door', 'A Simple Wish', 'Ghosts of Mars', 'Our Brand Is Crisis', 'Pride and Prejudice and Zombies', 'Kundun', 'How to Lose Friends & Alienate People', 'Kick-Ass 2', 'Alatriste', 'Brick Mansions', 'Octopussy', 'Knocked Up', \"My Sister's Keeper\", 'Welcome Home Roscoe Jenkins', 'A Passage to India', 'Notes on a Scandal', 'Rendition', 'Star Trek VI: The Undiscovered Country', 'Divine Secrets of the Ya-Ya Sisterhood', 'Kiss the Girls', 'The Blues Brothers', 'The Sisterhood of the Traveling Pants 2', 'Joyful Noise', 'About a Boy', 'Lake Placid', 'Lucky Number Slevin', 'The Right Stuff', 'Anonymous', 'The NeverEnding Story', 'Dark City', 'The Duchess', 'Return to Oz', 'The Newton Boys', 'Case 39', 'Suspect Zero', 'Martian Child', 'Spy Kids: All the Time in the World', 'Money Monster', 'The 51st State', 'Flawless', 'Mindhunters', 'What Just Happened', 'The Statement', 'The Magic Flute', 'Paul Blart: Mall Cop', 'Freaky Friday', 'The 40 Year Old Virgin', 'Shakespeare in Love', 'A Walk Among the Tombstones', 'Kindergarten Cop', 'Pineapple Express', 'Ever After: A Cinderella Story', 'Open Range', 'Flatliners', 'A Bridge Too Far', 'Red Eye', 'Final Destination 2', 'O Brother, Where Art Thou?', 'Legion', 'Pain & Gain', 'In Good Company', 'Clockstoppers', 'Silverado', 'Brothers', 'Agent Cody Banks 2: Destination London', \"New Year's Eve\", 'Original Sin', 'The Raven', 'Welcome to Mooseport', 'Highlander: The Final Dimension', 'Blood and Wine', 'Snow White: A Tale of Terror', 'The Curse of the Jade Scorpion', 'Accidental Love', 'Flipper', 'Self/less', 'The Constant Gardener', 'The Passion of the Christ', 'Mrs. Doubtfire', 'Rain Man', 'Gran Torino', 'W.', 'Taken', 'The Best of Me', 'The Bodyguard', \"Schindler's List\", 'The Help', 'The Fifth Estate', 'Scooby-Doo 2: Monsters Unleashed', 'Forbidden Kingdom', 'Freddy vs. Jason', 'The Face of an Angel', 'Jimmy Neutron: Boy Genius', 'Cloverfield', 'Teenage Mutant Ninja Turtles II: The Secret of the Ooze', 'The Untouchables', 'No Country for Old Men', 'Ride Along', \"Bridget Jones's Diary\", 'Chocolat', 'Legally Blonde 2: Red, White & Blonde', 'Parental Guidance', 'No Strings Attached', 'Tombstone', 'Romeo Must Die', 'The Omen', 'Final Destination 3', 'The Lucky One', 'Bridge to Terabithia', 'Finding Neverland', 'A Madea Christmas', 'The Grey', 'Hide and Seek', 'Anchorman: The Legend of Ron Burgundy', 'GoodFellas', 'Agent Cody Banks', 'Nanny McPhee', 'Scarface', 'Nothing to Lose', 'The Last Emperor', 'Contraband', 'Money Talks', 'There Will Be Blood', 'The Wild Thornberrys Movie', 'Rugrats Go Wild', 'Undercover Brother', 'The Sisterhood of the Traveling Pants', 'Kiss of the Dragon', 'The House Bunny', 'Beauty Shop', 'Million Dollar Arm', 'The Giver', 'What a Girl Wants', 'Jeepers Creepers 2', 'Good Luck Chuck', 'Cradle 2 the Grave', 'The Hours', \"She's the Man\", \"Mr. Bean's Holiday\", 'Anacondas: The Hunt for the Blood Orchid', 'Blood Ties', 'August Rush', 'Elizabeth', 'Bride of Chucky', 'Tora! Tora! Tora!', 'Spice World', 'The Sitter', 'Dance Flick', 'The Shawshank Redemption', 'Crocodile Dundee in Los Angeles', 'Kingpin', 'The Gambler', 'August: Osage County', 'Ice Princess', 'A Lot Like Love', 'Eddie the Eagle', 'He Got Game', 'Don Juan DeMarco', 'Dear John', 'The Losers', \"Don't Be Afraid of the Dark\", 'War', 'Punch-Drunk Love', 'EuroTrip', 'Half Past Dead', 'Unaccompanied Minors', 'Bright Lights, Big City', 'The Adventures of Pinocchio', 'The Greatest Game Ever Played', 'The Box', 'The Ruins', 'The Next Best Thing', 'My Soul to Take', 'The Girl Next Door', 'Maximum Risk', 'Stealing Harvard', 'Legend', 'Hot Rod', 'Shark Night', \"Angela's Ashes\", 'Draft Day', 'Lifeforce', 'The Conspirator', 'Lords of Dogtown', 'The 33', 'Big Trouble in Little China', 'Fly Me to the Moon', 'Warrior', 'Michael Collins', 'Gettysburg', 'Stop-Loss', 'Abandon', 'Brokedown Palace', 'The Possession', 'Mrs. Winterbourne', 'Straw Dogs', 'The Hoax', 'Stone Cold', 'The Road', 'Sheena', 'Underclassman', \"Say It Isn't So\", \"The World's Fastest Indian\", 'Tank Girl', \"King's Ransom\", 'Blindness', 'BloodRayne', 'Carnage', 'Where the Truth Lies', 'Cirque du Soleil: Worlds Away', 'Without Limits', 'Me and Orson Welles', 'The Best Offer', 'The Bad Lieutenant: Port of Call - New Orleans', \"A Turtle's Tale: Sammy's Adventures\", 'Little White Lies', 'Love Ranch', \"The True Story of Puss 'n Boots\", 'Space Dogs', 'The Counselor', 'Ironclad', 'Waterloo', 'Kung Fu Jungle', 'Red Sky', 'Dangerous Liaisons', 'On the Road', 'Star Trek IV: The Voyage Home', 'Rocky Balboa', 'Scream 2', 'Jane Got a Gun', 'Think Like a Man Too', 'The Whole Nine Yards', 'Footloose', 'Old School', 'The Fisher King', 'I Still Know What You Did Last Summer', 'Return to Me', 'Zack and Miri Make a Porno', 'Nurse Betty', 'The Men Who Stare at Goats', 'Double Take', 'Girl, Interrupted', 'Win a Date with Tad Hamilton!', 'Muppets from Space', 'The Wiz', 'Ready to Rumble', 'Play It to the Bone', \"I Don't Know How She Does It\", 'Piranha 3D', 'Beyond the Sea', 'Meet the Deedles', 'The Thief and the Cobbler', 'The Bridge of San Luis Rey', 'Faster', \"Howl's Moving Castle\", 'Zombieland', 'The Waterboy', 'The Empire Strikes Back', 'Bad Boys', 'The Naked Gun 2½: The Smell of Fear', 'Final Destination', 'The Ides of March', 'Pitch Black', 'Someone Like You...', 'Her', 'Joy Ride', 'The Adventurer: The Curse of the Midas Box', 'Anywhere But Here', 'The Crew', 'Haywire', 'Jaws: The Revenge', \"Marvin's Room\", 'The Longshots', 'The End of the Affair', 'Harley Davidson and the Marlboro Man', 'In the Valley of Elah', 'Coco Before Chanel', 'Forsaken', 'Cheri', 'Vanity Fair', 'Bodyguards and Assassins', '1408', 'Spaceballs', 'The Water Diviner', 'Ghost', \"There's Something About Mary\", 'The Santa Clause', 'The Rookie', 'The Game Plan', 'The Bridges of Madison County', 'The Animal', 'Gandhi', 'The Hundred-Foot Journey', 'The Net', 'I Am Sam', 'Son of God', 'Underworld', 'Derailed', 'The Informant!', 'Shadowlands', 'Deuce Bigalow: European Gigolo', 'Delivery Man', 'Our Kind of Traitor', 'Saving Silverman', 'Diary of a Wimpy Kid: Dog Days', 'Summer of Sam', 'Jay and Silent Bob Strike Back', 'The Glass House', 'Hail, Caesar!', 'Josie and the Pussycats', 'Homefront', 'The Little Vampire', 'I Heart Huckabees', 'RoboCop 3', 'Megiddo: The Omega Code 2', 'Darling Lili', 'Dudley Do-Right', 'The Transporter Refueled', 'The Libertine', 'Black Book', 'Joyeux Noël', 'Hit & Run', 'Mad Money', 'Before I Go to Sleep', 'Sorcerer', 'Stone', 'Moliere', 'Out of the Furnace', 'Michael Clayton', 'My Fellow Americans', 'Arlington Road', 'Underdogs', 'To Rome with Love', 'Firefox', 'South Park: Bigger, Longer & Uncut', 'Death at a Funeral', 'Teenage Mutant Ninja Turtles III', 'Hardball', 'Silver Linings Playbook', 'Freedom Writers', 'For Colored Girls', 'The Transporter', 'Never Back Down', 'The Rage: Carrie 2', 'Away We Go', 'Swing Vote', 'Moonlight Mile', 'Tinker Tailor Soldier Spy', 'Molly', 'The Beaver', 'The Best Little Whorehouse in Texas', 'eXistenZ', 'Raiders of the Lost Ark', 'Home Alone 2: Lost in New York', 'Close Encounters of the Third Kind', 'Pulse', 'Beverly Hills Cop II', 'Bringing Down the House', 'The Silence of the Lambs', \"Wayne's World\", 'Jackass 3D', 'Jaws 2', 'Beverly Hills Chihuahua', 'The Conjuring', 'Are We There Yet?', 'Tammy', 'School of Rock', 'Mortal Kombat', 'White Chicks', 'The Descendants', 'Holes', 'The Last Song', '12 Years a Slave', 'Drumline', 'Why Did I Get Married Too?', 'Edward Scissorhands', 'Me Before You', \"Madea's Witness Protection\", 'The French Connection', 'Bad Moms', 'Date Movie', 'Return to Never Land', 'Selma', 'The Jungle Book 2', 'Boogeyman', 'Premonition', 'The Tigger Movie', 'Orphan', 'Max', 'Epic Movie', 'Spotlight', 'Lakeview Terrace', 'The Grudge 2', 'How Stella Got Her Groove Back', \"Bill & Ted's Bogus Journey\", 'Man of the Year', 'The Black Hole', 'The American', 'Selena', 'Vampires Suck', 'Babel', 'This Is Where I Leave You', 'Doubt', 'Team America: World Police', 'Texas Chainsaw 3D', 'Copycat', 'Scary Movie 5', 'Paint Your Wagon', 'Milk', 'Risen', 'Ghost Ship', 'A Very Harold & Kumar Christmas', 'Wild Things', 'The Stepfather', 'The Debt', 'High Fidelity', 'One Missed Call', 'Eye for an Eye', 'The Bank Job', 'Eternal Sunshine of the Spotless Mind', 'You Again', 'Street Kings', \"The World's End\", 'Nancy Drew', 'Daybreakers', \"She's Out of My League\", 'Monte Carlo', 'Stay Alive', 'Quigley Down Under', 'Alpha and Omega', 'The Covenant', 'Stick It', 'Shorts', 'To Die For', 'Nerve', 'Appaloosa', 'Vampires', 'Psycho', \"My Best Friend's Girl\", 'Endless Love', 'Georgia Rule', 'Under the Rainbow', 'Ladyhawke', 'Simon Birch', 'Reign Over Me', 'Into the Wild', 'School for Scoundrels', 'Silent Hill: Revelation 3D', 'From Dusk Till Dawn', \"Pooh's Heffalump Movie\", 'Home for the Holidays', 'Kung Fu Hustle', 'The Country Bears', 'The Kite Runner', '21 Grams', 'Paparazzi', 'A Guy Thing', 'Loser', 'Capitalism: A Love Story', 'The Greatest Story Ever Told', 'Secret in Their Eyes', 'Disaster Movie', 'Armored', 'The Man Who Knew Too Little', \"What's Your Number?\", 'Lockout', 'Envy', 'Crank: High Voltage', 'Bullets Over Broadway', 'One Night with the King', 'The Quiet American', 'The Weather Man', 'Undisputed', 'Ghost Town', '12 Rounds', 'Let Me In', '3 Ninjas Kick Back', 'Be Kind Rewind', 'Mrs Henderson Presents', 'Triple 9', 'Deconstructing Harry', 'Three to Tango', 'Burnt', \"We're No Angels\", 'Everyone Says I Love You', 'Death Sentence', \"Everybody's Fine\", 'Superbabies: Baby Geniuses 2', 'The Man', 'Code Name: The Cleaner', 'Connie and Carla', 'Sweet Charity', 'Inherent Vice', 'Doogal', 'Battle of the Year', 'An American Carol', 'Machete Kills', 'Willard', 'Strange Wilderness', 'Topsy-Turvy', 'Little Boy', 'A Dangerous Method', 'A Scanner Darkly', 'Chasing Mavericks', 'Alone in the Dark', 'Bandslam', 'Birth', 'A Most Violent Year', 'Passchendaele', 'Flash of Genius', \"I'm Not There.\", 'The Cold Light of Day', 'The Brothers Bloom', 'Synecdoche, New York', 'Princess Mononoke', 'Bon voyage', \"Can't Stop the Music\", 'The Proposition', 'My All American', 'Marci X', 'Equilibrium', 'The Children of Huang Shi', 'The Yards', 'The Oogieloves in the Big Balloon Adventure', 'By the Sea', 'Steamboy', 'The Game of Their Lives', 'All Good Things', 'Rapa Nui', 'CJ7', 'The Visitors II: The Corridors of Time', 'Dylan Dog: Dead of Night', 'People I Know', 'The Tempest', 'Regression', 'Three Kingdoms: Resurrection of the Dragon', 'Butterfly on a Wheel', 'Zambezia', 'Ramanujan', 'Dwegons', 'Hands of Stone', 'Survivor', 'The Frozen Ground', 'The Painted Veil', 'The Baader Meinhof Complex', 'Dances with Wolves', 'Bad Teacher', 'Sea of Love', 'A Cinderella Story', 'Scream', 'Thir13en Ghosts', 'The Shining', 'Back to the Future', 'House on Haunted Hill', 'I Can Do Bad All By Myself', 'Fight Valley', 'The Switch', 'Just Married', \"The Devil's Double\", 'Thomas and the Magic Railroad', 'The Crazies', 'Spirited Away', 'Firestorm', 'The Bounty', 'The Book Thief', 'Sex Drive', 'Leap Year', 'The Fall of the Roman Empire', 'Take Me Home Tonight', \"Won't Back Down\", 'The Nutcracker', 'Kansas City', 'Indignation', 'The Amityville Horror', 'Adaptation.', 'Land of the Dead', 'Out of Inferno', 'Fear and Loathing in Las Vegas', 'The Invention of Lying', 'Neighbors', 'The Mask', 'Big', 'Borat: Cultural Learnings of America for Make Benefit Glorious Nation of Kazakhstan', 'Legally Blonde', 'Star Trek III: The Search for Spock', 'The Exorcism of Emily Rose', 'Deuce Bigalow: Male Gigolo', 'Left Behind', 'The Family Stone', 'Barbershop 2:  Back in Business', 'Bad Santa', 'Austin Powers: International Man of Mystery', 'My Big Fat Greek Wedding 2', 'Diary of a Wimpy Kid: Rodrick Rules', 'Predator', 'Amadeus', 'Prom Night', 'Mean Girls', 'Under the Tuscan Sun', 'Gosford Park', 'Peggy Sue Got Married', 'Birdman', 'Blue Jasmine', 'United 93', 'Honey', 'Spy Hard', 'The Fog', 'Soul Surfer', 'Catch-22', 'Observe and Report', 'Conan the Destroyer', 'Raging Bull', 'Love Happens', 'Young Sherlock Holmes', 'Fame', '127 Hours', 'Small Time Crooks', 'Center Stage', 'Love the Coopers', 'Catch That Kid', 'Life as a House', 'Steve Jobs', 'I Love You, Beth Cooper', 'Youth in Revolt', 'The Legend of the Lone Ranger', 'The Tailor of Panama', 'Blow Out', 'Getaway', 'The Ice Storm', 'And So It Goes', 'Troop Beverly Hills', 'Being Julia', 'Nine 1/2 Weeks', 'Dragonslayer', 'The Last Station', 'Ed Wood', 'Labor Day', 'Mongol: The Rise of Genghis Khan', 'RockNRolla', 'Megaforce', 'Hamlet', \"Mao's Last Dancer\", 'Midnight Special', 'Anything Else', 'The Railway Man', 'The White Ribbon', 'Restoration', 'The Wraith', 'Salton Sea', 'Metallica: Through the Never', 'The Informers', 'Carlos', 'I Come with the Rain', \"One Man's Hero\", 'Day of the Dead', 'I Am Wrath', 'Renaissance', 'Red Sonja', 'Red Lights', 'Superbad', 'Madea Goes to Jail', 'Wolves', 'Step Up 2: The Streets', 'Hoodwinked!', 'Hotel Rwanda', 'Hitman', 'Black Nativity', 'The Prince', 'City of Ghosts', 'The Others', 'Aliens', 'My Fair Lady', 'I Know What You Did Last Summer', \"Let's Be Cops\", 'Sideways', 'Beerfest', 'Halloween', 'Good Boy!', 'The Best Man Holiday', \"Smokin' Aces\", 'Saw: The Final Chapter', '40 Days and 40 Nights', 'A Night at the Roxbury', 'Beastly', 'The Hills Have Eyes', 'Dickie Roberts: Former Child Star', 'McFarland, USA', 'Lottery Ticket', 'ATL', 'Pitch Perfect', 'Summer Catch', 'A Simple Plan', 'They', 'Larry the Cable Guy: Health Inspector', 'The Adventures of Elmo in Grouchland', \"Brooklyn's Finest\", '55 Days at Peking', 'Evil Dead', 'My Life in Ruins', 'American Dreamz', 'Superman IV: The Quest for Peace', 'How She Move', 'Running Scared', 'Bobby Jones: Stroke of Genius', 'Shanghai Surprise', 'The Illusionist', 'Roar', 'Veronica Guerin', 'Escobar: Paradise Lost', 'Southland Tales', 'Dragon Hunters', 'Damnation Alley', 'The Apparition', 'My Girl', 'Fur: An Imaginary Portrait of Diane Arbus', 'Wall Street', 'Sense and Sensibility', 'Becoming Jane', 'Sydney White', 'House of Sand and Fog', 'Dead Poets Society', 'Dumb and Dumber', 'When Harry Met Sally...', 'The Verdict', 'Road Trip', 'Varsity Blues', 'The Artist', 'The Unborn', 'Moonrise Kingdom', 'The Texas Chainsaw Massacre: The Beginning', 'The Young Messiah', 'The Master of Disguise', \"Pan's Labyrinth\", 'See Spot Run', 'Baby Boy', 'The Roommate', 'Joe Dirt', 'Double Impact', 'Hot Fuzz', 'The Women', 'Vicky Cristina Barcelona', 'Arn: The Knight Templar', 'Boys and Girls', 'White Oleander', \"Jennifer's Body\", 'Drowning Mona', 'Radio Days', 'Remember Me', 'How to Deal', 'My Stepmother is an Alien', 'Philadelphia', 'The Thirteenth Floor', 'The Cookout', 'Meteor', 'Duets', 'Hollywood Ending', 'Detroit Rock City', 'Highlander', 'Things We Lost in the Fire', 'Steel', 'The Immigrant', 'The White Countess', 'Trance', 'Soul Plane', 'Welcome to the Sticks', 'Good', 'Enter the Void', 'Vamps', \"Hachi: A Dog's Tale\", 'Zulu', 'The Homesman', 'Juwanna Mann', 'Ararat', 'Madison', 'Slow Burn', 'Wasabi', 'Slither', 'Beverly Hills Cop', 'Home Alone', 'Three Men and a Baby', 'Tootsie', 'Top Gun', 'Crouching Tiger, Hidden Dragon', 'American Beauty', \"The King's Speech\", 'Twins', 'The Yellow Handkerchief', 'The Color Purple', 'Tidal Wave', 'The Imitation Game', 'Private Benjamin', \"Coal Miner's Daughter\", 'Diary of a Wimpy Kid', 'Mama', \"National Lampoon's Vacation\", 'Bad Grandpa', 'The Queen', 'Beetlejuice', 'Why Did I Get Married?', 'Little Women', 'The Woman in Black', 'When a Stranger Calls', 'Big Fat Liar', 'The Deer Hunter', 'Wag the Dog', 'The Lizzie McGuire Movie', 'Snitch', 'Krampus', 'The Faculty', \"What's Love Got to Do with It\", 'Cop Land', 'Not Another Teen Movie', 'End of Watch', 'The Skulls', 'The Theory of Everything', \"Malibu's Most Wanted\", 'Where the Heart Is', 'Lawrence of Arabia', 'Halloween II', 'Wild', 'The Last House on the Left', 'The Wedding Date', 'Halloween: Resurrection', 'The Princess Bride', 'The Great Debaters', 'Drive', 'Confessions of a Teenage Drama Queen', 'The Object of My Affection', '28 Weeks Later', 'When the Game Stands Tall', 'Because of Winn-Dixie', 'Love & Basketball', 'Grosse Pointe Blank', 'All About Steve', 'Book of Shadows: Blair Witch 2', 'The Craft', 'Match Point', 'Ramona and Beezus', 'The Remains of the Day', 'Boogie Nights', 'Nowhere to Run', 'Flicka', 'The Hills Have Eyes 2', 'Urban Legends: Final Cut', 'Tuck Everlasting', 'The Marine', 'Keanu', 'Country Strong', 'Disturbing Behavior', 'The Place Beyond the Pines', 'The November Man', 'Eye of the Beholder', 'The Hurt Locker', 'Firestarter', 'Killing Them Softly', 'A Most Wanted Man', 'Freddy Got Fingered', \"VeggieTales: The Pirates Who Don't Do Anything\", 'U2 3D', 'Highlander: Endgame', 'Idlewild', 'One Day', 'Whip It', 'Knockaround Guys', 'Confidence', 'The Muse', 'De-Lovely', 'New York Stories', \"Barney's Great Adventure\", 'The Man with the Iron Fists', 'Home Fries', 'Here On Earth', 'Brazil', 'Raise Your Voice', 'The Big Lebowski', 'Black Snake Moan', 'Dark Blue', 'A Mighty Heart', 'Whatever It Takes', 'Boat Trip', 'The Importance of Being Earnest', 'The Love Letter', 'Hoot', 'In Bruges', 'Peeples', 'The Rocker', 'Post Grad', 'Promised Land', 'Whatever Works', 'The In Crowd', 'The Three Burials of Melquiades Estrada', 'Jakob the Liar', 'Kiss Kiss Bang Bang', 'Idle Hands', 'Mulholland Drive', 'Blood and Chocolate', 'You Will Meet a Tall Dark Stranger', 'Never Let Me Go', 'The Company', 'Transsiberian', 'The Clan of the Cave Bear', 'Crazy in Alabama', 'Funny Games', 'Listening', \"Felicia's Journey\", 'Metropolis', 'District B13', \"Things to Do in Denver When You're Dead\", 'The Assassin', 'Buffalo Soldiers', 'The Return', 'Ong Bak 2', 'Centurion', 'Silent Trigger', 'The Midnight Meat Train', 'Winnie Mandela', 'The Son of No One', \"All The Queen's Men\", 'The Good Night', 'Bathory: Countess of Blood', 'Khumba', 'Automata', 'Dungeons & Dragons: Wrath of the Dragon God', 'Chiamatemi Francesco - Il Papa della gente', 'Shinjuku Incident', 'Pandaemonium', 'Groundhog Day', 'Magic Mike XXL', 'Romeo + Juliet', \"Sarah's Key\", 'Freedom', 'Unforgiven', 'Manderlay', 'Slumdog Millionaire', 'Fatal Attraction', 'Pretty Woman', 'Crocodile Dundee II', 'Broken Horses', 'Born on the Fourth of July', 'Cool Runnings', 'My Bloody Valentine', 'Stomp the Yard', 'The Spy Who Loved Me', 'Urban Legend', 'Good Deeds', 'White Fang', 'Superstar', 'The Iron Lady', 'Jonah: A VeggieTales Movie', 'Poetic Justice', 'All About the Benjamins', 'Vampire in Brooklyn', 'Exorcist II: The Heretic', 'An American Haunting', \"My Boss's Daughter\", 'A Perfect Getaway', 'Our Family Wedding', 'Dead Man on Campus', 'Tea with Mussolini', 'Thinner', 'New York, New York', 'Crooklyn', 'I Think I Love My Wife', 'Jason X', 'Bobby', 'Head Over Heels', 'Fun Size', 'The Diving Bell and the Butterfly', 'Little Children', 'Gossip', 'A Walk on the Moon', 'Catch a Fire', 'Soul Survivors', 'Jefferson in Paris', 'Easy Virtue', 'Caravans', 'Mr. Turner', 'Wild Grass', 'Amen.', 'Reign of Assassins', 'The Lucky Ones', 'Margaret', 'Stan Helsing', 'Flipped', 'Brokeback Mountain', 'Clueless', 'Far from Heaven', 'Hot Tub Time Machine 2', 'Quills', 'Seven Psychopaths', \"The Caveman's Valentine\", 'Downfall', 'The Sea Inside', 'Under the Skin', 'Good Morning, Vietnam', 'The Last Godfather', 'Justin Bieber: Never Say Never', 'Black Swan', 'The Godfather: Part II', 'Save the Last Dance', 'A Nightmare on Elm Street 4: The Dream Master', 'Miracles from Heaven', 'Dude, Where’s My Car?', 'Young Guns', 'St. Vincent', 'About Last Night', '10 Things I Hate About You', 'The New Guy', \"National Lampoon's Loaded Weapon 1\", 'The Shallows', 'The Butterfly Effect', 'Snow Day', 'This Christmas', 'Baby Geniuses', 'The Big Hit', 'Harriet the Spy', \"Child's Play 2\", 'No Good Deed', 'The Mist', 'Ex Machina', 'Being John Malkovich', 'Two Can Play That Game', 'Earth to Echo', 'Crazy/Beautiful', 'Letters from Iwo Jima', 'The Astronaut Farmer', 'Woo', 'Room', 'Dirty Work', 'Serial Mom', 'Dick', 'Light It Up', '54', 'Bubble Boy', 'Birthday Girl', '21 & Over', \"Paris, je t'aime\", 'Resurrecting the Champ', 'Admission', 'The Widow of Saint-Pierre', 'Chloe', 'Faithful', 'Find Me Guilty', 'The Perks of Being a Wallflower', 'Excessive Force', 'Infamous', 'The Claim', 'The Vatican Tapes', 'Attack the Block', 'In the Land of Blood and Honey', 'The Call', 'Operation Chromite', 'The Crocodile Hunter: Collision Course', 'I Love You Phillip Morris', 'Quest for Fire', 'Antwone Fisher', \"The Emperor's Club\", 'True Romance', 'Womb', 'Glengarry Glen Ross', 'The Killer Inside Me', 'Cat People', 'Sorority Row', 'The Prisoner of Zenda', 'Lars and the Real Girl', 'The Boy in the Striped Pyjamas', 'Dancer in the Dark', 'Oscar and Lucinda', 'The Funeral', 'Solitary Man', 'Machete', 'Casino Jack', 'The Land Before Time', 'Tae Guk Gi: The Brotherhood of War', 'The Perfect Game', 'The Exorcist', 'Jaws', 'American Pie', 'Ernest & Celestine', 'The Golden Child', 'Think Like a Man', 'Barbershop', 'Star Trek II: The Wrath of Khan', 'Ace Ventura: Pet Detective', 'WarGames', 'Witness', 'Act of Valor', 'Step Up', 'Beavis and Butt-Head Do America', 'Jackie Brown', 'Harold & Kumar Escape from Guantanamo Bay', 'Chronicle', 'Yentl', 'Time Bandits', 'Crossroads', 'Project X', 'Patton', 'One Hour Photo', 'Quarantine', 'The Eye', 'Johnson Family Vacation', 'How High', 'The Muppet Christmas Carol', 'Frida', 'Katy Perry: Part of Me', 'The Fault in Our Stars', 'Rounders', 'Top Five', 'Prophecy', 'Stir of Echoes', 'Philomena', 'The Upside of Anger', 'The Boys from Brazil', 'Aquamarine', 'Paper Towns', \"My Baby's Daddy\", 'Nebraska', 'Tales from the Crypt: Demon Knight', \"Max Keeble's Big Move\", 'Young Adult', 'Crank', \"Def Jam's How to Be a Player\", 'Living Out Loud', 'Just Wright', 'Rachel Getting Married', 'The Postman Always Rings Twice', 'Girl with a Pearl Earring', 'Das Boot', 'Sorority Boys', 'About Time', 'House of Flying Daggers', 'Arbitrage', 'Project Almanac', 'Cadillac Records', 'Screwed', 'Fortress', 'For Your Consideration', 'Celebrity', 'Running with Scissors', 'From Justin to Kelly', 'Girl 6', 'In the Cut', 'Two Lovers', 'Last Orders', 'The Host', 'The Pursuit of D.B. Cooper', 'Ravenous', 'Charlie Bartlett', 'The Great Beauty', 'The Dangerous Lives of Altar Boys', 'Stoker', '2046', 'Married Life', 'Duma', 'Ondine', 'Brother', 'Welcome to Collinwood', 'Critical Care', 'The Life Before Her Eyes', 'Darling Companion', 'Trade', 'Fateless', 'Breakfast of Champions', 'A Woman, a Gun and a Noodle Shop', 'Cypher', 'City of Life and Death', 'Legend of a Rabbit', 'Space Battleship Yamato', '5 Days of War', 'Triangle', '10 Days in a Madhouse', 'Heaven is for Real', 'Snatch', \"Dancin' It's On\", 'Pet Sematary', 'Madadayo', 'The Cry of the Owl', 'A Tale of Three Cities', 'Gremlins', 'Star Wars', 'Dirty Grandpa', 'Doctor Zhivago', 'Trash', 'High School Musical 3: Senior Year', 'The Fighter', 'Jackass Number Two', 'My Cousin Vinny', 'If I Stay', 'Drive Hard', 'Major League', \"St. Trinian's\", 'Phone Booth', 'A Walk to Remember', 'Dead Man Walking', 'Cruel Intentions', 'Saw VI', 'History of the World: Part I', 'The Secret Life of Bees', 'Corky Romano', 'Raising Cain', 'F.I.S.T.', 'Invaders from Mars', 'Brooklyn', 'Barry Lyndon', 'Out Cold', 'The Ladies Man', 'Quartet', 'Tomcats', 'Frailty', 'Woman in Gold', 'Kinsey', 'Army of Darkness', 'Slackers', \"What's Eating Gilbert Grape\", 'The Visual Bible: The Gospel of John', 'Vera Drake', 'The Guru', 'The Perez Family', 'Inside Llewyn Davis', 'O', 'Return to the Blue Lagoon', 'The Molly Maguires', 'Romance & Cigarettes', 'Copying Beethoven', 'Brighton Rock', 'Saw V', 'Machine Gun McCain', 'LOL', 'Jindabyne', 'Kabhi Alvida Naa Kehna', 'An Ideal Husband', 'The Last Days on Mars', 'Darkness', '2001: A Space Odyssey', 'E.T. the Extra-Terrestrial', 'In the Land of Women', 'The Blue Butterfly', 'There Goes My Baby', 'Housefull', 'September Dawn', 'For Greater Glory - The True Story of Cristiada', 'The Bélier Family', 'Good Will Hunting', 'Misconduct', 'Saw III', 'Stripes', 'Bring It On', 'The Purge: Election Year', \"She's All That\", 'Saw IV', 'White Noise', \"Madea's Family Reunion\", 'The Color of Money', 'The Longest Day', 'The Mighty Ducks', 'The Grudge', 'Happy Gilmore', 'Jeepers Creepers', \"Bill & Ted's Excellent Adventure\", 'Oliver!', 'The Best Exotic Marigold Hotel', \"Recess: School's Out\", 'Mad Max Beyond Thunderdome', 'Commando', 'The Boy', 'Devil', 'Friday After Next', 'Insidious: Chapter 3', 'The Last Dragon', 'The Lawnmower Man', \"Nick and Norah's Infinite Playlist\", 'Dogma', 'The Banger Sisters', 'Twilight Zone: The Movie', 'Road House', 'A Low Down Dirty Shame', 'Swimfan', 'Employee of the Month', \"Can't Hardly Wait\", 'The Outsiders', \"Pete's Dragon\", 'The Dead Zone', 'Sinister 2', 'Sparkle', 'Valentine', 'The Fourth Kind', 'A Prairie Home Companion', 'Sugar Hill', 'Invasion U.S.A.', 'Roll Bounce', 'Rushmore', 'Skyline', 'The Second Best Exotic Marigold Hotel', 'Kit Kittredge: An American Girl', 'The Perfect Man', \"Mo' Better Blues\", 'Kung Pow: Enter the Fist', 'Tremors', 'Wrong Turn', 'The Long Riders', 'The Corruptor', 'Mud', 'Reno 911!: Miami', 'One Direction: This Is Us', 'The Goods: Live Hard, Sell Hard', 'Hey Arnold! The Movie', 'My Week with Marilyn', 'The Matador', 'Love Jones', 'The Gift', 'End of the Spear', 'Get Over It', 'Office Space', 'Drop Dead Gorgeous', 'Big Eyes', 'Very Bad Things', 'Sleepover', 'Body Double', 'MacGruber', 'Dirty Pretty Things', 'Movie 43', 'Over Her Dead Body', 'Seeking a Friend for the End of the World', 'Cedar Rapids', 'American History X', 'The Collection', \"Teacher's Pet\", 'The Red Violin', 'The Straight Story', 'Deuces Wild', 'Bad Words', 'Run, Fatboy, Run', 'Heartbeeps', 'Black or White', 'On the Line', 'Rescue Dawn', 'Danny Collins', 'Jeff, Who Lives at Home', 'I Am Love', 'Atlas Shrugged Part II', 'Romeo Is Bleeding', 'The Limey', 'Crash', 'The House of Mirth', 'Malone', 'Peaceful Warrior', 'Bucky Larson: Born to Be a Star', 'Bamboozled', 'The Forest', 'Sphinx', \"While We're Young\", 'A Better Life', 'Spider', 'Gun Shy', 'Nicholas Nickleby', 'The Iceman', 'Krrish', 'Cecil B. Demented', 'Killer Joe', 'The Joneses', 'Owning Mahowny', 'The Brothers Solomon', 'My Blueberry Nights', 'Illuminata', 'Swept Away', 'War, Inc.', 'Shaolin Soccer', 'The Brown Bunny', 'The Swindle', 'Rosewater', 'The Chambermaid on the Titanic', 'Coriolanus', 'Imaginary Heroes', 'High Heels and Low Lifes', \"World's Greatest Dad\", 'Severance', 'Edmond', 'Welcome to the Rileys', 'Police Academy: Mission to Moscow', 'Blood Done Sign My Name', 'Cinco de Mayo: La Batalla', 'Elsa & Fred', 'An Alan Smithee Film: Burn, Hollywood, Burn', 'The Open Road', 'The Good Guy', 'Motherhood', 'Free Style', 'Strangerland', 'Janky Promoters', 'Blonde Ambition', 'The Oxford Murders', 'The Reef', 'Eulogy', 'White Noise 2: The Light', 'Beat the World', 'Fifty Dead Men Walking', 'Jungle Shuffle', 'Adam Resurrected', 'Of Horses and Men', \"It's a Wonderful Afterlife\", \"The Devil's Tomb\", 'Partition', 'Good Intentions', 'The Good, The Bad, The Weird', 'Nurse 3-D', 'Gunless', 'Adventureland', 'The Lost City', 'Next Friday', 'American Heist', 'You Only Live Twice', 'Plastic', 'Amour', 'Poltergeist III', 'Re-Kill', \"It's a Mad, Mad, Mad, Mad World\", 'Volver', 'Heavy Metal', 'Gentlemen Broncos', 'Richard III', 'Into the Grizzly Maze', 'Kites', 'Melancholia', 'Red Dog', 'Jab Tak Hai Jaan', 'Alien', 'The Texas Chain Saw Massacre', 'The Runaways', 'Fiddler on the Roof', 'Thunderball', 'Detention', 'Loose Cannons', 'Set It Off', 'The Best Man', \"Child's Play\", 'Sicko', 'The Purge: Anarchy', 'Down to You', 'Harold & Kumar Go to White Castle', 'The Contender', 'Boiler Room', 'Trading Places', 'Black Christmas', \"Breakin' All the Rules\", 'Henry V', 'The Savages', 'Chasing Papi', 'The Way of the Gun', 'Igby Goes Down', 'PCU', 'The Ultimate Gift', 'The Ice Pirates', 'Gracie', 'Trust the Man', 'Hamlet 2', 'Velvet Goldmine', 'The Wailing', 'Glee: The Concert Movie', 'The Legend of Suriyothai', 'Two Evil Eyes', 'Barbecue', 'All or Nothing', 'Princess Kaiulani', 'Opal Dream', 'Flame & Citron', 'Undiscovered', 'Red Riding: In the Year of Our Lord 1974', 'The Girl on the Train', 'Veronika Decides to Die', 'Crocodile Dundee', 'Ultramarines: A Warhammer 40,000 Movie', 'The I Inside', 'Beneath Hill 60', 'Polisse', 'Awake', 'Star Wars: Clone Wars: Volume 1', 'Skin Trade', 'The Lost Boys', 'Crazy Heart', 'The Rose', 'Baggage Claim', 'Barbarella', 'Shipwrecked', 'Election', 'The Namesake', 'The DUFF', 'Glitter', 'The Haunting in Connecticut 2: Ghosts of Georgia', 'Silmido', 'Bright Star', 'My Name Is Khan', 'All Is Lost', 'Limbo', 'Namastey London', 'The Wind That Shakes the Barley', 'Yeh Jawaani Hai Deewani', 'Quo Vadis', 'Repo! The Genetic Opera', 'Valley of the Wolves: Iraq', 'Pulp Fiction', 'The Muppet Movie', 'Nightcrawler', 'Club Dread', 'The Sound of Music', 'Splash', 'Little Miss Sunshine', 'Stand by Me', '28 Days Later', 'You Got Served', 'Escape from Alcatraz', 'Brown Sugar', 'A Thin Line Between Love and Hate', '50/50', 'Shutter', 'That Awkward Moment', 'Modern Problems', 'Kicks', 'Much Ado About Nothing', \"On Her Majesty's Secret Service\", 'New Nightmare', 'Drive Me Crazy', 'Akeelah and the Bee', 'Half Baked', 'New in Town', 'American Psycho', 'The Good Girl', 'Bon Cop Bad Cop', 'The Boondock Saints II: All Saints Day', 'The City of Your Final Destination', 'Enough Said', 'Easy A', 'The Inkwell', 'Shadow of the Vampire', 'Prom', 'The Pallbearer', 'Held Up', 'Woman on Top', 'Howards End', 'Anomalisa', 'Another Year', '8 Women', 'Showdown in Little Tokyo', 'Clay Pigeons', \"It's Kind of a Funny Story\", 'Made in Dagenham', 'When Did You Last See Your Father?', 'Prefontaine', 'The Wicked Lady', 'The Secret of Kells', 'Begin Again', 'Down in the Valley', 'Brooklyn Rules', 'Restless', 'The Singing Detective', 'The Land Girls', 'Fido', 'The Wendell Baker Story', 'Wild Target', 'Pathology', 'Wuthering Heights', '10th & Wolf', 'Dear Wendy', 'Aloft', 'Akira', 'The Death and Life of Bobby Z', 'The Rocket: The Legend of Rocket Richard', 'Swelter', 'My Lucky Star', 'Imagine Me & You', 'Mr. Church', 'Swimming Pool', 'Green Street Hooligans: Underground', 'The Blood of Heroes', 'Code of Honor', 'Driving Miss Daisy', 'Soul Food', 'Rumble in the Bronx', 'Far from Men', 'Thank You for Smoking', 'Hostel: Part II', 'An Education', 'Shopgirl', 'The Hotel New Hampshire', 'Narc', 'Men with Brooms', 'Witless Protection', 'The Work and the Glory', 'Extract', 'Masked and Anonymous', 'Betty Fisher and Other Stories', 'Code 46', 'Outside Bet', 'Albert Nobbs', 'Black November', 'Ta Ra Rum Pum', 'Persepolis', 'The Hole', 'The Wave', 'The Neon Demon', 'Harry Brown', 'The Omega Code', 'Juno', 'Pound of Flesh', 'Diamonds Are Forever', 'The Godfather', 'Flashdance', '(500) Days of Summer', 'The Piano', 'Magic Mike', 'Darkness Falls', 'Live and Let Die', 'My Dog Skip', 'Definitely, Maybe', 'Jumping the Broom', 'Good Night, and Good Luck.', 'Capote', 'Desperado', \"Logan's Run\", 'The Man with the Golden Gun', 'Action Jackson', 'The Descent', 'Michael Jordan to the Max', \"Devil's Due\", 'Flirting with Disaster', \"The Devil's Rejects\", 'Dope', 'In Too Deep', 'House of 1000 Corpses', 'Alien Zone', 'A Serious Man', 'Get Low', 'Warlock', 'Beyond the Lights', 'A Single Man', 'The Last Temptation of Christ', 'Outside Providence', 'Bride & Prejudice', 'Rabbit-Proof Fence', \"Who's Your Caddy?\", 'Split Second', 'The Other Side of Heaven', 'Veer-Zaara', 'Redbelt', 'Cyrus', 'A Dog Of Flanders', 'Auto Focus', 'Factory Girl', 'We Need to Talk About Kevin', 'The Christmas Candle', 'The Mighty Macs', \"Losin' It\", 'Mother and Child', 'March or Die', 'The Visitors', 'Somewhere', 'I Hope They Serve Beer in Hell', 'Chairman of the Board', 'Hesher', 'Dom Hemingway', 'Gerry', 'The Heart of Me', 'Freeheld', 'The Extra Man', 'Hard to Be a God', 'Ca$h', 'Wah-Wah', 'The Boondock Saints', 'Z Storm', 'Twixt', 'The Snow Queen', 'Alpha and Omega: The Legend of the Saw Tooth Cave', 'Pale Rider', 'Stargate: The Ark of Truth', 'Dazed and Confused', 'High School Musical 2', 'Two Lovers and a Bear', 'Criminal Activities', 'Aimee & Jaguar', 'The Chumscrubber', 'Shade', 'House at the End of the Street', 'Incendies', 'Remember Me, My Love', 'Perrier’s Bounty', 'Elite Squad', 'Annabelle', 'Bran Nue Dae', 'Boyz n the Hood', 'La Bamba', 'The Four Seasons', 'Dressed to Kill', 'The Adventures of Huck Finn', 'Go', 'Friends with Money', 'The Andromeda Strain', 'Bats', 'Nowhere in Africa', 'Shame', 'Layer Cake', 'The Work and the Glory II: American Zion', 'The East', 'A Home at the End of the World', 'Aberdeen', 'The Messenger', 'Tracker', 'Control', 'The Terminator', 'Good bye, Lenin!', 'The Damned United', 'The Return of the Living Dead', 'Mallrats', 'Grease', 'Platoon', 'Fahrenheit 9/11', 'Butch Cassidy and the Sundance Kid', 'Mary Poppins', 'Ordinary People', 'West Side Story', 'Caddyshack', 'The Brothers', 'The Wood', 'The Usual Suspects', 'A Nightmare on Elm Street 5: The Dream Child', 'National Lampoon’s Van Wilder', 'The Wrestler', 'Duel in the Sun', 'Best in Show', 'Escape from New York', 'School Daze', 'Daddy Day Camp', 'Mr. Nice Guy', 'A Mighty Wind', 'Mystic Pizza', 'Sliding Doors', 'Tales from the Hood', 'The Last King of Scotland', 'Halloween 5: The Revenge of Michael Myers', 'Bernie', 'Dolphins and Whales: Tribes of the Ocean', 'Pollock', '200 Cigarettes', 'The Words', 'Casa De Mi Padre', 'City Island', 'The Guard', 'College', 'The Virgin Suicides', 'Little Voice', 'Miss March', 'Wish I Was Here', 'Simply Irresistible', 'Hedwig and the Angry Inch', 'Only the Strong', 'Goddess of Love', 'Shattered Glass', 'Novocaine', 'The Business of Strangers', 'The Wild Bunch', 'The Wackness', 'The First Great Train Robbery', 'Morvern Callar', 'Beastmaster 2: Through the Portal of Time', 'The 5th Quarter', 'The Flower of Evil', 'The Greatest', 'Snow Flower and the Secret Fan', 'Come Early Morning', 'Lucky Break', 'Julia', 'Surfer, Dude', 'Lake of Fire', '11:14', 'Men of War', 'Don McKay', 'Deadfall', 'A Shine of Rainbows', 'The Hit List', 'Emma', 'Videodrome', 'The Spanish Apartment', 'Song One', 'Winter in Wartime', 'Freaky Deaky', 'The Train', 'Trade Of Innocents', 'The Protector', 'Stiff Upper Lips', 'Bend It Like Beckham', 'Sunshine State', 'Crossover', 'Khiladi 786', '[REC]²', 'Standing Ovation', 'The Sting', 'Chariots of Fire', 'Diary of a Mad Black Woman', 'Shine', 'Don Jon', 'High Plains Drifter', 'Ghost World', 'Iris', 'Galaxina', 'The Chorus', 'Mambo Italiano', 'Wonderland', 'Do the Right Thing', 'Harvard Man', 'Le Havre', 'Irreversible', 'R100', 'Rang De Basanti', 'Animals', 'Salvation Boulevard', 'The Ten', 'A Room for Romeo Brass', 'Headhunters', 'Grabbers', 'Saint Ralph', 'Miss Julie', 'Somewhere in Time', 'Dum Maaro Dum', 'Insidious: Chapter 2', 'Saw II', '10 Cloverfield Lane', 'Jackass: The Movie', 'Lights Out', 'Paranormal Activity 3', 'Ouija', 'A Nightmare on Elm Street 3: Dream Warriors', 'Instructions Not Included', 'Paranormal Activity 4', 'The Robe', 'The Return of the Pink Panther', \"Freddy's Dead: The Final Nightmare\", 'Monster', '20,000 Leagues Under the Sea', 'Paranormal Activity: The Marked Ones', 'The Elephant Man', 'Dallas Buyers Club', 'The Lazarus Effect', 'Memento', 'Oculus', 'Clerks II', 'Billy Elliot', 'The Way Way Back', 'House Party 2', 'The Man from Snowy River', \"Doug's 1st Movie\", 'The Apostle', 'Mommie Dearest', 'Our Idiot Brother', 'Race', 'The Players Club', 'As Above, So Below', 'Addicted', \"Eve's Bayou\", 'Still Alice', 'The Egyptian', 'Nighthawks', 'Friday the 13th Part VIII: Jason Takes Manhattan', 'My Big Fat Greek Wedding', 'Spring Breakers', 'Halloween: The Curse of Michael Myers', 'Y Tu Mamá También', 'Shaun of the Dead', 'The Haunting of Molly Hartley', 'Lone Star', 'Halloween 4: The Return of Michael Myers', \"April Fool's Day\", 'Diner', 'Lone Wolf McQuade', 'Apollo 18', 'Sunshine Cleaning', 'No Escape', 'The Beastmaster', 'Solomon and Sheba', 'Fifty Shades of Black', 'Not Easily Broken', 'A Farewell to Arms', 'The Perfect Match', 'Digimon: The Movie', 'Saved!', 'The Barbarian Invasions', 'Robin and Marian', 'The Forsaken', 'Force 10 from Navarone', 'UHF', \"Grandma's Boy\", 'Slums of Beverly Hills', 'Once Upon a Time in the West', 'Made', 'Moon', 'Keeping Up with the Steins', 'Sea Rex 3D: Journey to a Prehistoric World', 'The Sweet Hereafter', 'Of Gods and Men', 'Bottle Shock', 'Jekyll and Hyde ... Together Again', 'Heavenly Creatures', '90 Minutes in Heaven', 'Everything Must Go', 'Zero Effect', 'The Machinist', 'Light Sleeper', 'Kill the Messenger', 'Rabbit Hole', 'Party Monster', 'Green Room', 'The Oh in Ohio', 'Atlas Shrugged Part III: Who is John Galt?', 'Bottle Rocket', 'Albino Alligator', 'Gandhi, My Father', 'Standard Operating Procedure', 'Out of the Blue', 'Tucker and Dale vs Evil', 'Lovely, Still', 'Tycoon', 'Desert Blue', 'Decoys', 'The Visit', 'Redacted', 'Fascination', 'Area 51', 'Sleep Tight', 'The Cottage', 'Dead Like Me: Life After Death', 'Farce of the Penguins', 'Flying By', 'Rudderless', 'Henry & Me', 'Christmas Eve', 'We Have Your Husband', 'Dying of the Light', 'Born Of War', 'Capricorn One', \"Should've Been Romeo\", 'Running Forever', 'Yoga Hosers', 'Navy Seals vs. Zombies', 'I Served the King of England', 'Soul Kitchen', 'Sling Blade', 'The Awakening', 'Hostel', 'A Cock and Bull Story', 'Take Shelter', 'Lady in White', 'Driving Lessons', \"Let's Kill Ward's Wife\", 'The Texas Chainsaw Massacre 2', 'Pat Garrett & Billy the Kid', 'Only God Forgives', 'Camping Sauvage', 'Without Men', 'Dear Frankie', 'All Hat', 'The Names of Love', 'Treading Water', 'Savage Grace', 'Out of the Blue', 'Police Academy', 'The Blue Lagoon', 'Four Weddings and a Funeral', 'Fast Times at Ridgemont High', 'Moby Dick', '25th Hour', 'Bound', 'Requiem for a Dream', 'State Fair', 'Tango', 'Salvador', \"Moms' Night Out\", 'Donnie Darko', 'Saving Private Perez', 'Character', 'Spun', 'Life During Wartime', 'Sympathy for Lady Vengeance', \"Mozart's Sister\", 'Mean Machine', 'Exiled', 'Blackthorn', 'Lilya 4-ever', 'After.Life', 'Fugly', \"One Flew Over the Cuckoo's Nest\", \"R.L. Stine's Monsterville: The Cabinet of Souls\", 'Silent Movie', 'Airlift', 'Anne of Green Gables', 'Falcon Rising', 'The Sweeney', 'Sexy Beast', 'Easy Money', 'Whale Rider', 'Paa', 'Cargo', 'High School Musical', 'Love and Death on Long Island', 'Night Watch', 'The Crying Game', \"Porky's\", 'Survival of the Dead', 'Night of the Living Dead', 'Lost in Translation', 'Annie Hall', 'The Greatest Show on Earth', \"Monster's Ball\", 'Maggie', 'Leaving Las Vegas', 'Hansel and Gretel Get Baked', 'The Front Page', 'The Boy Next Door', 'Trapeze', 'The Kids Are All Right', 'They Live', 'The Great Escape', 'What the #$*! Do We (K)now!?', 'The Last Exorcism Part II', 'Boyhood', 'Scoop', 'The Wash', '3 Strikes', 'The Cooler', 'The Misfits', 'The Night Listener', 'The Jerky Boys', 'The Orphanage', 'A Haunted House 2', 'The Rules of Attraction', 'Topaz', \"Let's Go to Prison\", 'Four Rooms', 'Secretary', 'The Real Cancun', 'Talk Radio', 'Waiting for Guffman', 'Love Stinks', 'You Kill Me', 'Thumbsucker', 'Red State', 'Mirrormask', 'Samsara', 'The Barbarians', 'The Art of Getting By', 'Zipper', 'Poolhall Junkies', 'The Loss of Sexual Innocence', 'Holy Motors', 'Joe', 'Shooting Fish', 'Prison', 'Psycho Beach Party', 'The Big Tease', 'Guten Tag, Ramón', 'Trust', 'An Everlasting Piece', 'Among Giants', 'Adore', 'The Velocity of Gary', 'Mondays in the Sun', 'Stake Land', 'The Last Time I Committed Suicide', 'Futuro Beach', 'Another Happy Day', 'A Lonely Place to Die', 'Nothing', 'The Geographer Drank His Globe Away', '1776', 'Inescapable', \"Hell's Angels\", 'Purple Violets', 'The Veil', 'The Loved Ones', 'The Helpers', 'How to Fall in Love', 'The Perfect Wave', 'A Man for All Seasons', 'Network', 'Gone with the Wind', 'Desert Dancer', 'Major Dundee', 'Annie Get Your Gun', 'Four Lions', 'The House of Sand', 'Defendor', 'The Pirate', 'The Good Heart', 'The History Boys', 'Midnight Cowboy', 'The Full Monty', 'Airplane!', 'Chain of Command', 'Friday', 'Menace II Society', 'Creepshow 2', 'The Ballad of Cable Hogue', 'In Cold Blood', \"The Nun's Story\", 'Harper', 'Frenzy', 'The Witch', 'I Got the Hook Up', \"She's the One\", 'Gods and Monsters', 'The Secret in Their Eyes', 'Train', 'Evil Dead II', 'Pootie Tang', 'Sharknado', 'The Other Conquest', 'Troll Hunter', 'Ira & Abby', 'Winter Passing', 'D.E.B.S.', 'The Masked Saint', 'The Betrayed', 'Taxman', 'The Secret', '2:13', 'Batman: The Dark Knight Returns, Part 2', 'Time to Choose', 'In the Name of the King III', 'Wicked Blood', 'Stranded', 'Lords of London', 'High Anxiety', 'March of the Penguins', 'Margin Call', 'August', 'Choke', 'Whiplash', 'City of God', 'Human Traffic', 'To Write Love on Her Arms', 'The Dead Girl', 'The Hunt', 'A Christmas Story', 'Bella', 'Class of 1984', 'The Opposite Sex', 'Dreaming of Joseph Lees', 'The Class', \"Rosemary's Baby\", 'The Man Who Shot Liberty Valance', 'Adam', 'Maria Full of Grace', 'Beginners', 'Feast', 'Animal House', 'Goldfinger', 'Antiviral', \"It's a Wonderful Life\", 'Trainspotting', 'The Original Kings of Comedy', 'Paranormal Activity 2', 'Waking Ned', 'Bowling for Columbine', 'Coming Home', \"A Nightmare on Elm Street Part 2: Freddy's Revenge\", 'A Room with a View', 'The Purge', 'Sinister', 'Martin Lawrence Live: Runteldat', 'Cat on a Hot Tin Roof', 'Beneath the Planet of the Apes', 'Air Bud', 'Pokémon: Spell of the Unknown', 'Friday the 13th Part VI: Jason Lives', 'The Bridge on the River Kwai', 'Spaced Invaders', 'Family Plot', 'The Apartment', 'Jason Goes to Hell: The Final Friday', 'Torn Curtain', \"Dave Chappelle's Block Party\", 'Slow West', 'Krush Groove', 'Next Day Air', 'Elmer Gantry', 'Judgment at Nuremberg', \"Trippin'\", 'Red River', 'Phat Girlz', 'Before Midnight', 'Teen Wolf Too', 'Phantasm II', 'Woman Thou Art Loosed', 'Real Women Have Curves', 'Water', 'East Is East', 'Whipped', 'Kama Sutra - A Tale of Love', 'Please Give', 'Willy Wonka & the Chocolate Factory', 'Warlock: The Armageddon', '8 Heads in a Duffel Bag', 'Days of Heaven', 'Thirteen Conversations About One Thing', 'Jawbreaker', 'Basquiat', 'Frances Ha', 'Tsotsi', 'Happiness', 'DysFunktional Family', 'Tusk', 'Oldboy', 'Letters to God', 'Hobo with a Shotgun', 'Compadres', 'Freeway', \"Love's Abiding Joy\", 'Fish Tank', 'Damsels in Distress', 'Creature', 'Bachelorette', 'Brave New Girl', \"Tim and Eric's Billion Dollar Movie\", 'Summer Storm', 'Fort McCoy', 'Chain Letter', 'Just Looking', 'The Divide', 'The Eclipse', 'Demonic', 'My Big Fat Independent Movie', 'The Deported', 'Tanner Hall', 'Open Road', 'They Came Together', '30 Nights of Paranormal Activity With the Devil Inside the Girl With the Dragon Tattoo', 'Never Back Down 2: The Beatdown', 'Point Blank', 'Four Single Fathers', 'Enter the Dangerous Mind', 'Something Wicked', 'AWOL-72', 'Iguana', 'Chicago Overcoat', 'Barry Munday', 'Central Station', 'Pocketful of Miracles', 'Close Range', 'Boynton Beach Club', 'Amnesiac', 'Freakonomics', 'High Tension', 'Griff the Invisible', 'Unnatural', 'Hustle & Flow', 'Some Like It Hot', 'Friday the 13th Part VII: The New Blood', 'The Wizard of Oz', 'Young Frankenstein', 'Diary of the Dead', 'Lage Raho Munna Bhai', \"Ulee's Gold\", 'The Black Stallion', 'Sardaarji', 'Journey to Saturn', \"Donovan's Reef\", 'The Dress', 'A Guy Named Joe', 'Blazing Saddles', 'Friday the 13th: The Final Chapter', 'Ida', 'Maurice', 'Beer League', 'Riding Giants', 'Timecrimes', 'Silver Medalist', 'Timber Falls', \"Singin' in the Rain\", 'Fat, Sick & Nearly Dead', 'A Haunted House', \"2016: Obama's America\", 'That Thing You Do!', 'Halloween III: Season of the Witch', 'Escape from the Planet of the Apes', 'Hud', 'Kevin Hart: Let Me Explain', 'My Own Private Idaho', 'Garden State', 'Before Sunrise', 'Evil Words', \"Jesus' Son\", 'Saving Face', 'Brick Lane', 'Robot & Frank', 'My Life Without Me', 'The Spectacular Now', 'Religulous', 'Fuel', \"Valley of the Heart's Delight\", 'Eye of the Dolphin', '8: The Mormon Proposition', 'The Other End of the Line', 'Anatomy', 'Sleep Dealer', 'Super', 'Christmas Mail', 'Stung', 'Antibirth', 'Get on the Bus', 'Thr3e', 'Idiocracy', 'The Rise of the Krays', 'This Is England', 'U.F.O.', 'Bathing Beauty', 'Go for It!', 'Dancer, Texas Pop. 81', 'Show Boat', 'Redemption Road', 'The Calling', 'The Brave Little Toaster', 'Fantasia', '8 Days', 'Friday the 13th Part III', 'Friday the 13th: A New Beginning', 'The Last Sin Eater', 'Do You Believe?', 'Impact Point', 'The Valley of Decision', 'Eden', 'Chicken Tikka Masala', \"There's Always Woodstock\", 'Jack Brooks: Monster Slayer', 'The Best Years of Our Lives', 'Bully', 'Elling', 'Mi America', '[REC]', 'Lies in Plain Sight', 'Sharkskin', 'Containment', 'The Timber', 'From Russia with Love', 'The Toxic Avenger Part II', 'Sleeper', 'It Follows', 'Everything You Always Wanted to Know About Sex *But Were Afraid to Ask', 'To Kill a Mockingbird', 'Mad Max 2: The Road Warrior', 'The Legend of Drunken Master', \"Boys Don't Cry\", 'Silent House', 'The Lives of Others', 'Courageous', 'The Hustler', 'Boom Town', 'The Triplets of Belleville', 'Smoke Signals', 'American Splendor', 'Before Sunset', 'Amores perros', 'Thirteen', \"Gentleman's Agreement\", \"Winter's Bone\", 'Touching the Void', \"Alexander's Ragtime Band\", 'Me and You and Everyone We Know', 'Inside Job', 'We Are Your Friends', 'Ghost Dog: The Way of the Samurai', 'Harsh Times', 'Captive', 'Full Frontal', 'Witchboard', 'Shortbus', 'Waltz with Bashir', 'The Book of Mormon Movie, Volume 1: The Journey', 'No End in Sight', 'The Diary of a Teenage Girl', 'In the Shadow of the Moon', \"Meek's Cutoff\", 'Inside Deep Throat', 'Dinner Rush', 'Clockwatchers', 'The Virginity Hit', 'Subway', 'House of D', 'Teeth', 'Six-String Samurai', 'Hum To Mohabbat Karega', \"It's All Gone Pete Tong\", 'Saint John of Las Vegas', '24 7: Twenty Four Seven', 'Stonewall', 'Roadside Romeo', 'This Thing of Ours', 'The Lost Medallion: The Adventures of Billy Stone', 'The Last Five Years', 'The Missing Person', 'Return of the Living Dead 3', 'London', 'Sherrybaby', 'Circle', 'Eden Lake', 'Plush', 'Lesbian Vampire Killers', \"Gangster's Paradise: Jerusalema\", 'Freeze Frame', 'Grave Encounters', 'Stitches', 'Nine Dead', 'To Be Frank, Sinatra at 100', 'Bananas', 'Supercapitalist', 'Rockaway', 'The Lady from Shanghai', \"No Man's Land: The Rise of Reeker\", 'Highway', 'Small Apartments', 'Coffee Town', 'The Ghastly Love of Johnny X', 'All Is Bright', 'The Torture Chamber of Dr. Sadism', \"Straight A's\", 'A Funny Thing Happened on the Way to the Forum', 'Slacker Uprising', \"The Legend of Hell's Gate: An American Conspiracy\", 'The Walking Deceased', 'The Curse of Downers Grove', 'Shark Lake', \"River's Edge\", 'Northfork', 'The Marine 4: Moving Target', 'Buried', 'Submarine', 'The Square', 'One to Another', 'ABCD (Any Body Can Dance)', 'Man on Wire', 'Abandoned', 'Brotherly Love', 'The Last Exorcism', 'Nowhere Boy', 'A Streetcar Named Desire', 'Dr. Strangelove or: How I Learned to Stop Worrying and Love the Bomb', 'The Crime of Padre Amaro', 'Beasts of the Southern Wild', 'Battle for the Planet of the Apes', 'Songcatcher', 'Higher Ground', 'Vaalu', 'The Greatest Movie Ever Sold', 'Ed and His Dead Mother', 'Travellers and Magicians', \"Hang 'em High\", 'Deadline - U.S.A.', 'Sublime', \"A Beginner's Guide to Snuff\", 'Independence Daysaster', 'Dysfunctional Friends', 'Run Lola Run', 'May', 'Against the Wild', 'Under the Same Moon', 'Conquest of the Planet of the Apes', 'In the Bedroom', 'I Spit on Your Grave', 'Happy, Texas', 'My Summer of Love', 'The Lunchbox', 'Yes', \"You Can't Take It With You\", 'From Here to Eternity', 'She Wore a Yellow Ribbon', 'Grace Unplugged', 'Foolish', 'N-Secure', 'Caramel', 'Out of the Dark', 'The Bubble', 'The Conversation', 'Dil Jo Bhi Kahey...', 'Mississippi Mermaid', 'I Love Your Work', 'Cabin Fever', 'Waitress', 'Bloodsport', 'Mr. Smith Goes to Washington', 'Kids', 'The Squid and the Whale', 'Kissing Jessica Stein', 'Kickboxer: Vengeance', 'Spellbound', 'Exotica', \"Buffalo '66\", 'Insidious', 'Repo Man', 'Nine Queens', 'The Gatekeepers', 'The Ballad of Jack and Rose', 'The To Do List', 'Killing Zoe', 'The Believer', 'Snow Angels', 'Unsullied', 'Session 9', 'I Want Someone to Eat Cheese With', 'Mooz-lum', 'Hatchet', 'Modern Times', 'Stolen Summer', 'My Name Is Bruce', 'The Salon', 'Road Hard', 'Forty Shades of Blue', 'Amigo', 'Pontypool', 'Trucker', 'Me You and Five Bucks', 'The Lords of Salem', 'Housebound', 'Wal-Mart: The High Cost of Low Price', 'Fetching Cody', 'Last I Heard', 'Closer to the Moon', 'Mutant World', 'Growing Up Smith', 'Checkmate', '#Horror', 'Wind Walkers', 'Snow White and the Seven Dwarfs', 'The Holy Girl', 'Shalako', 'Incident at Loch Ness', 'The Dog Lover', 'GirlHouse', 'The Blue Room', 'House at the End of the Drive', 'Batman', 'Lock, Stock and Two Smoking Barrels', 'The Ballad of Gregorio Cortez', 'The Celebration', 'Trees Lounge', 'Journey from the Fall', 'The Basket', 'Eddie: The Sleepwalking Cannibal', 'Queen of the Mountains', 'Def-Con 4', 'The Hebrew Hammer', \"Neal 'n' Nikki\", 'The 41–Year–Old Virgin Who Knocked Up Sarah Marshall and Felt Superbad About It', 'Forget Me Not', 'Rebecca', 'Friday the 13th Part 2', 'The Lost Weekend', 'C.H.U.D.', 'Filly Brown', 'The Lion of Judah', 'Niagara', 'How Green Was My Valley', 'Da Sweet Blood of Jesus', 'Sex, Lies, and Videotape', 'Saw', 'Super Troopers', 'The Algerian', 'The Amazing Catfish', 'Monsoon Wedding', 'You Can Count on Me', 'The Trouble with Harry', \"But I'm a Cheerleader\", 'Home Run', 'Reservoir Dogs', 'The Blue Bird', 'The Good, the Bad and the Ugly', 'The Second Mother', 'Blue Like Jazz', 'Down & Out With The Dolls', 'Pink Ribbons, Inc.', 'Certifiably Jonathan', 'Desire', 'The Blade of Don Juan', 'Grand Theft Parsons', 'Extreme Movie', 'The Charge of the Light Brigade', 'Below Zero', 'Crowsnest', 'Airborne', 'Cotton Comes to Harlem', 'The Wicked Within', 'Bleeding Hearts', 'Waiting...', \"Dead Man's Shoes\", 'From a Whisper to a Scream', 'Sex With Strangers', \"Dracula: Pages from a Virgin's Diary\", 'Faith Like Potatoes', 'Beyond the Black Rainbow', 'The Raid', 'The Dead Undead', 'The Vatican Exorcisms', 'Casablanca', 'Lake Mungo', 'Rocket Singh: Salesman of the Year', 'Silent Running', 'Rocky', 'The Sleepwalker', 'Tom Jones', 'Unfriended', 'Taxi Driver', 'The Howling', 'Dr. No', 'Chernobyl Diaries', 'Hellraiser', \"God's Not Dead 2\", 'Cry_Wolf', 'Godzilla 2000', 'Blue Valentine', 'Transamerica', 'The Devil Inside', 'Beyond the Valley of the Dolls', 'Love Me Tender', 'An Inconvenient Truth', 'Sands of Iwo Jima', 'Shine a Light', 'The Green Inferno', 'Departure', 'The Sessions', 'Food, Inc.', 'October Baby', 'Next Stop Wonderland', 'The Skeleton Twins', 'Martha Marcy May Marlene', 'Obvious Child', 'Frozen River', '20 Feet from Stardom', 'Two Girls and a Guy', 'Walking and Talking', 'Who Killed the Electric Car?', 'The Broken Hearts Club: A Romantic Comedy', 'Bubba Ho-tep', 'Slam', 'Brigham City', 'Fiza', 'Orgazmo', 'All the Real Girls', 'Dream with the Fishes', 'Blue Car', 'Palo Alto', 'Ajami', 'Wristcutters: A Love Story', 'I Origins', 'The Battle of Shaker Heights', 'The Act of Killing', 'Taxi to the Dark Side', 'Once in a Lifetime: The Extraordinary Story of the New York Cosmos', 'Guiana 1838', 'Lisa Picard Is Famous', 'Antarctica: A Year on Ice', 'A LEGO Brickumentary', 'Hardflip', 'Chocolate: Deep Dark Secrets', 'The House of the Devil', 'The Perfect Host', 'Safe Men', 'Speedway Junky', 'The Last Big Thing', 'The Specials', '16 to Life', 'Alone With Her', 'Creative Control', 'Special', 'Sparkler', 'The Helix... Loaded', 'In Her Line of Fire', 'The Jimmy Show', 'Heli', 'Karachi se Lahore', 'Loving Annabelle', 'Hits', 'Jimmy and Judy', 'Frat Party', \"The Party's Over\", 'Proud', 'The Poker House', 'Childless', 'ZMD: Zombies of Mass Destruction', 'Snow White: A Deadly Summer', 'Hidden Away', 'My Last Day Without You', 'Steppin: The Movie', \"Doc Holliday's Revenge\", 'Black Rock', 'Truth or Dare', 'The Pet', 'Bang Bang Baby', 'Fear Clinic', 'Zombie Hunter', 'A Fine Step', 'Charly', 'Banshee Chapter', 'Ask Me Anything', 'And Then Came Love', 'Food Chains', 'On the Waterfront', 'L!fe Happens', '4 Months, 3 Weeks and 2 Days', 'The Horror Network Vol. 1', 'Hard Candy', 'The Quiet', 'Circumstance', 'Fruitvale Station', 'The Brass Teapot', 'Bambi', 'The Hammer', 'Latter Days', 'Elza', '1982', 'For a Good Time, Call...', 'Celeste & Jesse Forever', 'Time Changer', 'London to Brighton', 'American Hero', 'Windsor Drive', 'A Separation', 'Crying with Laughter', 'Welcome to the Dollhouse', 'Ruby in Paradise', 'Raising Victor Vargas', \"Pandora's Box\", 'Harrison Montgomery', 'Live-In Maid', 'Deterrence', 'The Mudge Boy', 'The Young Unknowns', 'Not Cool', 'Dead Snow', 'Saints and Soldiers', 'Vessel', 'American Graffiti', 'Iraq for Sale: The War Profiteers', 'Aqua Teen Hunger Force Colon Movie Film for Theaters', 'Safety Not Guaranteed', 'Kevin Hart: Laugh at My Pain', 'Kill List', 'The Innkeepers', 'The Conformist', 'Interview with the Assassin', 'Donkey Punch', 'All the Boys Love Mandy Lane', 'Bled', 'High Noon', 'Hoop Dreams', 'Rize', 'L.I.E.', 'The Sisterhood of Night', 'B-Girl', 'Half Nelson', 'Naturally Native', 'Hav Plenty', 'Adulterers', 'Escape from Tomorrow', 'Starsuckers', 'The Hadza:  Last of the First', 'After', 'Treachery', 'Walter', 'Top Hat', 'The Blair Witch Project', 'Woodstock', 'The Kentucky Fried Movie', 'Mercy Streets', 'Carousel of Revenge', 'Broken Vessels', 'Water & Power', 'They Will Have to Kill Us First', 'Light from the Darkroom', 'The Country Doctor', \"The Maid's Room\", \"A Hard Day's Night\", 'The Harvest (La Cosecha)', 'Love Letters', 'Juliet and Alfa Romeo', 'Fireproof', 'Faith Connections', 'Benji', 'Open Water', 'High Road', 'Kingdom of the Spiders', 'Mad Hot Ballroom', 'The Station Agent', 'To Save A Life', 'Wordplay', 'Beyond the Mat', 'The Singles Ward', 'Osama', 'Sholem Aleichem: Laughing In The Darkness', 'Groove', 'The R.M.', 'Twin Falls Idaho', 'Mean Creek', 'Hurricane Streets', 'Never Again', 'Civil Brand', 'Lonesome Jim', 'Drinking Buddies', 'Deceptive Practice: The Mysteries and Mentors of Ricky Jay', 'Seven Samurai', 'The Other Dream Team', 'Johnny Suede', 'Finishing The Game', 'Rubber', 'Kiss the Bride', 'The Slaughter Rule', 'Monsters', 'The Californians', 'The Living Wake', 'Detention of the Dead', 'Crazy Stone', 'Scott Walker: 30 Century Man', 'Everything Put Together', 'Good Kill', 'The Outrageous Sophie Tucker', 'Now Is Good', 'Girls Gone Dead', 'America Is Still the Place', 'Subconscious', 'Enter Nowhere', 'El Rey de Najayo', 'Fight to the Finish', \"Alleluia! The Devil's Carnival\", 'The Sound and the Shadow', 'Rodeo Girl', 'Born to Fly: Elizabeth Streb vs. Gravity', 'The Little Ponderosa Zoo', 'The Toxic Avenger', 'Straight Out of Brooklyn', 'Bloody Sunday', 'Diamond Ruff', 'Conversations with Other Women', 'Poultrygeist: Night of the Chicken Dead', 'Mutual Friends', '42nd Street', 'Rise of the Entrepreneur: The Search for a Better Way', 'Metropolitan', 'As It Is in Heaven', 'Roadside', 'Napoleon Dynamite', 'Blue Ruin', 'Paranormal Activity', 'Dogtown and Z-Boys', 'Monty Python and the Holy Grail', 'Quinceañera', 'Gory Gory Hallelujah', 'Tarnation', 'I Want Your Money', 'Love in the Time of Monsters', 'The Beyond', 'What Happens in Vegas', 'The Dark Hours', 'My Beautiful Laundrette', 'Fabled', 'Show Me', 'Cries and Whispers', 'Intolerance', 'Trekkies', 'The Broadway Melody', 'The Evil Dead', 'Maniac', 'Censored Voices', 'Murderball', 'American Ninja 2: The Confrontation', '51 Birch Street', 'Rotor DR1', '12 Angry Men', 'My Dog Tulip', 'It Happened One Night', 'Dogtooth', 'Tupac: Resurrection', 'Tumbleweeds', 'The Prophecy', \"When the Cat's Away\", 'Pieces of April', 'The Big Swap', 'Old Joy', 'Wendy and Lucy', '3 Backyards', 'Pierrot le Fou', 'Sisters in Law', 'Ayurveda: Art of Being', 'Nothing But a Man', 'First Love, Last Rites', 'Fighting Tommy Riley', 'Royal Kill', 'The Looking Glass', 'Death Race 2000', 'Locker 13', 'Midnight Cabaret', \"Anderson's Cross\", 'Bizarre', 'Graduation Day', 'Some Guy Who Kills People', 'Compliance', 'Chasing Amy', 'Lovely & Amazing', 'Death Calls', 'Better Luck Tomorrow', 'The Incredibly True Adventure of Two Girls In Love', 'Chuck & Buck', 'American Desi', \"Amidst the Devil's Wings\", 'Cube', 'Love and Other Catastrophes', 'I Married a Strange Person!', 'November', 'Like Crazy', 'Teeth and Blood', 'Sugar Town', 'The Motel', 'The Canyons', 'On the Outs', 'Shotgun Stories', 'Exam', 'The Sticky Fingers of Time', 'Sunday School Musical', 'Rust', 'Ink', 'The Christmas Bunny', 'Butterfly', 'UnDivided', 'The Frozen', 'Horse Camp', 'Give Me Shelter', 'The Big Parade', 'Little Big Top', 'Along the Roadside', 'Bronson', 'Western Religion', 'Burn', 'Urbania', 'The Stewardesses', 'The Beast from 20,000 Fathoms', 'Mad Max', 'Swingers', 'A Fistful of Dollars', 'She Done Him Wrong', 'Short Cut to Nirvana: Kumbh Mela', 'The Grace Card', 'Middle of Nowhere', 'Three', 'The Business of Fancydancing', 'Call + Response', 'Malevolence', 'Reality Show', 'Super Hybrid', 'Baghead', 'American Beast', 'The Case of the Grinning Cat', 'Ordet', 'Good Dick', 'The Man from Earth', 'The Trials Of Darryl Hunt', 'Samantha: An American Girl Holiday', 'Yesterday Was a Lie', 'Theresa Is a Mother', 'H.', 'Archaeology of a Woman', 'Children of Heaven', 'Weekend', \"She's Gotta Have It\", 'Butterfly Girl', 'The World Is Mine', 'Another Earth', \"Sweet Sweetback's Baadasssss Song\", 'Perfect Cowboy', 'Tadpole', 'Once', 'The Woman Chaser', 'The Horse Boy', 'When the Lights Went Out', 'Heroes of Dirt', 'A Charlie Brown Christmas', 'Antarctic Edge: 70° South', 'Aroused', 'Top Spin', 'Roger & Me', 'An American in Hollywood', 'Sound of My Voice', 'The Blood of My Brother: A Story of Death in Iraq', \"Your Sister's Sister\", \"A Dog's Breakfast\", 'The Married Woman', 'The Birth of a Nation', 'The Work and The Story', 'Facing the Giants', 'The Gallows', 'Eraserhead', 'Hollywood Shuffle', 'The Mighty', 'Penitentiary', 'The Lost Skeleton of Cadavra', \"Dude Where's My Dog?\", 'Cheap Thrills', 'Indie Game: The Movie', 'Straightheads', 'Open Secret', 'Echo Dr.', 'The Night Visitor', 'The Past Is a Grotesque Animal', 'Peace, Propaganda & the Promised Land', 'Pi', \"I Love You, Don't Touch Me!\", '20 Dates', 'Queen Crab', 'Super Size Me', 'The FP', 'Happy Christmas', \"The Brain That Wouldn't Die\", 'Tiger Orange', 'Supporting Characters', 'Absentia', 'The Brothers McMullen', 'The Dirties', 'Gabriela', 'Tiny Furniture', 'Hayride', 'The Naked Ape', 'Counting', 'The Call of Cthulhu', 'Bending Steel', 'The Signal', 'The Image Revolution', 'This Is Martin Bonner', 'A True Story', 'George Washington', 'Smiling Fish & Goat On Fire', 'Dawn of the Crescent Moon', 'Raymond Did It', 'The Last Waltz', 'Run, Hide, Die', 'The Exploding Girl', \"The Legend of God's Gun\", 'Mutual Appreciation', 'Her Cry: La Llorona Investigation', 'Down Terrace', 'Clerks', 'Pink Narcissus', 'Funny Ha Ha', 'In the Company of Men', 'Manito', 'Rampage', 'Slacker', 'Dutch Kills', 'Dry Spell', 'Flywheel', 'Backmask', 'The Puffy Chair', 'Stories of Our Lives', 'Breaking Upwards', 'All Superheroes Must Die', 'Pink Flamingos', 'Clean', 'The Circle', 'Tin Can Man', 'Cure', 'On The Downlow', 'Sanctuary: Quite a Conundrum', 'Bang', 'Primer', 'Cavite', 'El Mariachi', 'Newlyweds', 'Signed, Sealed, Delivered', 'Shanghai Calling', 'My Date with Drew']\n"
          ]
        }
      ]
    },
    {
      "cell_type": "code",
      "source": [
        "len(list_of_all_titles)"
      ],
      "metadata": {
        "colab": {
          "base_uri": "https://localhost:8080/"
        },
        "id": "FKvas9-T-o92",
        "outputId": "51b5d094-def6-4bfe-d137-f407bbaceb4f"
      },
      "execution_count": 28,
      "outputs": [
        {
          "output_type": "execute_result",
          "data": {
            "text/plain": [
              "4803"
            ]
          },
          "metadata": {},
          "execution_count": 28
        }
      ]
    },
    {
      "cell_type": "code",
      "source": [
        "find_close_match = difflib.get_close_matches(movie_name, list_of_all_titles)\n",
        "print(find_close_match)\n"
      ],
      "metadata": {
        "colab": {
          "base_uri": "https://localhost:8080/"
        },
        "id": "ePDXzyDV-tBX",
        "outputId": "f4723378-8e01-4e53-b9e5-8a06e3172bf8"
      },
      "execution_count": 29,
      "outputs": [
        {
          "output_type": "stream",
          "name": "stdout",
          "text": [
            "['The Pirate', 'Kites', 'The Ice Pirates']\n"
          ]
        }
      ]
    },
    {
      "cell_type": "code",
      "source": [
        "close_match = find_close_match[0]\n",
        "print(close_match)\n"
      ],
      "metadata": {
        "colab": {
          "base_uri": "https://localhost:8080/"
        },
        "id": "ls6CzF-h-vLc",
        "outputId": "b6a42ccf-bd62-40f9-fb36-d1d7ba620fdc"
      },
      "execution_count": 30,
      "outputs": [
        {
          "output_type": "stream",
          "name": "stdout",
          "text": [
            "The Pirate\n"
          ]
        }
      ]
    },
    {
      "cell_type": "code",
      "source": [
        "index_of_the_movie = movies_data[movies_data.title == close_match]['index'].values[0]\n",
        "print(index_of_the_movie)\n"
      ],
      "metadata": {
        "colab": {
          "base_uri": "https://localhost:8080/"
        },
        "id": "B39n1awb-0aI",
        "outputId": "b300c0b3-50e8-4351-f2b5-fc565eba94a4"
      },
      "execution_count": 31,
      "outputs": [
        {
          "output_type": "stream",
          "name": "stdout",
          "text": [
            "3820\n"
          ]
        }
      ]
    },
    {
      "cell_type": "code",
      "source": [
        "similarity_score = list(enumerate(similarity[index_of_the_movie]))\n",
        "print(similarity_score)\n"
      ],
      "metadata": {
        "colab": {
          "base_uri": "https://localhost:8080/"
        },
        "id": "-6rG-F0o-2f3",
        "outputId": "c98e69c1-57d8-4aaa-a60d-74f1124318c6"
      },
      "execution_count": 32,
      "outputs": [
        {
          "output_type": "stream",
          "name": "stdout",
          "text": [
            "[(0, 0.005114733493393357), (1, 0.01339244982496674), (2, 0.0), (3, 0.005710964902239475), (4, 0.0), (5, 0.005298463459759037), (6, 0.05169653628151698), (7, 0.0), (8, 0.0), (9, 0.0), (10, 0.005752897672043144), (11, 0.0), (12, 0.0), (13, 0.004715105376101507), (14, 0.0050814051720467854), (15, 0.0), (16, 0.0), (17, 0.0), (18, 0.00488672360974452), (19, 0.008870983168319609), (20, 0.005093505141463014), (21, 0.0), (22, 0.0046194379060251695), (23, 0.008845495038929037), (24, 0.009650521877014998), (25, 0.015423659202460586), (26, 0.0), (27, 0.004659267769631754), (28, 0.005115326172263715), (29, 0.0), (30, 0.0), (31, 0.010052985407163244), (32, 0.0), (33, 0.0), (34, 0.0), (35, 0.0), (36, 0.0), (37, 0.0), (38, 0.0), (39, 0.004816867216503364), (40, 0.03938539390697567), (41, 0.0), (42, 0.0), (43, 0.010398114234841924), (44, 0.0), (45, 0.0), (46, 0.009833193389399456), (47, 0.0), (48, 0.0), (49, 0.017099148859612), (50, 0.019754433272340992), (51, 0.0), (52, 0.004620435816677649), (53, 0.010908768113868332), (54, 0.0), (55, 0.030485585819222123), (56, 0.0), (57, 0.005688210717557341), (58, 0.005791098317654722), (59, 0.004830592567922323), (60, 0.0), (61, 0.015274320196746974), (62, 0.0), (63, 0.004726689619969108), (64, 0.0051997037185576), (65, 0.0), (66, 0.0048361117203886295), (67, 0.0), (68, 0.0), (69, 0.004369035924972577), (70, 0.0), (71, 0.0), (72, 0.0), (73, 0.0), (74, 0.0), (75, 0.009681661089000294), (76, 0.0), (77, 0.004999780516768048), (78, 0.0), (79, 0.013863961522777263), (80, 0.005537487321904635), (81, 0.01575572059089327), (82, 0.0), (83, 0.015774777030029125), (84, 0.0), (85, 0.0), (86, 0.0), (87, 0.0), (88, 0.005005166307494574), (89, 0.00438583522679812), (90, 0.0), (91, 0.0), (92, 0.0), (93, 0.00983749954830727), (94, 0.032030816350422917), (95, 0.004695199723994511), (96, 0.010178967524569763), (97, 0.0), (98, 0.009620273472374959), (99, 0.0), (100, 0.014513681139950425), (101, 0.005508564083298745), (102, 0.005421571609185077), (103, 0.00525574041380908), (104, 0.0), (105, 0.0), (106, 0.0), (107, 0.03490220491825082), (108, 0.01020173947577964), (109, 0.0), (110, 0.013396312951382848), (111, 0.0), (112, 0.005057245253887922), (113, 0.005200717785872349), (114, 0.0), (115, 0.0), (116, 0.009195847293163079), (117, 0.026482901400437107), (118, 0.0), (119, 0.0053823006752761055), (120, 0.005021818162600469), (121, 0.03975041674891964), (122, 0.005533583680855293), (123, 0.004746597605273131), (124, 0.04991683886364557), (125, 0.004672891458822849), (126, 0.0047184965143606886), (127, 0.0), (128, 0.0), (129, 0.0), (130, 0.0), (131, 0.00551064261358457), (132, 0.004710570394234113), (133, 0.0), (134, 0.0), (135, 0.009232407117130642), (136, 0.0), (137, 0.005249167416009759), (138, 0.0), (139, 0.004598989440203431), (140, 0.005267347439558422), (141, 0.0), (142, 0.0), (143, 0.0), (144, 0.0), (145, 0.0), (146, 0.0), (147, 0.0), (148, 0.0), (149, 0.00987439677881826), (150, 0.004929527175607973), (151, 0.0), (152, 0.004805285710786279), (153, 0.0), (154, 0.0), (155, 0.0), (156, 0.012659167402366259), (157, 0.0), (158, 0.005395792650585981), (159, 0.07325843910816507), (160, 0.005143218801395768), (161, 0.004703417729108537), (162, 0.0062240877954888845), (163, 0.0), (164, 0.010411817040240839), (165, 0.005651865331051137), (166, 0.0), (167, 0.0), (168, 0.0), (169, 0.0), (170, 0.008452611145417371), (171, 0.014171478824888124), (172, 0.03433403242886064), (173, 0.06111214556641703), (174, 0.0), (175, 0.0048778234803679285), (176, 0.004703184499267452), (177, 0.0), (178, 0.0), (179, 0.005282173805090543), (180, 0.0), (181, 0.0), (182, 0.0), (183, 0.0), (184, 0.0), (185, 0.0), (186, 0.004449727178155194), (187, 0.0), (188, 0.0), (189, 0.016911240859100788), (190, 0.0), (191, 0.004916622014256029), (192, 0.0), (193, 0.0), (194, 0.0), (195, 0.034986478901662815), (196, 0.010715267634782918), (197, 0.010402250754240111), (198, 0.005210811721653881), (199, 0.0045509414397305464), (200, 0.0053005053753615965), (201, 0.0055137340818320136), (202, 0.0), (203, 0.004623698901196512), (204, 0.0050965795354631915), (205, 0.035279138205995667), (206, 0.0), (207, 0.0), (208, 0.004889223724234578), (209, 0.0), (210, 0.0), (211, 0.005100006873652752), (212, 0.004868620427845205), (213, 0.005584011447517096), (214, 0.005230841158300936), (215, 0.010738420211374063), (216, 0.004731158215564789), (217, 0.0), (218, 0.0), (219, 0.005659619094588666), (220, 0.004562731656438211), (221, 0.0), (222, 0.0), (223, 0.009292667050329616), (224, 0.0049088705576012855), (225, 0.0), (226, 0.053950733593847514), (227, 0.0), (228, 0.0), (229, 0.00523086374677492), (230, 0.0), (231, 0.0), (232, 0.0), (233, 0.0), (234, 0.005240635503606398), (235, 0.0), (236, 0.0), (237, 0.004766064854474528), (238, 0.0), (239, 0.0), (240, 0.005186881349797139), (241, 0.0), (242, 0.0), (243, 0.0), (244, 0.0), (245, 0.0044115145055603515), (246, 0.0), (247, 0.004768205638124292), (248, 0.0), (249, 0.0), (250, 0.01411829112205441), (251, 0.0), (252, 0.0051881070788664125), (253, 0.0), (254, 0.0), (255, 0.0), (256, 0.005081415620746553), (257, 0.0), (258, 0.0), (259, 0.009083375345874459), (260, 0.0), (261, 0.005842819370670279), (262, 0.0), (263, 0.0), (264, 0.0), (265, 0.03364317228689032), (266, 0.0), (267, 0.0125955000017289), (268, 0.005176909656499245), (269, 0.029857065564240788), (270, 0.0), (271, 0.0), (272, 0.014619577573201273), (273, 0.0), (274, 0.0), (275, 0.004821029104798101), (276, 0.005136195863235728), (277, 0.0), (278, 0.0), (279, 0.0), (280, 0.0), (281, 0.00487882684828988), (282, 0.0), (283, 0.0), (284, 0.04729085423856609), (285, 0.00936531423032275), (286, 0.0), (287, 0.005086785946079902), (288, 0.0), (289, 0.0), (290, 0.0), (291, 0.004613377467002859), (292, 0.004182554826916341), (293, 0.0), (294, 0.0), (295, 0.02906148732110322), (296, 0.005345960193198101), (297, 0.0), (298, 0.0), (299, 0.0), (300, 0.00423270912340283), (301, 0.0), (302, 0.0), (303, 0.0), (304, 0.0), (305, 0.005097272690925239), (306, 0.0), (307, 0.0), (308, 0.004358103697798346), (309, 0.0), (310, 0.005012320661622143), (311, 0.0), (312, 0.0), (313, 0.004531407435720341), (314, 0.010822934971763084), (315, 0.009009235371895082), (316, 0.00523588134589063), (317, 0.0), (318, 0.009108864150915262), (319, 0.00541593109340036), (320, 0.0), (321, 0.004875595159671337), (322, 0.0), (323, 0.020423041351037962), (324, 0.00937593957242369), (325, 0.0), (326, 0.02048048149055218), (327, 0.005373478326184439), (328, 0.03654315147307507), (329, 0.01001162219356821), (330, 0.0), (331, 0.01111150527289963), (332, 0.0041538887585644705), (333, 0.0), (334, 0.004775992277248703), (335, 0.0), (336, 0.0), (337, 0.0), (338, 0.0), (339, 0.0), (340, 0.007858709524539483), (341, 0.0), (342, 0.013966269775897072), (343, 0.005225197399483714), (344, 0.0), (345, 0.0), (346, 0.004548838003369377), (347, 0.0), (348, 0.0), (349, 0.0), (350, 0.0), (351, 0.0), (352, 0.0561174308466051), (353, 0.004158534193356339), (354, 0.0), (355, 0.0), (356, 0.0), (357, 0.0), (358, 0.0), (359, 0.0), (360, 0.0), (361, 0.004975311608265534), (362, 0.0), (363, 0.0), (364, 0.004464511924411277), (365, 0.0), (366, 0.0), (367, 0.004988025628913222), (368, 0.0), (369, 0.039731369044028526), (370, 0.0), (371, 0.016084325499108855), (372, 0.009595238533810037), (373, 0.0), (374, 0.04510234602167835), (375, 0.0), (376, 0.004795889192516658), (377, 0.003803188486751364), (378, 0.0), (379, 0.0), (380, 0.018272962231028186), (381, 0.0), (382, 0.07554824435740384), (383, 0.004772699815833582), (384, 0.009999455546938195), (385, 0.0), (386, 0.0), (387, 0.010151556587461114), (388, 0.0), (389, 0.0), (390, 0.0), (391, 0.06033318954882558), (392, 0.0), (393, 0.003979444517329381), (394, 0.0), (395, 0.012866827966743287), (396, 0.039320721791298946), (397, 0.015251219291533556), (398, 0.005065364239323242), (399, 0.0), (400, 0.0), (401, 0.0), (402, 0.005005732814838844), (403, 0.004745570689726343), (404, 0.011367537899193874), (405, 0.003967550658902504), (406, 0.0), (407, 0.0), (408, 0.0), (409, 0.01038899968775415), (410, 0.0047492091689549714), (411, 0.003928995166972351), (412, 0.004721742631392708), (413, 0.020924225731814676), (414, 0.0), (415, 0.0), (416, 0.014259714230079483), (417, 0.004540726299678445), (418, 0.0), (419, 0.0), (420, 0.004943390170972968), (421, 0.0), (422, 0.0), (423, 0.04375392860355988), (424, 0.0), (425, 0.005584425710686606), (426, 0.004792672574613173), (427, 0.03820424319051459), (428, 0.016199326246391605), (429, 0.004381618520083054), (430, 0.0), (431, 0.005041178572382319), (432, 0.014994021509756117), (433, 0.005592657773127807), (434, 0.0), (435, 0.018510703449828275), (436, 0.0), (437, 0.005655027830815397), (438, 0.01685914101213299), (439, 0.0), (440, 0.01442263206303104), (441, 0.0), (442, 0.0), (443, 0.013634856469241645), (444, 0.00451649188540535), (445, 0.01415689655999634), (446, 0.004934521463551425), (447, 0.0), (448, 0.011713808654428998), (449, 0.0), (450, 0.0), (451, 0.03119479609408928), (452, 0.0), (453, 0.0), (454, 0.00868638514602105), (455, 0.0), (456, 0.0), (457, 0.014657377974820135), (458, 0.0), (459, 0.027579159898259948), (460, 0.015470978308196421), (461, 0.0), (462, 0.0), (463, 0.015691186002225854), (464, 0.0), (465, 0.07549996366045522), (466, 0.005571320463992504), (467, 0.0), (468, 0.0), (469, 0.004611821037720263), (470, 0.02401407681581802), (471, 0.01295089091023863), (472, 0.0), (473, 0.004992071036297308), (474, 0.0), (475, 0.004296412796667481), (476, 0.005211842850349689), (477, 0.0), (478, 0.0), (479, 0.005471218218754874), (480, 0.005217168078559108), (481, 0.0), (482, 0.029007287071808295), (483, 0.009076746896091158), (484, 0.008924338140306897), (485, 0.004518169367393554), (486, 0.03051386022749813), (487, 0.0), (488, 0.0), (489, 0.007323416264356682), (490, 0.014737421599395707), (491, 0.013173238509748001), (492, 0.0), (493, 0.0155788604947088), (494, 0.03018646464275429), (495, 0.010177612463481398), (496, 0.0), (497, 0.005845889803813392), (498, 0.0), (499, 0.005374273048850546), (500, 0.0), (501, 0.005204939684255016), (502, 0.0), (503, 0.013599389681233255), (504, 0.0), (505, 0.009841198176394105), (506, 0.0), (507, 0.0), (508, 0.0), (509, 0.0), (510, 0.041310195563227486), (511, 0.0), (512, 0.0), (513, 0.0), (514, 0.003802263591925764), (515, 0.017807478549969193), (516, 0.03581084139757985), (517, 0.0048463372287027955), (518, 0.005781055490953509), (519, 0.0), (520, 0.0), (521, 0.0), (522, 0.0), (523, 0.005136386923636486), (524, 0.0), (525, 0.038885480280000606), (526, 0.019361684305279615), (527, 0.008568716161778081), (528, 0.011367323787167302), (529, 0.0), (530, 0.016605565535105237), (531, 0.004665510958945477), (532, 0.0), (533, 0.005311393387919356), (534, 0.017402542426766903), (535, 0.01855202096824341), (536, 0.01424350636877924), (537, 0.004905126252707732), (538, 0.0), (539, 0.005552784767001945), (540, 0.02307124405523469), (541, 0.0), (542, 0.004628198530128769), (543, 0.0), (544, 0.005003308790125281), (545, 0.0), (546, 0.0), (547, 0.0), (548, 0.0), (549, 0.013481451734414044), (550, 0.0), (551, 0.014548340049704716), (552, 0.0), (553, 0.03315662394309472), (554, 0.005004120793216634), (555, 0.019699596565708875), (556, 0.0), (557, 0.005092239750689942), (558, 0.004505151212634812), (559, 0.01334289991268482), (560, 0.0048646165906342026), (561, 0.0), (562, 0.0), (563, 0.005180908290225637), (564, 0.0), (565, 0.0), (566, 0.032923948497690605), (567, 0.015774775460333963), (568, 0.0), (569, 0.0), (570, 0.0), (571, 0.0), (572, 0.0), (573, 0.06112515276455681), (574, 0.0), (575, 0.015205866917054422), (576, 0.0), (577, 0.004668776150807263), (578, 0.022366772635453624), (579, 0.0), (580, 0.0), (581, 0.004516105196737033), (582, 0.004801367803411438), (583, 0.0), (584, 0.006052260100613623), (585, 0.0), (586, 0.004422840570718693), (587, 0.004317739561288413), (588, 0.0), (589, 0.03244633765577647), (590, 0.0), (591, 0.02155545918803869), (592, 0.00889253832586683), (593, 0.0), (594, 0.0), (595, 0.0), (596, 0.032704955117148285), (597, 0.0), (598, 0.08468865955572483), (599, 0.0), (600, 0.04335941453711764), (601, 0.0), (602, 0.0), (603, 0.004156906889898042), (604, 0.0), (605, 0.02091245790815054), (606, 0.0), (607, 0.0), (608, 0.004767216576811029), (609, 0.0), (610, 0.0), (611, 0.0), (612, 0.016388087698066933), (613, 0.0), (614, 0.0), (615, 0.03444392315845659), (616, 0.0), (617, 0.004499684385088003), (618, 0.004359706652313697), (619, 0.032696824706616605), (620, 0.009897391290359372), (621, 0.0), (622, 0.0), (623, 0.0), (624, 0.028996884453036578), (625, 0.020459565848002483), (626, 0.00564880163332725), (627, 0.00758264770213089), (628, 0.004642464171157185), (629, 0.026891677313767084), (630, 0.017352558160431047), (631, 0.0), (632, 0.0), (633, 0.008087613953584186), (634, 0.009782751796187894), (635, 0.0), (636, 0.0), (637, 0.036468372633097254), (638, 0.024237975389239448), (639, 0.0), (640, 0.0), (641, 0.0), (642, 0.0), (643, 0.004996472275163464), (644, 0.005034144474313122), (645, 0.0), (646, 0.0), (647, 0.004532180821918362), (648, 0.012473906787784279), (649, 0.0), (650, 0.0), (651, 0.054537920730885384), (652, 0.01905291279644959), (653, 0.015012973923155414), (654, 0.005262272876711542), (655, 0.0), (656, 0.009837018975232837), (657, 0.0052250429378371795), (658, 0.0), (659, 0.0), (660, 0.019295766526527085), (661, 0.0), (662, 0.0), (663, 0.005573721952190769), (664, 0.0), (665, 0.012912501715245283), (666, 0.009406076885294688), (667, 0.0), (668, 0.0), (669, 0.0), (670, 0.01499020447343746), (671, 0.00466873123584049), (672, 0.0051913913571812), (673, 0.003774497997645134), (674, 0.0), (675, 0.0048153593055002475), (676, 0.039636802358890035), (677, 0.00969257941786428), (678, 0.011537150948175852), (679, 0.0), (680, 0.0), (681, 0.026729468019970525), (682, 0.015230111896003496), (683, 0.0), (684, 0.0), (685, 0.0), (686, 0.0), (687, 0.0), (688, 0.014846984281893655), (689, 0.04264821241717966), (690, 0.0), (691, 0.004631580182322805), (692, 0.004504710781634412), (693, 0.0), (694, 0.07106820180196338), (695, 0.0), (696, 0.005489335887911675), (697, 0.005150569461609542), (698, 0.024861724396471874), (699, 0.0), (700, 0.0), (701, 0.0), (702, 0.0), (703, 0.0139879376435264), (704, 0.03707782659096798), (705, 0.01415660845815904), (706, 0.005389285208075826), (707, 0.0), (708, 0.009194351373829752), (709, 0.0), (710, 0.01030926425196017), (711, 0.0), (712, 0.0), (713, 0.015745006313693972), (714, 0.0), (715, 0.033713577618249065), (716, 0.0), (717, 0.0051946874482210175), (718, 0.0), (719, 0.03122080928885044), (720, 0.005058200708499912), (721, 0.004670332095220763), (722, 0.0), (723, 0.004199873564531194), (724, 0.0), (725, 0.0), (726, 0.038203181334157704), (727, 0.0), (728, 0.004590858152740737), (729, 0.0), (730, 0.004305015398876736), (731, 0.0), (732, 0.005643349237450067), (733, 0.014241045717492972), (734, 0.0), (735, 0.0), (736, 0.013196129026278643), (737, 0.0), (738, 0.03638176684628716), (739, 0.004699966901780612), (740, 0.0), (741, 0.0), (742, 0.0), (743, 0.004496409911923556), (744, 0.004915382231098688), (745, 0.0), (746, 0.0), (747, 0.0), (748, 0.0), (749, 0.0), (750, 0.006473231245224724), (751, 0.04697868140872891), (752, 0.009072965596857217), (753, 0.005136041568184558), (754, 0.0), (755, 0.0), (756, 0.014716913691751616), (757, 0.016000401553176814), (758, 0.005426825625484523), (759, 0.004848791066445822), (760, 0.0), (761, 0.009331509730217675), (762, 0.0), (763, 0.052092897347393474), (764, 0.04097222549526934), (765, 0.016864215747196404), (766, 0.005170127126357656), (767, 0.0051071089568624686), (768, 0.0), (769, 0.0), (770, 0.0), (771, 0.0), (772, 0.00465403813609618), (773, 0.017056585374669007), (774, 0.0), (775, 0.041713384430398244), (776, 0.01608584126487508), (777, 0.014653751621856198), (778, 0.0), (779, 0.052086956407090976), (780, 0.0), (781, 0.0), (782, 0.0), (783, 0.0), (784, 0.0), (785, 0.047603163614436346), (786, 0.0), (787, 0.004249960977574299), (788, 0.00473340629033752), (789, 0.03191098369216109), (790, 0.03619770915528303), (791, 0.005672334529767736), (792, 0.014002886044304509), (793, 0.015787351645184255), (794, 0.008127739158206856), (795, 0.018766102504110357), (796, 0.0), (797, 0.0), (798, 0.026812104987959856), (799, 0.0), (800, 0.0), (801, 0.0), (802, 0.004587430410399572), (803, 0.0), (804, 0.0), (805, 0.0), (806, 0.015444506614460191), (807, 0.005265520397663918), (808, 0.0), (809, 0.025913232874718646), (810, 0.01803614808736752), (811, 0.05101650891199949), (812, 0.04956364046229349), (813, 0.04017020282215855), (814, 0.013902716957318593), (815, 0.027230789803433526), (816, 0.015787337357693547), (817, 0.014002161307748248), (818, 0.0), (819, 0.0), (820, 0.0), (821, 0.0), (822, 0.01668686500797552), (823, 0.036591611061542614), (824, 0.0), (825, 0.0), (826, 0.01680097496478497), (827, 0.013581416092768693), (828, 0.0052473018505172124), (829, 0.005560309002583649), (830, 0.00891140540064806), (831, 0.0), (832, 0.010995315494537753), (833, 0.03929519716056988), (834, 0.0), (835, 0.0), (836, 0.009153922653065418), (837, 0.03343932897345524), (838, 0.005352555779185033), (839, 0.023850571030053815), (840, 0.0), (841, 0.005435880180643097), (842, 0.005750040244625275), (843, 0.0), (844, 0.0), (845, 0.0), (846, 0.00440465362567902), (847, 0.009230364225118338), (848, 0.06738191916054065), (849, 0.0), (850, 0.0), (851, 0.0), (852, 0.07957569033915024), (853, 0.05028677061274238), (854, 0.009064504708261775), (855, 0.004534362737023951), (856, 0.0), (857, 0.005155191540732447), (858, 0.06356114635028344), (859, 0.0), (860, 0.059994846637128015), (861, 0.0), (862, 0.014379335853809329), (863, 0.0), (864, 0.0), (865, 0.0), (866, 0.04600025714452572), (867, 0.004735263557364225), (868, 0.015218787580191963), (869, 0.053650530204484195), (870, 0.0791869348682522), (871, 0.005110899755391265), (872, 0.0), (873, 0.005134298610093287), (874, 0.05551409996078751), (875, 0.09345603441775654), (876, 0.0), (877, 0.036304247206515164), (878, 0.0), (879, 0.005036651537094839), (880, 0.0), (881, 0.005977676398056789), (882, 0.015667308924841018), (883, 0.004905949781492799), (884, 0.005576131348228976), (885, 0.01588569812795304), (886, 0.06642022944615239), (887, 0.04851663615134992), (888, 0.0), (889, 0.0), (890, 0.0), (891, 0.013642467126050939), (892, 0.005102040593591975), (893, 0.0), (894, 0.0), (895, 0.0), (896, 0.009241901938660363), (897, 0.005277827043982098), (898, 0.020949951775741917), (899, 0.005221462611306453), (900, 0.016395149312514106), (901, 0.012943309329922086), (902, 0.041743948290228455), (903, 0.0), (904, 0.025062743711720778), (905, 0.0), (906, 0.0), (907, 0.013958586755800723), (908, 0.0), (909, 0.0), (910, 0.019621279265821294), (911, 0.0), (912, 0.015575238804065467), (913, 0.0), (914, 0.0045020478981186735), (915, 0.020302420425762545), (916, 0.0), (917, 0.07367785926355039), (918, 0.031564115053948044), (919, 0.0), (920, 0.004750371558724359), (921, 0.0), (922, 0.004984956643842113), (923, 0.03384738489577923), (924, 0.005165023916362662), (925, 0.015411070262860472), (926, 0.0), (927, 0.0), (928, 0.0), (929, 0.008856799838598496), (930, 0.00918572700302307), (931, 0.005239838126679794), (932, 0.0), (933, 0.03622412306249725), (934, 0.004246395400584904), (935, 0.015482250049103984), (936, 0.0), (937, 0.0), (938, 0.0), (939, 0.0), (940, 0.035939231412578265), (941, 0.00440267841808284), (942, 0.021078162714869418), (943, 0.0), (944, 0.03825599228929449), (945, 0.0), (946, 0.004621093365181517), (947, 0.0), (948, 0.04391958941098382), (949, 0.005056917079213161), (950, 0.0), (951, 0.0), (952, 0.0), (953, 0.0), (954, 0.0), (955, 0.004606334682067561), (956, 0.0), (957, 0.013720547387100315), (958, 0.005361503871198759), (959, 0.004377910073502227), (960, 0.0), (961, 0.0133485765551078), (962, 0.014519861746405417), (963, 0.009017735890524934), (964, 0.05171198717826881), (965, 0.0), (966, 0.04124940747002953), (967, 0.0), (968, 0.005079173820111284), (969, 0.009359048608238914), (970, 0.0), (971, 0.015891846464578727), (972, 0.015553889050597196), (973, 0.0), (974, 0.004475129335648393), (975, 0.03419045841865335), (976, 0.0), (977, 0.0), (978, 0.04097912367606822), (979, 0.005130605558047139), (980, 0.010692068072735641), (981, 0.005113617796086156), (982, 0.005096357941697785), (983, 0.0), (984, 0.0), (985, 0.0), (986, 0.0), (987, 0.0), (988, 0.004867048930620598), (989, 0.0), (990, 0.016792427583383843), (991, 0.0), (992, 0.0), (993, 0.015642861407061757), (994, 0.004172631930381646), (995, 0.01382926983058065), (996, 0.0), (997, 0.028816126899943183), (998, 0.03593858614667995), (999, 0.011585219039347852), (1000, 0.0), (1001, 0.0), (1002, 0.010781938971528583), (1003, 0.0), (1004, 0.14239951680680984), (1005, 0.0), (1006, 0.013470240018936212), (1007, 0.040200065278030134), (1008, 0.0), (1009, 0.0), (1010, 0.0), (1011, 0.0), (1012, 0.0), (1013, 0.0), (1014, 0.0), (1015, 0.010471610804821212), (1016, 0.01839069313294394), (1017, 0.02026034122394825), (1018, 0.07043461157754634), (1019, 0.0), (1020, 0.0055569872563763535), (1021, 0.015474118386118282), (1022, 0.0), (1023, 0.0), (1024, 0.0), (1025, 0.01857041697751073), (1026, 0.011727119657024639), (1027, 0.0), (1028, 0.0), (1029, 0.0), (1030, 0.017732268435133137), (1031, 0.018025304360533272), (1032, 0.011916302869083142), (1033, 0.0), (1034, 0.0), (1035, 0.0), (1036, 0.0), (1037, 0.0), (1038, 0.009463329850181858), (1039, 0.0), (1040, 0.0), (1041, 0.0), (1042, 0.04252307765611908), (1043, 0.0), (1044, 0.0), (1045, 0.013981587384014211), (1046, 0.0033598412538135454), (1047, 0.0), (1048, 0.005137138569349899), (1049, 0.0), (1050, 0.015096505079983353), (1051, 0.0), (1052, 0.012834997944038444), (1053, 0.0), (1054, 0.0), (1055, 0.07234117832266285), (1056, 0.0), (1057, 0.004954417046612558), (1058, 0.0), (1059, 0.03036754986703572), (1060, 0.057896868279893765), (1061, 0.020533229132577758), (1062, 0.0), (1063, 0.010592663311729013), (1064, 0.008101577172636676), (1065, 0.013828222431065568), (1066, 0.0), (1067, 0.012589536466176542), (1068, 0.0), (1069, 0.0), (1070, 0.005229789309224071), (1071, 0.0), (1072, 0.0), (1073, 0.005180521530720832), (1074, 0.0), (1075, 0.0045533449405806845), (1076, 0.005202236675713528), (1077, 0.0), (1078, 0.010005221336452262), (1079, 0.0), (1080, 0.10140282096170863), (1081, 0.015484964970268583), (1082, 0.00850062298723199), (1083, 0.0), (1084, 0.0), (1085, 0.0), (1086, 0.010496110092287386), (1087, 0.0), (1088, 0.03786361584722179), (1089, 0.0), (1090, 0.014864115888497962), (1091, 0.004411025736948736), (1092, 0.0052950623317863195), (1093, 0.0), (1094, 0.0), (1095, 0.0043591401134585985), (1096, 0.0), (1097, 0.004574980536581149), (1098, 0.013788029356755637), (1099, 0.0), (1100, 0.0), (1101, 0.0), (1102, 0.009489028712938443), (1103, 0.004732774271506378), (1104, 0.05947879257652421), (1105, 0.0), (1106, 0.0), (1107, 0.0), (1108, 0.037072414543775474), (1109, 0.004244092479750342), (1110, 0.0), (1111, 0.00840697558507934), (1112, 0.0045318717522246236), (1113, 0.010035070197848342), (1114, 0.0), (1115, 0.02301824724458991), (1116, 0.036835105520719974), (1117, 0.0), (1118, 0.005252267442750562), (1119, 0.004132365607171717), (1120, 0.032194743188925644), (1121, 0.0), (1122, 0.0196876719708821), (1123, 0.07020901228984923), (1124, 0.0), (1125, 0.023719319156876015), (1126, 0.0), (1127, 0.0), (1128, 0.012307935859682491), (1129, 0.0), (1130, 0.0), (1131, 0.0), (1132, 0.0), (1133, 0.0), (1134, 0.0047641415774753474), (1135, 0.0), (1136, 0.0), (1137, 0.014282945597791263), (1138, 0.004270260026382646), (1139, 0.0), (1140, 0.0), (1141, 0.018166180443093947), (1142, 0.0), (1143, 0.015750431293232524), (1144, 0.0), (1145, 0.0), (1146, 0.0), (1147, 0.03528187602061171), (1148, 0.013261155877582677), (1149, 0.03593780013214827), (1150, 0.02077310414548333), (1151, 0.0), (1152, 0.0), (1153, 0.003701971289979729), (1154, 0.014381918210398907), (1155, 0.0), (1156, 0.0), (1157, 0.0), (1158, 0.0), (1159, 0.009359433703141089), (1160, 0.009464566548076887), (1161, 0.0), (1162, 0.02751857703832794), (1163, 0.014281169355676165), (1164, 0.0), (1165, 0.004354972518525459), (1166, 0.0), (1167, 0.017206436155784904), (1168, 0.0151850682530979), (1169, 0.0054054893247761715), (1170, 0.0), (1171, 0.005169101642718304), (1172, 0.0045966630130394115), (1173, 0.0), (1174, 0.0044462356920882415), (1175, 0.0187010229129809), (1176, 0.04130743648228307), (1177, 0.02946799766666204), (1178, 0.0), (1179, 0.0055496718819203535), (1180, 0.013293093751368038), (1181, 0.005414096336565486), (1182, 0.0048691936798424896), (1183, 0.06976605656826619), (1184, 0.0), (1185, 0.01890132950258963), (1186, 0.0), (1187, 0.009556197763529282), (1188, 0.06451140186152955), (1189, 0.0), (1190, 0.06821726636780852), (1191, 0.013515067520212289), (1192, 0.0), (1193, 0.0), (1194, 0.0), (1195, 0.0), (1196, 0.0), (1197, 0.0), (1198, 0.0), (1199, 0.0), (1200, 0.0), (1201, 0.0), (1202, 0.020186880359824095), (1203, 0.010338789938441513), (1204, 0.013759613761871367), (1205, 0.0), (1206, 0.0), (1207, 0.02326013308630282), (1208, 0.021315690380991365), (1209, 0.004206932139164461), (1210, 0.0), (1211, 0.0), (1212, 0.004091698494492327), (1213, 0.008775631395114844), (1214, 0.00424176597259559), (1215, 0.016727617024353054), (1216, 0.053416575297587685), (1217, 0.004403335942004936), (1218, 0.0), (1219, 0.0), (1220, 0.004548294292579956), (1221, 0.02112065287090046), (1222, 0.0), (1223, 0.03753863480383404), (1224, 0.0), (1225, 0.04357224045797773), (1226, 0.011464221981603937), (1227, 0.02084696458224667), (1228, 0.033213128471955275), (1229, 0.0), (1230, 0.005303336672421718), (1231, 0.0), (1232, 0.013912445311169126), (1233, 0.052018721093724504), (1234, 0.0), (1235, 0.0702119308708402), (1236, 0.0), (1237, 0.0041815431416515544), (1238, 0.005012885127754699), (1239, 0.0), (1240, 0.004968945097560946), (1241, 0.01564004790352964), (1242, 0.0), (1243, 0.004555350725099022), (1244, 0.013359764773845697), (1245, 0.0), (1246, 0.014887606557134806), (1247, 0.00490970693376729), (1248, 0.03913616660372504), (1249, 0.0), (1250, 0.0), (1251, 0.0), (1252, 0.03808592811981658), (1253, 0.0), (1254, 0.005212375925363985), (1255, 0.004410429277701733), (1256, 0.0), (1257, 0.005311187256504769), (1258, 0.02140745566225182), (1259, 0.0), (1260, 0.014206530638647403), (1261, 0.018486094107798418), (1262, 0.0), (1263, 0.018885880624894078), (1264, 0.008849969519057088), (1265, 0.004749238374201366), (1266, 0.0), (1267, 0.0), (1268, 0.024129031116704506), (1269, 0.00546088435457412), (1270, 0.0), (1271, 0.009428692149031475), (1272, 0.005184790435788005), (1273, 0.0), (1274, 0.0), (1275, 0.009806825848718987), (1276, 0.004972661318630529), (1277, 0.0), (1278, 0.0057606602814745025), (1279, 0.00992897434668895), (1280, 0.021031552873436193), (1281, 0.0), (1282, 0.009321294631465624), (1283, 0.0), (1284, 0.0), (1285, 0.0), (1286, 0.012170898543779205), (1287, 0.0), (1288, 0.0), (1289, 0.0), (1290, 0.0), (1291, 0.017975683135795905), (1292, 0.00456443348321503), (1293, 0.00881879800729743), (1294, 0.0049421876691727405), (1295, 0.020399526723400566), (1296, 0.034075885178125515), (1297, 0.0), (1298, 0.004141736795948675), (1299, 0.013477880624280654), (1300, 0.0401252320465744), (1301, 0.0), (1302, 0.0), (1303, 0.0), (1304, 0.0034987695783305767), (1305, 0.019824026371093893), (1306, 0.0), (1307, 0.0), (1308, 0.0), (1309, 0.055134601670203204), (1310, 0.0), (1311, 0.026068207412455954), (1312, 0.032253983826331795), (1313, 0.0), (1314, 0.037794334575729636), (1315, 0.021313029746800508), (1316, 0.0), (1317, 0.0), (1318, 0.004890387745078308), (1319, 0.0), (1320, 0.010508764787370107), (1321, 0.0), (1322, 0.00511979415643227), (1323, 0.0), (1324, 0.015185531309038458), (1325, 0.0), (1326, 0.0), (1327, 0.0), (1328, 0.004766155058814288), (1329, 0.01499903916323115), (1330, 0.0), (1331, 0.0), (1332, 0.0), (1333, 0.0), (1334, 0.0), (1335, 0.022268444953213458), (1336, 0.0049976530740493685), (1337, 0.01486379787985995), (1338, 0.0), (1339, 0.0), (1340, 0.0), (1341, 0.0), (1342, 0.0), (1343, 0.0), (1344, 0.0), (1345, 0.0), (1346, 0.010107991602337024), (1347, 0.0), (1348, 0.04419082706860378), (1349, 0.004824380522953185), (1350, 0.020936310071090956), (1351, 0.0), (1352, 0.05560787272442911), (1353, 0.0), (1354, 0.0), (1355, 0.0), (1356, 0.031093639239353318), (1357, 0.0), (1358, 0.005908628107153071), (1359, 0.009058295697759775), (1360, 0.0), (1361, 0.004567501931454212), (1362, 0.005239499272020718), (1363, 0.0), (1364, 0.0), (1365, 0.0), (1366, 0.013236047533232409), (1367, 0.0048782808937592225), (1368, 0.006997255821234283), (1369, 0.009682598308676023), (1370, 0.00831380167577701), (1371, 0.0), (1372, 0.013443648608908119), (1373, 0.015495512297469826), (1374, 0.0), (1375, 0.03376210519421523), (1376, 0.016091963708120376), (1377, 0.0), (1378, 0.0), (1379, 0.004755155704260668), (1380, 0.010077984888578934), (1381, 0.005678429428471485), (1382, 0.0), (1383, 0.0), (1384, 0.01517639421458584), (1385, 0.0), (1386, 0.0), (1387, 0.0), (1388, 0.004925008924425827), (1389, 0.0), (1390, 0.0), (1391, 0.0), (1392, 0.009793344065020063), (1393, 0.01745533326249754), (1394, 0.0), (1395, 0.0), (1396, 0.0), (1397, 0.004555776565260496), (1398, 0.0), (1399, 0.0), (1400, 0.013382222879881459), (1401, 0.01591878887488469), (1402, 0.0), (1403, 0.04257700486089828), (1404, 0.007835768473430881), (1405, 0.015931485770990846), (1406, 0.004418662318294365), (1407, 0.0), (1408, 0.04032182560434093), (1409, 0.010817274298163575), (1410, 0.004906953436462666), (1411, 0.0), (1412, 0.0), (1413, 0.004867890840012455), (1414, 0.01270842763738312), (1415, 0.0), (1416, 0.014693156287785449), (1417, 0.0), (1418, 0.0), (1419, 0.0), (1420, 0.0), (1421, 0.0), (1422, 0.005266777212145624), (1423, 0.0), (1424, 0.0), (1425, 0.0), (1426, 0.0), (1427, 0.0), (1428, 0.00887496603147233), (1429, 0.0), (1430, 0.038795687259418676), (1431, 0.004671178448072118), (1432, 0.005097961513393211), (1433, 0.013213185102826576), (1434, 0.0), (1435, 0.022361204977304462), (1436, 0.0), (1437, 0.0), (1438, 0.0), (1439, 0.0), (1440, 0.004981372979977397), (1441, 0.03994836881470864), (1442, 0.014318538886427572), (1443, 0.014389926873930304), (1444, 0.015990716420237566), (1445, 0.0), (1446, 0.0), (1447, 0.0), (1448, 0.0), (1449, 0.014734717941227686), (1450, 0.0), (1451, 0.004789094300114422), (1452, 0.0), (1453, 0.004470287986851922), (1454, 0.01207203228570121), (1455, 0.0), (1456, 0.0), (1457, 0.0), (1458, 0.01340150435344343), (1459, 0.0), (1460, 0.015164472679579034), (1461, 0.019487787439408398), (1462, 0.0), (1463, 0.0), (1464, 0.0), (1465, 0.031229308310472027), (1466, 0.0), (1467, 0.018442567935354356), (1468, 0.020226828639284197), (1469, 0.03638233968347838), (1470, 0.004995642259401731), (1471, 0.0), (1472, 0.013273218076037789), (1473, 0.00485877001982754), (1474, 0.022118246878028828), (1475, 0.01635700918635687), (1476, 0.0), (1477, 0.03655512074073962), (1478, 0.0), (1479, 0.0), (1480, 0.0), (1481, 0.0), (1482, 0.004745061092760184), (1483, 0.02810432949587418), (1484, 0.004462537669735012), (1485, 0.0), (1486, 0.0), (1487, 0.0), (1488, 0.011423453128701584), (1489, 0.03815489046655398), (1490, 0.005179219917510111), (1491, 0.0), (1492, 0.01818412363947137), (1493, 0.0), (1494, 0.01435788478626425), (1495, 0.014274541704142092), (1496, 0.0), (1497, 0.004372309088038683), (1498, 0.0), (1499, 0.020313451789105468), (1500, 0.00985185577531792), (1501, 0.005067207824050505), (1502, 0.005101104346725694), (1503, 0.0), (1504, 0.0), (1505, 0.0), (1506, 0.0), (1507, 0.009378776185081665), (1508, 0.0), (1509, 0.04594056717060347), (1510, 0.0), (1511, 0.0), (1512, 0.004715613119583623), (1513, 0.013484516929071343), (1514, 0.03728636982054197), (1515, 0.020544704652692064), (1516, 0.0), (1517, 0.0), (1518, 0.0), (1519, 0.0039039328951035825), (1520, 0.0), (1521, 0.06843220239553044), (1522, 0.0), (1523, 0.0141722317645625), (1524, 0.0), (1525, 0.005252450639582119), (1526, 0.015005317376097088), (1527, 0.07216839235591468), (1528, 0.0), (1529, 0.0), (1530, 0.033290001841802974), (1531, 0.0), (1532, 0.0), (1533, 0.03479269954610061), (1534, 0.0), (1535, 0.005521707393364699), (1536, 0.0), (1537, 0.042404025360612024), (1538, 0.059910948397797516), (1539, 0.0), (1540, 0.014840416885215639), (1541, 0.0), (1542, 0.0), (1543, 0.017322526699568835), (1544, 0.0), (1545, 0.004649475723947345), (1546, 0.0), (1547, 0.0), (1548, 0.005005387669972363), (1549, 0.0), (1550, 0.0), (1551, 0.017167013376687322), (1552, 0.0), (1553, 0.0), (1554, 0.0), (1555, 0.0), (1556, 0.0), (1557, 0.0), (1558, 0.0), (1559, 0.09250554446118267), (1560, 0.06230329191764532), (1561, 0.07231722728594012), (1562, 0.004804328947573031), (1563, 0.018377309674374252), (1564, 0.02821657304252457), (1565, 0.02493656399133256), (1566, 0.0), (1567, 0.027878013915018877), (1568, 0.0), (1569, 0.02054045860843289), (1570, 0.0), (1571, 0.018795690382819998), (1572, 0.016148462563830863), (1573, 0.0), (1574, 0.0), (1575, 0.013076851171788889), (1576, 0.005110355513816844), (1577, 0.018494800391814867), (1578, 0.049932420464980684), (1579, 0.05664486225358879), (1580, 0.0), (1581, 0.0), (1582, 0.014664310687397526), (1583, 0.004135097368770763), (1584, 0.0), (1585, 0.004768709680227467), (1586, 0.0), (1587, 0.0), (1588, 0.013753247380586722), (1589, 0.0), (1590, 0.012115206144109858), (1591, 0.01373898224654973), (1592, 0.0), (1593, 0.0), (1594, 0.030446437588189365), (1595, 0.014577484569631068), (1596, 0.004958278524623183), (1597, 0.0), (1598, 0.031921175937618354), (1599, 0.015534039857753246), (1600, 0.0), (1601, 0.0710671270974909), (1602, 0.0), (1603, 0.015607101446300821), (1604, 0.0), (1605, 0.004218067280975206), (1606, 0.014456690028765469), (1607, 0.004296587515203317), (1608, 0.0), (1609, 0.020399741590407014), (1610, 0.0), (1611, 0.007738354620939838), (1612, 0.02050544586542711), (1613, 0.03887569686090244), (1614, 0.07332451263304443), (1615, 0.0), (1616, 0.0), (1617, 0.0), (1618, 0.0), (1619, 0.01435711890313012), (1620, 0.0), (1621, 0.005388649476691083), (1622, 0.004155309042142658), (1623, 0.025250855153595146), (1624, 0.017331010718921364), (1625, 0.02674169888716575), (1626, 0.0), (1627, 0.0), (1628, 0.005251579683336766), (1629, 0.016156835577829372), (1630, 0.013853622606004968), (1631, 0.0), (1632, 0.01327341117470177), (1633, 0.005193828717822784), (1634, 0.0), (1635, 0.0), (1636, 0.0), (1637, 0.0), (1638, 0.01407289211068913), (1639, 0.0), (1640, 0.0), (1641, 0.0), (1642, 0.03143139815868294), (1643, 0.0), (1644, 0.0), (1645, 0.0), (1646, 0.015779525340166446), (1647, 0.015970359968659153), (1648, 0.0), (1649, 0.015141463746085517), (1650, 0.0), (1651, 0.0), (1652, 0.005202798772870602), (1653, 0.0), (1654, 0.0), (1655, 0.01871624791078225), (1656, 0.004737982217131917), (1657, 0.0), (1658, 0.0), (1659, 0.003955863710351404), (1660, 0.004658133384266458), (1661, 0.0), (1662, 0.0), (1663, 0.0), (1664, 0.03024446245609955), (1665, 0.017260370338127252), (1666, 0.0), (1667, 0.01935779683779852), (1668, 0.02248688475123926), (1669, 0.0186843232524469), (1670, 0.014318595453445656), (1671, 0.004693699412258046), (1672, 0.004459131101728743), (1673, 0.0), (1674, 0.0), (1675, 0.0057669750954073605), (1676, 0.0041392592490315985), (1677, 0.0), (1678, 0.0), (1679, 0.018208163970982228), (1680, 0.0), (1681, 0.0), (1682, 0.0), (1683, 0.03624824069177458), (1684, 0.06965434303002914), (1685, 0.0), (1686, 0.0), (1687, 0.004746248603556842), (1688, 0.015363531896723345), (1689, 0.07777774449233436), (1690, 0.0), (1691, 0.0), (1692, 0.02436877869228301), (1693, 0.005292264275968813), (1694, 0.029349882453195884), (1695, 0.05452501199185703), (1696, 0.03945781091324187), (1697, 0.0), (1698, 0.0), (1699, 0.005181874268414475), (1700, 0.0), (1701, 0.006561936625770169), (1702, 0.05563414086860024), (1703, 0.0), (1704, 0.0), (1705, 0.03368364879635727), (1706, 0.0), (1707, 0.004524088083503363), (1708, 0.0), (1709, 0.0), (1710, 0.03557598198414045), (1711, 0.005206153442925582), (1712, 0.0), (1713, 0.0), (1714, 0.015398249917099961), (1715, 0.0), (1716, 0.02531758432616057), (1717, 0.013966366159402829), (1718, 0.0), (1719, 0.0), (1720, 0.0), (1721, 0.0), (1722, 0.004619143920725541), (1723, 0.0), (1724, 0.031745896413253746), (1725, 0.0), (1726, 0.0), (1727, 0.0), (1728, 0.004766953378219873), (1729, 0.0), (1730, 0.0), (1731, 0.01751788349713055), (1732, 0.005498555626208554), (1733, 0.0), (1734, 0.0), (1735, 0.004136801252911734), (1736, 0.004551757073247231), (1737, 0.015814931109508823), (1738, 0.0), (1739, 0.019823464052949092), (1740, 0.0), (1741, 0.0), (1742, 0.0), (1743, 0.0), (1744, 0.02048612301660817), (1745, 0.0), (1746, 0.008923362392204337), (1747, 0.04267172069366562), (1748, 0.010449471332399714), (1749, 0.0), (1750, 0.004508787930530724), (1751, 0.020406991091153022), (1752, 0.0), (1753, 0.03389917173984468), (1754, 0.0), (1755, 0.01970470456690685), (1756, 0.03213176106753814), (1757, 0.0), (1758, 0.0), (1759, 0.00554787643291968), (1760, 0.0), (1761, 0.0), (1762, 0.005488656767951537), (1763, 0.0197764535489628), (1764, 0.04484941973315394), (1765, 0.0045083180801748285), (1766, 0.0), (1767, 0.0), (1768, 0.0), (1769, 0.0), (1770, 0.0), (1771, 0.0), (1772, 0.0), (1773, 0.0), (1774, 0.0), (1775, 0.00450895269537566), (1776, 0.07434807018530193), (1777, 0.0), (1778, 0.0), (1779, 0.027012878482905497), (1780, 0.01921141048674342), (1781, 0.005030201186852121), (1782, 0.0), (1783, 0.0), (1784, 0.014529615195898385), (1785, 0.0), (1786, 0.0), (1787, 0.008970099799871765), (1788, 0.0), (1789, 0.0), (1790, 0.03580508606600136), (1791, 0.009868878014382462), (1792, 0.0), (1793, 0.012956040540580999), (1794, 0.005027149297652792), (1795, 0.004167979025873706), (1796, 0.0), (1797, 0.0), (1798, 0.019298392679523865), (1799, 0.01539184491996751), (1800, 0.009061786482331366), (1801, 0.04673932013379271), (1802, 0.004176756335425011), (1803, 0.04627419702373435), (1804, 0.004690750399665557), (1805, 0.016900406374428367), (1806, 0.015198185103055376), (1807, 0.004591824641853997), (1808, 0.0), (1809, 0.0), (1810, 0.0), (1811, 0.0), (1812, 0.0), (1813, 0.0), (1814, 0.0), (1815, 0.0), (1816, 0.016941246082181567), (1817, 0.02462015878524032), (1818, 0.004331699854458292), (1819, 0.0), (1820, 0.004522096752173804), (1821, 0.0), (1822, 0.004632891741652847), (1823, 0.0), (1824, 0.010518146142673535), (1825, 0.0), (1826, 0.0), (1827, 0.004375852906915769), (1828, 0.0), (1829, 0.027403756365427807), (1830, 0.0), (1831, 0.012688262099505028), (1832, 0.01931848116913021), (1833, 0.0), (1834, 0.011338860631380034), (1835, 0.014410702851232962), (1836, 0.0), (1837, 0.003892892611107115), (1838, 0.00450002095046992), (1839, 0.004876129928080019), (1840, 0.015141055284564563), (1841, 0.0), (1842, 0.0), (1843, 0.0), (1844, 0.0), (1845, 0.0), (1846, 0.004818841508635797), (1847, 0.0053610098446946405), (1848, 0.009100441158354011), (1849, 0.027522641643713357), (1850, 0.005418236323951271), (1851, 0.05476585876842796), (1852, 0.006800185615674067), (1853, 0.0), (1854, 0.0), (1855, 0.0), (1856, 0.0), (1857, 0.00522550406230045), (1858, 0.0), (1859, 0.004713296891356838), (1860, 0.0), (1861, 0.017492841099112894), (1862, 0.017529615769202617), (1863, 0.005108286796837174), (1864, 0.0), (1865, 0.028637725015093422), (1866, 0.0), (1867, 0.013568468716352665), (1868, 0.029183538938056544), (1869, 0.012932907531818486), (1870, 0.01740516099031809), (1871, 0.0), (1872, 0.0), (1873, 0.04438701955500356), (1874, 0.0045337602944475145), (1875, 0.0), (1876, 0.0), (1877, 0.003949453809973422), (1878, 0.014665579350727886), (1879, 0.0), (1880, 0.03642683127112836), (1881, 0.0), (1882, 0.0), (1883, 0.0), (1884, 0.005466712666553744), (1885, 0.03461761031568703), (1886, 0.0), (1887, 0.048822204413993334), (1888, 0.0), (1889, 0.014481910307790601), (1890, 0.031211992010044813), (1891, 0.014415563137461515), (1892, 0.0), (1893, 0.0), (1894, 0.005400874723315928), (1895, 0.017482606391045794), (1896, 0.004755246250386042), (1897, 0.0), (1898, 0.030311759931251205), (1899, 0.0), (1900, 0.004483626047430651), (1901, 0.0), (1902, 0.03445442438377002), (1903, 0.0), (1904, 0.004731060458225585), (1905, 0.004900200437567488), (1906, 0.0), (1907, 0.0044445441598548446), (1908, 0.0), (1909, 0.0), (1910, 0.005035630459095496), (1911, 0.0), (1912, 0.0), (1913, 0.011291584293115152), (1914, 0.0095213325520887), (1915, 0.004918762591863361), (1916, 0.0), (1917, 0.0), (1918, 0.0), (1919, 0.01893919909853597), (1920, 0.0), (1921, 0.0), (1922, 0.0), (1923, 0.004320099883775881), (1924, 0.0), (1925, 0.0), (1926, 0.005009826102769523), (1927, 0.018835149361935342), (1928, 0.0), (1929, 0.010136196301961335), (1930, 0.0), (1931, 0.005261642037815833), (1932, 0.0), (1933, 0.031940414191121785), (1934, 0.023827407966699157), (1935, 0.0), (1936, 0.0), (1937, 0.0), (1938, 0.0), (1939, 0.0), (1940, 0.0), (1941, 0.0), (1942, 0.01536076211346641), (1943, 0.009347149799390832), (1944, 0.01887416859247062), (1945, 0.013141965516452534), (1946, 0.004629829929185673), (1947, 0.0), (1948, 0.0040929323023748965), (1949, 0.0), (1950, 0.0), (1951, 0.0), (1952, 0.0), (1953, 0.01601066336828556), (1954, 0.0), (1955, 0.0), (1956, 0.0), (1957, 0.01855827249748544), (1958, 0.049825037383468884), (1959, 0.01652502807559473), (1960, 0.025190287333153493), (1961, 0.0), (1962, 0.0), (1963, 0.02257184448208728), (1964, 0.004408940626336627), (1965, 0.05576289379075773), (1966, 0.008842572653959158), (1967, 0.007464397215228018), (1968, 0.0), (1969, 0.022180855920039218), (1970, 0.0), (1971, 0.0), (1972, 0.0), (1973, 0.018945548567512828), (1974, 0.004546722621854006), (1975, 0.01515359344479253), (1976, 0.005114377360667847), (1977, 0.06717866818387314), (1978, 0.0057680737482301275), (1979, 0.0), (1980, 0.013236540302517481), (1981, 0.004618403904535792), (1982, 0.07246725091830596), (1983, 0.0), (1984, 0.0), (1985, 0.016421112376501432), (1986, 0.0), (1987, 0.0043707777550101015), (1988, 0.0), (1989, 0.0), (1990, 0.005175384939664645), (1991, 0.0), (1992, 0.004745460251363772), (1993, 0.0), (1994, 0.0), (1995, 0.008524378883220609), (1996, 0.026300523618018434), (1997, 0.014220875875576312), (1998, 0.0), (1999, 0.005373456417811953), (2000, 0.015266145242025521), (2001, 0.0), (2002, 0.0), (2003, 0.0), (2004, 0.008055254699316774), (2005, 0.0), (2006, 0.0), (2007, 0.012495269643353568), (2008, 0.004883747617554973), (2009, 0.0), (2010, 0.0), (2011, 0.02097636406443361), (2012, 0.013847025535415365), (2013, 0.0), (2014, 0.0044691470580217685), (2015, 0.004715834223777086), (2016, 0.0), (2017, 0.013910141355084098), (2018, 0.022586296956809693), (2019, 0.0), (2020, 0.0), (2021, 0.0044301749031264576), (2022, 0.0770558998338966), (2023, 0.0), (2024, 0.00487789941368736), (2025, 0.004523675465401456), (2026, 0.0), (2027, 0.0), (2028, 0.0), (2029, 0.0), (2030, 0.032484171657399835), (2031, 0.0), (2032, 0.015587795779443196), (2033, 0.008264194237321987), (2034, 0.0), (2035, 0.005681714565698335), (2036, 0.017717016023889812), (2037, 0.005637745818897993), (2038, 0.015201271754471415), (2039, 0.0), (2040, 0.004890851025909054), (2041, 0.0), (2042, 0.022414135592190264), (2043, 0.0), (2044, 0.0), (2045, 0.017681527599354083), (2046, 0.005088243604824125), (2047, 0.011467320110231953), (2048, 0.037668794391478674), (2049, 0.025055644523066488), (2050, 0.0), (2051, 0.014081611034957203), (2052, 0.004209232178875949), (2053, 0.029200228318249442), (2054, 0.018535903768087288), (2055, 0.0), (2056, 0.0), (2057, 0.0), (2058, 0.0), (2059, 0.016017218338966795), (2060, 0.033251456586337276), (2061, 0.004968947074943327), (2062, 0.004364813411253833), (2063, 0.0), (2064, 0.0123823489574364), (2065, 0.016857189672049976), (2066, 0.004267975476404641), (2067, 0.014925887555855442), (2068, 0.007948320406658209), (2069, 0.004687715232122661), (2070, 0.024136918777761078), (2071, 0.05914193410389442), (2072, 0.0), (2073, 0.0), (2074, 0.0), (2075, 0.0), (2076, 0.0), (2077, 0.0158116405322202), (2078, 0.00473763441155016), (2079, 0.019947829481417746), (2080, 0.0), (2081, 0.0226825546521527), (2082, 0.04353064606460789), (2083, 0.04064702624309621), (2084, 0.0), (2085, 0.013616569341216554), (2086, 0.004766772493387584), (2087, 0.0), (2088, 0.0), (2089, 0.0), (2090, 0.0), (2091, 0.008978133720677689), (2092, 0.014269908434679788), (2093, 0.0), (2094, 0.004554821368941996), (2095, 0.0), (2096, 0.008804185941233082), (2097, 0.012559956833481177), (2098, 0.010674963881791734), (2099, 0.038195673161841456), (2100, 0.0), (2101, 0.0), (2102, 0.0049055288445136415), (2103, 0.0), (2104, 0.01758267790894271), (2105, 0.004686062929163129), (2106, 0.043410022826074104), (2107, 0.01572038028376751), (2108, 0.015085305906441483), (2109, 0.015581046401960827), (2110, 0.0), (2111, 0.0290162744722131), (2112, 0.0), (2113, 0.0), (2114, 0.04034009098588945), (2115, 0.004746937753017096), (2116, 0.054448608031516244), (2117, 0.0), (2118, 0.0), (2119, 0.0), (2120, 0.0), (2121, 0.0), (2122, 0.0), (2123, 0.010311604136260475), (2124, 0.0), (2125, 0.0), (2126, 0.01840277886831841), (2127, 0.0), (2128, 0.01655365210943518), (2129, 0.0), (2130, 0.0), (2131, 0.04498941844573516), (2132, 0.0), (2133, 0.0), (2134, 0.0), (2135, 0.0), (2136, 0.02041199817716967), (2137, 0.0), (2138, 0.003737335790696258), (2139, 0.0), (2140, 0.06787519696774126), (2141, 0.0), (2142, 0.009558266551664855), (2143, 0.0), (2144, 0.0), (2145, 0.0), (2146, 0.0), (2147, 0.0), (2148, 0.04068417793104413), (2149, 0.0), (2150, 0.0), (2151, 0.0), (2152, 0.013584033327333841), (2153, 0.014706572588030816), (2154, 0.0), (2155, 0.004740269773194987), (2156, 0.0), (2157, 0.004590991602299236), (2158, 0.013906971356344179), (2159, 0.017412144093057302), (2160, 0.004256865297440656), (2161, 0.013282260658858498), (2162, 0.0), (2163, 0.004950598993021906), (2164, 0.004065489591587014), (2165, 0.0055846566412269556), (2166, 0.0), (2167, 0.0), (2168, 0.0), (2169, 0.0049644389503481), (2170, 0.012985546768076449), (2171, 0.015971002231871933), (2172, 0.03313865799319394), (2173, 0.01369968263416571), (2174, 0.0), (2175, 0.013442653265819142), (2176, 0.0), (2177, 0.005127606471425965), (2178, 0.013718738656944085), (2179, 0.01492542316970889), (2180, 0.0), (2181, 0.0), (2182, 0.005278540393560725), (2183, 0.01279080638426766), (2184, 0.0), (2185, 0.05017926859365501), (2186, 0.0), (2187, 0.0), (2188, 0.0), (2189, 0.01401565978964882), (2190, 0.014047195390885286), (2191, 0.0), (2192, 0.0), (2193, 0.010900089439575439), (2194, 0.0), (2195, 0.004571985985748436), (2196, 0.0), (2197, 0.020325206897553388), (2198, 0.0), (2199, 0.0), (2200, 0.0), (2201, 0.0), (2202, 0.005211880087904841), (2203, 0.013460321036863883), (2204, 0.0), (2205, 0.05770602039887851), (2206, 0.01377397566754424), (2207, 0.0), (2208, 0.0), (2209, 0.0), (2210, 0.0), (2211, 0.09047634115929679), (2212, 0.010951362018304696), (2213, 0.02743492689952896), (2214, 0.020620529018289688), (2215, 0.0339119556634269), (2216, 0.0), (2217, 0.03666539165134225), (2218, 0.03077088000527739), (2219, 0.0), (2220, 0.004915994528587369), (2221, 0.008247374717229172), (2222, 0.0060765350326366235), (2223, 0.0), (2224, 0.029065133146640172), (2225, 0.05362050328112937), (2226, 0.0), (2227, 0.08292425836145384), (2228, 0.0), (2229, 0.0), (2230, 0.009419640700517007), (2231, 0.005585955860301494), (2232, 0.06477959076995764), (2233, 0.005136100892947987), (2234, 0.0048693271720473275), (2235, 0.0), (2236, 0.0), (2237, 0.004656920223156826), (2238, 0.0672782858940068), (2239, 0.0), (2240, 0.009334742791302034), (2241, 0.015056776753399502), (2242, 0.004848772160586216), (2243, 0.03282717557924542), (2244, 0.0), (2245, 0.020773911807112452), (2246, 0.0), (2247, 0.012169230942760413), (2248, 0.0), (2249, 0.07863418211417149), (2250, 0.0), (2251, 0.0), (2252, 0.0), (2253, 0.0), (2254, 0.0), (2255, 0.010117963074838657), (2256, 0.0), (2257, 0.015292564885976025), (2258, 0.004454975773171962), (2259, 0.0), (2260, 0.02151961292091972), (2261, 0.0), (2262, 0.0), (2263, 0.0), (2264, 0.0), (2265, 0.0), (2266, 0.0), (2267, 0.0), (2268, 0.0), (2269, 0.0), (2270, 0.0), (2271, 0.0), (2272, 0.0), (2273, 0.0), (2274, 0.0), (2275, 0.010412017170504514), (2276, 0.022196143120671082), (2277, 0.0), (2278, 0.0), (2279, 0.0), (2280, 0.0), (2281, 0.0), (2282, 0.0), (2283, 0.004142976355783245), (2284, 0.0), (2285, 0.004672632622590564), (2286, 0.0), (2287, 0.07628321138645168), (2288, 0.0), (2289, 0.021224519296900717), (2290, 0.005614441337366344), (2291, 0.03202505912971818), (2292, 0.0), (2293, 0.0), (2294, 0.004123023149280311), (2295, 0.0), (2296, 0.00984245820981792), (2297, 0.0), (2298, 0.015404901218393155), (2299, 0.012363985263581947), (2300, 0.004073526792192163), (2301, 0.01580554976002306), (2302, 0.0054700369931762515), (2303, 0.02311319381968547), (2304, 0.02948831672117806), (2305, 0.0048071683825596625), (2306, 0.004577167708335225), (2307, 0.03708441530270784), (2308, 0.01004080912152966), (2309, 0.0), (2310, 0.008790040339525386), (2311, 0.01927447582340022), (2312, 0.0), (2313, 0.016300611004378705), (2314, 0.013087239368732717), (2315, 0.0), (2316, 0.0), (2317, 0.0), (2318, 0.0), (2319, 0.0), (2320, 0.01056996518216034), (2321, 0.025053592006999824), (2322, 0.005802247986732059), (2323, 0.02674380957884153), (2324, 0.0), (2325, 0.0169058732866862), (2326, 0.005805914629621786), (2327, 0.0), (2328, 0.01691820183793756), (2329, 0.02951672460695151), (2330, 0.0), (2331, 0.01332513446117233), (2332, 0.02820847739038627), (2333, 0.014936858687175153), (2334, 0.004632721168300545), (2335, 0.004525150628756945), (2336, 0.007294505412563535), (2337, 0.03131861547644373), (2338, 0.013840425199906884), (2339, 0.004469228484753462), (2340, 0.004427815724145955), (2341, 0.0), (2342, 0.005119150321249537), (2343, 0.04480336894401379), (2344, 0.0), (2345, 0.057079433935756624), (2346, 0.00445615493443919), (2347, 0.14353240793281402), (2348, 0.004565322996224656), (2349, 0.0), (2350, 0.017894587675905065), (2351, 0.0), (2352, 0.0), (2353, 0.0), (2354, 0.037697507184033176), (2355, 0.014348757110223985), (2356, 0.0173826048104823), (2357, 0.0329058163181532), (2358, 0.0), (2359, 0.0), (2360, 0.0), (2361, 0.00504155864945531), (2362, 0.015219569475190507), (2363, 0.009604145889906605), (2364, 0.02062766798355594), (2365, 0.013688377335142663), (2366, 0.004020765912590095), (2367, 0.01853732266187496), (2368, 0.004832829518361357), (2369, 0.0), (2370, 0.0), (2371, 0.0), (2372, 0.016521875043669754), (2373, 0.0), (2374, 0.014308045161258184), (2375, 0.0), (2376, 0.01829890244724139), (2377, 0.0), (2378, 0.0), (2379, 0.0), (2380, 0.015319516611171188), (2381, 0.008890627696514546), (2382, 0.016622842233638323), (2383, 0.0), (2384, 0.008055739449962601), (2385, 0.0), (2386, 0.0), (2387, 0.008789521354727579), (2388, 0.0), (2389, 0.0), (2390, 0.0), (2391, 0.0), (2392, 0.0), (2393, 0.0), (2394, 0.005454594619480195), (2395, 0.028893129461349667), (2396, 0.0), (2397, 0.0043150887225059265), (2398, 0.0), (2399, 0.16028075853296117), (2400, 0.005048299392195221), (2401, 0.0), (2402, 0.0), (2403, 0.0), (2404, 0.1701758158868868), (2405, 0.004599656177912895), (2406, 0.0), (2407, 0.01132515319041798), (2408, 0.00470045159372445), (2409, 0.0052871543557694994), (2410, 0.0), (2411, 0.0), (2412, 0.0), (2413, 0.004577703665560636), (2414, 0.015784256281296496), (2415, 0.0), (2416, 0.015821796701641466), (2417, 0.009238783557547883), (2418, 0.0), (2419, 0.0), (2420, 0.005193259166349494), (2421, 0.0), (2422, 0.05223115301217345), (2423, 0.017109539454754564), (2424, 0.0), (2425, 0.00487956620701456), (2426, 0.03988113810825574), (2427, 0.016510405968123476), (2428, 0.0), (2429, 0.00407838206948172), (2430, 0.004914348096931619), (2431, 0.017188634865544734), (2432, 0.05882283046305892), (2433, 0.056335496313490434), (2434, 0.0), (2435, 0.004423030174044122), (2436, 0.0), (2437, 0.006205871822664774), (2438, 0.015644436018133506), (2439, 0.007526211003527462), (2440, 0.0), (2441, 0.018840274572247812), (2442, 0.029841448786661402), (2443, 0.0), (2444, 0.0), (2445, 0.0), (2446, 0.0), (2447, 0.016721665051473905), (2448, 0.0), (2449, 0.015121193819910981), (2450, 0.015256027741338158), (2451, 0.016202554594142514), (2452, 0.0), (2453, 0.0), (2454, 0.009984893238127594), (2455, 0.01841110678001755), (2456, 0.008238935712111584), (2457, 0.004888109515632819), (2458, 0.01499113236580084), (2459, 0.013527698390811181), (2460, 0.0), (2461, 0.019964531474984414), (2462, 0.0), (2463, 0.004588980351132275), (2464, 0.0), (2465, 0.0), (2466, 0.005499342012236984), (2467, 0.015006712873602585), (2468, 0.025312968098708255), (2469, 0.012608192125978203), (2470, 0.004025028267085189), (2471, 0.0), (2472, 0.016728048648089563), (2473, 0.019791483688019175), (2474, 0.021559520410622552), (2475, 0.014890208213315296), (2476, 0.0), (2477, 0.0), (2478, 0.004567361716364125), (2479, 0.0), (2480, 0.054032668128170334), (2481, 0.017340464595971748), (2482, 0.0), (2483, 0.004567843818461558), (2484, 0.0), (2485, 0.0), (2486, 0.0), (2487, 0.06931976291114267), (2488, 0.004859247723671026), (2489, 0.02201321052281321), (2490, 0.0), (2491, 0.0), (2492, 0.0), (2493, 0.016322048078117265), (2494, 0.019042965686121845), (2495, 0.0), (2496, 0.023119427570742593), (2497, 0.0), (2498, 0.0), (2499, 0.0), (2500, 0.01761123935238516), (2501, 0.0), (2502, 0.0), (2503, 0.0), (2504, 0.0), (2505, 0.0), (2506, 0.0), (2507, 0.005596857765679949), (2508, 0.0), (2509, 0.0), (2510, 0.005619786761420405), (2511, 0.005170877046987614), (2512, 0.0), (2513, 0.010946000586742157), (2514, 0.05092240866025677), (2515, 0.011733608402858227), (2516, 0.0), (2517, 0.036877790928801224), (2518, 0.025534250942986586), (2519, 0.02003262540118711), (2520, 0.0), (2521, 0.0), (2522, 0.013582133383794088), (2523, 0.0), (2524, 0.022077720077801614), (2525, 0.004802938469916857), (2526, 0.0), (2527, 0.012139177655114996), (2528, 0.0), (2529, 0.03669847882950648), (2530, 0.0), (2531, 0.0), (2532, 0.024910282825819207), (2533, 0.0), (2534, 0.004838130021483135), (2535, 0.00491253351980334), (2536, 0.004742980543420646), (2537, 0.0), (2538, 0.005283292799850111), (2539, 0.0), (2540, 0.0), (2541, 0.0), (2542, 0.04901497678007036), (2543, 0.005551638909102629), (2544, 0.0), (2545, 0.0), (2546, 0.0), (2547, 0.013567200550468884), (2548, 0.0), (2549, 0.01773749545970532), (2550, 0.0), (2551, 0.0), (2552, 0.0), (2553, 0.0), (2554, 0.014464594815841971), (2555, 0.0), (2556, 0.020533079776205394), (2557, 0.004549208770385798), (2558, 0.0), (2559, 0.0), (2560, 0.02395040369701566), (2561, 0.004477689611098572), (2562, 0.0), (2563, 0.0), (2564, 0.013593430374160467), (2565, 0.014959444625357074), (2566, 0.030001071241337395), (2567, 0.0), (2568, 0.004939357481198474), (2569, 0.015498553031062904), (2570, 0.0), (2571, 0.022680493442388726), (2572, 0.013746477601135992), (2573, 0.013438188439764114), (2574, 0.0), (2575, 0.0), (2576, 0.0), (2577, 0.017096917064979327), (2578, 0.0327857392693216), (2579, 0.0), (2580, 0.028499299587477447), (2581, 0.0), (2582, 0.0282305317483627), (2583, 0.005302395042539036), (2584, 0.009602190008815986), (2585, 0.0), (2586, 0.005777056243374629), (2587, 0.0), (2588, 0.0), (2589, 0.0), (2590, 0.05656829213542178), (2591, 0.028962947439159788), (2592, 0.008279211100637467), (2593, 0.016925934346329254), (2594, 0.015521871094915466), (2595, 0.0), (2596, 0.0042886524052053515), (2597, 0.008370678082198735), (2598, 0.0), (2599, 0.08237713200471806), (2600, 0.014902707849515796), (2601, 0.0), (2602, 0.0), (2603, 0.02972811844576334), (2604, 0.01755069378393391), (2605, 0.03734556847313745), (2606, 0.05024853214187536), (2607, 0.0), (2608, 0.0), (2609, 0.004643621730148434), (2610, 0.0), (2611, 0.021196130107417045), (2612, 0.0), (2613, 0.012995061495188871), (2614, 0.024295901523504946), (2615, 0.004748931770001459), (2616, 0.0), (2617, 0.0), (2618, 0.07062670454424413), (2619, 0.0), (2620, 0.0), (2621, 0.016228933271090963), (2622, 0.0), (2623, 0.0), (2624, 0.0), (2625, 0.005024711191246329), (2626, 0.004154597711059759), (2627, 0.0), (2628, 0.02938028948424594), (2629, 0.02329471450636045), (2630, 0.014225093281583846), (2631, 0.0), (2632, 0.0), (2633, 0.00884866887485484), (2634, 0.0), (2635, 0.005178579537853661), (2636, 0.0), (2637, 0.0), (2638, 0.01060006370354744), (2639, 0.004231891440921821), (2640, 0.0), (2641, 0.0), (2642, 0.0), (2643, 0.0), (2644, 0.0), (2645, 0.0), (2646, 0.005484634452362919), (2647, 0.03311703625829129), (2648, 0.0), (2649, 0.0), (2650, 0.0), (2651, 0.03050593996739326), (2652, 0.0), (2653, 0.0), (2654, 0.0), (2655, 0.0), (2656, 0.0), (2657, 0.0), (2658, 0.0), (2659, 0.01680880779634692), (2660, 0.019411117697990955), (2661, 0.011821463641896159), (2662, 0.0), (2663, 0.0), (2664, 0.030074392476477606), (2665, 0.0), (2666, 0.01231912988179911), (2667, 0.01661723410388672), (2668, 0.014271894421749655), (2669, 0.0044744742029997064), (2670, 0.0), (2671, 0.0), (2672, 0.0), (2673, 0.0), (2674, 0.014480970525686773), (2675, 0.009455520516119607), (2676, 0.0), (2677, 0.015078834492462789), (2678, 0.0), (2679, 0.0), (2680, 0.0), (2681, 0.0), (2682, 0.031027744021043944), (2683, 0.0), (2684, 0.016112424593521593), (2685, 0.004479932676600864), (2686, 0.0), (2687, 0.021525358511999805), (2688, 0.0), (2689, 0.0), (2690, 0.0), (2691, 0.0), (2692, 0.009339289258965258), (2693, 0.1156681419955282), (2694, 0.029543529748700927), (2695, 0.017547853690919706), (2696, 0.0), (2697, 0.0), (2698, 0.01371544907920734), (2699, 0.0), (2700, 0.0), (2701, 0.01765791987382234), (2702, 0.0), (2703, 0.021579269252998624), (2704, 0.004081738393700866), (2705, 0.0), (2706, 0.01361417882128739), (2707, 0.018481944929239887), (2708, 0.022233494625079356), (2709, 0.0), (2710, 0.0140164858549879), (2711, 0.0), (2712, 0.0), (2713, 0.0), (2714, 0.0), (2715, 0.004713514279387198), (2716, 0.014895970337645075), (2717, 0.0162560641075658), (2718, 0.013817097008087927), (2719, 0.020195996038162894), (2720, 0.0050565660352542485), (2721, 0.0), (2722, 0.0), (2723, 0.0), (2724, 0.0), (2725, 0.0), (2726, 0.00405282046090935), (2727, 0.008489454176661608), (2728, 0.0), (2729, 0.016500971191772313), (2730, 0.008370602728332755), (2731, 0.0), (2732, 0.08304224071425467), (2733, 0.0), (2734, 0.004947376481361549), (2735, 0.0), (2736, 0.008836170768083608), (2737, 0.0), (2738, 0.015133812659737681), (2739, 0.01761792425846044), (2740, 0.0), (2741, 0.04380271837643004), (2742, 0.007899705101485258), (2743, 0.0), (2744, 0.0), (2745, 0.0), (2746, 0.0), (2747, 0.0), (2748, 0.0), (2749, 0.0), (2750, 0.0), (2751, 0.0), (2752, 0.06638331614333265), (2753, 0.0), (2754, 0.020861874850553762), (2755, 0.0), (2756, 0.01752987132986935), (2757, 0.011113555267235531), (2758, 0.0), (2759, 0.013583304048016038), (2760, 0.0), (2761, 0.0), (2762, 0.0), (2763, 0.016908292871189664), (2764, 0.0), (2765, 0.01686112337242419), (2766, 0.01435208123452982), (2767, 0.0), (2768, 0.0), (2769, 0.013943534162344234), (2770, 0.0), (2771, 0.01682277597022526), (2772, 0.015668956186383975), (2773, 0.00840149912123793), (2774, 0.0), (2775, 0.0), (2776, 0.01592619130921622), (2777, 0.004252092971396953), (2778, 0.005157804281265271), (2779, 0.018364718328185467), (2780, 0.0042228525216155095), (2781, 0.0), (2782, 0.008874213265042579), (2783, 0.0), (2784, 0.003522595743110494), (2785, 0.0), (2786, 0.01966481905115903), (2787, 0.0), (2788, 0.015131834361881326), (2789, 0.022546874113097658), (2790, 0.027991619572985526), (2791, 0.01956651996796951), (2792, 0.0), (2793, 0.0), (2794, 0.0), (2795, 0.004387666436776296), (2796, 0.022037552458920737), (2797, 0.024195511016895793), (2798, 0.0), (2799, 0.01742417685236255), (2800, 0.01940645087643723), (2801, 0.03598325243166029), (2802, 0.013665727693956546), (2803, 0.0), (2804, 0.029078024823389063), (2805, 0.0), (2806, 0.0), (2807, 0.0048232681577300065), (2808, 0.0036265602453059557), (2809, 0.0052269525173031664), (2810, 0.01520302391228716), (2811, 0.0), (2812, 0.004960979200959028), (2813, 0.021805668563461802), (2814, 0.005394336650137651), (2815, 0.013387277209996752), (2816, 0.009355353673605361), (2817, 0.0), (2818, 0.03866291071555597), (2819, 0.004213083432702181), (2820, 0.031782784661587946), (2821, 0.0), (2822, 0.016894276948698637), (2823, 0.00546648788141298), (2824, 0.030829619887103237), (2825, 0.04527149817696649), (2826, 0.009474000394217372), (2827, 0.0), (2828, 0.03149935137122093), (2829, 0.005217415779181229), (2830, 0.009020874429090938), (2831, 0.004988474889090143), (2832, 0.0), (2833, 0.01242168623012813), (2834, 0.0), (2835, 0.05254893672396307), (2836, 0.01457140773886197), (2837, 0.018836282531814057), (2838, 0.014707512590755948), (2839, 0.004603040145103931), (2840, 0.0), (2841, 0.0), (2842, 0.0), (2843, 0.0), (2844, 0.0), (2845, 0.0), (2846, 0.014860261860067878), (2847, 0.014082368071338407), (2848, 0.0), (2849, 0.004428353108009967), (2850, 0.0), (2851, 0.0), (2852, 0.0), (2853, 0.0), (2854, 0.018589352797408296), (2855, 0.017715263663062968), (2856, 0.016128548158721327), (2857, 0.0), (2858, 0.021981513733742263), (2859, 0.07350291890661673), (2860, 0.00850456883427626), (2861, 0.0), (2862, 0.0), (2863, 0.014382014635274993), (2864, 0.005211525574283808), (2865, 0.004491593204147948), (2866, 0.022321359532683833), (2867, 0.0), (2868, 0.003910763218376944), (2869, 0.0), (2870, 0.03647314254659657), (2871, 0.0), (2872, 0.10935338304590239), (2873, 0.0), (2874, 0.0), (2875, 0.017912817828371178), (2876, 0.0), (2877, 0.0), (2878, 0.0), (2879, 0.0), (2880, 0.0), (2881, 0.0), (2882, 0.0), (2883, 0.0), (2884, 0.01615041296509004), (2885, 0.05466659957456628), (2886, 0.0), (2887, 0.016692247925339958), (2888, 0.0), (2889, 0.0), (2890, 0.0), (2891, 0.0), (2892, 0.021922018680965643), (2893, 0.0), (2894, 0.0), (2895, 0.0), (2896, 0.0), (2897, 0.0), (2898, 0.0), (2899, 0.0), (2900, 0.0), (2901, 0.004936767568041922), (2902, 0.0), (2903, 0.03273257688332847), (2904, 0.0343450777611064), (2905, 0.0), (2906, 0.013273934543902535), (2907, 0.0), (2908, 0.0), (2909, 0.0), (2910, 0.01704949482909245), (2911, 0.0), (2912, 0.0), (2913, 0.0), (2914, 0.0236630368537274), (2915, 0.0), (2916, 0.10866254196138579), (2917, 0.0), (2918, 0.0), (2919, 0.005137112655212937), (2920, 0.0), (2921, 0.0), (2922, 0.0), (2923, 0.0462592767914045), (2924, 0.0), (2925, 0.011988285712566226), (2926, 0.0), (2927, 0.01875423881412786), (2928, 0.005630628638935), (2929, 0.06884887236774032), (2930, 0.0), (2931, 0.006144096677294858), (2932, 0.0), (2933, 0.0), (2934, 0.0), (2935, 0.01429124285816432), (2936, 0.012229215140747141), (2937, 0.0), (2938, 0.051028830510786174), (2939, 0.01642719804547179), (2940, 0.02293741542133106), (2941, 0.0), (2942, 0.0), (2943, 0.0), (2944, 0.0), (2945, 0.01423977655841006), (2946, 0.022539725953158205), (2947, 0.004753657562698352), (2948, 0.0), (2949, 0.01338633252282149), (2950, 0.018571845413759502), (2951, 0.03615032975609394), (2952, 0.01608514016687608), (2953, 0.03277383785089045), (2954, 0.0), (2955, 0.040168856854635684), (2956, 0.0), (2957, 0.0), (2958, 0.0), (2959, 0.004879976820747329), (2960, 0.013584818941196695), (2961, 0.00480803286871513), (2962, 0.013499338513109934), (2963, 0.018830444808908418), (2964, 0.0053683850313829004), (2965, 0.0), (2966, 0.0), (2967, 0.0), (2968, 0.016908632786111585), (2969, 0.0), (2970, 0.0), (2971, 0.016764560084152218), (2972, 0.017876450588962846), (2973, 0.005737403930926662), (2974, 0.032407759017447434), (2975, 0.0), (2976, 0.0), (2977, 0.0), (2978, 0.009323615827154824), (2979, 0.004893845125159498), (2980, 0.04218444883511508), (2981, 0.012474932834580694), (2982, 0.004482176412149975), (2983, 0.013313148304927558), (2984, 0.01631915192780705), (2985, 0.008691337316078194), (2986, 0.008087383173607752), (2987, 0.0), (2988, 0.0), (2989, 0.0), (2990, 0.0), (2991, 0.004320174030760343), (2992, 0.10668423298519253), (2993, 0.009563683944618116), (2994, 0.004520510968494826), (2995, 0.0), (2996, 0.0), (2997, 0.0), (2998, 0.0), (2999, 0.010656046335643012), (3000, 0.0), (3001, 0.018726963061913994), (3002, 0.0), (3003, 0.03062429098158348), (3004, 0.0), (3005, 0.0), (3006, 0.003230360485423552), (3007, 0.02231939144289163), (3008, 0.0), (3009, 0.0), (3010, 0.019763534680025938), (3011, 0.023846335721452925), (3012, 0.003785622087733268), (3013, 0.0), (3014, 0.01287681048330345), (3015, 0.0), (3016, 0.023089764732603123), (3017, 0.0), (3018, 0.0040874049827568735), (3019, 0.029512517558185923), (3020, 0.0), (3021, 0.0), (3022, 0.0), (3023, 0.0), (3024, 0.0), (3025, 0.0), (3026, 0.0), (3027, 0.014282088879013208), (3028, 0.08575593816228459), (3029, 0.0), (3030, 0.00466959645976845), (3031, 0.004743590018991907), (3032, 0.03379427134340689), (3033, 0.0048382456265449025), (3034, 0.0), (3035, 0.0), (3036, 0.018656708871178766), (3037, 0.0), (3038, 0.0), (3039, 0.0), (3040, 0.0), (3041, 0.014421603649885631), (3042, 0.0), (3043, 0.0), (3044, 0.01453331959556548), (3045, 0.0), (3046, 0.016988026063711675), (3047, 0.0), (3048, 0.0), (3049, 0.009330807962088057), (3050, 0.0), (3051, 0.005729473979799555), (3052, 0.0), (3053, 0.008617458432004321), (3054, 0.0), (3055, 0.020538549471204304), (3056, 0.009791361944119633), (3057, 0.0), (3058, 0.040532620424872476), (3059, 0.06654649706986077), (3060, 0.03216657923730462), (3061, 0.0), (3062, 0.014696304148180751), (3063, 0.009014410665892356), (3064, 0.013459733356426171), (3065, 0.013565227092488275), (3066, 0.0), (3067, 0.018922637537186204), (3068, 0.0), (3069, 0.019060538407410507), (3070, 0.03884698627170066), (3071, 0.014056771036269655), (3072, 0.0), (3073, 0.004526037098406566), (3074, 0.0), (3075, 0.0), (3076, 0.018653419116251877), (3077, 0.0), (3078, 0.018132183883782273), (3079, 0.0), (3080, 0.0), (3081, 0.0), (3082, 0.0), (3083, 0.0), (3084, 0.0), (3085, 0.004672810758842647), (3086, 0.018330804825504213), (3087, 0.0), (3088, 0.0), (3089, 0.0), (3090, 0.0), (3091, 0.0), (3092, 0.005008220216070374), (3093, 0.004223093708303418), (3094, 0.0), (3095, 0.013625357643337593), (3096, 0.0), (3097, 0.012601263777950553), (3098, 0.0), (3099, 0.0), (3100, 0.0), (3101, 0.0), (3102, 0.0), (3103, 0.0), (3104, 0.0), (3105, 0.0), (3106, 0.0), (3107, 0.013738320259650355), (3108, 0.00885915463387978), (3109, 0.0), (3110, 0.0), (3111, 0.0041065796084937805), (3112, 0.004654495667229578), (3113, 0.0), (3114, 0.017571827956878124), (3115, 0.0), (3116, 0.018189314931698366), (3117, 0.01897809658939244), (3118, 0.0), (3119, 0.0), (3120, 0.004546627721797663), (3121, 0.0), (3122, 0.01649314910562124), (3123, 0.0), (3124, 0.02990912881213948), (3125, 0.0), (3126, 0.0), (3127, 0.029863869180952164), (3128, 0.0), (3129, 0.0), (3130, 0.0), (3131, 0.011966103589958152), (3132, 0.017883922253595155), (3133, 0.0), (3134, 0.018099095947567777), (3135, 0.0), (3136, 0.0), (3137, 0.0), (3138, 0.004448219374289303), (3139, 0.0), (3140, 0.012064124442542812), (3141, 0.010316402218562282), (3142, 0.0), (3143, 0.0039152061551609), (3144, 0.0), (3145, 0.05292614807973241), (3146, 0.0), (3147, 0.004782319618922409), (3148, 0.009032518684434969), (3149, 0.012756839414395435), (3150, 0.0), (3151, 0.0), (3152, 0.0), (3153, 0.0), (3154, 0.01691580491758065), (3155, 0.0), (3156, 0.0), (3157, 0.015272694069194046), (3158, 0.0), (3159, 0.0), (3160, 0.03300333119569338), (3161, 0.06639147942297272), (3162, 0.0), (3163, 0.0), (3164, 0.016017722057492967), (3165, 0.0), (3166, 0.0), (3167, 0.0), (3168, 0.0), (3169, 0.0), (3170, 0.013282580156477599), (3171, 0.0), (3172, 0.0), (3173, 0.005065354551845296), (3174, 0.0), (3175, 0.003957788900107825), (3176, 0.02036572122989885), (3177, 0.05389502975365663), (3178, 0.0), (3179, 0.016657519626834812), (3180, 0.0), (3181, 0.0), (3182, 0.015405739009121925), (3183, 0.016143228354388233), (3184, 0.0), (3185, 0.0), (3186, 0.028547988935411796), (3187, 0.07049339728350644), (3188, 0.05189592627135016), (3189, 0.0), (3190, 0.01929298317587963), (3191, 0.0), (3192, 0.0), (3193, 0.0), (3194, 0.0), (3195, 0.0047513266375421356), (3196, 0.0), (3197, 0.0), (3198, 0.01379410984098589), (3199, 0.0), (3200, 0.016601664944958447), (3201, 0.015318092077898955), (3202, 0.0), (3203, 0.010693576937596738), (3204, 0.0), (3205, 0.003784219690729492), (3206, 0.0), (3207, 0.0), (3208, 0.0), (3209, 0.0), (3210, 0.0), (3211, 0.10626529650420283), (3212, 0.02833256046653517), (3213, 0.0), (3214, 0.0), (3215, 0.054894522670980335), (3216, 0.0), (3217, 0.0), (3218, 0.012068675913420004), (3219, 0.02748571569011856), (3220, 0.0), (3221, 0.0), (3222, 0.016611841428157057), (3223, 0.013658802035956838), (3224, 0.0), (3225, 0.006130534264820355), (3226, 0.01594662497890118), (3227, 0.008138077182417708), (3228, 0.014237334456009136), (3229, 0.023501544989862202), (3230, 0.0197292620218701), (3231, 0.0), (3232, 0.0), (3233, 0.04985542244304643), (3234, 0.004796119722793487), (3235, 0.0), (3236, 0.11003940784933461), (3237, 0.01977401190157697), (3238, 0.004892285419992838), (3239, 0.014000635212478626), (3240, 0.0), (3241, 0.044316277732702275), (3242, 0.0), (3243, 0.015786963326920124), (3244, 0.01601470701869127), (3245, 0.004823923007264568), (3246, 0.008828414822835156), (3247, 0.01435291857291511), (3248, 0.0), (3249, 0.0), (3250, 0.0280420174826834), (3251, 0.0), (3252, 0.0), (3253, 0.02350974254239789), (3254, 0.0047485691683990024), (3255, 0.0), (3256, 0.003903777784415776), (3257, 0.0), (3258, 0.0158633838682986), (3259, 0.0), (3260, 0.0050062204651639365), (3261, 0.0), (3262, 0.03363163007636007), (3263, 0.004163801315434499), (3264, 0.01570849438441814), (3265, 0.0), (3266, 0.0), (3267, 0.020941762125039887), (3268, 0.0), (3269, 0.015728301865743036), (3270, 0.0200658722345482), (3271, 0.02220202909983863), (3272, 0.0), (3273, 0.014999450873489346), (3274, 0.0), (3275, 0.0), (3276, 0.0), (3277, 0.004229597757040988), (3278, 0.0), (3279, 0.020465642629591076), (3280, 0.0), (3281, 0.0046029434039571125), (3282, 0.03535260988276541), (3283, 0.014102752113851818), (3284, 0.0), (3285, 0.017314044926682138), (3286, 0.02327244082850555), (3287, 0.025739868744904103), (3288, 0.014595175759394334), (3289, 0.05053395758564634), (3290, 0.00491347899354807), (3291, 0.0), (3292, 0.0), (3293, 0.005000861273916236), (3294, 0.015454472601286523), (3295, 0.0), (3296, 0.0041185611204340765), (3297, 0.004904744390089887), (3298, 0.0), (3299, 0.0), (3300, 0.015711465518412304), (3301, 0.01979375107671981), (3302, 0.005364021510504284), (3303, 0.004720941582314735), (3304, 0.0), (3305, 0.0044784519882800165), (3306, 0.0), (3307, 0.004153201538429193), (3308, 0.0), (3309, 0.0), (3310, 0.0), (3311, 0.0), (3312, 0.0), (3313, 0.01862297797304199), (3314, 0.020115281619321274), (3315, 0.010312032991910292), (3316, 0.0), (3317, 0.0), (3318, 0.005015835205436869), (3319, 0.01625477069784388), (3320, 0.005218386923205604), (3321, 0.06118530158752812), (3322, 0.0), (3323, 0.02128852964000892), (3324, 0.0), (3325, 0.0), (3326, 0.0), (3327, 0.012083646126794731), (3328, 0.0), (3329, 0.0), (3330, 0.0), (3331, 0.0), (3332, 0.0), (3333, 0.0), (3334, 0.023430747968620505), (3335, 0.005307491436306832), (3336, 0.004914172454402416), (3337, 0.0), (3338, 0.039873172612298405), (3339, 0.014488358545914048), (3340, 0.018057616462664936), (3341, 0.0), (3342, 0.0), (3343, 0.0), (3344, 0.0), (3345, 0.014418778687260202), (3346, 0.00448107012056208), (3347, 0.009386128551698635), (3348, 0.0), (3349, 0.004645711859053905), (3350, 0.01673230260272938), (3351, 0.009065136303537783), (3352, 0.0), (3353, 0.0), (3354, 0.0), (3355, 0.005396605788410843), (3356, 0.014758906104693985), (3357, 0.0), (3358, 0.0), (3359, 0.0), (3360, 0.0), (3361, 0.0), (3362, 0.0), (3363, 0.0), (3364, 0.0), (3365, 0.04130187320421759), (3366, 0.017232711446438384), (3367, 0.0), (3368, 0.015517632490977235), (3369, 0.025948183907644026), (3370, 0.0041768760412509475), (3371, 0.0), (3372, 0.0047823911513418275), (3373, 0.0), (3374, 0.01369565957963774), (3375, 0.0), (3376, 0.02094481327558204), (3377, 0.0), (3378, 0.0), (3379, 0.0), (3380, 0.0), (3381, 0.00491956207623562), (3382, 0.0), (3383, 0.009704891256409358), (3384, 0.016682180462064062), (3385, 0.03875960318207166), (3386, 0.0), (3387, 0.0), (3388, 0.0), (3389, 0.0), (3390, 0.0038946739478687804), (3391, 0.0), (3392, 0.0), (3393, 0.019961947283277204), (3394, 0.01635889314224254), (3395, 0.0), (3396, 0.0), (3397, 0.0), (3398, 0.0), (3399, 0.0), (3400, 0.0), (3401, 0.009245768583160016), (3402, 0.0), (3403, 0.0), (3404, 0.014573770079840035), (3405, 0.035705819805407726), (3406, 0.0), (3407, 0.08968748898537712), (3408, 0.01583813343192948), (3409, 0.008656117447679943), (3410, 0.014333936103874883), (3411, 0.0), (3412, 0.0), (3413, 0.0042849701585272616), (3414, 0.008398230480070696), (3415, 0.014062179792875754), (3416, 0.0), (3417, 0.007516496890799952), (3418, 0.0037269015913483526), (3419, 0.06594284005658678), (3420, 0.01573008475097828), (3421, 0.05843144172480033), (3422, 0.016955946026447448), (3423, 0.0051843117387375725), (3424, 0.0), (3425, 0.0), (3426, 0.017315093165945324), (3427, 0.03753792262524973), (3428, 0.0), (3429, 0.0), (3430, 0.0), (3431, 0.0), (3432, 0.0), (3433, 0.0), (3434, 0.01529873710448816), (3435, 0.0), (3436, 0.005036036210660212), (3437, 0.0), (3438, 0.0), (3439, 0.005372711971427169), (3440, 0.015958372876338764), (3441, 0.0), (3442, 0.00462213028480449), (3443, 0.012338521158000385), (3444, 0.06874867278146163), (3445, 0.004995918201001811), (3446, 0.0), (3447, 0.0), (3448, 0.0), (3449, 0.004630607214331234), (3450, 0.05853975185050975), (3451, 0.009166124205987648), (3452, 0.016831004710319227), (3453, 0.01799440855728833), (3454, 0.0), (3455, 0.0), (3456, 0.014907405145551047), (3457, 0.015701424439964085), (3458, 0.0047182501394190356), (3459, 0.0), (3460, 0.0), (3461, 0.06955484767009532), (3462, 0.004584048636108584), (3463, 0.0), (3464, 0.023025592434375068), (3465, 0.020723133612703108), (3466, 0.01294216467156008), (3467, 0.0), (3468, 0.0), (3469, 0.0), (3470, 0.0), (3471, 0.0), (3472, 0.014857668472952204), (3473, 0.01192921188060549), (3474, 0.029071191731599246), (3475, 0.0), (3476, 0.0), (3477, 0.004268307403691872), (3478, 0.0), (3479, 0.014581649391012506), (3480, 0.0), (3481, 0.010817010162861242), (3482, 0.0), (3483, 0.004533745223283011), (3484, 0.015912555904112516), (3485, 0.005554324981987879), (3486, 0.0), (3487, 0.0), (3488, 0.0), (3489, 0.0), (3490, 0.003990049265359561), (3491, 0.0), (3492, 0.0), (3493, 0.0), (3494, 0.0), (3495, 0.0), (3496, 0.0), (3497, 0.0), (3498, 0.0), (3499, 0.014456589192510068), (3500, 0.0), (3501, 0.004885564814033667), (3502, 0.0), (3503, 0.011483918540227733), (3504, 0.0), (3505, 0.0), (3506, 0.0), (3507, 0.0050925260338279335), (3508, 0.004686046891707441), (3509, 0.0), (3510, 0.01975832619801444), (3511, 0.0), (3512, 0.038032402995310514), (3513, 0.0), (3514, 0.0), (3515, 0.0), (3516, 0.0), (3517, 0.0), (3518, 0.0), (3519, 0.0), (3520, 0.016511725262112312), (3521, 0.0), (3522, 0.0), (3523, 0.0), (3524, 0.0), (3525, 0.017244152777208324), (3526, 0.0), (3527, 0.0071696877206226285), (3528, 0.024725353788795666), (3529, 0.026089869041508527), (3530, 0.013058282676965273), (3531, 0.0), (3532, 0.004616561625425635), (3533, 0.01673219797409335), (3534, 0.0), (3535, 0.0439546095908121), (3536, 0.01590895775946755), (3537, 0.0), (3538, 0.008037768947542935), (3539, 0.0), (3540, 0.0), (3541, 0.0), (3542, 0.0), (3543, 0.0), (3544, 0.0), (3545, 0.0), (3546, 0.004168579576142445), (3547, 0.0), (3548, 0.00409981581503063), (3549, 0.004722657615689296), (3550, 0.0), (3551, 0.0), (3552, 0.012667655413583704), (3553, 0.0), (3554, 0.0), (3555, 0.0), (3556, 0.032050870037609556), (3557, 0.018200235684432863), (3558, 0.005181796991085156), (3559, 0.004840678502199441), (3560, 0.0), (3561, 0.0), (3562, 0.0), (3563, 0.0), (3564, 0.009483334674844189), (3565, 0.0), (3566, 0.004621405916127919), (3567, 0.004961100496808607), (3568, 0.004905417100172344), (3569, 0.0), (3570, 0.0), (3571, 0.0049635840519902325), (3572, 0.0), (3573, 0.0), (3574, 0.0), (3575, 0.0), (3576, 0.018439187734828152), (3577, 0.0), (3578, 0.0), (3579, 0.02841212769990175), (3580, 0.0), (3581, 0.004663504593565414), (3582, 0.004847865074660501), (3583, 0.0), (3584, 0.004515993166419897), (3585, 0.0), (3586, 0.004671431925493721), (3587, 0.0), (3588, 0.004198926355327526), (3589, 0.0), (3590, 0.033107359837943266), (3591, 0.0), (3592, 0.004719036137428322), (3593, 0.01443227373388528), (3594, 0.0), (3595, 0.0), (3596, 0.00514731761594351), (3597, 0.0), (3598, 0.0), (3599, 0.05086770871095678), (3600, 0.0), (3601, 0.0), (3602, 0.0), (3603, 0.025634344669922263), (3604, 0.029720210744917028), (3605, 0.0), (3606, 0.030651232791814666), (3607, 0.013686959292037112), (3608, 0.013904947567439914), (3609, 0.014959879710907455), (3610, 0.020357165126724898), (3611, 0.044297853411293484), (3612, 0.014719338761694942), (3613, 0.0), (3614, 0.0), (3615, 0.0), (3616, 0.02109653806976047), (3617, 0.004614873012274042), (3618, 0.0), (3619, 0.012800896050728499), (3620, 0.0), (3621, 0.0), (3622, 0.0), (3623, 0.0), (3624, 0.004751624595998337), (3625, 0.003907702228353109), (3626, 0.008878971026804872), (3627, 0.004799550928567181), (3628, 0.004595210200285665), (3629, 0.0), (3630, 0.04930624884939024), (3631, 0.0), (3632, 0.0), (3633, 0.015518745203228811), (3634, 0.005613153152296104), (3635, 0.0), (3636, 0.0), (3637, 0.0), (3638, 0.005255559308783513), (3639, 0.0), (3640, 0.017311225879699202), (3641, 0.016186071269190277), (3642, 0.0), (3643, 0.027376155924799632), (3644, 0.0046790551469583705), (3645, 0.0038080222558358567), (3646, 0.0), (3647, 0.004522963687426462), (3648, 0.004313967315344788), (3649, 0.016998931401803988), (3650, 0.016553171561656782), (3651, 0.0), (3652, 0.0), (3653, 0.015493940601529092), (3654, 0.0), (3655, 0.01959411677219601), (3656, 0.0), (3657, 0.0), (3658, 0.0), (3659, 0.0), (3660, 0.0), (3661, 0.02964562106816397), (3662, 0.02211603079553792), (3663, 0.0), (3664, 0.014628164470502355), (3665, 0.0), (3666, 0.0), (3667, 0.0), (3668, 0.009962761965772822), (3669, 0.0), (3670, 0.0), (3671, 0.0), (3672, 0.0), (3673, 0.0), (3674, 0.0), (3675, 0.0), (3676, 0.0), (3677, 0.0), (3678, 0.0), (3679, 0.005613369112831576), (3680, 0.013441183538536877), (3681, 0.0), (3682, 0.004918394860607586), (3683, 0.004876616370725565), (3684, 0.004659779762468855), (3685, 0.004642922171171919), (3686, 0.016425680118292693), (3687, 0.01750781745688154), (3688, 0.0), (3689, 0.0), (3690, 0.013663455891651518), (3691, 0.0), (3692, 0.0), (3693, 0.00482384113435137), (3694, 0.0), (3695, 0.013721175125377641), (3696, 0.01391478320167965), (3697, 0.0), (3698, 0.009121252528301997), (3699, 0.0), (3700, 0.014170603668248578), (3701, 0.0), (3702, 0.08115376160984564), (3703, 0.05409284487290876), (3704, 0.0), (3705, 0.0), (3706, 0.027499024988376895), (3707, 0.0), (3708, 0.0), (3709, 0.004146750505345187), (3710, 0.0), (3711, 0.0), (3712, 0.0), (3713, 0.025300140430168403), (3714, 0.0), (3715, 0.0), (3716, 0.0), (3717, 0.009382446475865985), (3718, 0.0), (3719, 0.0), (3720, 0.0), (3721, 0.0), (3722, 0.0), (3723, 0.0), (3724, 0.0), (3725, 0.0), (3726, 0.0053587304987758565), (3727, 0.0), (3728, 0.0), (3729, 0.0), (3730, 0.0), (3731, 0.07428674872142886), (3732, 0.01624258453586857), (3733, 0.004203007233134544), (3734, 0.014980472638005482), (3735, 0.004458462132459912), (3736, 0.0), (3737, 0.0), (3738, 0.0), (3739, 0.032186993871877574), (3740, 0.014688388124890393), (3741, 0.013445595424268455), (3742, 0.0), (3743, 0.021249872810824452), (3744, 0.0), (3745, 0.06436631744951424), (3746, 0.0), (3747, 0.0), (3748, 0.00846517561281526), (3749, 0.0), (3750, 0.0), (3751, 0.0), (3752, 0.00548127855864006), (3753, 0.004312453713917712), (3754, 0.013298798384127404), (3755, 0.014436999583942185), (3756, 0.03229906053843891), (3757, 0.017969471862143004), (3758, 0.013113265470067944), (3759, 0.0), (3760, 0.0), (3761, 0.0), (3762, 0.00537533364073326), (3763, 0.014939199184949407), (3764, 0.011850552289608192), (3765, 0.004972304364227778), (3766, 0.00707241904502627), (3767, 0.0204512607607787), (3768, 0.0), (3769, 0.004963374307521336), (3770, 0.020026739911829093), (3771, 0.020217254129091762), (3772, 0.013257284653969631), (3773, 0.0), (3774, 0.0), (3775, 0.011514222243474002), (3776, 0.004108105748549793), (3777, 0.0), (3778, 0.02066661439336238), (3779, 0.006136247487127389), (3780, 0.0), (3781, 0.03619043703321573), (3782, 0.0036839303372858292), (3783, 0.03866821775477006), (3784, 0.04905213419002507), (3785, 0.0), (3786, 0.0), (3787, 0.0), (3788, 0.0), (3789, 0.029914035988139315), (3790, 0.0), (3791, 0.026837275125057444), (3792, 0.0), (3793, 0.020824972200146775), (3794, 0.0), (3795, 0.03563765658284757), (3796, 0.0), (3797, 0.0), (3798, 0.0061196761200845605), (3799, 0.0), (3800, 0.0), (3801, 0.0), (3802, 0.12647028864321896), (3803, 0.016270721158538223), (3804, 0.0), (3805, 0.01711423259807942), (3806, 0.005769441322430864), (3807, 0.0), (3808, 0.0), (3809, 0.01901964114681438), (3810, 0.038678945048552994), (3811, 0.0), (3812, 0.004612580454002428), (3813, 0.03463661819008946), (3814, 0.0), (3815, 0.0), (3816, 0.08752367576264163), (3817, 0.0), (3818, 0.0), (3819, 0.0), (3820, 1.0), (3821, 0.018068088205881603), (3822, 0.030443312796012974), (3823, 0.0), (3824, 0.004921604262431321), (3825, 0.0), (3826, 0.0), (3827, 0.017512666209231642), (3828, 0.004837583713040031), (3829, 0.009697810527135253), (3830, 0.0), (3831, 0.0), (3832, 0.004257457194166043), (3833, 0.00482303051307926), (3834, 0.0), (3835, 0.0), (3836, 0.0), (3837, 0.01782626849997952), (3838, 0.0), (3839, 0.014050258885979605), (3840, 0.0), (3841, 0.008974205713853206), (3842, 0.05145507850607952), (3843, 0.0), (3844, 0.0040928338084244235), (3845, 0.0), (3846, 0.013998805960979747), (3847, 0.0), (3848, 0.004734411655033405), (3849, 0.0), (3850, 0.0), (3851, 0.0), (3852, 0.0), (3853, 0.0), (3854, 0.0), (3855, 0.0), (3856, 0.0), (3857, 0.0064406994761641665), (3858, 0.0), (3859, 0.0), (3860, 0.024167402335069883), (3861, 0.004562149245772076), (3862, 0.0), (3863, 0.022375199794763462), (3864, 0.03100925657425208), (3865, 0.025711008857653234), (3866, 0.0), (3867, 0.00469469689833791), (3868, 0.023157921794019157), (3869, 0.0), (3870, 0.0044243900898403524), (3871, 0.0), (3872, 0.013765518886794816), (3873, 0.02251921818483863), (3874, 0.0086673389343259), (3875, 0.01813192051030364), (3876, 0.003920475168141458), (3877, 0.0), (3878, 0.007809690312139753), (3879, 0.016903837122074414), (3880, 0.0), (3881, 0.014816512362669301), (3882, 0.0), (3883, 0.013943105215889994), (3884, 0.0), (3885, 0.0), (3886, 0.0), (3887, 0.03200423906738697), (3888, 0.006888921535428472), (3889, 0.0), (3890, 0.04172717205393773), (3891, 0.004724137642962902), (3892, 0.0), (3893, 0.0), (3894, 0.016712734473876716), (3895, 0.0), (3896, 0.0), (3897, 0.0), (3898, 0.013536273624941848), (3899, 0.006995406931756178), (3900, 0.0), (3901, 0.005120841705725273), (3902, 0.0), (3903, 0.0), (3904, 0.0), (3905, 0.004915912299173518), (3906, 0.010287148744008273), (3907, 0.0), (3908, 0.0), (3909, 0.017744136596111085), (3910, 0.013485162492733566), (3911, 0.03953478200077776), (3912, 0.0), (3913, 0.0), (3914, 0.009164376687519104), (3915, 0.01618659058324302), (3916, 0.04009263241465516), (3917, 0.017498168877662867), (3918, 0.013216590030181682), (3919, 0.0), (3920, 0.00473952298720225), (3921, 0.0), (3922, 0.0), (3923, 0.014129549821141825), (3924, 0.0), (3925, 0.02035779662843086), (3926, 0.01653555027631611), (3927, 0.0), (3928, 0.03524376107867873), (3929, 0.0), (3930, 0.0), (3931, 0.013682751828038141), (3932, 0.0), (3933, 0.0), (3934, 0.007451702568238896), (3935, 0.0), (3936, 0.0), (3937, 0.0), (3938, 0.0), (3939, 0.0), (3940, 0.0), (3941, 0.0), (3942, 0.0), (3943, 0.0), (3944, 0.0), (3945, 0.0), (3946, 0.0), (3947, 0.012746038939798351), (3948, 0.005952770968803302), (3949, 0.014278612391926352), (3950, 0.02046959931959161), (3951, 0.0), (3952, 0.0), (3953, 0.0), (3954, 0.0), (3955, 0.0), (3956, 0.00876575886053079), (3957, 0.015698803667766006), (3958, 0.0), (3959, 0.010836202939444983), (3960, 0.0), (3961, 0.0), (3962, 0.0), (3963, 0.0), (3964, 0.0), (3965, 0.0), (3966, 0.0), (3967, 0.0), (3968, 0.0), (3969, 0.0), (3970, 0.004496413879071878), (3971, 0.0), (3972, 0.005718894187712055), (3973, 0.053456258136866525), (3974, 0.03182496641940036), (3975, 0.0), (3976, 0.0), (3977, 0.023948530717968045), (3978, 0.0), (3979, 0.0), (3980, 0.0), (3981, 0.02089869188325379), (3982, 0.0), (3983, 0.038036340604579236), (3984, 0.02007703910734144), (3985, 0.0), (3986, 0.10061239218099455), (3987, 0.04187689780571325), (3988, 0.005621090149843502), (3989, 0.01276152309821048), (3990, 0.0), (3991, 0.028389564345952054), (3992, 0.0), (3993, 0.0), (3994, 0.014785303940102693), (3995, 0.0), (3996, 0.01564423452787114), (3997, 0.03351791557383268), (3998, 0.004579979901020636), (3999, 0.0), (4000, 0.016011346537409862), (4001, 0.0), (4002, 0.0), (4003, 0.003861186919590968), (4004, 0.0), (4005, 0.0), (4006, 0.14586541621672294), (4007, 0.0), (4008, 0.00550328562058672), (4009, 0.0), (4010, 0.07002274921137586), (4011, 0.004637879656267057), (4012, 0.0), (4013, 0.009164793963659783), (4014, 0.004750950084419693), (4015, 0.01494654638696461), (4016, 0.014547416608568075), (4017, 0.03273339923571636), (4018, 0.0), (4019, 0.0167044493382733), (4020, 0.014415785435984539), (4021, 0.0), (4022, 0.0), (4023, 0.01600448921121016), (4024, 0.017217417590490336), (4025, 0.0), (4026, 0.0), (4027, 0.01722356337663561), (4028, 0.0047993200093137504), (4029, 0.0), (4030, 0.015574130017921758), (4031, 0.0), (4032, 0.008740107007628218), (4033, 0.0), (4034, 0.0), (4035, 0.0), (4036, 0.0), (4037, 0.010105572139846477), (4038, 0.0), (4039, 0.0049031362922757945), (4040, 0.0), (4041, 0.004801567513921032), (4042, 0.0), (4043, 0.10807717465605615), (4044, 0.0), (4045, 0.00552763860158031), (4046, 0.08028255917036257), (4047, 0.0), (4048, 0.005867673618182566), (4049, 0.0), (4050, 0.08207128406048261), (4051, 0.0), (4052, 0.0), (4053, 0.005034737159599435), (4054, 0.0), (4055, 0.0), (4056, 0.018076728906381647), (4057, 0.0), (4058, 0.0), (4059, 0.01482342060246414), (4060, 0.035829130161757955), (4061, 0.0), (4062, 0.02082397313206616), (4063, 0.0), (4064, 0.0), (4065, 0.0), (4066, 0.0), (4067, 0.0), (4068, 0.0), (4069, 0.0), (4070, 0.0), (4071, 0.008351336075920791), (4072, 0.0), (4073, 0.01805737467978474), (4074, 0.0), (4075, 0.0), (4076, 0.0), (4077, 0.0), (4078, 0.0), (4079, 0.00488125979556939), (4080, 0.0), (4081, 0.006924388378125729), (4082, 0.0), (4083, 0.0), (4084, 0.014657989133905794), (4085, 0.0), (4086, 0.0), (4087, 0.0), (4088, 0.017360782144561722), (4089, 0.0), (4090, 0.0), (4091, 0.01713861859428417), (4092, 0.0), (4093, 0.0), (4094, 0.03403529398963638), (4095, 0.0), (4096, 0.003708449992360747), (4097, 0.043596666860546696), (4098, 0.008487151951812866), (4099, 0.004776461146586405), (4100, 0.0), (4101, 0.017617434076877176), (4102, 0.0), (4103, 0.01375800962639513), (4104, 0.0), (4105, 0.005351881264681113), (4106, 0.013623718579293283), (4107, 0.012632638112667259), (4108, 0.0), (4109, 0.03289947340113342), (4110, 0.006118179158549375), (4111, 0.0), (4112, 0.0), (4113, 0.0), (4114, 0.0), (4115, 0.0), (4116, 0.0), (4117, 0.0), (4118, 0.0), (4119, 0.016996575635153565), (4120, 0.0), (4121, 0.018050452886744398), (4122, 0.0), (4123, 0.0), (4124, 0.0), (4125, 0.006023379733376023), (4126, 0.08391185170302215), (4127, 0.004414268280152916), (4128, 0.01675908759069269), (4129, 0.016557057005800842), (4130, 0.0), (4131, 0.0), (4132, 0.03167915691130463), (4133, 0.0), (4134, 0.004305946666028668), (4135, 0.0045500427046813235), (4136, 0.0), (4137, 0.0), (4138, 0.0), (4139, 0.0), (4140, 0.02150150190277263), (4141, 0.0), (4142, 0.0), (4143, 0.0), (4144, 0.0), (4145, 0.0), (4146, 0.0051442807462965725), (4147, 0.0), (4148, 0.0), (4149, 0.01546754997128132), (4150, 0.0), (4151, 0.0), (4152, 0.0), (4153, 0.017600682306107784), (4154, 0.0), (4155, 0.0048817799048566195), (4156, 0.0), (4157, 0.0), (4158, 0.0), (4159, 0.0054034462799241205), (4160, 0.0), (4161, 0.0), (4162, 0.0), (4163, 0.01919635447467342), (4164, 0.003476112325612676), (4165, 0.0), (4166, 0.057103429375445575), (4167, 0.008121610728964692), (4168, 0.03897117044858097), (4169, 0.0), (4170, 0.0), (4171, 0.04798522539108804), (4172, 0.0), (4173, 0.004506174652485888), (4174, 0.011269394486565831), (4175, 0.0), (4176, 0.018134544600250935), (4177, 0.07611237307289527), (4178, 0.0), (4179, 0.016347364447200443), (4180, 0.0), (4181, 0.0), (4182, 0.007675199321759373), (4183, 0.015519520891277052), (4184, 0.0), (4185, 0.0), (4186, 0.0), (4187, 0.0), (4188, 0.016447355073796077), (4189, 0.0), (4190, 0.013718609777221334), (4191, 0.0), (4192, 0.004612416673799081), (4193, 0.016180680243143505), (4194, 0.0), (4195, 0.0), (4196, 0.0), (4197, 0.018936080446178807), (4198, 0.016766640733227207), (4199, 0.019930134140350754), (4200, 0.018261943922513457), (4201, 0.016097230278211958), (4202, 0.0042166139503582376), (4203, 0.01837449800489363), (4204, 0.004492942823268773), (4205, 0.0), (4206, 0.011503271769996853), (4207, 0.0), (4208, 0.015838943002061835), (4209, 0.03913062050635318), (4210, 0.01646964671628675), (4211, 0.016562259003555693), (4212, 0.05627080101920788), (4213, 0.0), (4214, 0.0), (4215, 0.004197938588050114), (4216, 0.018034656680968368), (4217, 0.0), (4218, 0.03188155464645139), (4219, 0.0), (4220, 0.0), (4221, 0.005000737199040129), (4222, 0.0047945191283285905), (4223, 0.011943885558946798), (4224, 0.005063216517253942), (4225, 0.0394774186866379), (4226, 0.0), (4227, 0.0), (4228, 0.004611116002717911), (4229, 0.01435904974455109), (4230, 0.0), (4231, 0.0), (4232, 0.015300946519324522), (4233, 0.00627129489061748), (4234, 0.0), (4235, 0.016692637493244088), (4236, 0.0), (4237, 0.004738647056104099), (4238, 0.029029294143113924), (4239, 0.010760760583507977), (4240, 0.0), (4241, 0.0), (4242, 0.0), (4243, 0.0186685025276215), (4244, 0.03453710211400956), (4245, 0.0), (4246, 0.0), (4247, 0.028517844907462328), (4248, 0.03295460756958318), (4249, 0.0), (4250, 0.0), (4251, 0.0170301114399295), (4252, 0.0), (4253, 0.0), (4254, 0.0), (4255, 0.0), (4256, 0.0), (4257, 0.0), (4258, 0.0), (4259, 0.008385180205705183), (4260, 0.0), (4261, 0.0), (4262, 0.0), (4263, 0.00426295693152812), (4264, 0.005138357585338831), (4265, 0.0), (4266, 0.0), (4267, 0.0), (4268, 0.0), (4269, 0.0), (4270, 0.0), (4271, 0.0), (4272, 0.0049016897017799994), (4273, 0.0), (4274, 0.0), (4275, 0.0), (4276, 0.022692886919935935), (4277, 0.05886255176963292), (4278, 0.06242778272281257), (4279, 0.0), (4280, 0.01790637004719197), (4281, 0.0049574414713713134), (4282, 0.00520876420709008), (4283, 0.008220988552927157), (4284, 0.0), (4285, 0.0), (4286, 0.008828372441879487), (4287, 0.0), (4288, 0.06324419087696193), (4289, 0.01781472185102394), (4290, 0.0), (4291, 0.0), (4292, 0.0), (4293, 0.0), (4294, 0.03379742933447259), (4295, 0.016116954680967414), (4296, 0.020395593585454286), (4297, 0.0), (4298, 0.0), (4299, 0.0), (4300, 0.0), (4301, 0.0491345393147994), (4302, 0.00411234133059479), (4303, 0.0), (4304, 0.0), (4305, 0.03827544137407351), (4306, 0.0), (4307, 0.0), (4308, 0.013981614967840946), (4309, 0.0), (4310, 0.0), (4311, 0.0), (4312, 0.0064679493603601555), (4313, 0.0), (4314, 0.0), (4315, 0.0), (4316, 0.03685515417467406), (4317, 0.004828887621725628), (4318, 0.0), (4319, 0.009305567461830182), (4320, 0.0), (4321, 0.0), (4322, 0.0), (4323, 0.0), (4324, 0.0), (4325, 0.0), (4326, 0.0), (4327, 0.0), (4328, 0.006086787660148254), (4329, 0.013064176031056782), (4330, 0.0), (4331, 0.01668323747136339), (4332, 0.0), (4333, 0.0), (4334, 0.0), (4335, 0.011486644691345898), (4336, 0.0), (4337, 0.0), (4338, 0.0), (4339, 0.004688623065283962), (4340, 0.003963654093318318), (4341, 0.0), (4342, 0.0), (4343, 0.004487566774975653), (4344, 0.0), (4345, 0.015546789745261904), (4346, 0.0), (4347, 0.0), (4348, 0.04732308217779564), (4349, 0.03357517231644685), (4350, 0.004125501080165482), (4351, 0.03515929351231583), (4352, 0.024751361017961312), (4353, 0.0), (4354, 0.01652223463480793), (4355, 0.025483780690841923), (4356, 0.0041379268682597975), (4357, 0.0), (4358, 0.03820055319343224), (4359, 0.0), (4360, 0.0), (4361, 0.01768017222714386), (4362, 0.0), (4363, 0.021983869785050958), (4364, 0.012201998343959323), (4365, 0.01947671074549983), (4366, 0.0), (4367, 0.015863323841475045), (4368, 0.01469986179047754), (4369, 0.0), (4370, 0.0), (4371, 0.013596414775060744), (4372, 0.0), (4373, 0.01959072913390778), (4374, 0.0), (4375, 0.011009165290351156), (4376, 0.0), (4377, 0.0), (4378, 0.016458965869004884), (4379, 0.0), (4380, 0.01497323829603012), (4381, 0.004375820720349645), (4382, 0.0), (4383, 0.008199774823841837), (4384, 0.0), (4385, 0.0), (4386, 0.005274994267386565), (4387, 0.0), (4388, 0.0), (4389, 0.0), (4390, 0.004329516053821955), (4391, 0.004161135968535125), (4392, 0.00498367933344454), (4393, 0.0184508316485993), (4394, 0.00392151595509689), (4395, 0.0), (4396, 0.01863007646163571), (4397, 0.013214669124863175), (4398, 0.0), (4399, 0.0), (4400, 0.0), (4401, 0.0), (4402, 0.0), (4403, 0.0), (4404, 0.0), (4405, 0.0), (4406, 0.04540772080264696), (4407, 0.0), (4408, 0.006326926487275971), (4409, 0.01902454722972008), (4410, 0.0), (4411, 0.0344868291557987), (4412, 0.0), (4413, 0.0), (4414, 0.034221911439912114), (4415, 0.0), (4416, 0.017565276518624606), (4417, 0.016946601269623874), (4418, 0.024627569240423308), (4419, 0.0), (4420, 0.0), (4421, 0.0), (4422, 0.0), (4423, 0.0654865268253151), (4424, 0.0), (4425, 0.0), (4426, 0.0), (4427, 0.01395860109109756), (4428, 0.008875881839378302), (4429, 0.0), (4430, 0.020631191701771544), (4431, 0.0), (4432, 0.013841268476882785), (4433, 0.0), (4434, 0.0), (4435, 0.0), (4436, 0.0), (4437, 0.0), (4438, 0.0), (4439, 0.004698683573700854), (4440, 0.0), (4441, 0.04064904987376132), (4442, 0.00462606512078687), (4443, 0.014211307921638255), (4444, 0.0), (4445, 0.0), (4446, 0.0), (4447, 0.015497646663433185), (4448, 0.004522788864999936), (4449, 0.0), (4450, 0.0), (4451, 0.0), (4452, 0.0), (4453, 0.0), (4454, 0.0), (4455, 0.017090987055043066), (4456, 0.06135085619968399), (4457, 0.015027306702750813), (4458, 0.0), (4459, 0.0), (4460, 0.0), (4461, 0.0), (4462, 0.0), (4463, 0.0), (4464, 0.0), (4465, 0.0), (4466, 0.05008625544033127), (4467, 0.0), (4468, 0.0), (4469, 0.0), (4470, 0.016040757538947785), (4471, 0.0), (4472, 0.0), (4473, 0.02706436456969929), (4474, 0.0), (4475, 0.004943283679300911), (4476, 0.0), (4477, 0.0), (4478, 0.0), (4479, 0.0652951617524948), (4480, 0.0), (4481, 0.005317671528461335), (4482, 0.003691900961329725), (4483, 0.004824883395010619), (4484, 0.017496134171892438), (4485, 0.0), (4486, 0.0), (4487, 0.07451436366257899), (4488, 0.0), (4489, 0.0), (4490, 0.0), (4491, 0.0), (4492, 0.0), (4493, 0.0), (4494, 0.0), (4495, 0.06802590619195764), (4496, 0.005218829116511289), (4497, 0.09114901646509696), (4498, 0.004375397435202224), (4499, 0.0), (4500, 0.04599542641596925), (4501, 0.005955661718822061), (4502, 0.0), (4503, 0.013377044606508062), (4504, 0.0), (4505, 0.0), (4506, 0.005471117675180784), (4507, 0.022294267195384278), (4508, 0.0), (4509, 0.005249834354837659), (4510, 0.0), (4511, 0.0), (4512, 0.0), (4513, 0.01630912375828002), (4514, 0.0), (4515, 0.005090238679190043), (4516, 0.0), (4517, 0.0), (4518, 0.0), (4519, 0.0), (4520, 0.0), (4521, 0.0), (4522, 0.02047511454482609), (4523, 0.0), (4524, 0.004656830340028824), (4525, 0.034090237592399056), (4526, 0.006828489086274289), (4527, 0.0145494544577026), (4528, 0.00507628802514163), (4529, 0.014643911668224822), (4530, 0.016374055456376463), (4531, 0.0), (4532, 0.01670851315315665), (4533, 0.015016860436170773), (4534, 0.0), (4535, 0.0076969957398830705), (4536, 0.0), (4537, 0.014282141700743439), (4538, 0.0), (4539, 0.004982830104159289), (4540, 0.023983145246361203), (4541, 0.0), (4542, 0.0), (4543, 0.0), (4544, 0.0), (4545, 0.004450279294140666), (4546, 0.0), (4547, 0.04279713558478802), (4548, 0.0), (4549, 0.0), (4550, 0.0), (4551, 0.013580794852044501), (4552, 0.0), (4553, 0.0), (4554, 0.0), (4555, 0.004587433624692053), (4556, 0.0), (4557, 0.01678084460541171), (4558, 0.058206071425209026), (4559, 0.0), (4560, 0.0), (4561, 0.0), (4562, 0.0), (4563, 0.0), (4564, 0.0), (4565, 0.0), (4566, 0.0), (4567, 0.013249707680735792), (4568, 0.061002329155019346), (4569, 0.0), (4570, 0.08421181345953976), (4571, 0.0), (4572, 0.004566934877076926), (4573, 0.030320990903041953), (4574, 0.0), (4575, 0.0), (4576, 0.0), (4577, 0.0), (4578, 0.0), (4579, 0.007052534434788292), (4580, 0.005626430064927575), (4581, 0.0), (4582, 0.0), (4583, 0.013658899054406553), (4584, 0.0), (4585, 0.016073775593967318), (4586, 0.016679494356719955), (4587, 0.0), (4588, 0.01605787588504041), (4589, 0.0), (4590, 0.0), (4591, 0.0), (4592, 0.004718516059729196), (4593, 0.0), (4594, 0.06585628739393737), (4595, 0.004462952791747868), (4596, 0.0), (4597, 0.0069957997281382125), (4598, 0.0), (4599, 0.0), (4600, 0.0), (4601, 0.0), (4602, 0.0), (4603, 0.0), (4604, 0.06445091628721948), (4605, 0.008517102811756714), (4606, 0.04098682911961463), (4607, 0.0), (4608, 0.008685108889196177), (4609, 0.0), (4610, 0.005657726520148981), (4611, 0.0), (4612, 0.03754176104048363), (4613, 0.03935942367871929), (4614, 0.0), (4615, 0.0), (4616, 0.0), (4617, 0.0), (4618, 0.0), (4619, 0.0), (4620, 0.0), (4621, 0.0), (4622, 0.0), (4623, 0.0), (4624, 0.0), (4625, 0.00494894732276372), (4626, 0.01877297737839382), (4627, 0.017375051799928244), (4628, 0.0), (4629, 0.0), (4630, 0.0), (4631, 0.014788941209208593), (4632, 0.019667662031035343), (4633, 0.0), (4634, 0.0), (4635, 0.014644187119499748), (4636, 0.0), (4637, 0.013492969104896547), (4638, 0.0), (4639, 0.0), (4640, 0.019430170740908366), (4641, 0.0), (4642, 0.0), (4643, 0.013331420293592076), (4644, 0.0), (4645, 0.0), (4646, 0.00525341832862191), (4647, 0.005354841432845804), (4648, 0.038415548611027986), (4649, 0.0), (4650, 0.0047504964691460665), (4651, 0.0), (4652, 0.02013004129611438), (4653, 0.0), (4654, 0.031671539049004625), (4655, 0.0), (4656, 0.0), (4657, 0.0), (4658, 0.0), (4659, 0.004943524360958881), (4660, 0.0), (4661, 0.015535871622414517), (4662, 0.0), (4663, 0.04240907870218568), (4664, 0.04895275630727881), (4665, 0.0), (4666, 0.008729197505833624), (4667, 0.016432076853010257), (4668, 0.004658187669456276), (4669, 0.0), (4670, 0.010287905389094998), (4671, 0.014258614240254548), (4672, 0.0038640038099717598), (4673, 0.033101353846387106), (4674, 0.0), (4675, 0.005102628876300094), (4676, 0.0), (4677, 0.02010596003754398), (4678, 0.06134618482375486), (4679, 0.008029952418391884), (4680, 0.0), (4681, 0.0), (4682, 0.0), (4683, 0.0), (4684, 0.0), (4685, 0.0), (4686, 0.0), (4687, 0.01334149472855968), (4688, 0.008178217115983674), (4689, 0.0), (4690, 0.0), (4691, 0.0), (4692, 0.020519523982059994), (4693, 0.0), (4694, 0.0), (4695, 0.0), (4696, 0.04865877354334939), (4697, 0.014444100466516435), (4698, 0.0), (4699, 0.0), (4700, 0.0), (4701, 0.01771512147867746), (4702, 0.0), (4703, 0.01439466667311215), (4704, 0.04738663176921772), (4705, 0.0), (4706, 0.0), (4707, 0.0), (4708, 0.0), (4709, 0.0), (4710, 0.0), (4711, 0.0), (4712, 0.0), (4713, 0.0), (4714, 0.0), (4715, 0.0), (4716, 0.0), (4717, 0.023764656167186787), (4718, 0.004669575107982386), (4719, 0.012041146931114499), (4720, 0.0048337766104816346), (4721, 0.0), (4722, 0.0), (4723, 0.0), (4724, 0.0), (4725, 0.0), (4726, 0.008529780451987368), (4727, 0.004162930769260307), (4728, 0.0), (4729, 0.0), (4730, 0.005701649830650168), (4731, 0.0), (4732, 0.010598110483017249), (4733, 0.004709984236043953), (4734, 0.0), (4735, 0.004193204541907167), (4736, 0.017583318991935694), (4737, 0.0), (4738, 0.0), (4739, 0.013125170215015728), (4740, 0.012553968672824468), (4741, 0.0), (4742, 0.0036768796455587615), (4743, 0.0), (4744, 0.004785171782616175), (4745, 0.0), (4746, 0.0), (4747, 0.0), (4748, 0.0), (4749, 0.020184091542444143), (4750, 0.040768484889425145), (4751, 0.016751002576920568), (4752, 0.010193903268464638), (4753, 0.0), (4754, 0.0), (4755, 0.0), (4756, 0.0), (4757, 0.0176283710804217), (4758, 0.0), (4759, 0.0), (4760, 0.0), (4761, 0.0), (4762, 0.0), (4763, 0.021792444597205335), (4764, 0.00606899655547865), (4765, 0.0), (4766, 0.03489836711940404), (4767, 0.004609035468736239), (4768, 0.017139338421285403), (4769, 0.0), (4770, 0.017742262882219438), (4771, 0.0), (4772, 0.00522678331680199), (4773, 0.0), (4774, 0.01794696657298022), (4775, 0.0), (4776, 0.0), (4777, 0.0), (4778, 0.0), (4779, 0.0), (4780, 0.0), (4781, 0.013254309336939466), (4782, 0.006013082871822402), (4783, 0.032088987162229604), (4784, 0.019327971297908395), (4785, 0.07385630304888169), (4786, 0.01631329330331424), (4787, 0.005212745038619576), (4788, 0.0), (4789, 0.0), (4790, 0.0), (4791, 0.0), (4792, 0.0), (4793, 0.0), (4794, 0.0), (4795, 0.004598691014605881), (4796, 0.0), (4797, 0.0), (4798, 0.0), (4799, 0.01703759350611126), (4800, 0.015697406441602085), (4801, 0.0), (4802, 0.0)]\n"
          ]
        }
      ]
    },
    {
      "cell_type": "code",
      "source": [
        "len(similarity_score)"
      ],
      "metadata": {
        "colab": {
          "base_uri": "https://localhost:8080/"
        },
        "id": "Zq2hSrcd-41k",
        "outputId": "994eba5a-e678-4721-8615-225d2342e4ad"
      },
      "execution_count": 33,
      "outputs": [
        {
          "output_type": "execute_result",
          "data": {
            "text/plain": [
              "4803"
            ]
          },
          "metadata": {},
          "execution_count": 33
        }
      ]
    },
    {
      "cell_type": "code",
      "source": [
        "sorted_similar_movies = sorted(similarity_score, key = lambda x:x[1], reverse = True)\n",
        "print(sorted_similar_movies)\n"
      ],
      "metadata": {
        "colab": {
          "base_uri": "https://localhost:8080/"
        },
        "id": "sUcS8o68_DuZ",
        "outputId": "b2d1615c-bc2c-4fd6-867a-60bf199b5d84"
      },
      "execution_count": 34,
      "outputs": [
        {
          "output_type": "stream",
          "name": "stdout",
          "text": [
            "[(3820, 1.0), (2404, 0.1701758158868868), (2399, 0.16028075853296117), (4006, 0.14586541621672294), (2347, 0.14353240793281402), (1004, 0.14239951680680984), (3802, 0.12647028864321896), (2693, 0.1156681419955282), (3236, 0.11003940784933461), (2872, 0.10935338304590239), (2916, 0.10866254196138579), (4043, 0.10807717465605615), (2992, 0.10668423298519253), (3211, 0.10626529650420283), (1080, 0.10140282096170863), (3986, 0.10061239218099455), (875, 0.09345603441775654), (1559, 0.09250554446118267), (4497, 0.09114901646509696), (2211, 0.09047634115929679), (3407, 0.08968748898537712), (3816, 0.08752367576264163), (3028, 0.08575593816228459), (598, 0.08468865955572483), (4570, 0.08421181345953976), (4126, 0.08391185170302215), (2732, 0.08304224071425467), (2227, 0.08292425836145384), (2599, 0.08237713200471806), (4050, 0.08207128406048261), (3702, 0.08115376160984564), (4046, 0.08028255917036257), (852, 0.07957569033915024), (870, 0.0791869348682522), (2249, 0.07863418211417149), (1689, 0.07777774449233436), (2022, 0.0770558998338966), (2287, 0.07628321138645168), (4177, 0.07611237307289527), (382, 0.07554824435740384), (465, 0.07549996366045522), (4487, 0.07451436366257899), (1776, 0.07434807018530193), (3731, 0.07428674872142886), (4785, 0.07385630304888169), (917, 0.07367785926355039), (2859, 0.07350291890661673), (1614, 0.07332451263304443), (159, 0.07325843910816507), (1982, 0.07246725091830596), (1055, 0.07234117832266285), (1561, 0.07231722728594012), (1527, 0.07216839235591468), (694, 0.07106820180196338), (1601, 0.0710671270974909), (2618, 0.07062670454424413), (3187, 0.07049339728350644), (1018, 0.07043461157754634), (1235, 0.0702119308708402), (1123, 0.07020901228984923), (4010, 0.07002274921137586), (1183, 0.06976605656826619), (1684, 0.06965434303002914), (3461, 0.06955484767009532), (2487, 0.06931976291114267), (2929, 0.06884887236774032), (3444, 0.06874867278146163), (1521, 0.06843220239553044), (1190, 0.06821726636780852), (4495, 0.06802590619195764), (2140, 0.06787519696774126), (848, 0.06738191916054065), (2238, 0.0672782858940068), (1977, 0.06717866818387314), (3059, 0.06654649706986077), (886, 0.06642022944615239), (3161, 0.06639147942297272), (2752, 0.06638331614333265), (3419, 0.06594284005658678), (4594, 0.06585628739393737), (4423, 0.0654865268253151), (4479, 0.0652951617524948), (2232, 0.06477959076995764), (1188, 0.06451140186152955), (4604, 0.06445091628721948), (3745, 0.06436631744951424), (858, 0.06356114635028344), (4288, 0.06324419087696193), (4278, 0.06242778272281257), (1560, 0.06230329191764532), (4456, 0.06135085619968399), (4678, 0.06134618482375486), (3321, 0.06118530158752812), (573, 0.06112515276455681), (173, 0.06111214556641703), (4568, 0.061002329155019346), (391, 0.06033318954882558), (860, 0.059994846637128015), (1538, 0.059910948397797516), (1104, 0.05947879257652421), (2071, 0.05914193410389442), (4277, 0.05886255176963292), (2432, 0.05882283046305892), (3450, 0.05853975185050975), (3421, 0.05843144172480033), (4558, 0.058206071425209026), (1060, 0.057896868279893765), (2205, 0.05770602039887851), (4166, 0.057103429375445575), (2345, 0.057079433935756624), (1579, 0.05664486225358879), (2590, 0.05656829213542178), (2433, 0.056335496313490434), (4212, 0.05627080101920788), (352, 0.0561174308466051), (1965, 0.05576289379075773), (1702, 0.05563414086860024), (1352, 0.05560787272442911), (874, 0.05551409996078751), (1309, 0.055134601670203204), (3215, 0.054894522670980335), (1851, 0.05476585876842796), (2885, 0.05466659957456628), (651, 0.054537920730885384), (1695, 0.05452501199185703), (2116, 0.054448608031516244), (3703, 0.05409284487290876), (2480, 0.054032668128170334), (226, 0.053950733593847514), (3177, 0.05389502975365663), (869, 0.053650530204484195), (2225, 0.05362050328112937), (3973, 0.053456258136866525), (1216, 0.053416575297587685), (3145, 0.05292614807973241), (2835, 0.05254893672396307), (2422, 0.05223115301217345), (763, 0.052092897347393474), (779, 0.052086956407090976), (1233, 0.052018721093724504), (3188, 0.05189592627135016), (964, 0.05171198717826881), (6, 0.05169653628151698), (3842, 0.05145507850607952), (2938, 0.051028830510786174), (811, 0.05101650891199949), (2514, 0.05092240866025677), (3599, 0.05086770871095678), (3289, 0.05053395758564634), (853, 0.05028677061274238), (2606, 0.05024853214187536), (2185, 0.05017926859365501), (4466, 0.05008625544033127), (1578, 0.049932420464980684), (124, 0.04991683886364557), (3233, 0.04985542244304643), (1958, 0.049825037383468884), (812, 0.04956364046229349), (3630, 0.04930624884939024), (4301, 0.0491345393147994), (3784, 0.04905213419002507), (2542, 0.04901497678007036), (4664, 0.04895275630727881), (1887, 0.048822204413993334), (4696, 0.04865877354334939), (887, 0.04851663615134992), (4171, 0.04798522539108804), (785, 0.047603163614436346), (4704, 0.04738663176921772), (4348, 0.04732308217779564), (284, 0.04729085423856609), (751, 0.04697868140872891), (1801, 0.04673932013379271), (1803, 0.04627419702373435), (2923, 0.0462592767914045), (866, 0.04600025714452572), (4500, 0.04599542641596925), (1509, 0.04594056717060347), (4406, 0.04540772080264696), (2825, 0.04527149817696649), (374, 0.04510234602167835), (2131, 0.04498941844573516), (1764, 0.04484941973315394), (2343, 0.04480336894401379), (1873, 0.04438701955500356), (3241, 0.044316277732702275), (3611, 0.044297853411293484), (1348, 0.04419082706860378), (3535, 0.0439546095908121), (948, 0.04391958941098382), (2741, 0.04380271837643004), (423, 0.04375392860355988), (4097, 0.043596666860546696), (1225, 0.04357224045797773), (2082, 0.04353064606460789), (2106, 0.043410022826074104), (600, 0.04335941453711764), (4547, 0.04279713558478802), (1747, 0.04267172069366562), (689, 0.04264821241717966), (1403, 0.04257700486089828), (1042, 0.04252307765611908), (4663, 0.04240907870218568), (1537, 0.042404025360612024), (2980, 0.04218444883511508), (3987, 0.04187689780571325), (902, 0.041743948290228455), (3890, 0.04172717205393773), (775, 0.041713384430398244), (510, 0.041310195563227486), (1176, 0.04130743648228307), (3365, 0.04130187320421759), (966, 0.04124940747002953), (4606, 0.04098682911961463), (978, 0.04097912367606822), (764, 0.04097222549526934), (4750, 0.040768484889425145), (2148, 0.04068417793104413), (4441, 0.04064904987376132), (2083, 0.04064702624309621), (3058, 0.040532620424872476), (2114, 0.04034009098588945), (1408, 0.04032182560434093), (1007, 0.040200065278030134), (813, 0.04017020282215855), (2955, 0.040168856854635684), (1300, 0.0401252320465744), (3916, 0.04009263241465516), (1441, 0.03994836881470864), (2426, 0.03988113810825574), (3338, 0.039873172612298405), (121, 0.03975041674891964), (369, 0.039731369044028526), (676, 0.039636802358890035), (3911, 0.03953478200077776), (4225, 0.0394774186866379), (1696, 0.03945781091324187), (40, 0.03938539390697567), (4613, 0.03935942367871929), (396, 0.039320721791298946), (833, 0.03929519716056988), (1248, 0.03913616660372504), (4209, 0.03913062050635318), (4168, 0.03897117044858097), (525, 0.038885480280000606), (1613, 0.03887569686090244), (3070, 0.03884698627170066), (1430, 0.038795687259418676), (3385, 0.03875960318207166), (3810, 0.038678945048552994), (3783, 0.03866821775477006), (2818, 0.03866291071555597), (4648, 0.038415548611027986), (4305, 0.03827544137407351), (944, 0.03825599228929449), (427, 0.03820424319051459), (726, 0.038203181334157704), (4358, 0.03820055319343224), (2099, 0.038195673161841456), (1489, 0.03815489046655398), (1252, 0.03808592811981658), (3983, 0.038036340604579236), (3512, 0.038032402995310514), (1088, 0.03786361584722179), (1314, 0.037794334575729636), (2354, 0.037697507184033176), (2048, 0.037668794391478674), (4612, 0.03754176104048363), (1223, 0.03753863480383404), (3427, 0.03753792262524973), (2605, 0.03734556847313745), (1514, 0.03728636982054197), (2307, 0.03708441530270784), (704, 0.03707782659096798), (1108, 0.037072414543775474), (2517, 0.036877790928801224), (4316, 0.03685515417467406), (1116, 0.036835105520719974), (2529, 0.03669847882950648), (2217, 0.03666539165134225), (823, 0.036591611061542614), (1477, 0.03655512074073962), (328, 0.03654315147307507), (2870, 0.03647314254659657), (637, 0.036468372633097254), (1880, 0.03642683127112836), (1469, 0.03638233968347838), (738, 0.03638176684628716), (877, 0.036304247206515164), (1683, 0.03624824069177458), (933, 0.03622412306249725), (790, 0.03619770915528303), (3781, 0.03619043703321573), (2951, 0.03615032975609394), (2801, 0.03598325243166029), (940, 0.035939231412578265), (998, 0.03593858614667995), (1149, 0.03593780013214827), (4060, 0.035829130161757955), (516, 0.03581084139757985), (1790, 0.03580508606600136), (3405, 0.035705819805407726), (3795, 0.03563765658284757), (1710, 0.03557598198414045), (3282, 0.03535260988276541), (1147, 0.03528187602061171), (205, 0.035279138205995667), (3928, 0.03524376107867873), (4351, 0.03515929351231583), (195, 0.034986478901662815), (107, 0.03490220491825082), (4766, 0.03489836711940404), (1533, 0.03479269954610061), (3813, 0.03463661819008946), (1885, 0.03461761031568703), (4244, 0.03453710211400956), (4411, 0.0344868291557987), (1902, 0.03445442438377002), (615, 0.03444392315845659), (2904, 0.0343450777611064), (172, 0.03433403242886064), (4414, 0.034221911439912114), (975, 0.03419045841865335), (4525, 0.034090237592399056), (1296, 0.034075885178125515), (4094, 0.03403529398963638), (2215, 0.0339119556634269), (1753, 0.03389917173984468), (923, 0.03384738489577923), (4294, 0.03379742933447259), (3032, 0.03379427134340689), (1375, 0.03376210519421523), (715, 0.033713577618249065), (1705, 0.03368364879635727), (265, 0.03364317228689032), (3262, 0.03363163007636007), (4349, 0.03357517231644685), (3997, 0.03351791557383268), (837, 0.03343932897345524), (1530, 0.033290001841802974), (2060, 0.033251456586337276), (1228, 0.033213128471955275), (553, 0.03315662394309472), (2172, 0.03313865799319394), (2647, 0.03311703625829129), (3590, 0.033107359837943266), (4673, 0.033101353846387106), (3160, 0.03300333119569338), (4248, 0.03295460756958318), (566, 0.032923948497690605), (2357, 0.0329058163181532), (4109, 0.03289947340113342), (2243, 0.03282717557924542), (2578, 0.0327857392693216), (2953, 0.03277383785089045), (4017, 0.03273339923571636), (2903, 0.03273257688332847), (596, 0.032704955117148285), (619, 0.032696824706616605), (2030, 0.032484171657399835), (589, 0.03244633765577647), (2974, 0.032407759017447434), (3756, 0.03229906053843891), (1312, 0.032253983826331795), (1120, 0.032194743188925644), (3739, 0.032186993871877574), (3060, 0.03216657923730462), (1756, 0.03213176106753814), (4783, 0.032088987162229604), (3556, 0.032050870037609556), (94, 0.032030816350422917), (2291, 0.03202505912971818), (3887, 0.03200423906738697), (1933, 0.031940414191121785), (1598, 0.031921175937618354), (789, 0.03191098369216109), (4218, 0.03188155464645139), (3974, 0.03182496641940036), (2820, 0.031782784661587946), (1724, 0.031745896413253746), (4132, 0.03167915691130463), (4654, 0.031671539049004625), (918, 0.031564115053948044), (2828, 0.03149935137122093), (1642, 0.03143139815868294), (2337, 0.03131861547644373), (1465, 0.031229308310472027), (719, 0.03122080928885044), (1890, 0.031211992010044813), (451, 0.03119479609408928), (1356, 0.031093639239353318), (2682, 0.031027744021043944), (3864, 0.03100925657425208), (2824, 0.030829619887103237), (2218, 0.03077088000527739), (3606, 0.030651232791814666), (3003, 0.03062429098158348), (486, 0.03051386022749813), (2651, 0.03050593996739326), (55, 0.030485585819222123), (1594, 0.030446437588189365), (3822, 0.030443312796012974), (1059, 0.03036754986703572), (4573, 0.030320990903041953), (1898, 0.030311759931251205), (1664, 0.03024446245609955), (494, 0.03018646464275429), (2664, 0.030074392476477606), (2566, 0.030001071241337395), (3789, 0.029914035988139315), (3124, 0.02990912881213948), (3127, 0.029863869180952164), (269, 0.029857065564240788), (2442, 0.029841448786661402), (2603, 0.02972811844576334), (3604, 0.029720210744917028), (3661, 0.02964562106816397), (2694, 0.029543529748700927), (2329, 0.02951672460695151), (3019, 0.029512517558185923), (2304, 0.02948831672117806), (1177, 0.02946799766666204), (2628, 0.02938028948424594), (1694, 0.029349882453195884), (2053, 0.029200228318249442), (1868, 0.029183538938056544), (2804, 0.029078024823389063), (3474, 0.029071191731599246), (2224, 0.029065133146640172), (295, 0.02906148732110322), (4238, 0.029029294143113924), (2111, 0.0290162744722131), (482, 0.029007287071808295), (624, 0.028996884453036578), (2591, 0.028962947439159788), (2395, 0.028893129461349667), (997, 0.028816126899943183), (1865, 0.028637725015093422), (3186, 0.028547988935411796), (4247, 0.028517844907462328), (2580, 0.028499299587477447), (3579, 0.02841212769990175), (3991, 0.028389564345952054), (3212, 0.02833256046653517), (2582, 0.0282305317483627), (1564, 0.02821657304252457), (2332, 0.02820847739038627), (1483, 0.02810432949587418), (3250, 0.0280420174826834), (2790, 0.027991619572985526), (1567, 0.027878013915018877), (459, 0.027579159898259948), (1849, 0.027522641643713357), (1162, 0.02751857703832794), (3706, 0.027499024988376895), (3219, 0.02748571569011856), (2213, 0.02743492689952896), (1829, 0.027403756365427807), (3643, 0.027376155924799632), (815, 0.027230789803433526), (4473, 0.02706436456969929), (1779, 0.027012878482905497), (629, 0.026891677313767084), (3791, 0.026837275125057444), (798, 0.026812104987959856), (2323, 0.02674380957884153), (1625, 0.02674169888716575), (681, 0.026729468019970525), (117, 0.026482901400437107), (1996, 0.026300523618018434), (3529, 0.026089869041508527), (1311, 0.026068207412455954), (3369, 0.025948183907644026), (809, 0.025913232874718646), (3287, 0.025739868744904103), (3865, 0.025711008857653234), (3603, 0.025634344669922263), (2518, 0.025534250942986586), (4355, 0.025483780690841923), (1716, 0.02531758432616057), (2468, 0.025312968098708255), (3713, 0.025300140430168403), (1623, 0.025250855153595146), (1960, 0.025190287333153493), (904, 0.025062743711720778), (2049, 0.025055644523066488), (2321, 0.025053592006999824), (1565, 0.02493656399133256), (2532, 0.024910282825819207), (698, 0.024861724396471874), (4352, 0.024751361017961312), (3528, 0.024725353788795666), (4418, 0.024627569240423308), (1817, 0.02462015878524032), (1692, 0.02436877869228301), (2614, 0.024295901523504946), (638, 0.024237975389239448), (2797, 0.024195511016895793), (3860, 0.024167402335069883), (2070, 0.024136918777761078), (1268, 0.024129031116704506), (470, 0.02401407681581802), (4540, 0.023983145246361203), (2560, 0.02395040369701566), (3977, 0.023948530717968045), (839, 0.023850571030053815), (3011, 0.023846335721452925), (1934, 0.023827407966699157), (4717, 0.023764656167186787), (1125, 0.023719319156876015), (2914, 0.0236630368537274), (3253, 0.02350974254239789), (3229, 0.023501544989862202), (3334, 0.023430747968620505), (2629, 0.02329471450636045), (3286, 0.02327244082850555), (1207, 0.02326013308630282), (3868, 0.023157921794019157), (2496, 0.023119427570742593), (2303, 0.02311319381968547), (3016, 0.023089764732603123), (540, 0.02307124405523469), (3464, 0.023025592434375068), (1115, 0.02301824724458991), (2940, 0.02293741542133106), (4276, 0.022692886919935935), (2081, 0.0226825546521527), (2571, 0.022680493442388726), (2018, 0.022586296956809693), (1963, 0.02257184448208728), (2789, 0.022546874113097658), (2946, 0.022539725953158205), (3873, 0.02251921818483863), (1668, 0.02248688475123926), (2042, 0.022414135592190264), (3863, 0.022375199794763462), (578, 0.022366772635453624), (1435, 0.022361204977304462), (2866, 0.022321359532683833), (3007, 0.02231939144289163), (4507, 0.022294267195384278), (1335, 0.022268444953213458), (2708, 0.022233494625079356), (3271, 0.02220202909983863), (2276, 0.022196143120671082), (1969, 0.022180855920039218), (1474, 0.022118246878028828), (3662, 0.02211603079553792), (2524, 0.022077720077801614), (2796, 0.022037552458920737), (2489, 0.02201321052281321), (4363, 0.021983869785050958), (2858, 0.021981513733742263), (2892, 0.021922018680965643), (2813, 0.021805668563461802), (4763, 0.021792444597205335), (2703, 0.021579269252998624), (2474, 0.021559520410622552), (591, 0.02155545918803869), (2687, 0.021525358511999805), (2260, 0.02151961292091972), (4140, 0.02150150190277263), (1258, 0.02140745566225182), (1208, 0.021315690380991365), (1315, 0.021313029746800508), (3323, 0.02128852964000892), (3743, 0.021249872810824452), (2289, 0.021224519296900717), (2611, 0.021196130107417045), (1221, 0.02112065287090046), (3616, 0.02109653806976047), (942, 0.021078162714869418), (1280, 0.021031552873436193), (2011, 0.02097636406443361), (898, 0.020949951775741917), (3376, 0.02094481327558204), (3267, 0.020941762125039887), (1350, 0.020936310071090956), (413, 0.020924225731814676), (605, 0.02091245790815054), (3981, 0.02089869188325379), (2754, 0.020861874850553762), (1227, 0.02084696458224667), (3793, 0.020824972200146775), (4062, 0.02082397313206616), (2245, 0.020773911807112452), (1150, 0.02077310414548333), (3465, 0.020723133612703108), (3778, 0.02066661439336238), (4430, 0.020631191701771544), (2364, 0.02062766798355594), (2214, 0.020620529018289688), (1515, 0.020544704652692064), (1569, 0.02054045860843289), (3055, 0.020538549471204304), (1061, 0.020533229132577758), (2556, 0.020533079776205394), (4692, 0.020519523982059994), (1612, 0.02050544586542711), (1744, 0.02048612301660817), (326, 0.02048048149055218), (4522, 0.02047511454482609), (3950, 0.02046959931959161), (3279, 0.020465642629591076), (625, 0.020459565848002483), (3767, 0.0204512607607787), (323, 0.020423041351037962), (2136, 0.02041199817716967), (1751, 0.020406991091153022), (1609, 0.020399741590407014), (1295, 0.020399526723400566), (4296, 0.020395593585454286), (3176, 0.02036572122989885), (3925, 0.02035779662843086), (3610, 0.020357165126724898), (2197, 0.020325206897553388), (1499, 0.020313451789105468), (915, 0.020302420425762545), (1017, 0.02026034122394825), (1468, 0.020226828639284197), (3771, 0.020217254129091762), (2719, 0.020195996038162894), (1202, 0.020186880359824095), (4749, 0.020184091542444143), (4652, 0.02013004129611438), (3314, 0.020115281619321274), (4677, 0.02010596003754398), (3984, 0.02007703910734144), (3270, 0.0200658722345482), (2519, 0.02003262540118711), (3770, 0.020026739911829093), (2461, 0.019964531474984414), (3393, 0.019961947283277204), (2079, 0.019947829481417746), (4199, 0.019930134140350754), (1305, 0.019824026371093893), (1739, 0.019823464052949092), (3301, 0.01979375107671981), (2473, 0.019791483688019175), (1763, 0.0197764535489628), (3237, 0.01977401190157697), (3010, 0.019763534680025938), (3510, 0.01975832619801444), (50, 0.019754433272340992), (3230, 0.0197292620218701), (1755, 0.01970470456690685), (555, 0.019699596565708875), (1122, 0.0196876719708821), (4632, 0.019667662031035343), (2786, 0.01966481905115903), (910, 0.019621279265821294), (3655, 0.01959411677219601), (4373, 0.01959072913390778), (2791, 0.01956651996796951), (1461, 0.019487787439408398), (4365, 0.01947671074549983), (4640, 0.019430170740908366), (2660, 0.019411117697990955), (2800, 0.01940645087643723), (526, 0.019361684305279615), (1667, 0.01935779683779852), (4784, 0.019327971297908395), (1832, 0.01931848116913021), (1798, 0.019298392679523865), (660, 0.019295766526527085), (3190, 0.01929298317587963), (2311, 0.01927447582340022), (1780, 0.01921141048674342), (4163, 0.01919635447467342), (3069, 0.019060538407410507), (652, 0.01905291279644959), (2494, 0.019042965686121845), (4409, 0.01902454722972008), (3809, 0.01901964114681438), (3117, 0.01897809658939244), (1973, 0.018945548567512828), (1919, 0.01893919909853597), (4197, 0.018936080446178807), (3067, 0.018922637537186204), (1185, 0.01890132950258963), (1263, 0.018885880624894078), (1944, 0.01887416859247062), (2441, 0.018840274572247812), (2837, 0.018836282531814057), (1927, 0.018835149361935342), (2963, 0.018830444808908418), (1571, 0.018795690382819998), (4626, 0.01877297737839382), (795, 0.018766102504110357), (2927, 0.01875423881412786), (3001, 0.018726963061913994), (1655, 0.01871624791078225), (1175, 0.0187010229129809), (1669, 0.0186843232524469), (4243, 0.0186685025276215), (3036, 0.018656708871178766), (3076, 0.018653419116251877), (4396, 0.01863007646163571), (3313, 0.01862297797304199), (2854, 0.018589352797408296), (2950, 0.018571845413759502), (1025, 0.01857041697751073), (1957, 0.01855827249748544), (535, 0.01855202096824341), (2367, 0.01853732266187496), (2054, 0.018535903768087288), (435, 0.018510703449828275), (1577, 0.018494800391814867), (1261, 0.018486094107798418), (2707, 0.018481944929239887), (4393, 0.0184508316485993), (1467, 0.018442567935354356), (3576, 0.018439187734828152), (2455, 0.01841110678001755), (2126, 0.01840277886831841), (1016, 0.01839069313294394), (1563, 0.018377309674374252), (4203, 0.01837449800489363), (2779, 0.018364718328185467), (3086, 0.018330804825504213), (2376, 0.01829890244724139), (380, 0.018272962231028186), (4200, 0.018261943922513457), (1679, 0.018208163970982228), (3557, 0.018200235684432863), (3116, 0.018189314931698366), (1492, 0.01818412363947137), (1141, 0.018166180443093947), (4176, 0.018134544600250935), (3078, 0.018132183883782273), (3875, 0.01813192051030364), (3134, 0.018099095947567777), (4056, 0.018076728906381647), (3821, 0.018068088205881603), (3340, 0.018057616462664936), (4073, 0.01805737467978474), (4121, 0.018050452886744398), (810, 0.01803614808736752), (4216, 0.018034656680968368), (1031, 0.018025304360533272), (3453, 0.01799440855728833), (1291, 0.017975683135795905), (3757, 0.017969471862143004), (4774, 0.01794696657298022), (2875, 0.017912817828371178), (4280, 0.01790637004719197), (2350, 0.017894587675905065), (3132, 0.017883922253595155), (2972, 0.017876450588962846), (3837, 0.01782626849997952), (4289, 0.01781472185102394), (515, 0.017807478549969193), (3909, 0.017744136596111085), (4770, 0.017742262882219438), (2549, 0.01773749545970532), (1030, 0.017732268435133137), (2036, 0.017717016023889812), (2855, 0.017715263663062968), (4701, 0.01771512147867746), (2045, 0.017681527599354083), (4361, 0.01768017222714386), (2701, 0.01765791987382234), (4757, 0.0176283710804217), (2739, 0.01761792425846044), (4101, 0.017617434076877176), (2500, 0.01761123935238516), (4153, 0.017600682306107784), (4736, 0.017583318991935694), (2104, 0.01758267790894271), (3114, 0.017571827956878124), (4416, 0.017565276518624606), (2604, 0.01755069378393391), (2695, 0.017547853690919706), (2756, 0.01752987132986935), (1862, 0.017529615769202617), (1731, 0.01751788349713055), (3827, 0.017512666209231642), (3687, 0.01750781745688154), (3917, 0.017498168877662867), (4484, 0.017496134171892438), (1861, 0.017492841099112894), (1895, 0.017482606391045794), (1393, 0.01745533326249754), (2799, 0.01742417685236255), (2159, 0.017412144093057302), (1870, 0.01740516099031809), (534, 0.017402542426766903), (2356, 0.0173826048104823), (4627, 0.017375051799928244), (4088, 0.017360782144561722), (630, 0.017352558160431047), (2481, 0.017340464595971748), (1624, 0.017331010718921364), (1543, 0.017322526699568835), (3426, 0.017315093165945324), (3285, 0.017314044926682138), (3640, 0.017311225879699202), (1665, 0.017260370338127252), (3525, 0.017244152777208324), (3366, 0.017232711446438384), (4027, 0.01722356337663561), (4024, 0.017217417590490336), (1167, 0.017206436155784904), (2431, 0.017188634865544734), (1551, 0.017167013376687322), (4768, 0.017139338421285403), (4091, 0.01713861859428417), (3805, 0.01711423259807942), (2423, 0.017109539454754564), (49, 0.017099148859612), (2577, 0.017096917064979327), (4455, 0.017090987055043066), (773, 0.017056585374669007), (2910, 0.01704949482909245), (4799, 0.01703759350611126), (4251, 0.0170301114399295), (3649, 0.016998931401803988), (4119, 0.016996575635153565), (3046, 0.016988026063711675), (3422, 0.016955946026447448), (4417, 0.016946601269623874), (1816, 0.016941246082181567), (2593, 0.016925934346329254), (2328, 0.01691820183793756), (3154, 0.01691580491758065), (189, 0.016911240859100788), (2968, 0.016908632786111585), (2763, 0.016908292871189664), (2325, 0.0169058732866862), (3879, 0.016903837122074414), (1805, 0.016900406374428367), (2822, 0.016894276948698637), (765, 0.016864215747196404), (2765, 0.01686112337242419), (438, 0.01685914101213299), (2065, 0.016857189672049976), (3452, 0.016831004710319227), (2771, 0.01682277597022526), (2659, 0.01680880779634692), (826, 0.01680097496478497), (990, 0.016792427583383843), (4557, 0.01678084460541171), (4198, 0.016766640733227207), (2971, 0.016764560084152218), (4128, 0.01675908759069269), (4751, 0.016751002576920568), (3350, 0.01673230260272938), (3533, 0.01673219797409335), (2472, 0.016728048648089563), (1215, 0.016727617024353054), (2447, 0.016721665051473905), (3894, 0.016712734473876716), (4532, 0.01670851315315665), (4019, 0.0167044493382733), (4235, 0.016692637493244088), (2887, 0.016692247925339958), (822, 0.01668686500797552), (4331, 0.01668323747136339), (3384, 0.016682180462064062), (4586, 0.016679494356719955), (3179, 0.016657519626834812), (2382, 0.016622842233638323), (2667, 0.01661723410388672), (3222, 0.016611841428157057), (530, 0.016605565535105237), (3200, 0.016601664944958447), (4211, 0.016562259003555693), (4129, 0.016557057005800842), (2128, 0.01655365210943518), (3650, 0.016553171561656782), (3926, 0.01653555027631611), (1959, 0.01652502807559473), (4354, 0.01652223463480793), (2372, 0.016521875043669754), (3520, 0.016511725262112312), (2427, 0.016510405968123476), (2729, 0.016500971191772313), (3122, 0.01649314910562124), (4210, 0.01646964671628675), (4378, 0.016458965869004884), (4188, 0.016447355073796077), (4667, 0.016432076853010257), (2939, 0.01642719804547179), (3686, 0.016425680118292693), (1985, 0.016421112376501432), (900, 0.016395149312514106), (612, 0.016388087698066933), (4530, 0.016374055456376463), (3394, 0.01635889314224254), (1475, 0.01635700918635687), (4179, 0.016347364447200443), (2493, 0.016322048078117265), (2984, 0.01631915192780705), (4786, 0.01631329330331424), (4513, 0.01630912375828002), (2313, 0.016300611004378705), (3803, 0.016270721158538223), (2717, 0.0162560641075658), (3319, 0.01625477069784388), (3732, 0.01624258453586857), (2621, 0.016228933271090963), (2451, 0.016202554594142514), (428, 0.016199326246391605), (3915, 0.01618659058324302), (3641, 0.016186071269190277), (4193, 0.016180680243143505), (1629, 0.016156835577829372), (2884, 0.01615041296509004), (1572, 0.016148462563830863), (3183, 0.016143228354388233), (2856, 0.016128548158721327), (4295, 0.016116954680967414), (2684, 0.016112424593521593), (4201, 0.016097230278211958), (1376, 0.016091963708120376), (776, 0.01608584126487508), (2952, 0.01608514016687608), (371, 0.016084325499108855), (4585, 0.016073775593967318), (4588, 0.01605787588504041), (4470, 0.016040757538947785), (3164, 0.016017722057492967), (2059, 0.016017218338966795), (3244, 0.01601470701869127), (4000, 0.016011346537409862), (1953, 0.01601066336828556), (4023, 0.01600448921121016), (757, 0.016000401553176814), (1444, 0.015990716420237566), (2171, 0.015971002231871933), (1647, 0.015970359968659153), (3440, 0.015958372876338764), (3226, 0.01594662497890118), (1405, 0.015931485770990846), (2776, 0.01592619130921622), (1401, 0.01591878887488469), (3484, 0.015912555904112516), (3536, 0.01590895775946755), (971, 0.015891846464578727), (885, 0.01588569812795304), (3258, 0.0158633838682986), (4367, 0.015863323841475045), (4208, 0.015838943002061835), (3408, 0.01583813343192948), (2416, 0.015821796701641466), (1737, 0.015814931109508823), (2077, 0.0158116405322202), (2301, 0.01580554976002306), (793, 0.015787351645184255), (816, 0.015787337357693547), (3243, 0.015786963326920124), (2414, 0.015784256281296496), (1646, 0.015779525340166446), (83, 0.015774777030029125), (567, 0.015774775460333963), (81, 0.01575572059089327), (1143, 0.015750431293232524), (713, 0.015745006313693972), (3420, 0.01573008475097828), (3269, 0.015728301865743036), (2107, 0.01572038028376751), (3300, 0.015711465518412304), (3264, 0.01570849438441814), (3457, 0.015701424439964085), (3957, 0.015698803667766006), (4800, 0.015697406441602085), (463, 0.015691186002225854), (2772, 0.015668956186383975), (882, 0.015667308924841018), (2438, 0.015644436018133506), (3996, 0.01564423452787114), (993, 0.015642861407061757), (1241, 0.01564004790352964), (1603, 0.015607101446300821), (2032, 0.015587795779443196), (2109, 0.015581046401960827), (493, 0.0155788604947088), (912, 0.015575238804065467), (4030, 0.015574130017921758), (972, 0.015553889050597196), (4345, 0.015546789745261904), (4661, 0.015535871622414517), (1599, 0.015534039857753246), (2594, 0.015521871094915466), (4183, 0.015519520891277052), (3633, 0.015518745203228811), (3368, 0.015517632490977235), (2569, 0.015498553031062904), (4447, 0.015497646663433185), (1373, 0.015495512297469826), (3653, 0.015493940601529092), (1081, 0.015484964970268583), (935, 0.015482250049103984), (1021, 0.015474118386118282), (460, 0.015470978308196421), (4149, 0.01546754997128132), (3294, 0.015454472601286523), (806, 0.015444506614460191), (25, 0.015423659202460586), (925, 0.015411070262860472), (3182, 0.015405739009121925), (2298, 0.015404901218393155), (1714, 0.015398249917099961), (1799, 0.01539184491996751), (1688, 0.015363531896723345), (1942, 0.01536076211346641), (2380, 0.015319516611171188), (3201, 0.015318092077898955), (4232, 0.015300946519324522), (3434, 0.01529873710448816), (2257, 0.015292564885976025), (61, 0.015274320196746974), (3157, 0.015272694069194046), (2000, 0.015266145242025521), (2450, 0.015256027741338158), (397, 0.015251219291533556), (682, 0.015230111896003496), (2362, 0.015219569475190507), (868, 0.015218787580191963), (575, 0.015205866917054422), (2810, 0.01520302391228716), (2038, 0.015201271754471415), (1806, 0.015198185103055376), (1324, 0.015185531309038458), (1168, 0.0151850682530979), (1384, 0.01517639421458584), (1460, 0.015164472679579034), (1975, 0.01515359344479253), (1649, 0.015141463746085517), (1840, 0.015141055284564563), (2738, 0.015133812659737681), (2788, 0.015131834361881326), (2449, 0.015121193819910981), (1050, 0.015096505079983353), (2108, 0.015085305906441483), (2677, 0.015078834492462789), (2241, 0.015056776753399502), (4457, 0.015027306702750813), (4533, 0.015016860436170773), (653, 0.015012973923155414), (2467, 0.015006712873602585), (1526, 0.015005317376097088), (3273, 0.014999450873489346), (1329, 0.01499903916323115), (432, 0.014994021509756117), (2458, 0.01499113236580084), (670, 0.01499020447343746), (3734, 0.014980472638005482), (4380, 0.01497323829603012), (3609, 0.014959879710907455), (2565, 0.014959444625357074), (4015, 0.01494654638696461), (3763, 0.014939199184949407), (2333, 0.014936858687175153), (2067, 0.014925887555855442), (2179, 0.01492542316970889), (3456, 0.014907405145551047), (2600, 0.014902707849515796), (2716, 0.014895970337645075), (2475, 0.014890208213315296), (1246, 0.014887606557134806), (1090, 0.014864115888497962), (1337, 0.01486379787985995), (2846, 0.014860261860067878), (3472, 0.014857668472952204), (688, 0.014846984281893655), (1540, 0.014840416885215639), (4059, 0.01482342060246414), (3881, 0.014816512362669301), (4631, 0.014788941209208593), (3994, 0.014785303940102693), (3356, 0.014758906104693985), (490, 0.014737421599395707), (1449, 0.014734717941227686), (3612, 0.014719338761694942), (756, 0.014716913691751616), (2838, 0.014707512590755948), (2153, 0.014706572588030816), (4368, 0.01469986179047754), (3062, 0.014696304148180751), (1416, 0.014693156287785449), (3740, 0.014688388124890393), (1878, 0.014665579350727886), (1582, 0.014664310687397526), (4084, 0.014657989133905794), (457, 0.014657377974820135), (777, 0.014653751621856198), (4635, 0.014644187119499748), (4529, 0.014643911668224822), (3664, 0.014628164470502355), (272, 0.014619577573201273), (3288, 0.014595175759394334), (3479, 0.014581649391012506), (1595, 0.014577484569631068), (3404, 0.014573770079840035), (2836, 0.01457140773886197), (4527, 0.0145494544577026), (551, 0.014548340049704716), (4016, 0.014547416608568075), (3044, 0.01453331959556548), (1784, 0.014529615195898385), (962, 0.014519861746405417), (100, 0.014513681139950425), (3339, 0.014488358545914048), (1889, 0.014481910307790601), (2674, 0.014480970525686773), (2554, 0.014464594815841971), (1606, 0.014456690028765469), (3499, 0.014456589192510068), (4697, 0.014444100466516435), (3755, 0.014436999583942185), (3593, 0.01443227373388528), (440, 0.01442263206303104), (3041, 0.014421603649885631), (3345, 0.014418778687260202), (4020, 0.014415785435984539), (1891, 0.014415563137461515), (1835, 0.014410702851232962), (4703, 0.01439466667311215), (1443, 0.014389926873930304), (2863, 0.014382014635274993), (1154, 0.014381918210398907), (862, 0.014379335853809329), (4229, 0.01435904974455109), (1494, 0.01435788478626425), (1619, 0.01435711890313012), (3247, 0.01435291857291511), (2766, 0.01435208123452982), (2355, 0.014348757110223985), (3410, 0.014333936103874883), (1670, 0.014318595453445656), (1442, 0.014318538886427572), (2374, 0.014308045161258184), (2935, 0.01429124285816432), (1137, 0.014282945597791263), (4537, 0.014282141700743439), (3027, 0.014282088879013208), (1163, 0.014281169355676165), (3949, 0.014278612391926352), (1495, 0.014274541704142092), (2668, 0.014271894421749655), (2092, 0.014269908434679788), (416, 0.014259714230079483), (4671, 0.014258614240254548), (536, 0.01424350636877924), (733, 0.014241045717492972), (2945, 0.01423977655841006), (3228, 0.014237334456009136), (2630, 0.014225093281583846), (1997, 0.014220875875576312), (4443, 0.014211307921638255), (1260, 0.014206530638647403), (1523, 0.0141722317645625), (171, 0.014171478824888124), (3700, 0.014170603668248578), (445, 0.01415689655999634), (705, 0.01415660845815904), (3923, 0.014129549821141825), (250, 0.01411829112205441), (3283, 0.014102752113851818), (2847, 0.014082368071338407), (2051, 0.014081611034957203), (1638, 0.01407289211068913), (3415, 0.014062179792875754), (3071, 0.014056771036269655), (3839, 0.014050258885979605), (2190, 0.014047195390885286), (2710, 0.0140164858549879), (2189, 0.01401565978964882), (792, 0.014002886044304509), (817, 0.014002161307748248), (3239, 0.014000635212478626), (3846, 0.013998805960979747), (703, 0.0139879376435264), (4308, 0.013981614967840946), (1045, 0.013981587384014211), (1717, 0.013966366159402829), (342, 0.013966269775897072), (4427, 0.01395860109109756), (907, 0.013958586755800723), (2769, 0.013943534162344234), (3883, 0.013943105215889994), (3696, 0.01391478320167965), (1232, 0.013912445311169126), (2017, 0.013910141355084098), (2158, 0.013906971356344179), (3608, 0.013904947567439914), (814, 0.013902716957318593), (79, 0.013863961522777263), (1630, 0.013853622606004968), (2012, 0.013847025535415365), (4432, 0.013841268476882785), (2338, 0.013840425199906884), (995, 0.01382926983058065), (1065, 0.013828222431065568), (2718, 0.013817097008087927), (3198, 0.01379410984098589), (1098, 0.013788029356755637), (2206, 0.01377397566754424), (3872, 0.013765518886794816), (1204, 0.013759613761871367), (4103, 0.01375800962639513), (1588, 0.013753247380586722), (2572, 0.013746477601135992), (1591, 0.01373898224654973), (3107, 0.013738320259650355), (3695, 0.013721175125377641), (957, 0.013720547387100315), (2178, 0.013718738656944085), (4190, 0.013718609777221334), (2698, 0.01371544907920734), (2173, 0.01369968263416571), (3374, 0.01369565957963774), (2365, 0.013688377335142663), (3607, 0.013686959292037112), (3931, 0.013682751828038141), (2802, 0.013665727693956546), (3690, 0.013663455891651518), (4583, 0.013658899054406553), (3223, 0.013658802035956838), (891, 0.013642467126050939), (443, 0.013634856469241645), (3095, 0.013625357643337593), (4106, 0.013623718579293283), (2085, 0.013616569341216554), (2706, 0.01361417882128739), (503, 0.013599389681233255), (4371, 0.013596414775060744), (2564, 0.013593430374160467), (2960, 0.013584818941196695), (2152, 0.013584033327333841), (2759, 0.013583304048016038), (2522, 0.013582133383794088), (827, 0.013581416092768693), (4551, 0.013580794852044501), (1867, 0.013568468716352665), (2547, 0.013567200550468884), (3065, 0.013565227092488275), (3898, 0.013536273624941848), (2459, 0.013527698390811181), (1191, 0.013515067520212289), (2962, 0.013499338513109934), (4637, 0.013492969104896547), (3910, 0.013485162492733566), (1513, 0.013484516929071343), (549, 0.013481451734414044), (1299, 0.013477880624280654), (1006, 0.013470240018936212), (2203, 0.013460321036863883), (3064, 0.013459733356426171), (3741, 0.013445595424268455), (1372, 0.013443648608908119), (2175, 0.013442653265819142), (3680, 0.013441183538536877), (2573, 0.013438188439764114), (1458, 0.01340150435344343), (110, 0.013396312951382848), (1, 0.01339244982496674), (2815, 0.013387277209996752), (2949, 0.01338633252282149), (1400, 0.013382222879881459), (4503, 0.013377044606508062), (1244, 0.013359764773845697), (961, 0.0133485765551078), (559, 0.01334289991268482), (4687, 0.01334149472855968), (4643, 0.013331420293592076), (2331, 0.01332513446117233), (2983, 0.013313148304927558), (3754, 0.013298798384127404), (1180, 0.013293093751368038), (3170, 0.013282580156477599), (2161, 0.013282260658858498), (2906, 0.013273934543902535), (1632, 0.01327341117470177), (1472, 0.013273218076037789), (1148, 0.013261155877582677), (3772, 0.013257284653969631), (4781, 0.013254309336939466), (4567, 0.013249707680735792), (1980, 0.013236540302517481), (1366, 0.013236047533232409), (3918, 0.013216590030181682), (4397, 0.013214669124863175), (1433, 0.013213185102826576), (736, 0.013196129026278643), (491, 0.013173238509748001), (1945, 0.013141965516452534), (4739, 0.013125170215015728), (3758, 0.013113265470067944), (2314, 0.013087239368732717), (1575, 0.013076851171788889), (4329, 0.013064176031056782), (3530, 0.013058282676965273), (2613, 0.012995061495188871), (2170, 0.012985546768076449), (1793, 0.012956040540580999), (471, 0.01295089091023863), (901, 0.012943309329922086), (3466, 0.01294216467156008), (1869, 0.012932907531818486), (665, 0.012912501715245283), (3014, 0.01287681048330345), (395, 0.012866827966743287), (1052, 0.012834997944038444), (3619, 0.012800896050728499), (2183, 0.01279080638426766), (3989, 0.01276152309821048), (3149, 0.012756839414395435), (3947, 0.012746038939798351), (1414, 0.01270842763738312), (1831, 0.012688262099505028), (3552, 0.012667655413583704), (156, 0.012659167402366259), (4107, 0.012632638112667259), (2469, 0.012608192125978203), (3097, 0.012601263777950553), (267, 0.0125955000017289), (1067, 0.012589536466176542), (2097, 0.012559956833481177), (4740, 0.012553968672824468), (2007, 0.012495269643353568), (2981, 0.012474932834580694), (648, 0.012473906787784279), (2833, 0.01242168623012813), (2064, 0.0123823489574364), (2299, 0.012363985263581947), (3443, 0.012338521158000385), (2666, 0.01231912988179911), (1128, 0.012307935859682491), (2936, 0.012229215140747141), (4364, 0.012201998343959323), (1286, 0.012170898543779205), (2247, 0.012169230942760413), (2527, 0.012139177655114996), (1590, 0.012115206144109858), (3327, 0.012083646126794731), (1454, 0.01207203228570121), (3218, 0.012068675913420004), (3140, 0.012064124442542812), (4719, 0.012041146931114499), (2925, 0.011988285712566226), (3131, 0.011966103589958152), (4223, 0.011943885558946798), (3473, 0.01192921188060549), (1032, 0.011916302869083142), (3764, 0.011850552289608192), (2661, 0.011821463641896159), (2515, 0.011733608402858227), (1026, 0.011727119657024639), (448, 0.011713808654428998), (999, 0.011585219039347852), (678, 0.011537150948175852), (3775, 0.011514222243474002), (4206, 0.011503271769996853), (4335, 0.011486644691345898), (3503, 0.011483918540227733), (2047, 0.011467320110231953), (1226, 0.011464221981603937), (1488, 0.011423453128701584), (404, 0.011367537899193874), (528, 0.011367323787167302), (1834, 0.011338860631380034), (2407, 0.01132515319041798), (1913, 0.011291584293115152), (4174, 0.011269394486565831), (2757, 0.011113555267235531), (331, 0.01111150527289963), (4375, 0.011009165290351156), (832, 0.010995315494537753), (2212, 0.010951362018304696), (2513, 0.010946000586742157), (53, 0.010908768113868332), (2193, 0.010900089439575439), (3959, 0.010836202939444983), (314, 0.010822934971763084), (1409, 0.010817274298163575), (3481, 0.010817010162861242), (1002, 0.010781938971528583), (4239, 0.010760760583507977), (215, 0.010738420211374063), (196, 0.010715267634782918), (3203, 0.010693576937596738), (980, 0.010692068072735641), (2098, 0.010674963881791734), (2999, 0.010656046335643012), (2638, 0.01060006370354744), (4732, 0.010598110483017249), (1063, 0.010592663311729013), (2320, 0.01056996518216034), (1824, 0.010518146142673535), (1320, 0.010508764787370107), (1086, 0.010496110092287386), (1015, 0.010471610804821212), (1748, 0.010449471332399714), (2275, 0.010412017170504514), (164, 0.010411817040240839), (197, 0.010402250754240111), (43, 0.010398114234841924), (409, 0.01038899968775415), (1203, 0.010338789938441513), (3141, 0.010316402218562282), (3315, 0.010312032991910292), (2123, 0.010311604136260475), (710, 0.01030926425196017), (4670, 0.010287905389094998), (3906, 0.010287148744008273), (108, 0.01020173947577964), (4752, 0.010193903268464638), (96, 0.010178967524569763), (495, 0.010177612463481398), (387, 0.010151556587461114), (1929, 0.010136196301961335), (2255, 0.010117963074838657), (1346, 0.010107991602337024), (4037, 0.010105572139846477), (1380, 0.010077984888578934), (31, 0.010052985407163244), (2308, 0.01004080912152966), (1113, 0.010035070197848342), (329, 0.01001162219356821), (1078, 0.010005221336452262), (384, 0.009999455546938195), (2454, 0.009984893238127594), (3668, 0.009962761965772822), (1279, 0.00992897434668895), (620, 0.009897391290359372), (149, 0.00987439677881826), (1791, 0.009868878014382462), (1500, 0.00985185577531792), (2296, 0.00984245820981792), (505, 0.009841198176394105), (93, 0.00983749954830727), (656, 0.009837018975232837), (46, 0.009833193389399456), (1275, 0.009806825848718987), (1392, 0.009793344065020063), (3056, 0.009791361944119633), (634, 0.009782751796187894), (3383, 0.009704891256409358), (3829, 0.009697810527135253), (677, 0.00969257941786428), (1369, 0.009682598308676023), (75, 0.009681661089000294), (24, 0.009650521877014998), (98, 0.009620273472374959), (2363, 0.009604145889906605), (2584, 0.009602190008815986), (372, 0.009595238533810037), (2993, 0.009563683944618116), (2142, 0.009558266551664855), (1187, 0.009556197763529282), (1914, 0.0095213325520887), (1102, 0.009489028712938443), (3564, 0.009483334674844189), (2826, 0.009474000394217372), (1160, 0.009464566548076887), (1038, 0.009463329850181858), (2675, 0.009455520516119607), (1271, 0.009428692149031475), (2230, 0.009419640700517007), (666, 0.009406076885294688), (3347, 0.009386128551698635), (3717, 0.009382446475865985), (1507, 0.009378776185081665), (324, 0.00937593957242369), (285, 0.00936531423032275), (1159, 0.009359433703141089), (969, 0.009359048608238914), (2816, 0.009355353673605361), (1943, 0.009347149799390832), (2692, 0.009339289258965258), (2240, 0.009334742791302034), (761, 0.009331509730217675), (3049, 0.009330807962088057), (2978, 0.009323615827154824), (1282, 0.009321294631465624), (4319, 0.009305567461830182), (223, 0.009292667050329616), (3401, 0.009245768583160016), (896, 0.009241901938660363), (2417, 0.009238783557547883), (135, 0.009232407117130642), (847, 0.009230364225118338), (116, 0.009195847293163079), (708, 0.009194351373829752), (930, 0.00918572700302307), (3451, 0.009166124205987648), (4013, 0.009164793963659783), (3914, 0.009164376687519104), (836, 0.009153922653065418), (3698, 0.009121252528301997), (318, 0.009108864150915262), (1848, 0.009100441158354011), (259, 0.009083375345874459), (483, 0.009076746896091158), (752, 0.009072965596857217), (3351, 0.009065136303537783), (854, 0.009064504708261775), (1800, 0.009061786482331366), (1359, 0.009058295697759775), (3148, 0.009032518684434969), (2830, 0.009020874429090938), (963, 0.009017735890524934), (3063, 0.009014410665892356), (315, 0.009009235371895082), (2091, 0.008978133720677689), (3841, 0.008974205713853206), (1787, 0.008970099799871765), (484, 0.008924338140306897), (1746, 0.008923362392204337), (830, 0.00891140540064806), (592, 0.00889253832586683), (2381, 0.008890627696514546), (3626, 0.008878971026804872), (4428, 0.008875881839378302), (1428, 0.00887496603147233), (2782, 0.008874213265042579), (19, 0.008870983168319609), (3108, 0.00885915463387978), (929, 0.008856799838598496), (1264, 0.008849969519057088), (2633, 0.00884866887485484), (23, 0.008845495038929037), (1966, 0.008842572653959158), (2736, 0.008836170768083608), (3246, 0.008828414822835156), (4286, 0.008828372441879487), (1293, 0.00881879800729743), (2096, 0.008804185941233082), (2310, 0.008790040339525386), (2387, 0.008789521354727579), (1213, 0.008775631395114844), (3956, 0.00876575886053079), (4032, 0.008740107007628218), (4666, 0.008729197505833624), (2985, 0.008691337316078194), (454, 0.00868638514602105), (4608, 0.008685108889196177), (3874, 0.0086673389343259), (3409, 0.008656117447679943), (3053, 0.008617458432004321), (527, 0.008568716161778081), (4726, 0.008529780451987368), (1995, 0.008524378883220609), (4605, 0.008517102811756714), (2860, 0.00850456883427626), (1082, 0.00850062298723199), (2727, 0.008489454176661608), (4098, 0.008487151951812866), (3748, 0.00846517561281526), (170, 0.008452611145417371), (1111, 0.00840697558507934), (2773, 0.00840149912123793), (3414, 0.008398230480070696), (4259, 0.008385180205705183), (2597, 0.008370678082198735), (2730, 0.008370602728332755), (4071, 0.008351336075920791), (1370, 0.00831380167577701), (2592, 0.008279211100637467), (2033, 0.008264194237321987), (2221, 0.008247374717229172), (2456, 0.008238935712111584), (4283, 0.008220988552927157), (4383, 0.008199774823841837), (4688, 0.008178217115983674), (3227, 0.008138077182417708), (794, 0.008127739158206856), (4167, 0.008121610728964692), (1064, 0.008101577172636676), (633, 0.008087613953584186), (2986, 0.008087383173607752), (2384, 0.008055739449962601), (2004, 0.008055254699316774), (3538, 0.008037768947542935), (4679, 0.008029952418391884), (2068, 0.007948320406658209), (2742, 0.007899705101485258), (340, 0.007858709524539483), (1404, 0.007835768473430881), (3878, 0.007809690312139753), (1611, 0.007738354620939838), (4535, 0.0076969957398830705), (4182, 0.007675199321759373), (627, 0.00758264770213089), (2439, 0.007526211003527462), (3417, 0.007516496890799952), (1967, 0.007464397215228018), (3934, 0.007451702568238896), (489, 0.007323416264356682), (2336, 0.007294505412563535), (3527, 0.0071696877206226285), (3766, 0.00707241904502627), (4579, 0.007052534434788292), (1368, 0.006997255821234283), (4597, 0.0069957997281382125), (3899, 0.006995406931756178), (4081, 0.006924388378125729), (3888, 0.006888921535428472), (4526, 0.006828489086274289), (1852, 0.006800185615674067), (1701, 0.006561936625770169), (750, 0.006473231245224724), (4312, 0.0064679493603601555), (3857, 0.0064406994761641665), (4408, 0.006326926487275971), (4233, 0.00627129489061748), (162, 0.0062240877954888845), (2437, 0.006205871822664774), (2931, 0.006144096677294858), (3779, 0.006136247487127389), (3225, 0.006130534264820355), (3798, 0.0061196761200845605), (4110, 0.006118179158549375), (4328, 0.006086787660148254), (2222, 0.0060765350326366235), (4764, 0.00606899655547865), (584, 0.006052260100613623), (4125, 0.006023379733376023), (4782, 0.006013082871822402), (881, 0.005977676398056789), (4501, 0.005955661718822061), (3948, 0.005952770968803302), (1358, 0.005908628107153071), (4048, 0.005867673618182566), (497, 0.005845889803813392), (261, 0.005842819370670279), (2326, 0.005805914629621786), (2322, 0.005802247986732059), (58, 0.005791098317654722), (518, 0.005781055490953509), (2586, 0.005777056243374629), (3806, 0.005769441322430864), (1978, 0.0057680737482301275), (1675, 0.0057669750954073605), (1278, 0.0057606602814745025), (10, 0.005752897672043144), (842, 0.005750040244625275), (2973, 0.005737403930926662), (3051, 0.005729473979799555), (3972, 0.005718894187712055), (3, 0.005710964902239475), (4730, 0.005701649830650168), (57, 0.005688210717557341), (2035, 0.005681714565698335), (1381, 0.005678429428471485), (791, 0.005672334529767736), (219, 0.005659619094588666), (4610, 0.005657726520148981), (437, 0.005655027830815397), (165, 0.005651865331051137), (626, 0.00564880163332725), (732, 0.005643349237450067), (2037, 0.005637745818897993), (2928, 0.005630628638935), (4580, 0.005626430064927575), (3988, 0.005621090149843502), (2510, 0.005619786761420405), (2290, 0.005614441337366344), (3679, 0.005613369112831576), (3634, 0.005613153152296104), (2507, 0.005596857765679949), (433, 0.005592657773127807), (2231, 0.005585955860301494), (2165, 0.0055846566412269556), (425, 0.005584425710686606), (213, 0.005584011447517096), (884, 0.005576131348228976), (663, 0.005573721952190769), (466, 0.005571320463992504), (829, 0.005560309002583649), (1020, 0.0055569872563763535), (3485, 0.005554324981987879), (539, 0.005552784767001945), (2543, 0.005551638909102629), (1179, 0.0055496718819203535), (1759, 0.00554787643291968), (80, 0.005537487321904635), (122, 0.005533583680855293), (4045, 0.00552763860158031), (1535, 0.005521707393364699), (201, 0.0055137340818320136), (131, 0.00551064261358457), (101, 0.005508564083298745), (4008, 0.00550328562058672), (2466, 0.005499342012236984), (1732, 0.005498555626208554), (696, 0.005489335887911675), (1762, 0.005488656767951537), (2646, 0.005484634452362919), (3752, 0.00548127855864006), (479, 0.005471218218754874), (4506, 0.005471117675180784), (2302, 0.0054700369931762515), (1884, 0.005466712666553744), (2823, 0.00546648788141298), (1269, 0.00546088435457412), (2394, 0.005454594619480195), (841, 0.005435880180643097), (758, 0.005426825625484523), (102, 0.005421571609185077), (1850, 0.005418236323951271), (319, 0.00541593109340036), (1181, 0.005414096336565486), (1169, 0.0054054893247761715), (4159, 0.0054034462799241205), (1894, 0.005400874723315928), (3355, 0.005396605788410843), (158, 0.005395792650585981), (2814, 0.005394336650137651), (706, 0.005389285208075826), (1621, 0.005388649476691083), (119, 0.0053823006752761055), (3762, 0.00537533364073326), (499, 0.005374273048850546), (327, 0.005373478326184439), (1999, 0.005373456417811953), (3439, 0.005372711971427169), (2964, 0.0053683850313829004), (3302, 0.005364021510504284), (958, 0.005361503871198759), (1847, 0.0053610098446946405), (3726, 0.0053587304987758565), (4647, 0.005354841432845804), (838, 0.005352555779185033), (4105, 0.005351881264681113), (296, 0.005345960193198101), (4481, 0.005317671528461335), (533, 0.005311393387919356), (1257, 0.005311187256504769), (3335, 0.005307491436306832), (1230, 0.005303336672421718), (2583, 0.005302395042539036), (200, 0.0053005053753615965), (5, 0.005298463459759037), (1092, 0.0052950623317863195), (1693, 0.005292264275968813), (2409, 0.0052871543557694994), (2538, 0.005283292799850111), (179, 0.005282173805090543), (2182, 0.005278540393560725), (897, 0.005277827043982098), (4386, 0.005274994267386565), (140, 0.005267347439558422), (1422, 0.005266777212145624), (807, 0.005265520397663918), (654, 0.005262272876711542), (1931, 0.005261642037815833), (103, 0.00525574041380908), (3638, 0.005255559308783513), (4646, 0.00525341832862191), (1525, 0.005252450639582119), (1118, 0.005252267442750562), (1628, 0.005251579683336766), (4509, 0.005249834354837659), (137, 0.005249167416009759), (828, 0.0052473018505172124), (234, 0.005240635503606398), (931, 0.005239838126679794), (1362, 0.005239499272020718), (316, 0.00523588134589063), (229, 0.00523086374677492), (214, 0.005230841158300936), (1070, 0.005229789309224071), (2809, 0.0052269525173031664), (4772, 0.00522678331680199), (1857, 0.00522550406230045), (343, 0.005225197399483714), (657, 0.0052250429378371795), (899, 0.005221462611306453), (4496, 0.005218829116511289), (3320, 0.005218386923205604), (2829, 0.005217415779181229), (480, 0.005217168078559108), (4787, 0.005212745038619576), (1254, 0.005212375925363985), (2202, 0.005211880087904841), (476, 0.005211842850349689), (2864, 0.005211525574283808), (198, 0.005210811721653881), (4282, 0.00520876420709008), (1711, 0.005206153442925582), (501, 0.005204939684255016), (1652, 0.005202798772870602), (1076, 0.005202236675713528), (113, 0.005200717785872349), (64, 0.0051997037185576), (717, 0.0051946874482210175), (1633, 0.005193828717822784), (2420, 0.005193259166349494), (672, 0.0051913913571812), (252, 0.0051881070788664125), (240, 0.005186881349797139), (1272, 0.005184790435788005), (3423, 0.0051843117387375725), (1699, 0.005181874268414475), (3558, 0.005181796991085156), (563, 0.005180908290225637), (1073, 0.005180521530720832), (1490, 0.005179219917510111), (2635, 0.005178579537853661), (268, 0.005176909656499245), (1990, 0.005175384939664645), (2511, 0.005170877046987614), (766, 0.005170127126357656), (1171, 0.005169101642718304), (924, 0.005165023916362662), (2778, 0.005157804281265271), (857, 0.005155191540732447), (697, 0.005150569461609542), (3596, 0.00514731761594351), (4146, 0.0051442807462965725), (160, 0.005143218801395768), (4264, 0.005138357585338831), (1048, 0.005137138569349899), (2919, 0.005137112655212937), (523, 0.005136386923636486), (276, 0.005136195863235728), (2233, 0.005136100892947987), (753, 0.005136041568184558), (873, 0.005134298610093287), (979, 0.005130605558047139), (2177, 0.005127606471425965), (3901, 0.005120841705725273), (1322, 0.00511979415643227), (2342, 0.005119150321249537), (28, 0.005115326172263715), (0, 0.005114733493393357), (1976, 0.005114377360667847), (981, 0.005113617796086156), (871, 0.005110899755391265), (1576, 0.005110355513816844), (1863, 0.005108286796837174), (767, 0.0051071089568624686), (4675, 0.005102628876300094), (892, 0.005102040593591975), (1502, 0.005101104346725694), (211, 0.005100006873652752), (1432, 0.005097961513393211), (305, 0.005097272690925239), (204, 0.0050965795354631915), (982, 0.005096357941697785), (20, 0.005093505141463014), (3507, 0.0050925260338279335), (557, 0.005092239750689942), (4515, 0.005090238679190043), (2046, 0.005088243604824125), (287, 0.005086785946079902), (256, 0.005081415620746553), (14, 0.0050814051720467854), (968, 0.005079173820111284), (4528, 0.00507628802514163), (1501, 0.005067207824050505), (398, 0.005065364239323242), (3173, 0.005065354551845296), (4224, 0.005063216517253942), (720, 0.005058200708499912), (112, 0.005057245253887922), (949, 0.005056917079213161), (2720, 0.0050565660352542485), (2400, 0.005048299392195221), (2361, 0.00504155864945531), (431, 0.005041178572382319), (879, 0.005036651537094839), (3436, 0.005036036210660212), (1910, 0.005035630459095496), (4053, 0.005034737159599435), (644, 0.005034144474313122), (1781, 0.005030201186852121), (1794, 0.005027149297652792), (2625, 0.005024711191246329), (120, 0.005021818162600469), (3318, 0.005015835205436869), (1238, 0.005012885127754699), (310, 0.005012320661622143), (1926, 0.005009826102769523), (3092, 0.005008220216070374), (3260, 0.0050062204651639365), (402, 0.005005732814838844), (1548, 0.005005387669972363), (88, 0.005005166307494574), (554, 0.005004120793216634), (544, 0.005003308790125281), (3293, 0.005000861273916236), (4221, 0.005000737199040129), (77, 0.004999780516768048), (1336, 0.0049976530740493685), (643, 0.004996472275163464), (3445, 0.004995918201001811), (1470, 0.004995642259401731), (473, 0.004992071036297308), (2831, 0.004988474889090143), (367, 0.004988025628913222), (922, 0.004984956643842113), (4392, 0.00498367933344454), (4539, 0.004982830104159289), (1440, 0.004981372979977397), (361, 0.004975311608265534), (1276, 0.004972661318630529), (3765, 0.004972304364227778), (2061, 0.004968947074943327), (1240, 0.004968945097560946), (2169, 0.0049644389503481), (3571, 0.0049635840519902325), (3769, 0.004963374307521336), (3567, 0.004961100496808607), (2812, 0.004960979200959028), (1596, 0.004958278524623183), (4281, 0.0049574414713713134), (1057, 0.004954417046612558), (2163, 0.004950598993021906), (4625, 0.00494894732276372), (2734, 0.004947376481361549), (4659, 0.004943524360958881), (420, 0.004943390170972968), (4475, 0.004943283679300911), (1294, 0.0049421876691727405), (2568, 0.004939357481198474), (2901, 0.004936767568041922), (446, 0.004934521463551425), (150, 0.004929527175607973), (1388, 0.004925008924425827), (3824, 0.004921604262431321), (3381, 0.00491956207623562), (1915, 0.004918762591863361), (3682, 0.004918394860607586), (191, 0.004916622014256029), (2220, 0.004915994528587369), (3905, 0.004915912299173518), (744, 0.004915382231098688), (2430, 0.004914348096931619), (3336, 0.004914172454402416), (3290, 0.00491347899354807), (2535, 0.00491253351980334), (1247, 0.00490970693376729), (224, 0.0049088705576012855), (1410, 0.004906953436462666), (883, 0.004905949781492799), (2102, 0.0049055288445136415), (3568, 0.004905417100172344), (537, 0.004905126252707732), (3297, 0.004904744390089887), (4039, 0.0049031362922757945), (4272, 0.0049016897017799994), (1905, 0.004900200437567488), (2979, 0.004893845125159498), (3238, 0.004892285419992838), (2040, 0.004890851025909054), (1318, 0.004890387745078308), (208, 0.004889223724234578), (2457, 0.004888109515632819), (18, 0.00488672360974452), (3501, 0.004885564814033667), (2008, 0.004883747617554973), (4155, 0.0048817799048566195), (4079, 0.00488125979556939), (2959, 0.004879976820747329), (2425, 0.00487956620701456), (281, 0.00487882684828988), (1367, 0.0048782808937592225), (2024, 0.00487789941368736), (175, 0.0048778234803679285), (3683, 0.004876616370725565), (1839, 0.004876129928080019), (321, 0.004875595159671337), (2234, 0.0048693271720473275), (1182, 0.0048691936798424896), (212, 0.004868620427845205), (1413, 0.004867890840012455), (988, 0.004867048930620598), (560, 0.0048646165906342026), (2488, 0.004859247723671026), (1473, 0.00485877001982754), (759, 0.004848791066445822), (2242, 0.004848772160586216), (3582, 0.004847865074660501), (517, 0.0048463372287027955), (3559, 0.004840678502199441), (3033, 0.0048382456265449025), (2534, 0.004838130021483135), (3828, 0.004837583713040031), (66, 0.0048361117203886295), (4720, 0.0048337766104816346), (2368, 0.004832829518361357), (59, 0.004830592567922323), (4317, 0.004828887621725628), (4483, 0.004824883395010619), (1349, 0.004824380522953185), (3245, 0.004823923007264568), (3693, 0.00482384113435137), (2807, 0.0048232681577300065), (3833, 0.00482303051307926), (275, 0.004821029104798101), (1846, 0.004818841508635797), (39, 0.004816867216503364), (675, 0.0048153593055002475), (2961, 0.00480803286871513), (2305, 0.0048071683825596625), (152, 0.004805285710786279), (1562, 0.004804328947573031), (2525, 0.004802938469916857), (4041, 0.004801567513921032), (582, 0.004801367803411438), (3627, 0.004799550928567181), (4028, 0.0047993200093137504), (3234, 0.004796119722793487), (376, 0.004795889192516658), (4222, 0.0047945191283285905), (426, 0.004792672574613173), (1451, 0.004789094300114422), (4744, 0.004785171782616175), (3372, 0.0047823911513418275), (3147, 0.004782319618922409), (4099, 0.004776461146586405), (334, 0.004775992277248703), (383, 0.004772699815833582), (1585, 0.004768709680227467), (247, 0.004768205638124292), (608, 0.004767216576811029), (1728, 0.004766953378219873), (2086, 0.004766772493387584), (1328, 0.004766155058814288), (237, 0.004766064854474528), (1134, 0.0047641415774753474), (1896, 0.004755246250386042), (1379, 0.004755155704260668), (2947, 0.004753657562698352), (3624, 0.004751624595998337), (3195, 0.0047513266375421356), (4014, 0.004750950084419693), (4650, 0.0047504964691460665), (920, 0.004750371558724359), (1265, 0.004749238374201366), (410, 0.0047492091689549714), (2615, 0.004748931770001459), (3254, 0.0047485691683990024), (2115, 0.004746937753017096), (123, 0.004746597605273131), (1687, 0.004746248603556842), (403, 0.004745570689726343), (1992, 0.004745460251363772), (1482, 0.004745061092760184), (3031, 0.004743590018991907), (2536, 0.004742980543420646), (2155, 0.004740269773194987), (3920, 0.00473952298720225), (4237, 0.004738647056104099), (1656, 0.004737982217131917), (2078, 0.00473763441155016), (867, 0.004735263557364225), (3848, 0.004734411655033405), (788, 0.00473340629033752), (1103, 0.004732774271506378), (216, 0.004731158215564789), (1904, 0.004731060458225585), (63, 0.004726689619969108), (3891, 0.004724137642962902), (3549, 0.004722657615689296), (412, 0.004721742631392708), (3303, 0.004720941582314735), (3592, 0.004719036137428322), (4592, 0.004718516059729196), (126, 0.0047184965143606886), (3458, 0.0047182501394190356), (2015, 0.004715834223777086), (1512, 0.004715613119583623), (13, 0.004715105376101507), (2715, 0.004713514279387198), (1859, 0.004713296891356838), (132, 0.004710570394234113), (4733, 0.004709984236043953), (161, 0.004703417729108537), (176, 0.004703184499267452), (2408, 0.00470045159372445), (739, 0.004699966901780612), (4439, 0.004698683573700854), (95, 0.004695199723994511), (3867, 0.00469469689833791), (1671, 0.004693699412258046), (1804, 0.004690750399665557), (4339, 0.004688623065283962), (2069, 0.004687715232122661), (2105, 0.004686062929163129), (3508, 0.004686046891707441), (3644, 0.0046790551469583705), (125, 0.004672891458822849), (3085, 0.004672810758842647), (2285, 0.004672632622590564), (3586, 0.004671431925493721), (1431, 0.004671178448072118), (721, 0.004670332095220763), (3030, 0.00466959645976845), (4718, 0.004669575107982386), (577, 0.004668776150807263), (671, 0.00466873123584049), (531, 0.004665510958945477), (3581, 0.004663504593565414), (3684, 0.004659779762468855), (27, 0.004659267769631754), (4668, 0.004658187669456276), (1660, 0.004658133384266458), (2237, 0.004656920223156826), (4524, 0.004656830340028824), (3112, 0.004654495667229578), (772, 0.00465403813609618), (1545, 0.004649475723947345), (3349, 0.004645711859053905), (2609, 0.004643621730148434), (3685, 0.004642922171171919), (628, 0.004642464171157185), (4011, 0.004637879656267057), (1822, 0.004632891741652847), (2334, 0.004632721168300545), (691, 0.004631580182322805), (3449, 0.004630607214331234), (1946, 0.004629829929185673), (542, 0.004628198530128769), (4442, 0.00462606512078687), (203, 0.004623698901196512), (3442, 0.00462213028480449), (3566, 0.004621405916127919), (946, 0.004621093365181517), (52, 0.004620435816677649), (22, 0.0046194379060251695), (1722, 0.004619143920725541), (1981, 0.004618403904535792), (3532, 0.004616561625425635), (3617, 0.004614873012274042), (291, 0.004613377467002859), (3812, 0.004612580454002428), (4192, 0.004612416673799081), (469, 0.004611821037720263), (4228, 0.004611116002717911), (4767, 0.004609035468736239), (955, 0.004606334682067561), (2839, 0.004603040145103931), (3281, 0.0046029434039571125), (2405, 0.004599656177912895), (139, 0.004598989440203431), (4795, 0.004598691014605881), (1172, 0.0045966630130394115), (3628, 0.004595210200285665), (1807, 0.004591824641853997), (2157, 0.004590991602299236), (728, 0.004590858152740737), (2463, 0.004588980351132275), (4555, 0.004587433624692053), (802, 0.004587430410399572), (3462, 0.004584048636108584), (3998, 0.004579979901020636), (2413, 0.004577703665560636), (2306, 0.004577167708335225), (1097, 0.004574980536581149), (2195, 0.004571985985748436), (2483, 0.004567843818461558), (1361, 0.004567501931454212), (2478, 0.004567361716364125), (4572, 0.004566934877076926), (2348, 0.004565322996224656), (1292, 0.00456443348321503), (220, 0.004562731656438211), (3861, 0.004562149245772076), (1397, 0.004555776565260496), (1243, 0.004555350725099022), (2094, 0.004554821368941996), (1075, 0.0045533449405806845), (1736, 0.004551757073247231), (199, 0.0045509414397305464), (4135, 0.0045500427046813235), (2557, 0.004549208770385798), (346, 0.004548838003369377), (1220, 0.004548294292579956), (1974, 0.004546722621854006), (3120, 0.004546627721797663), (417, 0.004540726299678445), (855, 0.004534362737023951), (1874, 0.0045337602944475145), (3483, 0.004533745223283011), (647, 0.004532180821918362), (1112, 0.0045318717522246236), (313, 0.004531407435720341), (3073, 0.004526037098406566), (2335, 0.004525150628756945), (1707, 0.004524088083503363), (2025, 0.004523675465401456), (3647, 0.004522963687426462), (4448, 0.004522788864999936), (1820, 0.004522096752173804), (2994, 0.004520510968494826), (485, 0.004518169367393554), (444, 0.00451649188540535), (581, 0.004516105196737033), (3584, 0.004515993166419897), (1775, 0.00450895269537566), (1750, 0.004508787930530724), (1765, 0.0045083180801748285), (4173, 0.004506174652485888), (558, 0.004505151212634812), (692, 0.004504710781634412), (914, 0.0045020478981186735), (1838, 0.00450002095046992), (617, 0.004499684385088003), (3970, 0.004496413879071878), (743, 0.004496409911923556), (4204, 0.004492942823268773), (2865, 0.004491593204147948), (4343, 0.004487566774975653), (1900, 0.004483626047430651), (2982, 0.004482176412149975), (3346, 0.00448107012056208), (2685, 0.004479932676600864), (3305, 0.0044784519882800165), (2561, 0.004477689611098572), (974, 0.004475129335648393), (2669, 0.0044744742029997064), (1453, 0.004470287986851922), (2339, 0.004469228484753462), (2014, 0.0044691470580217685), (364, 0.004464511924411277), (4595, 0.004462952791747868), (1484, 0.004462537669735012), (1672, 0.004459131101728743), (3735, 0.004458462132459912), (2346, 0.00445615493443919), (2258, 0.004454975773171962), (4545, 0.004450279294140666), (186, 0.004449727178155194), (3138, 0.004448219374289303), (1174, 0.0044462356920882415), (1907, 0.0044445441598548446), (2021, 0.0044301749031264576), (2849, 0.004428353108009967), (2340, 0.004427815724145955), (3870, 0.0044243900898403524), (2435, 0.004423030174044122), (586, 0.004422840570718693), (1406, 0.004418662318294365), (4127, 0.004414268280152916), (245, 0.0044115145055603515), (1091, 0.004411025736948736), (1255, 0.004410429277701733), (1964, 0.004408940626336627), (846, 0.00440465362567902), (1217, 0.004403335942004936), (941, 0.00440267841808284), (2795, 0.004387666436776296), (89, 0.00438583522679812), (429, 0.004381618520083054), (959, 0.004377910073502227), (1827, 0.004375852906915769), (4381, 0.004375820720349645), (4498, 0.004375397435202224), (1497, 0.004372309088038683), (1987, 0.0043707777550101015), (69, 0.004369035924972577), (2062, 0.004364813411253833), (618, 0.004359706652313697), (1095, 0.0043591401134585985), (308, 0.004358103697798346), (1165, 0.004354972518525459), (1818, 0.004331699854458292), (4390, 0.004329516053821955), (2991, 0.004320174030760343), (1923, 0.004320099883775881), (587, 0.004317739561288413), (2397, 0.0043150887225059265), (3648, 0.004313967315344788), (3753, 0.004312453713917712), (4134, 0.004305946666028668), (730, 0.004305015398876736), (1607, 0.004296587515203317), (475, 0.004296412796667481), (2596, 0.0042886524052053515), (3413, 0.0042849701585272616), (1138, 0.004270260026382646), (3477, 0.004268307403691872), (2066, 0.004267975476404641), (4263, 0.00426295693152812), (3832, 0.004257457194166043), (2160, 0.004256865297440656), (2777, 0.004252092971396953), (787, 0.004249960977574299), (934, 0.004246395400584904), (1109, 0.004244092479750342), (1214, 0.00424176597259559), (300, 0.00423270912340283), (2639, 0.004231891440921821), (3277, 0.004229597757040988), (3093, 0.004223093708303418), (2780, 0.0042228525216155095), (1605, 0.004218067280975206), (4202, 0.0042166139503582376), (2819, 0.004213083432702181), (2052, 0.004209232178875949), (1209, 0.004206932139164461), (3733, 0.004203007233134544), (723, 0.004199873564531194), (3588, 0.004198926355327526), (4215, 0.004197938588050114), (4735, 0.004193204541907167), (292, 0.004182554826916341), (1237, 0.0041815431416515544), (3370, 0.0041768760412509475), (1802, 0.004176756335425011), (994, 0.004172631930381646), (3546, 0.004168579576142445), (1795, 0.004167979025873706), (3263, 0.004163801315434499), (4727, 0.004162930769260307), (4391, 0.004161135968535125), (353, 0.004158534193356339), (603, 0.004156906889898042), (1622, 0.004155309042142658), (2626, 0.004154597711059759), (332, 0.0041538887585644705), (3307, 0.004153201538429193), (3709, 0.004146750505345187), (2283, 0.004142976355783245), (1298, 0.004141736795948675), (1676, 0.0041392592490315985), (4356, 0.0041379268682597975), (1735, 0.004136801252911734), (1583, 0.004135097368770763), (1119, 0.004132365607171717), (4350, 0.004125501080165482), (2294, 0.004123023149280311), (3296, 0.0041185611204340765), (4302, 0.00411234133059479), (3776, 0.004108105748549793), (3111, 0.0041065796084937805), (3548, 0.00409981581503063), (1948, 0.0040929323023748965), (3844, 0.0040928338084244235), (1212, 0.004091698494492327), (3018, 0.0040874049827568735), (2704, 0.004081738393700866), (2429, 0.00407838206948172), (2300, 0.004073526792192163), (2164, 0.004065489591587014), (2726, 0.00405282046090935), (2470, 0.004025028267085189), (2366, 0.004020765912590095), (3490, 0.003990049265359561), (393, 0.003979444517329381), (405, 0.003967550658902504), (4340, 0.003963654093318318), (3175, 0.003957788900107825), (1659, 0.003955863710351404), (1877, 0.003949453809973422), (411, 0.003928995166972351), (4394, 0.00392151595509689), (3876, 0.003920475168141458), (3143, 0.0039152061551609), (2868, 0.003910763218376944), (3625, 0.003907702228353109), (1519, 0.0039039328951035825), (3256, 0.003903777784415776), (3390, 0.0038946739478687804), (1837, 0.003892892611107115), (4672, 0.0038640038099717598), (4003, 0.003861186919590968), (3645, 0.0038080222558358567), (377, 0.003803188486751364), (514, 0.003802263591925764), (3012, 0.003785622087733268), (3205, 0.003784219690729492), (673, 0.003774497997645134), (2138, 0.003737335790696258), (3418, 0.0037269015913483526), (4096, 0.003708449992360747), (1153, 0.003701971289979729), (4482, 0.003691900961329725), (3782, 0.0036839303372858292), (4742, 0.0036768796455587615), (2808, 0.0036265602453059557), (2784, 0.003522595743110494), (1304, 0.0034987695783305767), (4164, 0.003476112325612676), (1046, 0.0033598412538135454), (3006, 0.003230360485423552), (2, 0.0), (4, 0.0), (7, 0.0), (8, 0.0), (9, 0.0), (11, 0.0), (12, 0.0), (15, 0.0), (16, 0.0), (17, 0.0), (21, 0.0), (26, 0.0), (29, 0.0), (30, 0.0), (32, 0.0), (33, 0.0), (34, 0.0), (35, 0.0), (36, 0.0), (37, 0.0), (38, 0.0), (41, 0.0), (42, 0.0), (44, 0.0), (45, 0.0), (47, 0.0), (48, 0.0), (51, 0.0), (54, 0.0), (56, 0.0), (60, 0.0), (62, 0.0), (65, 0.0), (67, 0.0), (68, 0.0), (70, 0.0), (71, 0.0), (72, 0.0), (73, 0.0), (74, 0.0), (76, 0.0), (78, 0.0), (82, 0.0), (84, 0.0), (85, 0.0), (86, 0.0), (87, 0.0), (90, 0.0), (91, 0.0), (92, 0.0), (97, 0.0), (99, 0.0), (104, 0.0), (105, 0.0), (106, 0.0), (109, 0.0), (111, 0.0), (114, 0.0), (115, 0.0), (118, 0.0), (127, 0.0), (128, 0.0), (129, 0.0), (130, 0.0), (133, 0.0), (134, 0.0), (136, 0.0), (138, 0.0), (141, 0.0), (142, 0.0), (143, 0.0), (144, 0.0), (145, 0.0), (146, 0.0), (147, 0.0), (148, 0.0), (151, 0.0), (153, 0.0), (154, 0.0), (155, 0.0), (157, 0.0), (163, 0.0), (166, 0.0), (167, 0.0), (168, 0.0), (169, 0.0), (174, 0.0), (177, 0.0), (178, 0.0), (180, 0.0), (181, 0.0), (182, 0.0), (183, 0.0), (184, 0.0), (185, 0.0), (187, 0.0), (188, 0.0), (190, 0.0), (192, 0.0), (193, 0.0), (194, 0.0), (202, 0.0), (206, 0.0), (207, 0.0), (209, 0.0), (210, 0.0), (217, 0.0), (218, 0.0), (221, 0.0), (222, 0.0), (225, 0.0), (227, 0.0), (228, 0.0), (230, 0.0), (231, 0.0), (232, 0.0), (233, 0.0), (235, 0.0), (236, 0.0), (238, 0.0), (239, 0.0), (241, 0.0), (242, 0.0), (243, 0.0), (244, 0.0), (246, 0.0), (248, 0.0), (249, 0.0), (251, 0.0), (253, 0.0), (254, 0.0), (255, 0.0), (257, 0.0), (258, 0.0), (260, 0.0), (262, 0.0), (263, 0.0), (264, 0.0), (266, 0.0), (270, 0.0), (271, 0.0), (273, 0.0), (274, 0.0), (277, 0.0), (278, 0.0), (279, 0.0), (280, 0.0), (282, 0.0), (283, 0.0), (286, 0.0), (288, 0.0), (289, 0.0), (290, 0.0), (293, 0.0), (294, 0.0), (297, 0.0), (298, 0.0), (299, 0.0), (301, 0.0), (302, 0.0), (303, 0.0), (304, 0.0), (306, 0.0), (307, 0.0), (309, 0.0), (311, 0.0), (312, 0.0), (317, 0.0), (320, 0.0), (322, 0.0), (325, 0.0), (330, 0.0), (333, 0.0), (335, 0.0), (336, 0.0), (337, 0.0), (338, 0.0), (339, 0.0), (341, 0.0), (344, 0.0), (345, 0.0), (347, 0.0), (348, 0.0), (349, 0.0), (350, 0.0), (351, 0.0), (354, 0.0), (355, 0.0), (356, 0.0), (357, 0.0), (358, 0.0), (359, 0.0), (360, 0.0), (362, 0.0), (363, 0.0), (365, 0.0), (366, 0.0), (368, 0.0), (370, 0.0), (373, 0.0), (375, 0.0), (378, 0.0), (379, 0.0), (381, 0.0), (385, 0.0), (386, 0.0), (388, 0.0), (389, 0.0), (390, 0.0), (392, 0.0), (394, 0.0), (399, 0.0), (400, 0.0), (401, 0.0), (406, 0.0), (407, 0.0), (408, 0.0), (414, 0.0), (415, 0.0), (418, 0.0), (419, 0.0), (421, 0.0), (422, 0.0), (424, 0.0), (430, 0.0), (434, 0.0), (436, 0.0), (439, 0.0), (441, 0.0), (442, 0.0), (447, 0.0), (449, 0.0), (450, 0.0), (452, 0.0), (453, 0.0), (455, 0.0), (456, 0.0), (458, 0.0), (461, 0.0), (462, 0.0), (464, 0.0), (467, 0.0), (468, 0.0), (472, 0.0), (474, 0.0), (477, 0.0), (478, 0.0), (481, 0.0), (487, 0.0), (488, 0.0), (492, 0.0), (496, 0.0), (498, 0.0), (500, 0.0), (502, 0.0), (504, 0.0), (506, 0.0), (507, 0.0), (508, 0.0), (509, 0.0), (511, 0.0), (512, 0.0), (513, 0.0), (519, 0.0), (520, 0.0), (521, 0.0), (522, 0.0), (524, 0.0), (529, 0.0), (532, 0.0), (538, 0.0), (541, 0.0), (543, 0.0), (545, 0.0), (546, 0.0), (547, 0.0), (548, 0.0), (550, 0.0), (552, 0.0), (556, 0.0), (561, 0.0), (562, 0.0), (564, 0.0), (565, 0.0), (568, 0.0), (569, 0.0), (570, 0.0), (571, 0.0), (572, 0.0), (574, 0.0), (576, 0.0), (579, 0.0), (580, 0.0), (583, 0.0), (585, 0.0), (588, 0.0), (590, 0.0), (593, 0.0), (594, 0.0), (595, 0.0), (597, 0.0), (599, 0.0), (601, 0.0), (602, 0.0), (604, 0.0), (606, 0.0), (607, 0.0), (609, 0.0), (610, 0.0), (611, 0.0), (613, 0.0), (614, 0.0), (616, 0.0), (621, 0.0), (622, 0.0), (623, 0.0), (631, 0.0), (632, 0.0), (635, 0.0), (636, 0.0), (639, 0.0), (640, 0.0), (641, 0.0), (642, 0.0), (645, 0.0), (646, 0.0), (649, 0.0), (650, 0.0), (655, 0.0), (658, 0.0), (659, 0.0), (661, 0.0), (662, 0.0), (664, 0.0), (667, 0.0), (668, 0.0), (669, 0.0), (674, 0.0), (679, 0.0), (680, 0.0), (683, 0.0), (684, 0.0), (685, 0.0), (686, 0.0), (687, 0.0), (690, 0.0), (693, 0.0), (695, 0.0), (699, 0.0), (700, 0.0), (701, 0.0), (702, 0.0), (707, 0.0), (709, 0.0), (711, 0.0), (712, 0.0), (714, 0.0), (716, 0.0), (718, 0.0), (722, 0.0), (724, 0.0), (725, 0.0), (727, 0.0), (729, 0.0), (731, 0.0), (734, 0.0), (735, 0.0), (737, 0.0), (740, 0.0), (741, 0.0), (742, 0.0), (745, 0.0), (746, 0.0), (747, 0.0), (748, 0.0), (749, 0.0), (754, 0.0), (755, 0.0), (760, 0.0), (762, 0.0), (768, 0.0), (769, 0.0), (770, 0.0), (771, 0.0), (774, 0.0), (778, 0.0), (780, 0.0), (781, 0.0), (782, 0.0), (783, 0.0), (784, 0.0), (786, 0.0), (796, 0.0), (797, 0.0), (799, 0.0), (800, 0.0), (801, 0.0), (803, 0.0), (804, 0.0), (805, 0.0), (808, 0.0), (818, 0.0), (819, 0.0), (820, 0.0), (821, 0.0), (824, 0.0), (825, 0.0), (831, 0.0), (834, 0.0), (835, 0.0), (840, 0.0), (843, 0.0), (844, 0.0), (845, 0.0), (849, 0.0), (850, 0.0), (851, 0.0), (856, 0.0), (859, 0.0), (861, 0.0), (863, 0.0), (864, 0.0), (865, 0.0), (872, 0.0), (876, 0.0), (878, 0.0), (880, 0.0), (888, 0.0), (889, 0.0), (890, 0.0), (893, 0.0), (894, 0.0), (895, 0.0), (903, 0.0), (905, 0.0), (906, 0.0), (908, 0.0), (909, 0.0), (911, 0.0), (913, 0.0), (916, 0.0), (919, 0.0), (921, 0.0), (926, 0.0), (927, 0.0), (928, 0.0), (932, 0.0), (936, 0.0), (937, 0.0), (938, 0.0), (939, 0.0), (943, 0.0), (945, 0.0), (947, 0.0), (950, 0.0), (951, 0.0), (952, 0.0), (953, 0.0), (954, 0.0), (956, 0.0), (960, 0.0), (965, 0.0), (967, 0.0), (970, 0.0), (973, 0.0), (976, 0.0), (977, 0.0), (983, 0.0), (984, 0.0), (985, 0.0), (986, 0.0), (987, 0.0), (989, 0.0), (991, 0.0), (992, 0.0), (996, 0.0), (1000, 0.0), (1001, 0.0), (1003, 0.0), (1005, 0.0), (1008, 0.0), (1009, 0.0), (1010, 0.0), (1011, 0.0), (1012, 0.0), (1013, 0.0), (1014, 0.0), (1019, 0.0), (1022, 0.0), (1023, 0.0), (1024, 0.0), (1027, 0.0), (1028, 0.0), (1029, 0.0), (1033, 0.0), (1034, 0.0), (1035, 0.0), (1036, 0.0), (1037, 0.0), (1039, 0.0), (1040, 0.0), (1041, 0.0), (1043, 0.0), (1044, 0.0), (1047, 0.0), (1049, 0.0), (1051, 0.0), (1053, 0.0), (1054, 0.0), (1056, 0.0), (1058, 0.0), (1062, 0.0), (1066, 0.0), (1068, 0.0), (1069, 0.0), (1071, 0.0), (1072, 0.0), (1074, 0.0), (1077, 0.0), (1079, 0.0), (1083, 0.0), (1084, 0.0), (1085, 0.0), (1087, 0.0), (1089, 0.0), (1093, 0.0), (1094, 0.0), (1096, 0.0), (1099, 0.0), (1100, 0.0), (1101, 0.0), (1105, 0.0), (1106, 0.0), (1107, 0.0), (1110, 0.0), (1114, 0.0), (1117, 0.0), (1121, 0.0), (1124, 0.0), (1126, 0.0), (1127, 0.0), (1129, 0.0), (1130, 0.0), (1131, 0.0), (1132, 0.0), (1133, 0.0), (1135, 0.0), (1136, 0.0), (1139, 0.0), (1140, 0.0), (1142, 0.0), (1144, 0.0), (1145, 0.0), (1146, 0.0), (1151, 0.0), (1152, 0.0), (1155, 0.0), (1156, 0.0), (1157, 0.0), (1158, 0.0), (1161, 0.0), (1164, 0.0), (1166, 0.0), (1170, 0.0), (1173, 0.0), (1178, 0.0), (1184, 0.0), (1186, 0.0), (1189, 0.0), (1192, 0.0), (1193, 0.0), (1194, 0.0), (1195, 0.0), (1196, 0.0), (1197, 0.0), (1198, 0.0), (1199, 0.0), (1200, 0.0), (1201, 0.0), (1205, 0.0), (1206, 0.0), (1210, 0.0), (1211, 0.0), (1218, 0.0), (1219, 0.0), (1222, 0.0), (1224, 0.0), (1229, 0.0), (1231, 0.0), (1234, 0.0), (1236, 0.0), (1239, 0.0), (1242, 0.0), (1245, 0.0), (1249, 0.0), (1250, 0.0), (1251, 0.0), (1253, 0.0), (1256, 0.0), (1259, 0.0), (1262, 0.0), (1266, 0.0), (1267, 0.0), (1270, 0.0), (1273, 0.0), (1274, 0.0), (1277, 0.0), (1281, 0.0), (1283, 0.0), (1284, 0.0), (1285, 0.0), (1287, 0.0), (1288, 0.0), (1289, 0.0), (1290, 0.0), (1297, 0.0), (1301, 0.0), (1302, 0.0), (1303, 0.0), (1306, 0.0), (1307, 0.0), (1308, 0.0), (1310, 0.0), (1313, 0.0), (1316, 0.0), (1317, 0.0), (1319, 0.0), (1321, 0.0), (1323, 0.0), (1325, 0.0), (1326, 0.0), (1327, 0.0), (1330, 0.0), (1331, 0.0), (1332, 0.0), (1333, 0.0), (1334, 0.0), (1338, 0.0), (1339, 0.0), (1340, 0.0), (1341, 0.0), (1342, 0.0), (1343, 0.0), (1344, 0.0), (1345, 0.0), (1347, 0.0), (1351, 0.0), (1353, 0.0), (1354, 0.0), (1355, 0.0), (1357, 0.0), (1360, 0.0), (1363, 0.0), (1364, 0.0), (1365, 0.0), (1371, 0.0), (1374, 0.0), (1377, 0.0), (1378, 0.0), (1382, 0.0), (1383, 0.0), (1385, 0.0), (1386, 0.0), (1387, 0.0), (1389, 0.0), (1390, 0.0), (1391, 0.0), (1394, 0.0), (1395, 0.0), (1396, 0.0), (1398, 0.0), (1399, 0.0), (1402, 0.0), (1407, 0.0), (1411, 0.0), (1412, 0.0), (1415, 0.0), (1417, 0.0), (1418, 0.0), (1419, 0.0), (1420, 0.0), (1421, 0.0), (1423, 0.0), (1424, 0.0), (1425, 0.0), (1426, 0.0), (1427, 0.0), (1429, 0.0), (1434, 0.0), (1436, 0.0), (1437, 0.0), (1438, 0.0), (1439, 0.0), (1445, 0.0), (1446, 0.0), (1447, 0.0), (1448, 0.0), (1450, 0.0), (1452, 0.0), (1455, 0.0), (1456, 0.0), (1457, 0.0), (1459, 0.0), (1462, 0.0), (1463, 0.0), (1464, 0.0), (1466, 0.0), (1471, 0.0), (1476, 0.0), (1478, 0.0), (1479, 0.0), (1480, 0.0), (1481, 0.0), (1485, 0.0), (1486, 0.0), (1487, 0.0), (1491, 0.0), (1493, 0.0), (1496, 0.0), (1498, 0.0), (1503, 0.0), (1504, 0.0), (1505, 0.0), (1506, 0.0), (1508, 0.0), (1510, 0.0), (1511, 0.0), (1516, 0.0), (1517, 0.0), (1518, 0.0), (1520, 0.0), (1522, 0.0), (1524, 0.0), (1528, 0.0), (1529, 0.0), (1531, 0.0), (1532, 0.0), (1534, 0.0), (1536, 0.0), (1539, 0.0), (1541, 0.0), (1542, 0.0), (1544, 0.0), (1546, 0.0), (1547, 0.0), (1549, 0.0), (1550, 0.0), (1552, 0.0), (1553, 0.0), (1554, 0.0), (1555, 0.0), (1556, 0.0), (1557, 0.0), (1558, 0.0), (1566, 0.0), (1568, 0.0), (1570, 0.0), (1573, 0.0), (1574, 0.0), (1580, 0.0), (1581, 0.0), (1584, 0.0), (1586, 0.0), (1587, 0.0), (1589, 0.0), (1592, 0.0), (1593, 0.0), (1597, 0.0), (1600, 0.0), (1602, 0.0), (1604, 0.0), (1608, 0.0), (1610, 0.0), (1615, 0.0), (1616, 0.0), (1617, 0.0), (1618, 0.0), (1620, 0.0), (1626, 0.0), (1627, 0.0), (1631, 0.0), (1634, 0.0), (1635, 0.0), (1636, 0.0), (1637, 0.0), (1639, 0.0), (1640, 0.0), (1641, 0.0), (1643, 0.0), (1644, 0.0), (1645, 0.0), (1648, 0.0), (1650, 0.0), (1651, 0.0), (1653, 0.0), (1654, 0.0), (1657, 0.0), (1658, 0.0), (1661, 0.0), (1662, 0.0), (1663, 0.0), (1666, 0.0), (1673, 0.0), (1674, 0.0), (1677, 0.0), (1678, 0.0), (1680, 0.0), (1681, 0.0), (1682, 0.0), (1685, 0.0), (1686, 0.0), (1690, 0.0), (1691, 0.0), (1697, 0.0), (1698, 0.0), (1700, 0.0), (1703, 0.0), (1704, 0.0), (1706, 0.0), (1708, 0.0), (1709, 0.0), (1712, 0.0), (1713, 0.0), (1715, 0.0), (1718, 0.0), (1719, 0.0), (1720, 0.0), (1721, 0.0), (1723, 0.0), (1725, 0.0), (1726, 0.0), (1727, 0.0), (1729, 0.0), (1730, 0.0), (1733, 0.0), (1734, 0.0), (1738, 0.0), (1740, 0.0), (1741, 0.0), (1742, 0.0), (1743, 0.0), (1745, 0.0), (1749, 0.0), (1752, 0.0), (1754, 0.0), (1757, 0.0), (1758, 0.0), (1760, 0.0), (1761, 0.0), (1766, 0.0), (1767, 0.0), (1768, 0.0), (1769, 0.0), (1770, 0.0), (1771, 0.0), (1772, 0.0), (1773, 0.0), (1774, 0.0), (1777, 0.0), (1778, 0.0), (1782, 0.0), (1783, 0.0), (1785, 0.0), (1786, 0.0), (1788, 0.0), (1789, 0.0), (1792, 0.0), (1796, 0.0), (1797, 0.0), (1808, 0.0), (1809, 0.0), (1810, 0.0), (1811, 0.0), (1812, 0.0), (1813, 0.0), (1814, 0.0), (1815, 0.0), (1819, 0.0), (1821, 0.0), (1823, 0.0), (1825, 0.0), (1826, 0.0), (1828, 0.0), (1830, 0.0), (1833, 0.0), (1836, 0.0), (1841, 0.0), (1842, 0.0), (1843, 0.0), (1844, 0.0), (1845, 0.0), (1853, 0.0), (1854, 0.0), (1855, 0.0), (1856, 0.0), (1858, 0.0), (1860, 0.0), (1864, 0.0), (1866, 0.0), (1871, 0.0), (1872, 0.0), (1875, 0.0), (1876, 0.0), (1879, 0.0), (1881, 0.0), (1882, 0.0), (1883, 0.0), (1886, 0.0), (1888, 0.0), (1892, 0.0), (1893, 0.0), (1897, 0.0), (1899, 0.0), (1901, 0.0), (1903, 0.0), (1906, 0.0), (1908, 0.0), (1909, 0.0), (1911, 0.0), (1912, 0.0), (1916, 0.0), (1917, 0.0), (1918, 0.0), (1920, 0.0), (1921, 0.0), (1922, 0.0), (1924, 0.0), (1925, 0.0), (1928, 0.0), (1930, 0.0), (1932, 0.0), (1935, 0.0), (1936, 0.0), (1937, 0.0), (1938, 0.0), (1939, 0.0), (1940, 0.0), (1941, 0.0), (1947, 0.0), (1949, 0.0), (1950, 0.0), (1951, 0.0), (1952, 0.0), (1954, 0.0), (1955, 0.0), (1956, 0.0), (1961, 0.0), (1962, 0.0), (1968, 0.0), (1970, 0.0), (1971, 0.0), (1972, 0.0), (1979, 0.0), (1983, 0.0), (1984, 0.0), (1986, 0.0), (1988, 0.0), (1989, 0.0), (1991, 0.0), (1993, 0.0), (1994, 0.0), (1998, 0.0), (2001, 0.0), (2002, 0.0), (2003, 0.0), (2005, 0.0), (2006, 0.0), (2009, 0.0), (2010, 0.0), (2013, 0.0), (2016, 0.0), (2019, 0.0), (2020, 0.0), (2023, 0.0), (2026, 0.0), (2027, 0.0), (2028, 0.0), (2029, 0.0), (2031, 0.0), (2034, 0.0), (2039, 0.0), (2041, 0.0), (2043, 0.0), (2044, 0.0), (2050, 0.0), (2055, 0.0), (2056, 0.0), (2057, 0.0), (2058, 0.0), (2063, 0.0), (2072, 0.0), (2073, 0.0), (2074, 0.0), (2075, 0.0), (2076, 0.0), (2080, 0.0), (2084, 0.0), (2087, 0.0), (2088, 0.0), (2089, 0.0), (2090, 0.0), (2093, 0.0), (2095, 0.0), (2100, 0.0), (2101, 0.0), (2103, 0.0), (2110, 0.0), (2112, 0.0), (2113, 0.0), (2117, 0.0), (2118, 0.0), (2119, 0.0), (2120, 0.0), (2121, 0.0), (2122, 0.0), (2124, 0.0), (2125, 0.0), (2127, 0.0), (2129, 0.0), (2130, 0.0), (2132, 0.0), (2133, 0.0), (2134, 0.0), (2135, 0.0), (2137, 0.0), (2139, 0.0), (2141, 0.0), (2143, 0.0), (2144, 0.0), (2145, 0.0), (2146, 0.0), (2147, 0.0), (2149, 0.0), (2150, 0.0), (2151, 0.0), (2154, 0.0), (2156, 0.0), (2162, 0.0), (2166, 0.0), (2167, 0.0), (2168, 0.0), (2174, 0.0), (2176, 0.0), (2180, 0.0), (2181, 0.0), (2184, 0.0), (2186, 0.0), (2187, 0.0), (2188, 0.0), (2191, 0.0), (2192, 0.0), (2194, 0.0), (2196, 0.0), (2198, 0.0), (2199, 0.0), (2200, 0.0), (2201, 0.0), (2204, 0.0), (2207, 0.0), (2208, 0.0), (2209, 0.0), (2210, 0.0), (2216, 0.0), (2219, 0.0), (2223, 0.0), (2226, 0.0), (2228, 0.0), (2229, 0.0), (2235, 0.0), (2236, 0.0), (2239, 0.0), (2244, 0.0), (2246, 0.0), (2248, 0.0), (2250, 0.0), (2251, 0.0), (2252, 0.0), (2253, 0.0), (2254, 0.0), (2256, 0.0), (2259, 0.0), (2261, 0.0), (2262, 0.0), (2263, 0.0), (2264, 0.0), (2265, 0.0), (2266, 0.0), (2267, 0.0), (2268, 0.0), (2269, 0.0), (2270, 0.0), (2271, 0.0), (2272, 0.0), (2273, 0.0), (2274, 0.0), (2277, 0.0), (2278, 0.0), (2279, 0.0), (2280, 0.0), (2281, 0.0), (2282, 0.0), (2284, 0.0), (2286, 0.0), (2288, 0.0), (2292, 0.0), (2293, 0.0), (2295, 0.0), (2297, 0.0), (2309, 0.0), (2312, 0.0), (2315, 0.0), (2316, 0.0), (2317, 0.0), (2318, 0.0), (2319, 0.0), (2324, 0.0), (2327, 0.0), (2330, 0.0), (2341, 0.0), (2344, 0.0), (2349, 0.0), (2351, 0.0), (2352, 0.0), (2353, 0.0), (2358, 0.0), (2359, 0.0), (2360, 0.0), (2369, 0.0), (2370, 0.0), (2371, 0.0), (2373, 0.0), (2375, 0.0), (2377, 0.0), (2378, 0.0), (2379, 0.0), (2383, 0.0), (2385, 0.0), (2386, 0.0), (2388, 0.0), (2389, 0.0), (2390, 0.0), (2391, 0.0), (2392, 0.0), (2393, 0.0), (2396, 0.0), (2398, 0.0), (2401, 0.0), (2402, 0.0), (2403, 0.0), (2406, 0.0), (2410, 0.0), (2411, 0.0), (2412, 0.0), (2415, 0.0), (2418, 0.0), (2419, 0.0), (2421, 0.0), (2424, 0.0), (2428, 0.0), (2434, 0.0), (2436, 0.0), (2440, 0.0), (2443, 0.0), (2444, 0.0), (2445, 0.0), (2446, 0.0), (2448, 0.0), (2452, 0.0), (2453, 0.0), (2460, 0.0), (2462, 0.0), (2464, 0.0), (2465, 0.0), (2471, 0.0), (2476, 0.0), (2477, 0.0), (2479, 0.0), (2482, 0.0), (2484, 0.0), (2485, 0.0), (2486, 0.0), (2490, 0.0), (2491, 0.0), (2492, 0.0), (2495, 0.0), (2497, 0.0), (2498, 0.0), (2499, 0.0), (2501, 0.0), (2502, 0.0), (2503, 0.0), (2504, 0.0), (2505, 0.0), (2506, 0.0), (2508, 0.0), (2509, 0.0), (2512, 0.0), (2516, 0.0), (2520, 0.0), (2521, 0.0), (2523, 0.0), (2526, 0.0), (2528, 0.0), (2530, 0.0), (2531, 0.0), (2533, 0.0), (2537, 0.0), (2539, 0.0), (2540, 0.0), (2541, 0.0), (2544, 0.0), (2545, 0.0), (2546, 0.0), (2548, 0.0), (2550, 0.0), (2551, 0.0), (2552, 0.0), (2553, 0.0), (2555, 0.0), (2558, 0.0), (2559, 0.0), (2562, 0.0), (2563, 0.0), (2567, 0.0), (2570, 0.0), (2574, 0.0), (2575, 0.0), (2576, 0.0), (2579, 0.0), (2581, 0.0), (2585, 0.0), (2587, 0.0), (2588, 0.0), (2589, 0.0), (2595, 0.0), (2598, 0.0), (2601, 0.0), (2602, 0.0), (2607, 0.0), (2608, 0.0), (2610, 0.0), (2612, 0.0), (2616, 0.0), (2617, 0.0), (2619, 0.0), (2620, 0.0), (2622, 0.0), (2623, 0.0), (2624, 0.0), (2627, 0.0), (2631, 0.0), (2632, 0.0), (2634, 0.0), (2636, 0.0), (2637, 0.0), (2640, 0.0), (2641, 0.0), (2642, 0.0), (2643, 0.0), (2644, 0.0), (2645, 0.0), (2648, 0.0), (2649, 0.0), (2650, 0.0), (2652, 0.0), (2653, 0.0), (2654, 0.0), (2655, 0.0), (2656, 0.0), (2657, 0.0), (2658, 0.0), (2662, 0.0), (2663, 0.0), (2665, 0.0), (2670, 0.0), (2671, 0.0), (2672, 0.0), (2673, 0.0), (2676, 0.0), (2678, 0.0), (2679, 0.0), (2680, 0.0), (2681, 0.0), (2683, 0.0), (2686, 0.0), (2688, 0.0), (2689, 0.0), (2690, 0.0), (2691, 0.0), (2696, 0.0), (2697, 0.0), (2699, 0.0), (2700, 0.0), (2702, 0.0), (2705, 0.0), (2709, 0.0), (2711, 0.0), (2712, 0.0), (2713, 0.0), (2714, 0.0), (2721, 0.0), (2722, 0.0), (2723, 0.0), (2724, 0.0), (2725, 0.0), (2728, 0.0), (2731, 0.0), (2733, 0.0), (2735, 0.0), (2737, 0.0), (2740, 0.0), (2743, 0.0), (2744, 0.0), (2745, 0.0), (2746, 0.0), (2747, 0.0), (2748, 0.0), (2749, 0.0), (2750, 0.0), (2751, 0.0), (2753, 0.0), (2755, 0.0), (2758, 0.0), (2760, 0.0), (2761, 0.0), (2762, 0.0), (2764, 0.0), (2767, 0.0), (2768, 0.0), (2770, 0.0), (2774, 0.0), (2775, 0.0), (2781, 0.0), (2783, 0.0), (2785, 0.0), (2787, 0.0), (2792, 0.0), (2793, 0.0), (2794, 0.0), (2798, 0.0), (2803, 0.0), (2805, 0.0), (2806, 0.0), (2811, 0.0), (2817, 0.0), (2821, 0.0), (2827, 0.0), (2832, 0.0), (2834, 0.0), (2840, 0.0), (2841, 0.0), (2842, 0.0), (2843, 0.0), (2844, 0.0), (2845, 0.0), (2848, 0.0), (2850, 0.0), (2851, 0.0), (2852, 0.0), (2853, 0.0), (2857, 0.0), (2861, 0.0), (2862, 0.0), (2867, 0.0), (2869, 0.0), (2871, 0.0), (2873, 0.0), (2874, 0.0), (2876, 0.0), (2877, 0.0), (2878, 0.0), (2879, 0.0), (2880, 0.0), (2881, 0.0), (2882, 0.0), (2883, 0.0), (2886, 0.0), (2888, 0.0), (2889, 0.0), (2890, 0.0), (2891, 0.0), (2893, 0.0), (2894, 0.0), (2895, 0.0), (2896, 0.0), (2897, 0.0), (2898, 0.0), (2899, 0.0), (2900, 0.0), (2902, 0.0), (2905, 0.0), (2907, 0.0), (2908, 0.0), (2909, 0.0), (2911, 0.0), (2912, 0.0), (2913, 0.0), (2915, 0.0), (2917, 0.0), (2918, 0.0), (2920, 0.0), (2921, 0.0), (2922, 0.0), (2924, 0.0), (2926, 0.0), (2930, 0.0), (2932, 0.0), (2933, 0.0), (2934, 0.0), (2937, 0.0), (2941, 0.0), (2942, 0.0), (2943, 0.0), (2944, 0.0), (2948, 0.0), (2954, 0.0), (2956, 0.0), (2957, 0.0), (2958, 0.0), (2965, 0.0), (2966, 0.0), (2967, 0.0), (2969, 0.0), (2970, 0.0), (2975, 0.0), (2976, 0.0), (2977, 0.0), (2987, 0.0), (2988, 0.0), (2989, 0.0), (2990, 0.0), (2995, 0.0), (2996, 0.0), (2997, 0.0), (2998, 0.0), (3000, 0.0), (3002, 0.0), (3004, 0.0), (3005, 0.0), (3008, 0.0), (3009, 0.0), (3013, 0.0), (3015, 0.0), (3017, 0.0), (3020, 0.0), (3021, 0.0), (3022, 0.0), (3023, 0.0), (3024, 0.0), (3025, 0.0), (3026, 0.0), (3029, 0.0), (3034, 0.0), (3035, 0.0), (3037, 0.0), (3038, 0.0), (3039, 0.0), (3040, 0.0), (3042, 0.0), (3043, 0.0), (3045, 0.0), (3047, 0.0), (3048, 0.0), (3050, 0.0), (3052, 0.0), (3054, 0.0), (3057, 0.0), (3061, 0.0), (3066, 0.0), (3068, 0.0), (3072, 0.0), (3074, 0.0), (3075, 0.0), (3077, 0.0), (3079, 0.0), (3080, 0.0), (3081, 0.0), (3082, 0.0), (3083, 0.0), (3084, 0.0), (3087, 0.0), (3088, 0.0), (3089, 0.0), (3090, 0.0), (3091, 0.0), (3094, 0.0), (3096, 0.0), (3098, 0.0), (3099, 0.0), (3100, 0.0), (3101, 0.0), (3102, 0.0), (3103, 0.0), (3104, 0.0), (3105, 0.0), (3106, 0.0), (3109, 0.0), (3110, 0.0), (3113, 0.0), (3115, 0.0), (3118, 0.0), (3119, 0.0), (3121, 0.0), (3123, 0.0), (3125, 0.0), (3126, 0.0), (3128, 0.0), (3129, 0.0), (3130, 0.0), (3133, 0.0), (3135, 0.0), (3136, 0.0), (3137, 0.0), (3139, 0.0), (3142, 0.0), (3144, 0.0), (3146, 0.0), (3150, 0.0), (3151, 0.0), (3152, 0.0), (3153, 0.0), (3155, 0.0), (3156, 0.0), (3158, 0.0), (3159, 0.0), (3162, 0.0), (3163, 0.0), (3165, 0.0), (3166, 0.0), (3167, 0.0), (3168, 0.0), (3169, 0.0), (3171, 0.0), (3172, 0.0), (3174, 0.0), (3178, 0.0), (3180, 0.0), (3181, 0.0), (3184, 0.0), (3185, 0.0), (3189, 0.0), (3191, 0.0), (3192, 0.0), (3193, 0.0), (3194, 0.0), (3196, 0.0), (3197, 0.0), (3199, 0.0), (3202, 0.0), (3204, 0.0), (3206, 0.0), (3207, 0.0), (3208, 0.0), (3209, 0.0), (3210, 0.0), (3213, 0.0), (3214, 0.0), (3216, 0.0), (3217, 0.0), (3220, 0.0), (3221, 0.0), (3224, 0.0), (3231, 0.0), (3232, 0.0), (3235, 0.0), (3240, 0.0), (3242, 0.0), (3248, 0.0), (3249, 0.0), (3251, 0.0), (3252, 0.0), (3255, 0.0), (3257, 0.0), (3259, 0.0), (3261, 0.0), (3265, 0.0), (3266, 0.0), (3268, 0.0), (3272, 0.0), (3274, 0.0), (3275, 0.0), (3276, 0.0), (3278, 0.0), (3280, 0.0), (3284, 0.0), (3291, 0.0), (3292, 0.0), (3295, 0.0), (3298, 0.0), (3299, 0.0), (3304, 0.0), (3306, 0.0), (3308, 0.0), (3309, 0.0), (3310, 0.0), (3311, 0.0), (3312, 0.0), (3316, 0.0), (3317, 0.0), (3322, 0.0), (3324, 0.0), (3325, 0.0), (3326, 0.0), (3328, 0.0), (3329, 0.0), (3330, 0.0), (3331, 0.0), (3332, 0.0), (3333, 0.0), (3337, 0.0), (3341, 0.0), (3342, 0.0), (3343, 0.0), (3344, 0.0), (3348, 0.0), (3352, 0.0), (3353, 0.0), (3354, 0.0), (3357, 0.0), (3358, 0.0), (3359, 0.0), (3360, 0.0), (3361, 0.0), (3362, 0.0), (3363, 0.0), (3364, 0.0), (3367, 0.0), (3371, 0.0), (3373, 0.0), (3375, 0.0), (3377, 0.0), (3378, 0.0), (3379, 0.0), (3380, 0.0), (3382, 0.0), (3386, 0.0), (3387, 0.0), (3388, 0.0), (3389, 0.0), (3391, 0.0), (3392, 0.0), (3395, 0.0), (3396, 0.0), (3397, 0.0), (3398, 0.0), (3399, 0.0), (3400, 0.0), (3402, 0.0), (3403, 0.0), (3406, 0.0), (3411, 0.0), (3412, 0.0), (3416, 0.0), (3424, 0.0), (3425, 0.0), (3428, 0.0), (3429, 0.0), (3430, 0.0), (3431, 0.0), (3432, 0.0), (3433, 0.0), (3435, 0.0), (3437, 0.0), (3438, 0.0), (3441, 0.0), (3446, 0.0), (3447, 0.0), (3448, 0.0), (3454, 0.0), (3455, 0.0), (3459, 0.0), (3460, 0.0), (3463, 0.0), (3467, 0.0), (3468, 0.0), (3469, 0.0), (3470, 0.0), (3471, 0.0), (3475, 0.0), (3476, 0.0), (3478, 0.0), (3480, 0.0), (3482, 0.0), (3486, 0.0), (3487, 0.0), (3488, 0.0), (3489, 0.0), (3491, 0.0), (3492, 0.0), (3493, 0.0), (3494, 0.0), (3495, 0.0), (3496, 0.0), (3497, 0.0), (3498, 0.0), (3500, 0.0), (3502, 0.0), (3504, 0.0), (3505, 0.0), (3506, 0.0), (3509, 0.0), (3511, 0.0), (3513, 0.0), (3514, 0.0), (3515, 0.0), (3516, 0.0), (3517, 0.0), (3518, 0.0), (3519, 0.0), (3521, 0.0), (3522, 0.0), (3523, 0.0), (3524, 0.0), (3526, 0.0), (3531, 0.0), (3534, 0.0), (3537, 0.0), (3539, 0.0), (3540, 0.0), (3541, 0.0), (3542, 0.0), (3543, 0.0), (3544, 0.0), (3545, 0.0), (3547, 0.0), (3550, 0.0), (3551, 0.0), (3553, 0.0), (3554, 0.0), (3555, 0.0), (3560, 0.0), (3561, 0.0), (3562, 0.0), (3563, 0.0), (3565, 0.0), (3569, 0.0), (3570, 0.0), (3572, 0.0), (3573, 0.0), (3574, 0.0), (3575, 0.0), (3577, 0.0), (3578, 0.0), (3580, 0.0), (3583, 0.0), (3585, 0.0), (3587, 0.0), (3589, 0.0), (3591, 0.0), (3594, 0.0), (3595, 0.0), (3597, 0.0), (3598, 0.0), (3600, 0.0), (3601, 0.0), (3602, 0.0), (3605, 0.0), (3613, 0.0), (3614, 0.0), (3615, 0.0), (3618, 0.0), (3620, 0.0), (3621, 0.0), (3622, 0.0), (3623, 0.0), (3629, 0.0), (3631, 0.0), (3632, 0.0), (3635, 0.0), (3636, 0.0), (3637, 0.0), (3639, 0.0), (3642, 0.0), (3646, 0.0), (3651, 0.0), (3652, 0.0), (3654, 0.0), (3656, 0.0), (3657, 0.0), (3658, 0.0), (3659, 0.0), (3660, 0.0), (3663, 0.0), (3665, 0.0), (3666, 0.0), (3667, 0.0), (3669, 0.0), (3670, 0.0), (3671, 0.0), (3672, 0.0), (3673, 0.0), (3674, 0.0), (3675, 0.0), (3676, 0.0), (3677, 0.0), (3678, 0.0), (3681, 0.0), (3688, 0.0), (3689, 0.0), (3691, 0.0), (3692, 0.0), (3694, 0.0), (3697, 0.0), (3699, 0.0), (3701, 0.0), (3704, 0.0), (3705, 0.0), (3707, 0.0), (3708, 0.0), (3710, 0.0), (3711, 0.0), (3712, 0.0), (3714, 0.0), (3715, 0.0), (3716, 0.0), (3718, 0.0), (3719, 0.0), (3720, 0.0), (3721, 0.0), (3722, 0.0), (3723, 0.0), (3724, 0.0), (3725, 0.0), (3727, 0.0), (3728, 0.0), (3729, 0.0), (3730, 0.0), (3736, 0.0), (3737, 0.0), (3738, 0.0), (3742, 0.0), (3744, 0.0), (3746, 0.0), (3747, 0.0), (3749, 0.0), (3750, 0.0), (3751, 0.0), (3759, 0.0), (3760, 0.0), (3761, 0.0), (3768, 0.0), (3773, 0.0), (3774, 0.0), (3777, 0.0), (3780, 0.0), (3785, 0.0), (3786, 0.0), (3787, 0.0), (3788, 0.0), (3790, 0.0), (3792, 0.0), (3794, 0.0), (3796, 0.0), (3797, 0.0), (3799, 0.0), (3800, 0.0), (3801, 0.0), (3804, 0.0), (3807, 0.0), (3808, 0.0), (3811, 0.0), (3814, 0.0), (3815, 0.0), (3817, 0.0), (3818, 0.0), (3819, 0.0), (3823, 0.0), (3825, 0.0), (3826, 0.0), (3830, 0.0), (3831, 0.0), (3834, 0.0), (3835, 0.0), (3836, 0.0), (3838, 0.0), (3840, 0.0), (3843, 0.0), (3845, 0.0), (3847, 0.0), (3849, 0.0), (3850, 0.0), (3851, 0.0), (3852, 0.0), (3853, 0.0), (3854, 0.0), (3855, 0.0), (3856, 0.0), (3858, 0.0), (3859, 0.0), (3862, 0.0), (3866, 0.0), (3869, 0.0), (3871, 0.0), (3877, 0.0), (3880, 0.0), (3882, 0.0), (3884, 0.0), (3885, 0.0), (3886, 0.0), (3889, 0.0), (3892, 0.0), (3893, 0.0), (3895, 0.0), (3896, 0.0), (3897, 0.0), (3900, 0.0), (3902, 0.0), (3903, 0.0), (3904, 0.0), (3907, 0.0), (3908, 0.0), (3912, 0.0), (3913, 0.0), (3919, 0.0), (3921, 0.0), (3922, 0.0), (3924, 0.0), (3927, 0.0), (3929, 0.0), (3930, 0.0), (3932, 0.0), (3933, 0.0), (3935, 0.0), (3936, 0.0), (3937, 0.0), (3938, 0.0), (3939, 0.0), (3940, 0.0), (3941, 0.0), (3942, 0.0), (3943, 0.0), (3944, 0.0), (3945, 0.0), (3946, 0.0), (3951, 0.0), (3952, 0.0), (3953, 0.0), (3954, 0.0), (3955, 0.0), (3958, 0.0), (3960, 0.0), (3961, 0.0), (3962, 0.0), (3963, 0.0), (3964, 0.0), (3965, 0.0), (3966, 0.0), (3967, 0.0), (3968, 0.0), (3969, 0.0), (3971, 0.0), (3975, 0.0), (3976, 0.0), (3978, 0.0), (3979, 0.0), (3980, 0.0), (3982, 0.0), (3985, 0.0), (3990, 0.0), (3992, 0.0), (3993, 0.0), (3995, 0.0), (3999, 0.0), (4001, 0.0), (4002, 0.0), (4004, 0.0), (4005, 0.0), (4007, 0.0), (4009, 0.0), (4012, 0.0), (4018, 0.0), (4021, 0.0), (4022, 0.0), (4025, 0.0), (4026, 0.0), (4029, 0.0), (4031, 0.0), (4033, 0.0), (4034, 0.0), (4035, 0.0), (4036, 0.0), (4038, 0.0), (4040, 0.0), (4042, 0.0), (4044, 0.0), (4047, 0.0), (4049, 0.0), (4051, 0.0), (4052, 0.0), (4054, 0.0), (4055, 0.0), (4057, 0.0), (4058, 0.0), (4061, 0.0), (4063, 0.0), (4064, 0.0), (4065, 0.0), (4066, 0.0), (4067, 0.0), (4068, 0.0), (4069, 0.0), (4070, 0.0), (4072, 0.0), (4074, 0.0), (4075, 0.0), (4076, 0.0), (4077, 0.0), (4078, 0.0), (4080, 0.0), (4082, 0.0), (4083, 0.0), (4085, 0.0), (4086, 0.0), (4087, 0.0), (4089, 0.0), (4090, 0.0), (4092, 0.0), (4093, 0.0), (4095, 0.0), (4100, 0.0), (4102, 0.0), (4104, 0.0), (4108, 0.0), (4111, 0.0), (4112, 0.0), (4113, 0.0), (4114, 0.0), (4115, 0.0), (4116, 0.0), (4117, 0.0), (4118, 0.0), (4120, 0.0), (4122, 0.0), (4123, 0.0), (4124, 0.0), (4130, 0.0), (4131, 0.0), (4133, 0.0), (4136, 0.0), (4137, 0.0), (4138, 0.0), (4139, 0.0), (4141, 0.0), (4142, 0.0), (4143, 0.0), (4144, 0.0), (4145, 0.0), (4147, 0.0), (4148, 0.0), (4150, 0.0), (4151, 0.0), (4152, 0.0), (4154, 0.0), (4156, 0.0), (4157, 0.0), (4158, 0.0), (4160, 0.0), (4161, 0.0), (4162, 0.0), (4165, 0.0), (4169, 0.0), (4170, 0.0), (4172, 0.0), (4175, 0.0), (4178, 0.0), (4180, 0.0), (4181, 0.0), (4184, 0.0), (4185, 0.0), (4186, 0.0), (4187, 0.0), (4189, 0.0), (4191, 0.0), (4194, 0.0), (4195, 0.0), (4196, 0.0), (4205, 0.0), (4207, 0.0), (4213, 0.0), (4214, 0.0), (4217, 0.0), (4219, 0.0), (4220, 0.0), (4226, 0.0), (4227, 0.0), (4230, 0.0), (4231, 0.0), (4234, 0.0), (4236, 0.0), (4240, 0.0), (4241, 0.0), (4242, 0.0), (4245, 0.0), (4246, 0.0), (4249, 0.0), (4250, 0.0), (4252, 0.0), (4253, 0.0), (4254, 0.0), (4255, 0.0), (4256, 0.0), (4257, 0.0), (4258, 0.0), (4260, 0.0), (4261, 0.0), (4262, 0.0), (4265, 0.0), (4266, 0.0), (4267, 0.0), (4268, 0.0), (4269, 0.0), (4270, 0.0), (4271, 0.0), (4273, 0.0), (4274, 0.0), (4275, 0.0), (4279, 0.0), (4284, 0.0), (4285, 0.0), (4287, 0.0), (4290, 0.0), (4291, 0.0), (4292, 0.0), (4293, 0.0), (4297, 0.0), (4298, 0.0), (4299, 0.0), (4300, 0.0), (4303, 0.0), (4304, 0.0), (4306, 0.0), (4307, 0.0), (4309, 0.0), (4310, 0.0), (4311, 0.0), (4313, 0.0), (4314, 0.0), (4315, 0.0), (4318, 0.0), (4320, 0.0), (4321, 0.0), (4322, 0.0), (4323, 0.0), (4324, 0.0), (4325, 0.0), (4326, 0.0), (4327, 0.0), (4330, 0.0), (4332, 0.0), (4333, 0.0), (4334, 0.0), (4336, 0.0), (4337, 0.0), (4338, 0.0), (4341, 0.0), (4342, 0.0), (4344, 0.0), (4346, 0.0), (4347, 0.0), (4353, 0.0), (4357, 0.0), (4359, 0.0), (4360, 0.0), (4362, 0.0), (4366, 0.0), (4369, 0.0), (4370, 0.0), (4372, 0.0), (4374, 0.0), (4376, 0.0), (4377, 0.0), (4379, 0.0), (4382, 0.0), (4384, 0.0), (4385, 0.0), (4387, 0.0), (4388, 0.0), (4389, 0.0), (4395, 0.0), (4398, 0.0), (4399, 0.0), (4400, 0.0), (4401, 0.0), (4402, 0.0), (4403, 0.0), (4404, 0.0), (4405, 0.0), (4407, 0.0), (4410, 0.0), (4412, 0.0), (4413, 0.0), (4415, 0.0), (4419, 0.0), (4420, 0.0), (4421, 0.0), (4422, 0.0), (4424, 0.0), (4425, 0.0), (4426, 0.0), (4429, 0.0), (4431, 0.0), (4433, 0.0), (4434, 0.0), (4435, 0.0), (4436, 0.0), (4437, 0.0), (4438, 0.0), (4440, 0.0), (4444, 0.0), (4445, 0.0), (4446, 0.0), (4449, 0.0), (4450, 0.0), (4451, 0.0), (4452, 0.0), (4453, 0.0), (4454, 0.0), (4458, 0.0), (4459, 0.0), (4460, 0.0), (4461, 0.0), (4462, 0.0), (4463, 0.0), (4464, 0.0), (4465, 0.0), (4467, 0.0), (4468, 0.0), (4469, 0.0), (4471, 0.0), (4472, 0.0), (4474, 0.0), (4476, 0.0), (4477, 0.0), (4478, 0.0), (4480, 0.0), (4485, 0.0), (4486, 0.0), (4488, 0.0), (4489, 0.0), (4490, 0.0), (4491, 0.0), (4492, 0.0), (4493, 0.0), (4494, 0.0), (4499, 0.0), (4502, 0.0), (4504, 0.0), (4505, 0.0), (4508, 0.0), (4510, 0.0), (4511, 0.0), (4512, 0.0), (4514, 0.0), (4516, 0.0), (4517, 0.0), (4518, 0.0), (4519, 0.0), (4520, 0.0), (4521, 0.0), (4523, 0.0), (4531, 0.0), (4534, 0.0), (4536, 0.0), (4538, 0.0), (4541, 0.0), (4542, 0.0), (4543, 0.0), (4544, 0.0), (4546, 0.0), (4548, 0.0), (4549, 0.0), (4550, 0.0), (4552, 0.0), (4553, 0.0), (4554, 0.0), (4556, 0.0), (4559, 0.0), (4560, 0.0), (4561, 0.0), (4562, 0.0), (4563, 0.0), (4564, 0.0), (4565, 0.0), (4566, 0.0), (4569, 0.0), (4571, 0.0), (4574, 0.0), (4575, 0.0), (4576, 0.0), (4577, 0.0), (4578, 0.0), (4581, 0.0), (4582, 0.0), (4584, 0.0), (4587, 0.0), (4589, 0.0), (4590, 0.0), (4591, 0.0), (4593, 0.0), (4596, 0.0), (4598, 0.0), (4599, 0.0), (4600, 0.0), (4601, 0.0), (4602, 0.0), (4603, 0.0), (4607, 0.0), (4609, 0.0), (4611, 0.0), (4614, 0.0), (4615, 0.0), (4616, 0.0), (4617, 0.0), (4618, 0.0), (4619, 0.0), (4620, 0.0), (4621, 0.0), (4622, 0.0), (4623, 0.0), (4624, 0.0), (4628, 0.0), (4629, 0.0), (4630, 0.0), (4633, 0.0), (4634, 0.0), (4636, 0.0), (4638, 0.0), (4639, 0.0), (4641, 0.0), (4642, 0.0), (4644, 0.0), (4645, 0.0), (4649, 0.0), (4651, 0.0), (4653, 0.0), (4655, 0.0), (4656, 0.0), (4657, 0.0), (4658, 0.0), (4660, 0.0), (4662, 0.0), (4665, 0.0), (4669, 0.0), (4674, 0.0), (4676, 0.0), (4680, 0.0), (4681, 0.0), (4682, 0.0), (4683, 0.0), (4684, 0.0), (4685, 0.0), (4686, 0.0), (4689, 0.0), (4690, 0.0), (4691, 0.0), (4693, 0.0), (4694, 0.0), (4695, 0.0), (4698, 0.0), (4699, 0.0), (4700, 0.0), (4702, 0.0), (4705, 0.0), (4706, 0.0), (4707, 0.0), (4708, 0.0), (4709, 0.0), (4710, 0.0), (4711, 0.0), (4712, 0.0), (4713, 0.0), (4714, 0.0), (4715, 0.0), (4716, 0.0), (4721, 0.0), (4722, 0.0), (4723, 0.0), (4724, 0.0), (4725, 0.0), (4728, 0.0), (4729, 0.0), (4731, 0.0), (4734, 0.0), (4737, 0.0), (4738, 0.0), (4741, 0.0), (4743, 0.0), (4745, 0.0), (4746, 0.0), (4747, 0.0), (4748, 0.0), (4753, 0.0), (4754, 0.0), (4755, 0.0), (4756, 0.0), (4758, 0.0), (4759, 0.0), (4760, 0.0), (4761, 0.0), (4762, 0.0), (4765, 0.0), (4769, 0.0), (4771, 0.0), (4773, 0.0), (4775, 0.0), (4776, 0.0), (4777, 0.0), (4778, 0.0), (4779, 0.0), (4780, 0.0), (4788, 0.0), (4789, 0.0), (4790, 0.0), (4791, 0.0), (4792, 0.0), (4793, 0.0), (4794, 0.0), (4796, 0.0), (4797, 0.0), (4798, 0.0), (4801, 0.0), (4802, 0.0)]\n"
          ]
        }
      ]
    },
    {
      "cell_type": "code",
      "source": [
        "print('Movies suggested for you : \\n')\n",
        "i = 1\n",
        "for movie in sorted_similar_movies:\n",
        "  index = movie[0]\n",
        "  title_from_index = movies_data[movies_data.index==index]['title'].values[0]\n",
        "  if (i<30):\n",
        "    print(i, '.',title_from_index)\n",
        "    i+=1\n"
      ],
      "metadata": {
        "colab": {
          "base_uri": "https://localhost:8080/"
        },
        "id": "G_FnyljD_F8b",
        "outputId": "c3611b82-03f4-4ff3-88cf-a3be1d324911"
      },
      "execution_count": 35,
      "outputs": [
        {
          "output_type": "stream",
          "name": "stdout",
          "text": [
            "Movies suggested for you : \n",
            "\n",
            "1 . The Pirate\n",
            "2 . My Fair Lady\n",
            "3 . Black Nativity\n",
            "4 . Singin' in the Rain\n",
            "5 . Fame\n",
            "6 . The Boat That Rocked\n",
            "7 . 1776\n",
            "8 . New York, New York\n",
            "9 . The Sound of Music\n",
            "10 . From Justin to Kelly\n",
            "11 . High School Musical 3: Senior Year\n",
            "12 . Bathing Beauty\n",
            "13 . Oliver!\n",
            "14 . Crazy Heart\n",
            "15 . Across the Universe\n",
            "16 . The Wizard of Oz\n",
            "17 . Moulin Rouge!\n",
            "18 . The Notebook\n",
            "19 . Woodstock\n",
            "20 . Mrs Henderson Presents\n",
            "21 . High School Musical 2\n",
            "22 . Annie Get Your Gun\n",
            "23 . Mo' Better Blues\n",
            "24 . Rock of Ages\n",
            "25 . 42nd Street\n",
            "26 . The Last Five Years\n",
            "27 . Save the Last Dance\n",
            "28 . Battle of the Year\n",
            "29 . De-Lovely\n"
          ]
        }
      ]
    },
    {
      "cell_type": "code",
      "source": [
        "movie_name = input(' Enter your favourite movie name : ')\n",
        "\n",
        "list_of_all_titles = movies_data['title'].tolist()\n",
        "\n",
        "find_close_match = difflib.get_close_matches(movie_name, list_of_all_titles)\n",
        "\n",
        "close_match = find_close_match[0]\n",
        "\n",
        "index_of_the_movie = movies_data[movies_data.title == close_match]['index'].values[0]\n",
        "\n",
        "similarity_score = list(enumerate(similarity[index_of_the_movie]))\n",
        "\n",
        "sorted_similar_movies = sorted(similarity_score, key = lambda x:x[1], reverse = True)\n",
        "\n",
        "print('Movies suggested for you : \\n')\n",
        "\n",
        "i = 1\n",
        "\n",
        "for movie in sorted_similar_movies:\n",
        "  index = movie[0]\n",
        "  title_from_index = movies_data[movies_data.index==index]['title'].values[0]\n",
        "  if (i<30):\n",
        "    print(i, '.',title_from_index)\n",
        "    i+=1\n"
      ],
      "metadata": {
        "colab": {
          "base_uri": "https://localhost:8080/"
        },
        "id": "uVW8Xh_F_JDI",
        "outputId": "0f81df44-daf6-4d64-b2ec-2f713e8773e5"
      },
      "execution_count": 36,
      "outputs": [
        {
          "output_type": "stream",
          "name": "stdout",
          "text": [
            " Enter your favourite movie name : pirates of the carribean\n",
            "Movies suggested for you : \n",
            "\n",
            "1 . Rise of the Guardians\n",
            "2 . The Santa Clause\n",
            "3 . Hop\n",
            "4 . The Polar Express\n",
            "5 . Pan\n",
            "6 . Arthur Christmas\n",
            "7 . Thomas and the Magic Railroad\n",
            "8 . Maleficent\n",
            "9 . Into the Woods\n",
            "10 . How the Grinch Stole Christmas\n",
            "11 . Krampus\n",
            "12 . The Santa Clause 2\n",
            "13 . Elf\n",
            "14 . Rango\n",
            "15 . The Curse of the Were-Rabbit\n",
            "16 . The Tooth Fairy\n",
            "17 . The Real Cancun\n",
            "18 . Jingle All the Way\n",
            "19 . Closer\n",
            "20 . Les Misérables\n",
            "21 . Flushed Away\n",
            "22 . The Secret Life of Pets\n",
            "23 . The Shadow\n",
            "24 . She's the Man\n",
            "25 . Hot Rod\n",
            "26 . Running Forever\n",
            "27 . The Imaginarium of Doctor Parnassus\n",
            "28 . Final Fantasy: The Spirits Within\n",
            "29 . Definitely, Maybe\n"
          ]
        }
      ]
    },
    {
      "cell_type": "code",
      "source": [],
      "metadata": {
        "id": "FMkuexiC_On3"
      },
      "execution_count": null,
      "outputs": []
    }
  ]
}